{
  "nbformat": 4,
  "nbformat_minor": 0,
  "metadata": {
    "colab": {
      "provenance": []
    },
    "kernelspec": {
      "name": "python3",
      "display_name": "Python 3"
    }
  },
  "cells": [
    {
      "cell_type": "markdown",
      "metadata": {
        "id": "EzztbdQ_7QVn"
      },
      "source": [
        "# Exercícios em Python 6: Biblioteca padrão python, expressões regulares, csv, xml\n",
        "\n"
      ]
    },
    {
      "cell_type": "markdown",
      "metadata": {
        "id": "u7BDz8O1qaMd"
      },
      "source": [
        "## Preparando o ambiente\n",
        "\n",
        "Execute o código a seguir."
      ]
    },
    {
      "cell_type": "code",
      "metadata": {
        "id": "wo0Ow_IdVgtZ",
        "outputId": "5a8d639c-82bc-458c-c206-b90a726abdd1",
        "colab": {
          "base_uri": "https://localhost:8080/"
        }
      },
      "source": [
        "!git clone https://gitlab.uspdigital.usp.br/thiago/curso_ai_python.git\n",
        "import sys\n",
        "sys.path.append('curso_ai_python')"
      ],
      "execution_count": 1,
      "outputs": [
        {
          "output_type": "stream",
          "name": "stdout",
          "text": [
            "Cloning into 'curso_ai_python'...\n",
            "remote: Enumerating objects: 77, done.\u001b[K\n",
            "remote: Counting objects: 100% (44/44), done.\u001b[K\n",
            "remote: Compressing objects: 100% (43/43), done.\u001b[K\n",
            "remote: Total 77 (delta 20), reused 0 (delta 0), pack-reused 33\u001b[K\n",
            "Receiving objects: 100% (77/77), 26.67 KiB | 223.00 KiB/s, done.\n",
            "Resolving deltas: 100% (36/36), done.\n"
          ]
        }
      ]
    },
    {
      "cell_type": "markdown",
      "metadata": {
        "id": "Rou0RcBHC-Z3"
      },
      "source": [
        "Se o bloco acima foi executado corretamente, você deve ver o contéudo do diretório ```curso_ai_pytho`/dados```:"
      ]
    },
    {
      "cell_type": "code",
      "metadata": {
        "id": "r9Q1G0SXu-Ir",
        "colab": {
          "base_uri": "https://localhost:8080/"
        },
        "outputId": "9b6e1ed4-fe4f-49e1-b6ed-ac8a53831d9d"
      },
      "source": [
        "!ls -la curso_ai_python/dados/"
      ],
      "execution_count": 2,
      "outputs": [
        {
          "output_type": "stream",
          "name": "stdout",
          "text": [
            "total 32\n",
            "drwxr-xr-x 2 root root  4096 May 24 01:13 .\n",
            "drwxr-xr-x 5 root root  4096 May 24 01:13 ..\n",
            "-rw-r--r-- 1 root root    20 May 24 01:13 dados01.txt\n",
            "-rw-r--r-- 1 root root    50 May 24 01:13 dados02.txt\n",
            "-rw-r--r-- 1 root root 12633 May 24 01:13 telefones_epusp.txt\n"
          ]
        }
      ]
    },
    {
      "cell_type": "markdown",
      "metadata": {
        "id": "C19XUaGr7SEd"
      },
      "source": [
        "## 6.1 Leitura de dados em CSV\n",
        "\n",
        "O módulo ```csv``` em Python lê arquivos em formato CSV.\n",
        "\n",
        "A função ```csv.DictReader(arquivo)``` retorna uma lista de dicionários, um para cada linha do arquivo.\n",
        "\n",
        "Por exemplo, o código a seguir mostra o total de alunos estrangeiros no município de Araraquara."
      ]
    },
    {
      "cell_type": "code",
      "metadata": {
        "id": "TPb9Y02t8Pdu",
        "colab": {
          "base_uri": "https://localhost:8080/"
        },
        "outputId": "9754e93c-17b1-4daf-a9bb-52ca71db5010"
      },
      "source": [
        "import urllib.request\n",
        "import csv\n",
        "import io\n",
        "import tempfile\n",
        "import ssl\n",
        "\n",
        "# Suprime verificação de SSL por problemas\n",
        "#  com a ICP Brasil\n",
        "ignorar_ssl = ssl.create_default_context()\n",
        "ignorar_ssl.check_hostname = False\n",
        "ignorar_ssl.verify_mode = ssl.CERT_NONE\n",
        "\n",
        "recurso = urllib.request.urlopen(\"https://dados.educacao.sp.gov.br/node/2054/download\", context=ignorar_ssl)\n",
        "recurso.read(3) # Retira os 3 primeiros bytes do arquivo\n",
        "leitorcsv = csv.DictReader(io.TextIOWrapper(recurso,encoding='utf-8'), delimiter=';')\n",
        "total = 0\n",
        "for entrada in leitorcsv:\n",
        "  if entrada['MUN']=='ARARAQUARA':\n",
        "    total += int(entrada[' Nº ALUNOS '])\n",
        "print(total)"
      ],
      "execution_count": 12,
      "outputs": [
        {
          "output_type": "stream",
          "name": "stdout",
          "text": [
            "50\n"
          ]
        }
      ]
    },
    {
      "cell_type": "markdown",
      "metadata": {
        "id": "Joc2IWN095be"
      },
      "source": [
        "### Exercício 6.1.1\n",
        "\n",
        "Encontre o total de alunos provenientes do Uruguai matriculados em escolas de SP.\n",
        "O campo que contém o país é o campo com nome ```DS_PAIS```.\n",
        "Atribua sua resposta à variável ```total_uruguai```.\n"
      ]
    },
    {
      "cell_type": "code",
      "source": [
        "recurso = urllib.request.urlopen(\"https://dados.educacao.sp.gov.br/node/2054/download\", context=ignorar_ssl)\n",
        "recurso.read(3) # Retira os 3 primeiros bytes do arquivo\n",
        "leitorcsv = csv.DictReader(io.TextIOWrapper(recurso,encoding='utf-8'), delimiter=';')\n",
        "\n",
        "total_uruguai = 0\n",
        "for entrada in leitorcsv:\n",
        "  if entrada['DS_PAIS']=='Uruguai':\n",
        "    total_uruguai += int(entrada[' Nº ALUNOS '])\n",
        "print(total_uruguai)"
      ],
      "metadata": {
        "id": "78FjqyI-Lv7B",
        "outputId": "4bc191ac-00db-4d40-d46b-3328298b44bd",
        "colab": {
          "base_uri": "https://localhost:8080/"
        }
      },
      "execution_count": 24,
      "outputs": [
        {
          "output_type": "stream",
          "name": "stdout",
          "text": [
            "18\n"
          ]
        }
      ]
    },
    {
      "cell_type": "markdown",
      "metadata": {
        "id": "2GwIplbx-rdV"
      },
      "source": [
        "A resposta deve ser 18"
      ]
    },
    {
      "cell_type": "markdown",
      "metadata": {
        "id": "YGQ4IlzYAcfH"
      },
      "source": [
        "### Exercício 6.1.2\n",
        "\n",
        "Quantos *distritos* distintos de escolas existem nesta lista? O campo que contém o tipo é ```DISTR```.\n",
        "Qual o tipo com a maior quantidade de alunos?\n",
        "\n",
        "Sugestão: Crie um dicionário.\n"
      ]
    },
    {
      "cell_type": "code",
      "metadata": {
        "id": "ZVbV7GhNA3HX"
      },
      "source": [
        "recurso = urllib.request.urlopen(\"https://dados.educacao.sp.gov.br/node/2054/download\", context=ignorar_ssl)\n",
        "recurso.read(3) # Retira os 3 primeiros bytes do arquivo\n",
        "leitorcsv = csv.DictReader(io.TextIOWrapper(recurso,encoding='utf-8'), delimiter=';')\n",
        "\n",
        "total_uruguai = 0\n",
        "dict_distritos = {}\n",
        "\n",
        "for entrada in leitorcsv:\n",
        "  dict_distritos[entrada['DISTR']] = 0\n",
        "\n",
        "recurso = urllib.request.urlopen(\"https://dados.educacao.sp.gov.br/node/2054/download\", context=ignorar_ssl)\n",
        "recurso.read(3) # Retira os 3 primeiros bytes do arquivo\n",
        "leitorcsv = csv.DictReader(io.TextIOWrapper(recurso,encoding='utf-8'), delimiter=';')\n",
        "\n",
        "for entrada in leitorcsv:\n",
        "  dict_distritos[entrada['DISTR']] += int(entrada[' Nº ALUNOS '])"
      ],
      "execution_count": 49,
      "outputs": []
    },
    {
      "cell_type": "code",
      "source": [
        "lista_distritos = [(value, key) for key, value in dict_distritos.items()]\n",
        "\n",
        "print(f'O maior distrito é {max(lista_distritos)[1]} com {max(lista_distritos)[0]} alunos')"
      ],
      "metadata": {
        "id": "EiWSEsYzRs8N",
        "outputId": "be3e92cf-623f-460c-88e0-dd15f6831cae",
        "colab": {
          "base_uri": "https://localhost:8080/"
        }
      },
      "execution_count": 62,
      "outputs": [
        {
          "output_type": "stream",
          "name": "stdout",
          "text": [
            "O maior distrito é VILA MARIA com 642 alunos\n"
          ]
        }
      ]
    },
    {
      "cell_type": "markdown",
      "metadata": {
        "id": "8kqYVJj5H3Lo"
      },
      "source": [
        "A resposta deve ser 419 distritos distintos. O tipo com a maior quantidade é o ```VILA MARIA``` com 642 alunos."
      ]
    },
    {
      "cell_type": "markdown",
      "metadata": {
        "id": "q2PK9MPfBUC4"
      },
      "source": [
        "## 6.2 Processamento de XML\n",
        "\n",
        "A url ```https://olinda.bcb.gov.br/olinda/servico/PTAX/versao/v1/odata/CotacaoDolarDia(dataCotacao=@dataCotacao)?@dataCotacao='04-23-2020'&$top=100&$format=xml&$select=cotacaoCompra,cotacaoVenda,dataHoraCotacao``` recupera o relatório de cotação do dólar do Banco central em formato xml e grava-o no arquivo cotacao_dolar.xml.\n",
        "\n"
      ]
    },
    {
      "cell_type": "code",
      "metadata": {
        "id": "v031QrXFCSJq"
      },
      "source": [
        "req=urllib.request.urlopen(\"https://olinda.bcb.gov.br/olinda/servico/PTAX/versao/v1/odata/CotacaoDolarPeriodo(dataInicial=@dataInicial,dataFinalCotacao=@dataFinalCotacao)?@dataInicial='01-01-2024'&@dataFinalCotacao='05-03-2024'&$top=200&$format=xml&$select=cotacaoCompra,cotacaoVenda,dataHoraCotacao\")\n",
        "ff = open(\"cotacao_dolar.xml\", \"wb\")\n",
        "ff.write(req.read())\n",
        "ff.close()"
      ],
      "execution_count": 63,
      "outputs": []
    },
    {
      "cell_type": "markdown",
      "metadata": {
        "id": "qv_dIOsSDEUm"
      },
      "source": [
        "\n",
        "\n",
        "O código abaixo usa xml para encontrar o valor da cotação no dia 17/03/2024"
      ]
    },
    {
      "cell_type": "code",
      "metadata": {
        "id": "KZcC5vMsD3yW",
        "colab": {
          "base_uri": "https://localhost:8080/"
        },
        "outputId": "46c98fcf-4d4d-4d97-d263-0ac8ee600238"
      },
      "source": [
        "import xml.etree.ElementTree\n",
        "raiz = xml.etree.ElementTree.parse(\"cotacao_dolar.xml\").getroot()\n",
        "for el in raiz.iter('{http://docs.oasis-open.org/odata/ns/metadata}properties'):\n",
        "  hora = el.find('{http://docs.oasis-open.org/odata/ns/data}dataHoraCotacao')\n",
        "  if hora.text.startswith('2024-05-02'):\n",
        "    no_venda = el.find('{http://docs.oasis-open.org/odata/ns/data}cotacaoVenda')\n",
        "    valor = float(no_venda.text)\n",
        "    print(valor)\n",
        "\n"
      ],
      "execution_count": 64,
      "outputs": [
        {
          "output_type": "stream",
          "name": "stdout",
          "text": [
            "5.1184\n"
          ]
        }
      ]
    },
    {
      "cell_type": "markdown",
      "metadata": {
        "id": "HwtS70WnHJi4"
      },
      "source": [
        "Exercício:\n",
        "\n",
        "Encontre o *menor* valor de cotação do dólar para venda (campo com etiqueta ```{http://docs.oasis-open.org/odata/ns/data}cotacaoVenda'```)"
      ]
    },
    {
      "cell_type": "code",
      "metadata": {
        "id": "Z1boMcqO4WAt",
        "outputId": "dfa9aaae-c056-47ce-e3d0-a94a11e36405",
        "colab": {
          "base_uri": "https://localhost:8080/"
        }
      },
      "source": [
        "import xml.etree.ElementTree\n",
        "raiz = xml.etree.ElementTree.parse(\"cotacao_dolar.xml\").getroot()\n",
        "list_valores = []\n",
        "for el in raiz.iter('{http://docs.oasis-open.org/odata/ns/metadata}properties'):\n",
        "  hora = el.find('{http://docs.oasis-open.org/odata/ns/data}dataHoraCotacao')\n",
        "  no_venda = el.find('{http://docs.oasis-open.org/odata/ns/data}cotacaoVenda')\n",
        "  list_valores.append(float(no_venda.text))\n",
        "\n",
        "min(list_valores)"
      ],
      "execution_count": 75,
      "outputs": [
        {
          "output_type": "execute_result",
          "data": {
            "text/plain": [
              "4.8543"
            ]
          },
          "metadata": {},
          "execution_count": 75
        }
      ]
    },
    {
      "cell_type": "markdown",
      "metadata": {
        "id": "Y3fBoXFSHrAe"
      },
      "source": [
        "A resposta deve ser 4.8543"
      ]
    },
    {
      "cell_type": "markdown",
      "metadata": {
        "id": "bdTCDbolwdYj"
      },
      "source": [
        "## 6.3  Expressões Regulares\n",
        "\n",
        "A linguagem Python tem uma biblioteca de expressões regulares.\n",
        "\n",
        "A função ```re.search(exp, string)``` verifica se uma string é aderente a um determinado padrão.\n",
        "\n",
        "### Exercícios:\n",
        "\n",
        "O arquivo em ```/content/gdrive/My Drive/cursoai_python_aula_03/dados/telefones_epusp.txt``` contém uma lista telefônica em um texto não-estruturado com telefones úteis da escola politécnica.\n",
        "\n",
        "Eis o conteúdo de suas 10 primeiras linhas:"
      ]
    },
    {
      "cell_type": "code",
      "metadata": {
        "id": "VBQEHIv0wtR2",
        "colab": {
          "base_uri": "https://localhost:8080/"
        },
        "outputId": "87978c83-5513-4e42-bc4a-691bb21424af"
      },
      "source": [
        "arquivo = open(\"/content/curso_ai_python/dados/telefones_epusp.txt\", \"rt\")\n",
        "for i in range(10):\n",
        "  print(arquivo.readline())\n",
        "arquivo.close()"
      ],
      "execution_count": 76,
      "outputs": [
        {
          "output_type": "stream",
          "name": "stdout",
          "text": [
            "Diretoria\n",
            "\n",
            "Profa. Dra. Liedi Legi Bariani Bernucci\n",
            "\n",
            "Diretora \t3091 5221 / 5223 / 5550\n",
            "\n",
            "Prof. Reinaldo Giudici\n",
            "\n",
            "Vice-Diretor\n",
            "\n",
            "Secretaria: Sueli Rossetti / Ângela de Jesus\n",
            "\n",
            "Serviço Técnico de Planejamento e Gestão\n",
            "\n",
            "Enaége Dalan Sant´Ana \t3091 5534\n",
            "\n",
            "Seção Técnica de Qualidade e Processos\n",
            "\n",
            "Patricia Sandes \t3091 5577\n",
            "\n"
          ]
        }
      ]
    },
    {
      "cell_type": "markdown",
      "metadata": {
        "id": "ziJy9Y-O6zx9"
      },
      "source": [
        "### 6.3.1 Conte o número de linhas com telefones\n",
        "\n",
        "A expressão regular ```([0-9]+([\\s-]+[0-9]+)*)(\\s?/\\s?([0-9]+([\\s-]+[0-9]+)*))*$``` casa com um ou mais números de telefone ao final de uma linha.\n",
        "\n",
        "Verifique usando o módulo re quantas linhas atendem este padrão."
      ]
    },
    {
      "cell_type": "code",
      "metadata": {
        "id": "caR8jzJM6wUx",
        "outputId": "2db11c4c-781e-46b5-e4e9-11ca99f78b4b",
        "colab": {
          "base_uri": "https://localhost:8080/"
        }
      },
      "source": [
        "import re\n",
        "\n",
        "arquivo = open(\"/content/curso_ai_python/dados/telefones_epusp.txt\", \"rt\")\n",
        "regex = re.compile(r'([0-9]+([\\s-]+[0-9]+)*)(\\s?/\\s?([0-9]+([\\s-]+[0-9]+)*))*$')\n",
        "\n",
        "list_re = []\n",
        "\n",
        "for line in arquivo.readlines():\n",
        "  if regex.search(line) is not None:\n",
        "    list_re.append(regex.search(line))\n",
        "arquivo.close()\n",
        "\n",
        "print(len(list_re))"
      ],
      "execution_count": 102,
      "outputs": [
        {
          "output_type": "stream",
          "name": "stdout",
          "text": [
            "255\n"
          ]
        }
      ]
    },
    {
      "cell_type": "markdown",
      "source": [
        "Sua resposta deve ser 255 linhas"
      ],
      "metadata": {
        "id": "howMIFfilCSX"
      }
    }
  ]
}