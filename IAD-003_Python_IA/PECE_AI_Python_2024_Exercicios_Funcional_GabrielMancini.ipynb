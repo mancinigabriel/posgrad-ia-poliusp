{
  "nbformat": 4,
  "nbformat_minor": 0,
  "metadata": {
    "colab": {
      "provenance": []
    },
    "kernelspec": {
      "name": "python3",
      "display_name": "Python 3"
    }
  },
  "cells": [
    {
      "cell_type": "markdown",
      "metadata": {
        "id": "EzztbdQ_7QVn"
      },
      "source": [
        "# Exercícios em Python 3: Programação Funcional\n",
        "\n",
        "\n",
        "\n",
        "\n",
        "Neste exercício trabalharemos com aspectos da linguagem Python voltados à programação Funcional."
      ]
    },
    {
      "cell_type": "markdown",
      "metadata": {
        "id": "u7BDz8O1qaMd"
      },
      "source": [
        "## Preparando o ambiente\n",
        "\n",
        "Este notebook usa códigos no pacote ceai_python_aula04.py.\n",
        "Verifique se o seu google drive contém a pasta cursoai_python_aula_04.\n",
        "\n",
        "Em seguida execute o código a seguir."
      ]
    },
    {
      "cell_type": "code",
      "metadata": {
        "id": "wo0Ow_IdVgtZ",
        "colab": {
          "base_uri": "https://localhost:8080/"
        },
        "outputId": "064ef75d-1ced-4694-ed02-433935c84c1b"
      },
      "source": [
        "!git clone https://gitlab.uspdigital.usp.br/thiago/curso_ai_python.git\n",
        "import sys\n",
        "sys.path.append('curso_ai_python')"
      ],
      "execution_count": 9,
      "outputs": [
        {
          "output_type": "stream",
          "name": "stdout",
          "text": [
            "fatal: destination path 'curso_ai_python' already exists and is not an empty directory.\n"
          ]
        }
      ]
    },
    {
      "cell_type": "markdown",
      "metadata": {
        "id": "Rou0RcBHC-Z3"
      },
      "source": [
        "Se o bloco acima foi executado corretamente, importe os símbolos com a linha seguinte:"
      ]
    },
    {
      "cell_type": "code",
      "metadata": {
        "id": "r9Q1G0SXu-Ir"
      },
      "source": [
        "import ceai_python_aula05"
      ],
      "execution_count": 11,
      "outputs": []
    },
    {
      "cell_type": "markdown",
      "metadata": {
        "id": "c9yjgYOO8aAd"
      },
      "source": [
        "# 1. Declaração de funções\n",
        "\n",
        "## 1.1 Clausuras\n",
        "\n",
        "Em Python uma Clausura é uma função que captura parte do escopo no qual ela foi definida.\n",
        "\n",
        "Isso permite gerar funções nas quais parte do seu comportamento é dinamicamente (em tempo de execução) definido.\n",
        "\n",
        "Por exemplo, considere a seguinte função:\n",
        "```\n",
        "def gera_somador(x):\n",
        "  def func(y):\n",
        "    return x+y\n",
        "  return func\n",
        "```\n",
        "Esta função gera novas funções que adicionam ao seu argumento um valor constante.\n",
        "\n",
        "\n",
        "### Exercício 1.1.1\n",
        "Crie uma função que recebe um valor x.\n",
        "Esta função deve retornar uma *nova* função que recebe uma lista como argumento e retorna ```True``` se o valor x está presente na lista ou ```False``` se não está.\n"
      ]
    },
    {
      "cell_type": "code",
      "metadata": {
        "id": "EYrZjy887a4F"
      },
      "source": [
        "def gera_funcao(x):\n",
        "  # Complete seu código\n",
        "  def nova_funcao(y):\n",
        "    if x in y:\n",
        "      return True\n",
        "    return False\n",
        "\n",
        "  return nova_funcao"
      ],
      "execution_count": 16,
      "outputs": []
    },
    {
      "cell_type": "markdown",
      "metadata": {
        "id": "h8tTUeY-e8KH"
      },
      "source": [
        "Teste sua resposta:"
      ]
    },
    {
      "cell_type": "code",
      "metadata": {
        "id": "bw6RJJZypTYj",
        "colab": {
          "base_uri": "https://localhost:8080/",
          "height": 40
        },
        "outputId": "84b2fc54-c550-454f-c4fa-964608269c6b"
      },
      "source": [
        "ceai_python_aula05.valida_ex_01_01(gera_funcao)"
      ],
      "execution_count": 17,
      "outputs": [
        {
          "output_type": "execute_result",
          "data": {
            "text/plain": [
              "<ceai_python_aula05.SolucaoResultado at 0x7ae319b19420>"
            ],
            "text/html": [
              "<div style=\"border-style:solid;border-color:green\">Exercício Correto!</div>"
            ]
          },
          "metadata": {},
          "execution_count": 17
        }
      ]
    },
    {
      "cell_type": "markdown",
      "metadata": {
        "id": "wxk0WlgC7hVa"
      },
      "source": [
        "# 1.2 Expressões Lambda\n",
        "\n",
        "Uma expressão lambda permite declarar funções simples que se resumem a uma avaliação simples de expressões.\n",
        "\n",
        "Por exemplo, a seguinte expressão retorna uma função que recebe dois argumentos e retorna a soma destes.\n",
        "```\n",
        "lambda x, y: x+y\n",
        "```\n",
        "\n",
        "### Exercício 1.2.1\n",
        "\n",
        "Atribua à variável ```a``` uma expressão lambda que representa uma função que retorna o *maior* entre dois elementos.\n",
        "\n",
        " *Sugestão*: Use a expressão condicional ```expr1 if cond else expr2```."
      ]
    },
    {
      "cell_type": "code",
      "metadata": {
        "id": "8IzV6rXMqe-7"
      },
      "source": [
        "a = lambda x, y: x if x>y else y"
      ],
      "execution_count": 18,
      "outputs": []
    },
    {
      "cell_type": "markdown",
      "metadata": {
        "id": "VoXjag36qkgY"
      },
      "source": [
        "Teste a sua resposta:"
      ]
    },
    {
      "cell_type": "code",
      "metadata": {
        "id": "ZJHSF5eKqnXY",
        "colab": {
          "base_uri": "https://localhost:8080/",
          "height": 40
        },
        "outputId": "3fc78d52-1a51-4a64-b5ae-add683747ffe"
      },
      "source": [
        "ceai_python_aula05.valida_ex_01_02_01(a)"
      ],
      "execution_count": 19,
      "outputs": [
        {
          "output_type": "execute_result",
          "data": {
            "text/plain": [
              "<ceai_python_aula05.SolucaoResultado at 0x7ae319b1a2f0>"
            ],
            "text/html": [
              "<div style=\"border-style:solid;border-color:green\">Exercício Correto!</div>"
            ]
          },
          "metadata": {},
          "execution_count": 19
        }
      ]
    },
    {
      "cell_type": "markdown",
      "metadata": {
        "id": "xTQjvFRKx_8k"
      },
      "source": [
        "## 2. Geradores\n",
        "\n",
        "Um gerador é um objeto iterável que permite produzir em tempo de execução uma sequência de valores.\n",
        "\n",
        "### 2.1 Geradores declarados por expressões geradoras\n",
        "\n",
        "Uma expressão geradora produz um gerador a partir de outro objeto iterável.\n",
        "\n",
        "A sintaxe é ```(expr(v1, v2, ...) for v1 in o1 for v2 in o2 ... if cond(v1, v2, ...))```.\n",
        "\n",
        "Esta expressão itera pelas combinações dos objetos o1, o2,... retornado os valores de ```expr``` para as combinações de ```v1```, ```v2```, ... para os quais a condição ```cond``` é válida.\n",
        "\n",
        "A sintaxe de Expressões Geradoras também pode ser usada para inicializar-se sequências.\n",
        "Basta trocar os parênteses na sintaxe de expressões geradoras por colchetes.\n",
        "\n",
        "Por exemplo, este código cria a sequência com todos os quadrados perfeitos ímpares menores do que 100:"
      ]
    },
    {
      "cell_type": "code",
      "metadata": {
        "id": "NRwt0S41d4dg",
        "outputId": "332c935c-02ad-427a-d977-d322ba6b856b",
        "colab": {
          "base_uri": "https://localhost:8080/"
        }
      },
      "source": [
        "print([x*x for x in range(10) if x%2 != 0])"
      ],
      "execution_count": 20,
      "outputs": [
        {
          "output_type": "stream",
          "name": "stdout",
          "text": [
            "[1, 9, 25, 49, 81]\n"
          ]
        }
      ]
    },
    {
      "cell_type": "markdown",
      "metadata": {
        "id": "aINBDFT3fHUJ"
      },
      "source": [
        "#### Exercício 2.1.1\n",
        "\n",
        "Crie uma função com apenas *uma linha de código\\** que retorna uma lista com os $n$ múltiplos de um determinado número $x$ a partir de $0$.\n",
        "\n"
      ]
    },
    {
      "cell_type": "code",
      "metadata": {
        "id": "0t8sO3k0fyg3"
      },
      "source": [
        "def multiplos(n, x):\n",
        "  # Complete o código\n",
        "  return [x*i for i in range(n)]"
      ],
      "execution_count": 25,
      "outputs": []
    },
    {
      "cell_type": "markdown",
      "metadata": {
        "id": "6m14LMSHgvxR"
      },
      "source": [
        "Teste sua resposta:"
      ]
    },
    {
      "cell_type": "code",
      "metadata": {
        "id": "KGyP57kFgx8Y",
        "colab": {
          "base_uri": "https://localhost:8080/",
          "height": 40
        },
        "outputId": "bab488f1-a09c-46bd-a15e-2bde6cc4eee3"
      },
      "source": [
        "ceai_python_aula05.valida_ex_02_01_01(multiplos)"
      ],
      "execution_count": 26,
      "outputs": [
        {
          "output_type": "execute_result",
          "data": {
            "text/plain": [
              "<ceai_python_aula05.SolucaoResultado at 0x7ae319b3d720>"
            ],
            "text/html": [
              "<div style=\"border-style:solid;border-color:green\">Exercício Correto!</div>"
            ]
          },
          "metadata": {},
          "execution_count": 26
        }
      ]
    },
    {
      "cell_type": "markdown",
      "metadata": {
        "id": "j0iFldZYd42F"
      },
      "source": [
        "### 2.2 Geradores criados por co-rotinas\n",
        "\n",
        "Um gerador definido por co-rotina assemelha-se a uma função em python.\n",
        "A diferença é que esta função retorna valores pela palavra-chave ```yield```.\n",
        "Uma função desta natureza, quando invocada, retorna um novo gerador.\n",
        "A execução se dá até a instrução ```yield```, quando então é interrompida e seu estado *preservado*.\n",
        "A execução é retomada a cada vez que o iterador recebe uma solicitação de um novo valor.\n",
        "\n",
        " Por exemplo, o seguinte gerador produz os números da sequência de Fibonacci até um certo limite:"
      ]
    },
    {
      "cell_type": "code",
      "metadata": {
        "id": "jYyNoqpkSv3g",
        "outputId": "e7ff95c0-1995-424d-f4d9-d3eca01b0fa7",
        "colab": {
          "base_uri": "https://localhost:8080/"
        }
      },
      "source": [
        "def fibonacci(n):\n",
        "  x, y = 1, 0\n",
        "  while x<=n:\n",
        "     yield x\n",
        "     x, y = x+y, x\n",
        "\n",
        "print(list(fibonacci(100)))"
      ],
      "execution_count": 27,
      "outputs": [
        {
          "output_type": "stream",
          "name": "stdout",
          "text": [
            "[1, 1, 2, 3, 5, 8, 13, 21, 34, 55, 89]\n"
          ]
        }
      ]
    },
    {
      "cell_type": "markdown",
      "metadata": {
        "id": "o-6OTdXcSsu4"
      },
      "source": [
        "#### Exercício 2.2.1\n",
        "\n",
        "Escreva um gerador que calculam as iterações do algoritmo de newton para calcular a raiz quadrada do valor y.\n",
        "\n",
        "Cada iteração deve produzir um valor $x$ tal que:\n",
        "\n",
        "\\begin{equation}\n",
        "x_{i+1} = \\frac{x_i + \\frac{y}{x_i}}{2}\n",
        "\\end{equation}\n",
        "\n",
        "O primeiro valor a ser retornado é o próprio valor y.\n",
        "\n",
        "A função deve parar quando $\\frac{\\left|y - x_i^2\\right|}{y}<0.0001$"
      ]
    },
    {
      "cell_type": "code",
      "metadata": {
        "id": "5zIF7Dx80su7"
      },
      "source": [
        "def raiz_newton(y):\n",
        "  # Complete seu código\n",
        "  x = y\n",
        "  while (abs(y-x**2)/y) >= 0.0001:\n",
        "    yield x\n",
        "    x = (x + y/x)/2\n",
        "  yield x"
      ],
      "execution_count": 58,
      "outputs": []
    },
    {
      "cell_type": "markdown",
      "metadata": {
        "id": "q6O_iv642NGJ"
      },
      "source": [
        "Teste seu código:"
      ]
    },
    {
      "cell_type": "code",
      "metadata": {
        "id": "p249NvA02O1r",
        "colab": {
          "base_uri": "https://localhost:8080/",
          "height": 300
        },
        "outputId": "db9e9231-4730-47dc-c3b8-498098ffa242"
      },
      "source": [
        "import pandas as pd\n",
        "data = []\n",
        "a = iter(raiz_newton(256))\n",
        "try:\n",
        "  for i in range(30):\n",
        "    x = next(a)\n",
        "    data.append([x, x*x, abs(256-x*x)/256])\n",
        "except StopIteration:\n",
        "  pass\n",
        "pd.DataFrame(data, columns=[\"x\", \"x²\", \"(y-x²)/y\"])"
      ],
      "execution_count": 59,
      "outputs": [
        {
          "output_type": "execute_result",
          "data": {
            "text/plain": [
              "            x            x²      (y-x²)/y\n",
              "0  256.000000  65536.000000  2.550000e+02\n",
              "1  128.500000  16512.250000  6.350098e+01\n",
              "2   65.246109   4257.054733  1.562912e+01\n",
              "3   34.584857   1196.112354  3.672314e+00\n",
              "4   20.993470    440.725798  7.215851e-01\n",
              "5   16.593869    275.356491  7.561129e-02\n",
              "6   16.010627    256.340172  1.328795e-03\n",
              "7   16.000004    256.000113  4.408383e-07"
            ],
            "text/html": [
              "\n",
              "  <div id=\"df-dbaa5e4f-8039-4ef9-8499-6dc8e79fb321\" class=\"colab-df-container\">\n",
              "    <div>\n",
              "<style scoped>\n",
              "    .dataframe tbody tr th:only-of-type {\n",
              "        vertical-align: middle;\n",
              "    }\n",
              "\n",
              "    .dataframe tbody tr th {\n",
              "        vertical-align: top;\n",
              "    }\n",
              "\n",
              "    .dataframe thead th {\n",
              "        text-align: right;\n",
              "    }\n",
              "</style>\n",
              "<table border=\"1\" class=\"dataframe\">\n",
              "  <thead>\n",
              "    <tr style=\"text-align: right;\">\n",
              "      <th></th>\n",
              "      <th>x</th>\n",
              "      <th>x²</th>\n",
              "      <th>(y-x²)/y</th>\n",
              "    </tr>\n",
              "  </thead>\n",
              "  <tbody>\n",
              "    <tr>\n",
              "      <th>0</th>\n",
              "      <td>256.000000</td>\n",
              "      <td>65536.000000</td>\n",
              "      <td>2.550000e+02</td>\n",
              "    </tr>\n",
              "    <tr>\n",
              "      <th>1</th>\n",
              "      <td>128.500000</td>\n",
              "      <td>16512.250000</td>\n",
              "      <td>6.350098e+01</td>\n",
              "    </tr>\n",
              "    <tr>\n",
              "      <th>2</th>\n",
              "      <td>65.246109</td>\n",
              "      <td>4257.054733</td>\n",
              "      <td>1.562912e+01</td>\n",
              "    </tr>\n",
              "    <tr>\n",
              "      <th>3</th>\n",
              "      <td>34.584857</td>\n",
              "      <td>1196.112354</td>\n",
              "      <td>3.672314e+00</td>\n",
              "    </tr>\n",
              "    <tr>\n",
              "      <th>4</th>\n",
              "      <td>20.993470</td>\n",
              "      <td>440.725798</td>\n",
              "      <td>7.215851e-01</td>\n",
              "    </tr>\n",
              "    <tr>\n",
              "      <th>5</th>\n",
              "      <td>16.593869</td>\n",
              "      <td>275.356491</td>\n",
              "      <td>7.561129e-02</td>\n",
              "    </tr>\n",
              "    <tr>\n",
              "      <th>6</th>\n",
              "      <td>16.010627</td>\n",
              "      <td>256.340172</td>\n",
              "      <td>1.328795e-03</td>\n",
              "    </tr>\n",
              "    <tr>\n",
              "      <th>7</th>\n",
              "      <td>16.000004</td>\n",
              "      <td>256.000113</td>\n",
              "      <td>4.408383e-07</td>\n",
              "    </tr>\n",
              "  </tbody>\n",
              "</table>\n",
              "</div>\n",
              "    <div class=\"colab-df-buttons\">\n",
              "\n",
              "  <div class=\"colab-df-container\">\n",
              "    <button class=\"colab-df-convert\" onclick=\"convertToInteractive('df-dbaa5e4f-8039-4ef9-8499-6dc8e79fb321')\"\n",
              "            title=\"Convert this dataframe to an interactive table.\"\n",
              "            style=\"display:none;\">\n",
              "\n",
              "  <svg xmlns=\"http://www.w3.org/2000/svg\" height=\"24px\" viewBox=\"0 -960 960 960\">\n",
              "    <path d=\"M120-120v-720h720v720H120Zm60-500h600v-160H180v160Zm220 220h160v-160H400v160Zm0 220h160v-160H400v160ZM180-400h160v-160H180v160Zm440 0h160v-160H620v160ZM180-180h160v-160H180v160Zm440 0h160v-160H620v160Z\"/>\n",
              "  </svg>\n",
              "    </button>\n",
              "\n",
              "  <style>\n",
              "    .colab-df-container {\n",
              "      display:flex;\n",
              "      gap: 12px;\n",
              "    }\n",
              "\n",
              "    .colab-df-convert {\n",
              "      background-color: #E8F0FE;\n",
              "      border: none;\n",
              "      border-radius: 50%;\n",
              "      cursor: pointer;\n",
              "      display: none;\n",
              "      fill: #1967D2;\n",
              "      height: 32px;\n",
              "      padding: 0 0 0 0;\n",
              "      width: 32px;\n",
              "    }\n",
              "\n",
              "    .colab-df-convert:hover {\n",
              "      background-color: #E2EBFA;\n",
              "      box-shadow: 0px 1px 2px rgba(60, 64, 67, 0.3), 0px 1px 3px 1px rgba(60, 64, 67, 0.15);\n",
              "      fill: #174EA6;\n",
              "    }\n",
              "\n",
              "    .colab-df-buttons div {\n",
              "      margin-bottom: 4px;\n",
              "    }\n",
              "\n",
              "    [theme=dark] .colab-df-convert {\n",
              "      background-color: #3B4455;\n",
              "      fill: #D2E3FC;\n",
              "    }\n",
              "\n",
              "    [theme=dark] .colab-df-convert:hover {\n",
              "      background-color: #434B5C;\n",
              "      box-shadow: 0px 1px 3px 1px rgba(0, 0, 0, 0.15);\n",
              "      filter: drop-shadow(0px 1px 2px rgba(0, 0, 0, 0.3));\n",
              "      fill: #FFFFFF;\n",
              "    }\n",
              "  </style>\n",
              "\n",
              "    <script>\n",
              "      const buttonEl =\n",
              "        document.querySelector('#df-dbaa5e4f-8039-4ef9-8499-6dc8e79fb321 button.colab-df-convert');\n",
              "      buttonEl.style.display =\n",
              "        google.colab.kernel.accessAllowed ? 'block' : 'none';\n",
              "\n",
              "      async function convertToInteractive(key) {\n",
              "        const element = document.querySelector('#df-dbaa5e4f-8039-4ef9-8499-6dc8e79fb321');\n",
              "        const dataTable =\n",
              "          await google.colab.kernel.invokeFunction('convertToInteractive',\n",
              "                                                    [key], {});\n",
              "        if (!dataTable) return;\n",
              "\n",
              "        const docLinkHtml = 'Like what you see? Visit the ' +\n",
              "          '<a target=\"_blank\" href=https://colab.research.google.com/notebooks/data_table.ipynb>data table notebook</a>'\n",
              "          + ' to learn more about interactive tables.';\n",
              "        element.innerHTML = '';\n",
              "        dataTable['output_type'] = 'display_data';\n",
              "        await google.colab.output.renderOutput(dataTable, element);\n",
              "        const docLink = document.createElement('div');\n",
              "        docLink.innerHTML = docLinkHtml;\n",
              "        element.appendChild(docLink);\n",
              "      }\n",
              "    </script>\n",
              "  </div>\n",
              "\n",
              "\n",
              "<div id=\"df-86bc5c72-83a7-43af-a5e6-0804d9ee706a\">\n",
              "  <button class=\"colab-df-quickchart\" onclick=\"quickchart('df-86bc5c72-83a7-43af-a5e6-0804d9ee706a')\"\n",
              "            title=\"Suggest charts\"\n",
              "            style=\"display:none;\">\n",
              "\n",
              "<svg xmlns=\"http://www.w3.org/2000/svg\" height=\"24px\"viewBox=\"0 0 24 24\"\n",
              "     width=\"24px\">\n",
              "    <g>\n",
              "        <path d=\"M19 3H5c-1.1 0-2 .9-2 2v14c0 1.1.9 2 2 2h14c1.1 0 2-.9 2-2V5c0-1.1-.9-2-2-2zM9 17H7v-7h2v7zm4 0h-2V7h2v10zm4 0h-2v-4h2v4z\"/>\n",
              "    </g>\n",
              "</svg>\n",
              "  </button>\n",
              "\n",
              "<style>\n",
              "  .colab-df-quickchart {\n",
              "      --bg-color: #E8F0FE;\n",
              "      --fill-color: #1967D2;\n",
              "      --hover-bg-color: #E2EBFA;\n",
              "      --hover-fill-color: #174EA6;\n",
              "      --disabled-fill-color: #AAA;\n",
              "      --disabled-bg-color: #DDD;\n",
              "  }\n",
              "\n",
              "  [theme=dark] .colab-df-quickchart {\n",
              "      --bg-color: #3B4455;\n",
              "      --fill-color: #D2E3FC;\n",
              "      --hover-bg-color: #434B5C;\n",
              "      --hover-fill-color: #FFFFFF;\n",
              "      --disabled-bg-color: #3B4455;\n",
              "      --disabled-fill-color: #666;\n",
              "  }\n",
              "\n",
              "  .colab-df-quickchart {\n",
              "    background-color: var(--bg-color);\n",
              "    border: none;\n",
              "    border-radius: 50%;\n",
              "    cursor: pointer;\n",
              "    display: none;\n",
              "    fill: var(--fill-color);\n",
              "    height: 32px;\n",
              "    padding: 0;\n",
              "    width: 32px;\n",
              "  }\n",
              "\n",
              "  .colab-df-quickchart:hover {\n",
              "    background-color: var(--hover-bg-color);\n",
              "    box-shadow: 0 1px 2px rgba(60, 64, 67, 0.3), 0 1px 3px 1px rgba(60, 64, 67, 0.15);\n",
              "    fill: var(--button-hover-fill-color);\n",
              "  }\n",
              "\n",
              "  .colab-df-quickchart-complete:disabled,\n",
              "  .colab-df-quickchart-complete:disabled:hover {\n",
              "    background-color: var(--disabled-bg-color);\n",
              "    fill: var(--disabled-fill-color);\n",
              "    box-shadow: none;\n",
              "  }\n",
              "\n",
              "  .colab-df-spinner {\n",
              "    border: 2px solid var(--fill-color);\n",
              "    border-color: transparent;\n",
              "    border-bottom-color: var(--fill-color);\n",
              "    animation:\n",
              "      spin 1s steps(1) infinite;\n",
              "  }\n",
              "\n",
              "  @keyframes spin {\n",
              "    0% {\n",
              "      border-color: transparent;\n",
              "      border-bottom-color: var(--fill-color);\n",
              "      border-left-color: var(--fill-color);\n",
              "    }\n",
              "    20% {\n",
              "      border-color: transparent;\n",
              "      border-left-color: var(--fill-color);\n",
              "      border-top-color: var(--fill-color);\n",
              "    }\n",
              "    30% {\n",
              "      border-color: transparent;\n",
              "      border-left-color: var(--fill-color);\n",
              "      border-top-color: var(--fill-color);\n",
              "      border-right-color: var(--fill-color);\n",
              "    }\n",
              "    40% {\n",
              "      border-color: transparent;\n",
              "      border-right-color: var(--fill-color);\n",
              "      border-top-color: var(--fill-color);\n",
              "    }\n",
              "    60% {\n",
              "      border-color: transparent;\n",
              "      border-right-color: var(--fill-color);\n",
              "    }\n",
              "    80% {\n",
              "      border-color: transparent;\n",
              "      border-right-color: var(--fill-color);\n",
              "      border-bottom-color: var(--fill-color);\n",
              "    }\n",
              "    90% {\n",
              "      border-color: transparent;\n",
              "      border-bottom-color: var(--fill-color);\n",
              "    }\n",
              "  }\n",
              "</style>\n",
              "\n",
              "  <script>\n",
              "    async function quickchart(key) {\n",
              "      const quickchartButtonEl =\n",
              "        document.querySelector('#' + key + ' button');\n",
              "      quickchartButtonEl.disabled = true;  // To prevent multiple clicks.\n",
              "      quickchartButtonEl.classList.add('colab-df-spinner');\n",
              "      try {\n",
              "        const charts = await google.colab.kernel.invokeFunction(\n",
              "            'suggestCharts', [key], {});\n",
              "      } catch (error) {\n",
              "        console.error('Error during call to suggestCharts:', error);\n",
              "      }\n",
              "      quickchartButtonEl.classList.remove('colab-df-spinner');\n",
              "      quickchartButtonEl.classList.add('colab-df-quickchart-complete');\n",
              "    }\n",
              "    (() => {\n",
              "      let quickchartButtonEl =\n",
              "        document.querySelector('#df-86bc5c72-83a7-43af-a5e6-0804d9ee706a button');\n",
              "      quickchartButtonEl.style.display =\n",
              "        google.colab.kernel.accessAllowed ? 'block' : 'none';\n",
              "    })();\n",
              "  </script>\n",
              "</div>\n",
              "\n",
              "    </div>\n",
              "  </div>\n"
            ],
            "application/vnd.google.colaboratory.intrinsic+json": {
              "type": "dataframe",
              "summary": "{\n  \"name\": \"pd\",\n  \"rows\": 8,\n  \"fields\": [\n    {\n      \"column\": \"x\",\n      \"properties\": {\n        \"dtype\": \"number\",\n        \"std\": 84.8319190141844,\n        \"min\": 16.00000352670594,\n        \"max\": 256.0,\n        \"num_unique_values\": 8,\n        \"samples\": [\n          128.5,\n          16.59386909154118,\n          256.0\n        ],\n        \"semantic_type\": \"\",\n        \"description\": \"\"\n      }\n    },\n    {\n      \"column\": \"x\\u00b2\",\n      \"properties\": {\n        \"dtype\": \"number\",\n        \"std\": 22688.74216376693,\n        \"min\": 256.0001128546025,\n        \"max\": 65536.0,\n        \"num_unique_values\": 8,\n        \"samples\": [\n          16512.25,\n          275.3564914272057,\n          65536.0\n        ],\n        \"semantic_type\": \"\",\n        \"description\": \"\"\n      }\n    },\n    {\n      \"column\": \"(y-x\\u00b2)/y\",\n      \"properties\": {\n        \"dtype\": \"number\",\n        \"std\": 88.62789907721456,\n        \"min\": 4.4083829098262584e-07,\n        \"max\": 255.0,\n        \"num_unique_values\": 8,\n        \"samples\": [\n          63.5009765625,\n          0.07561129463752225,\n          255.0\n        ],\n        \"semantic_type\": \"\",\n        \"description\": \"\"\n      }\n    }\n  ]\n}"
            }
          },
          "metadata": {},
          "execution_count": 59
        }
      ]
    }
  ]
}