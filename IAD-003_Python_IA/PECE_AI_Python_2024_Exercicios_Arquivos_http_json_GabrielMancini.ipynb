{
  "nbformat": 4,
  "nbformat_minor": 0,
  "metadata": {
    "colab": {
      "provenance": []
    },
    "kernelspec": {
      "name": "python3",
      "display_name": "Python 3"
    }
  },
  "cells": [
    {
      "cell_type": "markdown",
      "metadata": {
        "id": "EzztbdQ_7QVn"
      },
      "source": [
        "# Exercícios em Python 5: Biblioteca padrão python, arquivos, http, json\n",
        "\n",
        "\n"
      ]
    },
    {
      "cell_type": "markdown",
      "metadata": {
        "id": "u7BDz8O1qaMd"
      },
      "source": [
        "## Preparando o ambiente\n",
        "\n",
        "Este notebook usa códigos no pacote ceai_python_aula04.py.\n",
        "Verifique se o seu google drive contém a pasta cursoai_python_aula_04.\n",
        "\n",
        "Em seguida execute o código a seguir."
      ]
    },
    {
      "cell_type": "code",
      "metadata": {
        "id": "wo0Ow_IdVgtZ",
        "outputId": "5a0de72e-7fb6-4255-9597-431f8eb0ead3",
        "colab": {
          "base_uri": "https://localhost:8080/"
        }
      },
      "source": [
        "!git clone https://gitlab.uspdigital.usp.br/thiago/curso_ai_python.git\n",
        "import sys\n",
        "sys.path.append('curso_ai_python')"
      ],
      "execution_count": 2,
      "outputs": [
        {
          "output_type": "stream",
          "name": "stdout",
          "text": [
            "fatal: destination path 'curso_ai_python' already exists and is not an empty directory.\n"
          ]
        }
      ]
    },
    {
      "cell_type": "markdown",
      "metadata": {
        "id": "Rou0RcBHC-Z3"
      },
      "source": [
        "Se o bloco acima foi executado corretamente, importe os símbolos com a linha seguinte:"
      ]
    },
    {
      "cell_type": "code",
      "metadata": {
        "id": "r9Q1G0SXu-Ir",
        "outputId": "1b26b27b-d7ff-43b0-a6e7-b1b266276423",
        "colab": {
          "base_uri": "https://localhost:8080/"
        }
      },
      "source": [
        "import ceai_python_aula07"
      ],
      "execution_count": 3,
      "outputs": [
        {
          "output_type": "stream",
          "name": "stdout",
          "text": [
            "Ambiente inicializado com sucesso\n"
          ]
        }
      ]
    },
    {
      "cell_type": "markdown",
      "metadata": {
        "id": "bdTCDbolwdYj"
      },
      "source": [
        "## 5.1  Arquivos\n",
        "\n",
        "A linguagem Python tem uma biblioteca de arquivos.\n",
        "\n",
        "Arquivos são abertos com a função ```open```.\n",
        "\n",
        "O código abaixo cria um arquivo ```teste.txt``` dentro do diretório ```content```, que é o diretório padrão do colab."
      ]
    },
    {
      "cell_type": "code",
      "metadata": {
        "id": "VBQEHIv0wtR2"
      },
      "source": [
        "arquivo = open(\"teste.txt\", \"tw\")\n",
        "arquivo.close()"
      ],
      "execution_count": 6,
      "outputs": []
    },
    {
      "cell_type": "markdown",
      "metadata": {
        "id": "v6zPjtNNxVj0"
      },
      "source": [
        "Verifique na aba de arquivos que existe o arquivo teste.txt.\n",
        "\n",
        "a função ```open``` retorna um objeto de arquivo.\n",
        "\n",
        "Escreve-se em arquivos com o método ```write```.\n",
        "\n",
        "Por exemplo, o código abaixo escreve ```Isso é um teste``` no arquivo ```teste.txt```:"
      ]
    },
    {
      "cell_type": "code",
      "metadata": {
        "id": "rXBGURSgxxlL"
      },
      "source": [
        "arquivo = open(\"teste.txt\", \"tw\")\n",
        "arquivo.write(\"Isso é um teste\")\n",
        "arquivo.close()"
      ],
      "execution_count": 7,
      "outputs": []
    },
    {
      "cell_type": "markdown",
      "metadata": {
        "id": "iA6tm_v5x685"
      },
      "source": [
        "Verifique o conteúdo do arquivo.\n",
        "\n",
        "O arquivo aberto com o modo \"tw\" é um arquivo aberto em modo texto para escrita truncada, ou seja, o conteúdo original do arquivo é *destruído*.\n",
        "\n",
        "Um arquivo pode ser lido com as funções ```read```, que retorna todo o conteúdo do arquivo, a função ```readline()``` que lê uma única linha do arquivo e a função ```readlines``` que lê *todas* as linhas de um arquivo.\n",
        "\n",
        "Por exemplo, o código a seguir lê a primeira linha do arquivo criado anteriormente."
      ]
    },
    {
      "cell_type": "code",
      "metadata": {
        "id": "LK6RFjM90J-b",
        "outputId": "ac1be562-8b72-440d-bcd3-5071974eaa0a",
        "colab": {
          "base_uri": "https://localhost:8080/"
        }
      },
      "source": [
        "arquivo = open(\"teste.txt\", \"tr\")\n",
        "print(arquivo.readline())\n",
        "arquivo.close()"
      ],
      "execution_count": 8,
      "outputs": [
        {
          "output_type": "stream",
          "name": "stdout",
          "text": [
            "Isso é um teste\n"
          ]
        }
      ]
    },
    {
      "cell_type": "markdown",
      "metadata": {
        "id": "pEH3Wz4p1cTT"
      },
      "source": [
        "### Exercício 5.1.1\n",
        "\n",
        "Leia todas as linhas do arquivo ```/content/curso_ai_python/dados/dados01.txt``` e coloque-as em uma sequência na variável ```linhas```"
      ]
    },
    {
      "cell_type": "code",
      "metadata": {
        "id": "xOZTUoIk17wF",
        "outputId": "6003757d-8300-4820-812b-343347945b07",
        "colab": {
          "base_uri": "https://localhost:8080/"
        }
      },
      "source": [
        "with open('/content/curso_ai_python/dados/dados01.txt', 'r') as f:\n",
        "  linhas = f.readlines()"
      ],
      "execution_count": 12,
      "outputs": [
        {
          "output_type": "stream",
          "name": "stdout",
          "text": [
            "['10\\n', '9\\n', '8\\n', '7\\n', '6\\n', '5\\n', '4\\n', '3\\n', '2\\n', '1']\n"
          ]
        }
      ]
    },
    {
      "cell_type": "markdown",
      "metadata": {
        "id": "tHMiSK4Z18Pt"
      },
      "source": [
        "Teste sua resposta:"
      ]
    },
    {
      "cell_type": "code",
      "metadata": {
        "id": "RZe6XY_M19zr",
        "outputId": "ea45a6ab-54a7-4e7c-d988-4684fe06af3c",
        "colab": {
          "base_uri": "https://localhost:8080/",
          "height": 40
        }
      },
      "source": [
        "ceai_python_aula07.valida_ex_05_01_01(linhas)"
      ],
      "execution_count": 13,
      "outputs": [
        {
          "output_type": "execute_result",
          "data": {
            "text/plain": [
              "<ceai_python_aula07.SolucaoResultado at 0x7a186e70c370>"
            ],
            "text/html": [
              "<div style=\"border-style:solid;border-color:green\">Exercício Correto!</div>"
            ]
          },
          "metadata": {},
          "execution_count": 13
        }
      ]
    },
    {
      "cell_type": "markdown",
      "metadata": {
        "id": "aOYvkNYM4naH"
      },
      "source": [
        "### Exercício 5.1.2\n",
        "\n",
        "Procure usando Python no arquivo ```/curso_ai_python/dados/dados02.txt``` uma linha iniciada por ```parametro_01```...\n",
        "Atribua à variável ```linha``` o conteúdo desta linha.\n",
        "\n",
        "*Sugestão*: O método ```.startswith(valor)``` retorna ```True``` se a string sobre a qual é chamado inicia-se com ```valor```."
      ]
    },
    {
      "cell_type": "code",
      "metadata": {
        "id": "GtZVcgrc4mkK"
      },
      "source": [
        "with open('/content/curso_ai_python/dados/dados02.txt', 'r') as f:\n",
        "  linhas = f.readlines()\n",
        "\n",
        "linha = list(filter(lambda x: x.startswith('parametro_01'), linhas))[0]"
      ],
      "execution_count": 18,
      "outputs": []
    },
    {
      "cell_type": "code",
      "source": [
        "linha"
      ],
      "metadata": {
        "id": "SGvzESQbc_9A",
        "outputId": "a8ae8cd9-e6cb-434f-8453-acb4ba2ebc55",
        "colab": {
          "base_uri": "https://localhost:8080/",
          "height": 35
        }
      },
      "execution_count": 19,
      "outputs": [
        {
          "output_type": "execute_result",
          "data": {
            "text/plain": [
              "'parametro_01 = 2\\n'"
            ],
            "application/vnd.google.colaboratory.intrinsic+json": {
              "type": "string"
            }
          },
          "metadata": {},
          "execution_count": 19
        }
      ]
    },
    {
      "cell_type": "markdown",
      "metadata": {
        "id": "GYY3zawx5Dwh"
      },
      "source": [
        "Teste sua resposta:"
      ]
    },
    {
      "cell_type": "code",
      "metadata": {
        "id": "W5vSzRR74m5K",
        "outputId": "a46e5a7f-7150-481e-f3bc-7f0137d158fb",
        "colab": {
          "base_uri": "https://localhost:8080/",
          "height": 40
        }
      },
      "source": [
        "ceai_python_aula07.valida_ex_05_01_02(linha)"
      ],
      "execution_count": 20,
      "outputs": [
        {
          "output_type": "execute_result",
          "data": {
            "text/plain": [
              "<ceai_python_aula07.SolucaoResultado at 0x7a1852d0b0a0>"
            ],
            "text/html": [
              "<div style=\"border-style:solid;border-color:green\">Exercício Correto!</div>"
            ]
          },
          "metadata": {},
          "execution_count": 20
        }
      ]
    },
    {
      "cell_type": "markdown",
      "metadata": {
        "id": "sOdbhxzK57h6"
      },
      "source": [
        "### Exercício 5.1.3\n",
        "\n",
        "Crie o arquivo ```resultado.txt``` dentro do diretório ```content``` (que é o diretório padrão).\n",
        "\n",
        "Este arquivo deve conter os valores dos quadrados dos 10 primeiros inteiros positivos (começando por 1).\n",
        "\n",
        "*Sugestão*:\n",
        "Para delimitar uma linha em um arquivo, chame o método ```write``` passando a string ```'\\n'```.\n"
      ]
    },
    {
      "cell_type": "code",
      "metadata": {
        "id": "rvbNTUYf6iE7"
      },
      "source": [
        "with open('/content/resultado.txt', 'x') as f:\n",
        "  for i in range(1, 11):\n",
        "    f.write(f'{i**2}\\n')"
      ],
      "execution_count": 35,
      "outputs": []
    },
    {
      "cell_type": "markdown",
      "metadata": {
        "id": "UE09_Kxb6i-h"
      },
      "source": [
        "Teste a sua resposta"
      ]
    },
    {
      "cell_type": "code",
      "metadata": {
        "id": "DI-hOzxP6lVt",
        "outputId": "4302f8d1-aa6e-4c58-fe6c-b0031a92fa2e",
        "colab": {
          "base_uri": "https://localhost:8080/",
          "height": 40
        }
      },
      "source": [
        "ceai_python_aula07.valida_ex_05_01_03()"
      ],
      "execution_count": 36,
      "outputs": [
        {
          "output_type": "execute_result",
          "data": {
            "text/plain": [
              "<ceai_python_aula07.SolucaoResultado at 0x7a1852d0b280>"
            ],
            "text/html": [
              "<div style=\"border-style:solid;border-color:green\">Exercício Correto!</div>"
            ]
          },
          "metadata": {},
          "execution_count": 36
        }
      ]
    },
    {
      "cell_type": "markdown",
      "metadata": {
        "id": "THM5xJGDoz_A"
      },
      "source": [
        "## 5.2 Processando dados em JSON.\n",
        "\n",
        "O formato JSON (JavaScript Object Notation) tem tornado-se cada vez mais prevalente na internet para intercâmbio de objetos.\n",
        "\n",
        "Este é um formato que codifica objetos compostos em um formato similar ao da linguagem JavaScript.\n",
        "\n",
        "O Módulo ```json``` é capaz de codificar e decodificar tipos básicos em python bem como boa parte dos tipos agregados, como sequências, strings e dicionários.\n",
        "\n",
        "O exemplo a seguir mostra a codificação em JSON de tipos básicos e alguns agregados."
      ]
    },
    {
      "cell_type": "code",
      "metadata": {
        "id": "rbgteJZbp_eI",
        "outputId": "979ec8dc-5b5f-4f18-83df-ba065e8ab239",
        "colab": {
          "base_uri": "https://localhost:8080/"
        }
      },
      "source": [
        "import json\n",
        "\n",
        "print(json.dumps(1))\n",
        "print(json.dumps(0.001))\n",
        "print(json.dumps('teste'))\n",
        "print(json.dumps([1,2,3]))\n",
        "print(json.dumps({'chave 1': 1}))\n",
        "print(json.dumps({1: 1}))\n",
        "print(json.dumps((1,2,3)))"
      ],
      "execution_count": 37,
      "outputs": [
        {
          "output_type": "stream",
          "name": "stdout",
          "text": [
            "1\n",
            "0.001\n",
            "\"teste\"\n",
            "[1, 2, 3]\n",
            "{\"chave 1\": 1}\n",
            "{\"1\": 1}\n",
            "[1, 2, 3]\n"
          ]
        }
      ]
    },
    {
      "cell_type": "markdown",
      "metadata": {
        "id": "SbTmdcI9ru2P"
      },
      "source": [
        "Observe como a sintaxe da codificação é virtualmente idêntica a da linguagem Python.\n",
        "Uma notória exceção é a codificação de tuplas, que são condificadas como sequências, e das chaves de dicionários, que são *sempre* convertidas para Strings.\n",
        "\n",
        "É possível também escrever diretamente em um arquivo com a função ```dump```:"
      ]
    },
    {
      "cell_type": "code",
      "source": [
        "with open(\"exemplo.json\", \"wt\") as arquivo:\n",
        "  json.dump([1,2,3,4,5], arquivo)\n",
        "with open(\"exemplo.json\", \"rt\") as arquivo:\n",
        "  linhas = arquivo.readlines()\n",
        "for linha in linhas:\n",
        "  print(linha)"
      ],
      "metadata": {
        "colab": {
          "base_uri": "https://localhost:8080/"
        },
        "id": "VlQ2yVAowH4q",
        "outputId": "80e6b43b-0c69-4116-ada0-168660ca99ea"
      },
      "execution_count": 38,
      "outputs": [
        {
          "output_type": "stream",
          "name": "stdout",
          "text": [
            "[1, 2, 3, 4, 5]\n"
          ]
        }
      ]
    },
    {
      "cell_type": "markdown",
      "source": [
        "### Exercício 5.2.1\n",
        "\n",
        "Escreva um arquivo com o nome ```resultado.json``` contendo um dicionário cujas chaves são números de 1 a 100 e os valores são os quadrados dos respectivos números."
      ],
      "metadata": {
        "id": "K2rAks24v6k0"
      }
    },
    {
      "cell_type": "code",
      "metadata": {
        "id": "on7v781utbwf"
      },
      "source": [
        "dict_resultado = {}\n",
        "\n",
        "for i in range(1,101):\n",
        "  dict_resultado[i] = i**2\n",
        "\n",
        "with open(\"resultado.json\", \"x\") as arquivo:\n",
        "  json.dump(dict_resultado, arquivo)"
      ],
      "execution_count": 42,
      "outputs": []
    },
    {
      "cell_type": "markdown",
      "metadata": {
        "id": "ws9lZcGNtcOm"
      },
      "source": [
        "Verifique sua resposta:"
      ]
    },
    {
      "cell_type": "code",
      "metadata": {
        "id": "254-qQ2gtdub",
        "outputId": "5bb4ec9e-9cd2-4a4d-c66c-e67549bb1005",
        "colab": {
          "base_uri": "https://localhost:8080/",
          "height": 40
        }
      },
      "source": [
        "ceai_python_aula07.valida_ex_05_02_01()"
      ],
      "execution_count": 43,
      "outputs": [
        {
          "output_type": "execute_result",
          "data": {
            "text/plain": [
              "<ceai_python_aula07.SolucaoResultado at 0x7a1852d09d80>"
            ],
            "text/html": [
              "<div style=\"border-style:solid;border-color:green\">Exercício Correto!</div>"
            ]
          },
          "metadata": {},
          "execution_count": 43
        }
      ]
    },
    {
      "cell_type": "markdown",
      "metadata": {
        "id": "cfg4lYaWbAvq"
      },
      "source": [
        "## 5.3 Acessando recursos da rede com o pacote ```urllib```\n",
        "\n",
        "O pacote ```urllib``` é um pacote que permite acessar recursos na Internet por meio de suas urls.\n",
        "\n",
        "O resultado de uma solicitação http é um objeto do tipo ```HTTPRequest```. Este objeto é relativamente complexo, dada a versatilidade do protocolo http.\n",
        "\n",
        "Exemplo: O código abaixo recupera o endereço IP da máquina atual pela url [https://api6.ipify.org/](https://api6.ipify.org/).\n"
      ]
    },
    {
      "cell_type": "code",
      "metadata": {
        "id": "XNK-tnIcgRNH",
        "colab": {
          "base_uri": "https://localhost:8080/"
        },
        "outputId": "e9532e49-57b2-4c3e-b916-0371add9494c"
      },
      "source": [
        "import urllib.request\n",
        "resposta = urllib.request.urlopen('https://api.ipify.org/')\n",
        "codificacao='UTF-8'\n",
        "for content_spec in resposta.headers['Content-Type'].split(';'):\n",
        "    if content_spec.startswith('charset'):\n",
        "      codificacao = content_spec.split('=')[1].lstrip()\n",
        "print(resposta.read().decode(codificacao))"
      ],
      "execution_count": 44,
      "outputs": [
        {
          "output_type": "stream",
          "name": "stdout",
          "text": [
            "34.85.131.110\n"
          ]
        }
      ]
    },
    {
      "cell_type": "markdown",
      "metadata": {
        "id": "w6uaqgDuhG5H"
      },
      "source": [
        "### Exercício 5.3.1\n",
        "\n",
        "Crie uma função que retorna a hora do dia em São Paulo.\n",
        "Use a URL [http://worldtimeapi.org/api/timezone/America/Sao_Paulo](http://worldtimeapi.org/api/timezone/America/Sao_Paulo).\n",
        "\n",
        "*Atenção!* O resultado desta busca é um JSON.\n",
        "Use a função ```json.loads(string)``` para converter uma string em um dicionário.\n",
        "\n",
        "A data e hora do dia será armazenada em uma string no dicionário sobre a chave ```datetime``` e em uma string.\n",
        "\n",
        "Você deve retornar esta string."
      ]
    },
    {
      "cell_type": "code",
      "metadata": {
        "id": "7sDfv9Iqlq6I"
      },
      "source": [
        "def recupera_datetime_online():\n",
        "  # Complete com seu código\n",
        "  resposta = urllib.request.urlopen('http://worldtimeapi.org/api/timezone/America/Sao_Paulo')\n",
        "\n",
        "  dict_resp = json.loads(resposta.read().decode('UTF-8'))\n",
        "  return dict_resp['datetime']"
      ],
      "execution_count": 62,
      "outputs": []
    },
    {
      "cell_type": "markdown",
      "metadata": {
        "id": "bJNjkVt01lt_"
      },
      "source": [
        "Verifique sua resposta:"
      ]
    },
    {
      "cell_type": "code",
      "metadata": {
        "id": "Srn5A6Q-1ndq",
        "outputId": "95d6ea72-c0cd-49a7-8bb8-870efb816062",
        "colab": {
          "base_uri": "https://localhost:8080/",
          "height": 40
        }
      },
      "source": [
        "ceai_python_aula07.valida_ex_05_03_01(recupera_datetime_online)"
      ],
      "execution_count": 63,
      "outputs": [
        {
          "output_type": "execute_result",
          "data": {
            "text/plain": [
              "<ceai_python_aula07.SolucaoResultado at 0x7a1852c8dc60>"
            ],
            "text/html": [
              "<div style=\"border-style:solid;border-color:green\">Exercício Correto!</div>"
            ]
          },
          "metadata": {},
          "execution_count": 63
        }
      ]
    }
  ]
}