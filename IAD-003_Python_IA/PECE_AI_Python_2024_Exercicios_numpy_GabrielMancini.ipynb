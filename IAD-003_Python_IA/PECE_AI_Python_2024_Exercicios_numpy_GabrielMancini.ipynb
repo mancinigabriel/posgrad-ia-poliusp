{
  "nbformat": 4,
  "nbformat_minor": 0,
  "metadata": {
    "colab": {
      "provenance": []
    },
    "kernelspec": {
      "name": "python3",
      "display_name": "Python 3"
    }
  },
  "cells": [
    {
      "cell_type": "markdown",
      "metadata": {
        "id": "EzztbdQ_7QVn"
      },
      "source": [
        "# Exercícios em Python 8: Numpy\n",
        "\n"
      ]
    },
    {
      "cell_type": "markdown",
      "metadata": {
        "id": "g7oALP2S9feS"
      },
      "source": [
        "## Preparando o ambiente\n",
        "\n",
        "Este notebook usa códigos no pacote ceai_python_aula08.py.\n",
        "Execute o código a seguir."
      ]
    },
    {
      "cell_type": "code",
      "metadata": {
        "id": "5dpETQOP9gn0",
        "outputId": "87ff6565-94c9-4233-bb8a-1005b3891a8f",
        "colab": {
          "base_uri": "https://localhost:8080/"
        }
      },
      "source": [
        "!git clone https://gitlab.uspdigital.usp.br/thiago/curso_ai_python.git\n",
        "import sys\n",
        "sys.path.append('curso_ai_python')"
      ],
      "execution_count": 1,
      "outputs": [
        {
          "output_type": "stream",
          "name": "stdout",
          "text": [
            "Cloning into 'curso_ai_python'...\n",
            "remote: Enumerating objects: 77, done.\u001b[K\n",
            "remote: Counting objects: 100% (44/44), done.\u001b[K\n",
            "remote: Compressing objects: 100% (43/43), done.\u001b[K\n",
            "remote: Total 77 (delta 20), reused 0 (delta 0), pack-reused 33\u001b[K\n",
            "Receiving objects: 100% (77/77), 26.67 KiB | 171.00 KiB/s, done.\n",
            "Resolving deltas: 100% (36/36), done.\n"
          ]
        }
      ]
    },
    {
      "cell_type": "markdown",
      "metadata": {
        "id": "zf7rDXU_9kA7"
      },
      "source": [
        "Se o bloco acima foi executado corretamente, importe os símbolos com a linha seguinte:"
      ]
    },
    {
      "cell_type": "code",
      "metadata": {
        "id": "pFQD2oNU9mGT",
        "outputId": "f76a7d3e-5c71-458e-92dd-2b380eea9b12",
        "colab": {
          "base_uri": "https://localhost:8080/"
        }
      },
      "source": [
        "import ceai_python_aula08"
      ],
      "execution_count": 2,
      "outputs": [
        {
          "output_type": "stream",
          "name": "stdout",
          "text": [
            "Ambiente inicializado com sucesso\n"
          ]
        }
      ]
    },
    {
      "cell_type": "markdown",
      "metadata": {
        "id": "C19XUaGr7SEd"
      },
      "source": [
        "## 8.1 O objeto ```numpy.array```\n",
        "\n",
        "O objeto ```numpy.array``` é o objeto central da biblioteca numpy.\n",
        "Ele descreve um agregado multi-dimensional de dados.\n",
        "\n",
        "\n",
        "Há diversas formas de se criar um objeto ```numpy.array```.\n",
        "A maneira mais simples é a partir de dados agregados básicos de Python, como listas e sequências.\n",
        "\n",
        "Exemplo: Este código cria uma matriz identidade 2x2:"
      ]
    },
    {
      "cell_type": "code",
      "metadata": {
        "id": "hkwl360T7jEU",
        "colab": {
          "base_uri": "https://localhost:8080/"
        },
        "outputId": "08e8fc8b-b696-47ed-f534-89f0c3a0eaa4"
      },
      "source": [
        "import numpy\n",
        "numpy.array([[1,0],[0,1]])"
      ],
      "execution_count": 3,
      "outputs": [
        {
          "output_type": "execute_result",
          "data": {
            "text/plain": [
              "array([[1, 0],\n",
              "       [0, 1]])"
            ]
          },
          "metadata": {},
          "execution_count": 3
        }
      ]
    },
    {
      "cell_type": "markdown",
      "metadata": {
        "id": "0j6wlLKa8KSb"
      },
      "source": [
        "Exemplo: Este código cria um vetor com 3 posições:"
      ]
    },
    {
      "cell_type": "code",
      "metadata": {
        "id": "vWIo4Asn8r5z",
        "colab": {
          "base_uri": "https://localhost:8080/"
        },
        "outputId": "d92a9f16-26eb-4038-81d3-f0c6c829a93c"
      },
      "source": [
        "numpy.array([1,2,3])"
      ],
      "execution_count": 4,
      "outputs": [
        {
          "output_type": "execute_result",
          "data": {
            "text/plain": [
              "array([1, 2, 3])"
            ]
          },
          "metadata": {},
          "execution_count": 4
        }
      ]
    },
    {
      "cell_type": "markdown",
      "metadata": {
        "id": "184IlWnh8vOl"
      },
      "source": [
        "### Exercício 8.1.1:\n",
        "\n",
        "Crie um objeto ```numpy.array``` com uma matriz com duas linhas e 3 colunas.\n",
        "Em cada componente deve estar a *soma* de 3x o valor índice da linha com o valor do índice da coluna (note que os índices são baseados em zero). Coloque o seu resultado na variável ```matriz```\n"
      ]
    },
    {
      "cell_type": "code",
      "metadata": {
        "id": "gZki_gNs9Rkz"
      },
      "source": [
        "import numpy as np\n",
        "matriz = np.array([[0]*3]*2)\n",
        "\n",
        "for i in range(2):\n",
        "  for j in range(3):\n",
        "    matriz[i][j] = 3*i + j"
      ],
      "execution_count": 18,
      "outputs": []
    },
    {
      "cell_type": "markdown",
      "metadata": {
        "id": "_kx6Irxe_Pt1"
      },
      "source": [
        "Teste o seu código:"
      ]
    },
    {
      "cell_type": "code",
      "metadata": {
        "id": "-2Rebr_d_ROm",
        "outputId": "9bbbbefc-05c5-4409-f65a-23d0b3556a67",
        "colab": {
          "base_uri": "https://localhost:8080/",
          "height": 40
        }
      },
      "source": [
        "ceai_python_aula08.valida_ex_08_01_01(matriz)"
      ],
      "execution_count": 20,
      "outputs": [
        {
          "output_type": "execute_result",
          "data": {
            "text/plain": [
              "<ceai_python_aula08.SolucaoResultado at 0x7d14a0647220>"
            ],
            "text/html": [
              "<div style=\"border-style:solid;border-color:green\">Exercício Correto!</div>"
            ]
          },
          "metadata": {},
          "execution_count": 20
        }
      ]
    },
    {
      "cell_type": "markdown",
      "metadata": {
        "id": "woQeA1vM_hpO"
      },
      "source": [
        "Objetos podem também ser criados a partir de valores *constantes*\n",
        "Por exemplo, o código abaixo cria um vetor de 6 posições com zeros:"
      ]
    },
    {
      "cell_type": "code",
      "metadata": {
        "id": "72shaQKH_wbW",
        "colab": {
          "base_uri": "https://localhost:8080/"
        },
        "outputId": "cd6a006b-e3f2-4fb0-d955-9b5163ebf261"
      },
      "source": [
        "numpy.zeros(6)"
      ],
      "execution_count": 21,
      "outputs": [
        {
          "output_type": "execute_result",
          "data": {
            "text/plain": [
              "array([0., 0., 0., 0., 0., 0.])"
            ]
          },
          "metadata": {},
          "execution_count": 21
        }
      ]
    },
    {
      "cell_type": "markdown",
      "metadata": {
        "id": "6RLNj4-GACyY"
      },
      "source": [
        "#### Exercício 8.1.2:\n",
        "\n",
        "Crie uma matriz com 20 linhas e 50 colunas, todas com zeros. Coloque o seu resultado na variável ```matriz```\n"
      ]
    },
    {
      "cell_type": "code",
      "metadata": {
        "id": "d1Uvu4WwALqr"
      },
      "source": [
        "matriz = np.array([[0]*50]*20)"
      ],
      "execution_count": 22,
      "outputs": []
    },
    {
      "cell_type": "markdown",
      "metadata": {
        "id": "MEj3IyPnA-q8"
      },
      "source": [
        "Teste sua resposta:"
      ]
    },
    {
      "cell_type": "code",
      "metadata": {
        "id": "fuBdtiJTBAI8",
        "outputId": "da4007f6-4133-461e-c9e8-4221ad6039b4",
        "colab": {
          "base_uri": "https://localhost:8080/",
          "height": 40
        }
      },
      "source": [
        "ceai_python_aula08.valida_ex_08_01_02(matriz)"
      ],
      "execution_count": 23,
      "outputs": [
        {
          "output_type": "execute_result",
          "data": {
            "text/plain": [
              "<ceai_python_aula08.SolucaoResultado at 0x7d14a06452d0>"
            ],
            "text/html": [
              "<div style=\"border-style:solid;border-color:green\">Exercício Correto!</div>"
            ]
          },
          "metadata": {},
          "execution_count": 23
        }
      ]
    },
    {
      "cell_type": "markdown",
      "metadata": {
        "id": "FsszXaAcBYyt"
      },
      "source": [
        "Pode-se criar um vetor com uma partição regular de um intervalo.\n",
        "Por exemplo, o código a seguir inicializa um vetor com os números de 0 a 9,5 de 0,5 em 0,5:"
      ]
    },
    {
      "cell_type": "code",
      "metadata": {
        "id": "sipNBwNmD7re",
        "colab": {
          "base_uri": "https://localhost:8080/"
        },
        "outputId": "f6198d06-3c39-48cd-a0c9-c4ee7bdc73d9"
      },
      "source": [
        "numpy.arange(0,10,0.5)"
      ],
      "execution_count": 24,
      "outputs": [
        {
          "output_type": "execute_result",
          "data": {
            "text/plain": [
              "array([0. , 0.5, 1. , 1.5, 2. , 2.5, 3. , 3.5, 4. , 4.5, 5. , 5.5, 6. ,\n",
              "       6.5, 7. , 7.5, 8. , 8.5, 9. , 9.5])"
            ]
          },
          "metadata": {},
          "execution_count": 24
        }
      ]
    },
    {
      "cell_type": "markdown",
      "metadata": {
        "id": "W3Mg5J73ESZ0"
      },
      "source": [
        "#### Exercício 8.1.3:\n",
        "\n",
        "Crie um vetor com os valores de 0 a 100 (não-incluso) de 0,1 em 0,1. Coloque seu resultado na variável ```vetor```."
      ]
    },
    {
      "cell_type": "code",
      "metadata": {
        "id": "S1Qwg7q8EGsk"
      },
      "source": [
        "vetor = numpy.arange(0,100,0.1)"
      ],
      "execution_count": 25,
      "outputs": []
    },
    {
      "cell_type": "markdown",
      "metadata": {
        "id": "y-0gWpYvEZ9k"
      },
      "source": [
        "Teste sua resposta:"
      ]
    },
    {
      "cell_type": "code",
      "metadata": {
        "id": "zXaWCp4LEbsk",
        "outputId": "137f823e-2070-48bd-c707-010bc77a0a43",
        "colab": {
          "base_uri": "https://localhost:8080/",
          "height": 40
        }
      },
      "source": [
        "ceai_python_aula08.valida_ex_08_01_03(vetor)"
      ],
      "execution_count": 26,
      "outputs": [
        {
          "output_type": "execute_result",
          "data": {
            "text/plain": [
              "<ceai_python_aula08.SolucaoResultado at 0x7d14a0647490>"
            ],
            "text/html": [
              "<div style=\"border-style:solid;border-color:green\">Exercício Correto!</div>"
            ]
          },
          "metadata": {},
          "execution_count": 26
        }
      ]
    },
    {
      "cell_type": "markdown",
      "metadata": {
        "id": "d3hO0pxnEy7l"
      },
      "source": [
        "## 8.2 Aplicando funções a objetos\n",
        "\n",
        "A biblioteca numpy permite aplicar operações aritméticas e funções coeficiente-a-coecifiente a objetos.\n",
        "\n",
        "Por exemplo, este código gera um vetor com os números de 0 a 9,9 de 0.1 a 0.1 e depois calcula a raiz quadrada destes números."
      ]
    },
    {
      "cell_type": "code",
      "metadata": {
        "id": "h-827lyEGdCl",
        "colab": {
          "base_uri": "https://localhost:8080/"
        },
        "outputId": "c5c25e05-bfbb-408a-fae8-7dcb21a8840c"
      },
      "source": [
        "numpy.sqrt(numpy.arange(0,10,0.1))"
      ],
      "execution_count": 27,
      "outputs": [
        {
          "output_type": "execute_result",
          "data": {
            "text/plain": [
              "array([0.        , 0.31622777, 0.4472136 , 0.54772256, 0.63245553,\n",
              "       0.70710678, 0.77459667, 0.83666003, 0.89442719, 0.9486833 ,\n",
              "       1.        , 1.04880885, 1.09544512, 1.14017543, 1.18321596,\n",
              "       1.22474487, 1.26491106, 1.30384048, 1.34164079, 1.37840488,\n",
              "       1.41421356, 1.44913767, 1.4832397 , 1.51657509, 1.54919334,\n",
              "       1.58113883, 1.61245155, 1.64316767, 1.67332005, 1.70293864,\n",
              "       1.73205081, 1.76068169, 1.78885438, 1.81659021, 1.84390889,\n",
              "       1.87082869, 1.8973666 , 1.92353841, 1.94935887, 1.97484177,\n",
              "       2.        , 2.02484567, 2.04939015, 2.07364414, 2.0976177 ,\n",
              "       2.12132034, 2.14476106, 2.16794834, 2.19089023, 2.21359436,\n",
              "       2.23606798, 2.25831796, 2.28035085, 2.30217289, 2.32379001,\n",
              "       2.34520788, 2.36643191, 2.38746728, 2.40831892, 2.42899156,\n",
              "       2.44948974, 2.46981781, 2.48997992, 2.50998008, 2.52982213,\n",
              "       2.54950976, 2.56904652, 2.58843582, 2.60768096, 2.62678511,\n",
              "       2.64575131, 2.66458252, 2.68328157, 2.70185122, 2.7202941 ,\n",
              "       2.73861279, 2.75680975, 2.77488739, 2.79284801, 2.81069386,\n",
              "       2.82842712, 2.84604989, 2.86356421, 2.88097206, 2.89827535,\n",
              "       2.91547595, 2.93257566, 2.94957624, 2.96647939, 2.98328678,\n",
              "       3.        , 3.01662063, 3.03315018, 3.04959014, 3.06594194,\n",
              "       3.082207  , 3.09838668, 3.1144823 , 3.13049517, 3.14642654])"
            ]
          },
          "metadata": {},
          "execution_count": 27
        }
      ]
    },
    {
      "cell_type": "markdown",
      "metadata": {
        "id": "jqhNVNz9GrxG"
      },
      "source": [
        "### Exercício 8.2.1:\n",
        "\n",
        "Inicialize um vetor com os valores de 0 a 2π (```2*numpy.pi```) separados por 0,005.\n",
        "Crie um outro vetor com os valores do seno (```numpy.sin```) de cada um dos componentes. Atribua o seu resultado à variável ```vetor_seno```.\n",
        "\n",
        "Faça o mesmo com a função cosseno (```numpy.cos```) e atribua o resultado à variável ```vetor_coseno```."
      ]
    },
    {
      "cell_type": "code",
      "metadata": {
        "id": "5BIgtmQzHWLF"
      },
      "source": [
        "vetor_seno = numpy.sin(numpy.arange(0,2*numpy.pi,0.005))"
      ],
      "execution_count": 28,
      "outputs": []
    },
    {
      "cell_type": "code",
      "source": [
        "vetor_coseno = numpy.cos(numpy.arange(0,2*numpy.pi,0.005))"
      ],
      "metadata": {
        "id": "Dn26eSDdZsZx"
      },
      "execution_count": 29,
      "outputs": []
    },
    {
      "cell_type": "markdown",
      "metadata": {
        "id": "F6MLt-ohHjh8"
      },
      "source": [
        "Teste o seu resultado:"
      ]
    },
    {
      "cell_type": "code",
      "metadata": {
        "id": "VLvBoKRXHlJF",
        "outputId": "6a671689-a022-4b9d-cc15-65651137598e",
        "colab": {
          "base_uri": "https://localhost:8080/",
          "height": 40
        }
      },
      "source": [
        "ceai_python_aula08.valida_ex_08_02_01(vetor_seno, vetor_coseno)"
      ],
      "execution_count": 30,
      "outputs": [
        {
          "output_type": "execute_result",
          "data": {
            "text/plain": [
              "<ceai_python_aula08.SolucaoResultado at 0x7d14a067e860>"
            ],
            "text/html": [
              "<div style=\"border-style:solid;border-color:green\">Exercício Correto!</div>"
            ]
          },
          "metadata": {},
          "execution_count": 30
        }
      ]
    },
    {
      "cell_type": "markdown",
      "metadata": {
        "id": "mJUUOyK6HqBO"
      },
      "source": [
        "## 8.3 Operações de redução:\n",
        "\n",
        "A biblioteca numpy permite calcular resultados totais sobre um determinado objeto.\n",
        "\n",
        "Exemplo:\n",
        "O código a seguir calcula a soma dos números de 0 a 100:"
      ]
    },
    {
      "cell_type": "code",
      "metadata": {
        "id": "HXnVvp_tH690",
        "colab": {
          "base_uri": "https://localhost:8080/"
        },
        "outputId": "78fd661d-5318-4a96-a21c-b8468ac82324"
      },
      "source": [
        "numpy.arange(0,101,1).sum()"
      ],
      "execution_count": 31,
      "outputs": [
        {
          "output_type": "execute_result",
          "data": {
            "text/plain": [
              "5050"
            ]
          },
          "metadata": {},
          "execution_count": 31
        }
      ]
    },
    {
      "cell_type": "markdown",
      "metadata": {
        "id": "jqGwWSNFH-23"
      },
      "source": [
        "### Exercício 8.3.1:\n",
        "\n",
        "Usando os vetores ```vetor_seno``` e ```vetor_coseno``` do item anterior, mostre numericamente a \"ortogonalidade\" das funções.\n",
        "Calcule o vetor produto coeficiente-a-coeficiente dos dois vetores e em seguida o seu total:"
      ]
    },
    {
      "cell_type": "code",
      "metadata": {
        "id": "BtqqUuhNIPl9"
      },
      "source": [
        "vetor_produto = numpy.zeros(len(vetor_seno))\n",
        "\n",
        "for i in range(len(vetor_seno)):\n",
        "  vetor_produto[i] = vetor_seno[i] * vetor_coseno[i]"
      ],
      "execution_count": 39,
      "outputs": []
    },
    {
      "cell_type": "code",
      "source": [
        "vetor_produto.sum()"
      ],
      "metadata": {
        "id": "Y2A0UeFlcFkU",
        "outputId": "f2aca5cf-93b9-4faf-b1e0-a983a4c937ae",
        "colab": {
          "base_uri": "https://localhost:8080/"
        }
      },
      "execution_count": 42,
      "outputs": [
        {
          "output_type": "execute_result",
          "data": {
            "text/plain": [
              "-0.0005780365207073146"
            ]
          },
          "metadata": {},
          "execution_count": 42
        }
      ]
    },
    {
      "cell_type": "markdown",
      "metadata": {
        "id": "mR1VADSZIQ7U"
      },
      "source": [
        "O valor absoluto do resultado deve ser inferior a 0,001"
      ]
    }
  ]
}