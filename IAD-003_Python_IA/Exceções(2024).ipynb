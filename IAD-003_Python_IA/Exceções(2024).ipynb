{
  "nbformat": 4,
  "nbformat_minor": 0,
  "metadata": {
    "colab": {
      "provenance": []
    },
    "kernelspec": {
      "name": "python3",
      "display_name": "Python 3"
    }
  },
  "cells": [
    {
      "cell_type": "markdown",
      "metadata": {
        "id": "aVLN5bWoLC-b"
      },
      "source": [
        "# Tratamento de exceções em Python\n",
        "\n",
        "## 1 - Um anti-exemplo, ou por que usar exceções?\n",
        "\n",
        "Suponha o seguinte cenário:\n",
        "Deseja-se obter o número da versão linux instalada na máquina virtual do colab.\n",
        "\n",
        "Uma maneira é abrir o arquivo /etc/issue. Em distribuições linux, este arquivo contém uma cadeia de caracteres com a versão atual do sistema operacional.\n"
      ]
    },
    {
      "cell_type": "code",
      "metadata": {
        "id": "0RErzPUFPFaV",
        "outputId": "dda2b674-a8f5-4a7c-8b4f-4f164b3782a9",
        "colab": {
          "base_uri": "https://localhost:8080/"
        }
      },
      "source": [
        "print(open(\"/etc/issue\").read())"
      ],
      "execution_count": null,
      "outputs": [
        {
          "output_type": "stream",
          "name": "stdout",
          "text": [
            "Ubuntu 22.04.3 LTS \\n \\l\n",
            "\n",
            "\n"
          ]
        }
      ]
    },
    {
      "cell_type": "markdown",
      "metadata": {
        "id": "gcsnT8HHRQUc"
      },
      "source": [
        "Infelizmente, este método é sujeito a erros.\n",
        "Em primeiro lugar, o arquivo pode não existir, pode não ser legível e os dados nele podem não estarem em um formato reconhecível.\n",
        "Estes erros devem ser identificados e tratados.\n",
        "\n",
        "Na forma \"clássica\" (sem exceções), as funções que lidam com este tipo de incerteza devem retornar um par de valores, um código de erro e o valor buscado.\n",
        "\n",
        "Por exemplo, a função a seguir retorna uma tupla cujo primeiro elemento é uma mensagem de erro ou o valor ```None``` caso tenha sido bem sucedida.\n",
        "\n"
      ]
    },
    {
      "cell_type": "code",
      "metadata": {
        "id": "sUbbtVLqQMeK"
      },
      "source": [
        "import pathlib\n",
        "import os\n",
        "import re\n",
        "\n",
        "reg = re.compile(\"Ubuntu\\\\s+([0-9]+)(\\\\.([0-9]+))?(\\\\.([0-9]+))?\")\n",
        "def recupera_versao():\n",
        "  caminho = \"/etc/issue\"\n",
        "  if pathlib.Path(caminho).is_file():\n",
        "    if os.access(caminho, os.R_OK):\n",
        "      p = open(caminho)\n",
        "      s = p.read()\n",
        "      if len(s)>0:\n",
        "        match = reg.match(s)\n",
        "        if match and len(match.groups())>1:\n",
        "          versoes = (int(match.groups()[0]),)\n",
        "          for i in range(2, len(match.groups()),2):\n",
        "            versoes = versoes + (int(match.groups()[i]),)\n",
        "          ret = (None,) + versoes\n",
        "        else:\n",
        "          ret = (\"Erro: Conteúdo do arquivo não pôde ser interpretado\", None)\n",
        "      else:\n",
        "        ret = (\"Erro: Arquivo não contém nada\", None)\n",
        "    else:\n",
        "      ret = (\"Erro: Arquivo não pode ser lido\", None)\n",
        "\n",
        "  else:\n",
        "    ret = (\"Erro: Arquivo não existe\", None)\n",
        "\n",
        "  return ret"
      ],
      "execution_count": null,
      "outputs": []
    },
    {
      "cell_type": "code",
      "metadata": {
        "outputId": "2f31d770-359a-48e6-c670-cc4e4a8ddf31",
        "id": "E94foI2wkodo",
        "colab": {
          "base_uri": "https://localhost:8080/"
        }
      },
      "source": [
        "recupera_versao()"
      ],
      "execution_count": null,
      "outputs": [
        {
          "output_type": "execute_result",
          "data": {
            "text/plain": [
              "(None, 22, 4, 3)"
            ]
          },
          "metadata": {},
          "execution_count": 3
        }
      ]
    },
    {
      "cell_type": "markdown",
      "metadata": {
        "id": "qEtbQ9bFm65E"
      },
      "source": [
        "Este tipo de código é conhecido por programadores como *the pyramid of doom* (a pirâmide da desgraça).\n",
        "Veja o formato triangular que a edentação do código toma.\n",
        "Note também como boa parte do código se preocupa com os ditos \"fluxos alternativos\", ou seja, caminhos adotados pelo código quando ocorre um erro.\n",
        "\n",
        "Isso fica mais grave quando estas funções são chamadas dentro de outras funções.\n",
        "\n",
        "Por exemplo, suponha que deseja-se carregar alguma biblioteca na versão 2 se a versão Ubuntu estiver entre 16 e 18 (não-incluso) e versão 3 se for 18 ou maior. Versões menores que 16 não são suportadas.\n",
        "\n",
        "O código seguiria este formato:"
      ]
    },
    {
      "cell_type": "code",
      "metadata": {
        "id": "vQLqOY13oNPu"
      },
      "source": [
        "def carrega_lib(versao):\n",
        "  print(\"Carregando bibliotecas da versão \" + str(versao))\n",
        "  # carrega bibliotecas de uma determinada versão\n",
        "  return None\n",
        "\n",
        "def carrega_bibliotecas():\n",
        "  versao = recupera_versao()\n",
        "  if versao[0] is None:\n",
        "    if versao[1]>=18:\n",
        "      err = carrega_lib(3)\n",
        "      if err is None:\n",
        "        ret = None\n",
        "      else:\n",
        "        ret = \"Erro ao carregar a versão. O erro reportado foi: \" + err\n",
        "      ret = None\n",
        "    elif versao[1]>=16 and versao[1]<18:\n",
        "      ret = carrega_lib(2)\n",
        "      ret = None\n",
        "      if err is None:\n",
        "        ret = None\n",
        "      else:\n",
        "        ret = \"Erro ao carregar a versão. O erro reportado foi: \" + err\n",
        "    else:\n",
        "      ret = \"Versão não suportada\"\n",
        "  else:\n",
        "    ret = \"Erro ao obter a versão do sistema operacional. O Erro reportado foi:\" + versao[0]\n",
        "  return ret\n"
      ],
      "execution_count": null,
      "outputs": []
    },
    {
      "cell_type": "code",
      "metadata": {
        "id": "ZnfPeACnpnfX",
        "outputId": "70f7e93c-738a-42a1-e8e3-222f911ee72c",
        "colab": {
          "base_uri": "https://localhost:8080/"
        }
      },
      "source": [
        "carrega_bibliotecas()"
      ],
      "execution_count": null,
      "outputs": [
        {
          "output_type": "stream",
          "name": "stdout",
          "text": [
            "Carregando bibliotecas da versão 3\n"
          ]
        }
      ]
    },
    {
      "cell_type": "markdown",
      "metadata": {
        "id": "KD2kSIKtp-TJ"
      },
      "source": [
        "Novamente, apresenta-se o mesmo problema da \"pyramid of doom\". Novamente, a maior parte do código se preocupa com fluxos alternativos.\n",
        "\n",
        "Este é o modo de se tratar situações de erro em vários ambientes, em particular na linguagem C.\n",
        "\n",
        "Python e outras linguagens no entanto nos fornecem uma alternativa, as exceções."
      ]
    },
    {
      "cell_type": "markdown",
      "metadata": {
        "id": "0CT-ZX-WqVNA"
      },
      "source": [
        "## 2 - Exceções: uma alternativa mais elegante\n",
        "\n",
        "Exceções são *desvios informativos não-locais do fluxo de execução*.\n",
        "O que isso significa?\n",
        "Uma exceção é uma maneira de se desviar o fluxo de execução para fora do escopo da função que está sendo executada.\n",
        "Este desvio carrega consigo alguma informação, tradicionalmente, um código ou uma mensagem de erro.\n",
        "Elas são empregadas para sinalizar situações excepcionais como erros.\n",
        "A não-localidade significa que as exceções \"atravessam\" chamadas de funções e podem ser encaminhadas diretamente ao código que pode tratá-las.  \n",
        "\n",
        "Por exemplo, a função anterior pode ser reimplementada da seguinte forma:\n"
      ]
    },
    {
      "cell_type": "code",
      "metadata": {
        "id": "d2-0bBbisCLg"
      },
      "source": [
        "import pathlib\n",
        "import os\n",
        "import re\n",
        "\n",
        "reg = re.compile(\"Ubuntu\\\\s+([0-9]+)(\\\\.([0-9]+))?(\\\\.([0-9]+))?\")\n",
        "def recupera_versao():\n",
        "  caminho = \"/etc/issue\"\n",
        "  p = open(caminho)\n",
        "  s = p.read()\n",
        "  match = reg.match(s)\n",
        "  versoes = (int(match.groups()[0]),)\n",
        "  for i in range(2, len(match.groups()),2):\n",
        "    versoes = versoes + (int(match.groups()[i]),)\n",
        "\n",
        "  return versoes"
      ],
      "execution_count": null,
      "outputs": []
    },
    {
      "cell_type": "code",
      "metadata": {
        "id": "4XmeupHDsXqG"
      },
      "source": [
        "p = open(\"/etc/issue\")"
      ],
      "execution_count": null,
      "outputs": []
    },
    {
      "cell_type": "code",
      "metadata": {
        "id": "0hGILyItRPab"
      },
      "source": [
        "p.close()"
      ],
      "execution_count": null,
      "outputs": []
    },
    {
      "cell_type": "markdown",
      "metadata": {
        "id": "Jdy8GtdLshyn"
      },
      "source": [
        "Note que o código que verifica cada erro potencial foi removido.\n",
        "O que acontece no caso do arquivo não existir, não ser legível, não poder ser interpretado?\n",
        "\n",
        "As falhas em cada um destes pontos gerariam, pela própria *runtime* do Python (sistemas de arquivos, expressões regulares e afins), exceções.\n",
        "\n",
        "Você mesmo já deve ter se deparado com uma exceção.\n",
        "\n",
        "Por exemplo, o código a seguir gera uma exceção ```IndexError``` ao tentar acessar uma posição inválida da sequência."
      ]
    },
    {
      "cell_type": "code",
      "metadata": {
        "id": "MHW-n5iSsZXP",
        "outputId": "235ba412-7900-4e63-d843-1b559f177855",
        "colab": {
          "base_uri": "https://localhost:8080/",
          "height": 146
        }
      },
      "source": [
        "[1,2,3][3]"
      ],
      "execution_count": null,
      "outputs": [
        {
          "output_type": "error",
          "ename": "IndexError",
          "evalue": "list index out of range",
          "traceback": [
            "\u001b[0;31m---------------------------------------------------------------------------\u001b[0m",
            "\u001b[0;31mIndexError\u001b[0m                                Traceback (most recent call last)",
            "\u001b[0;32m<ipython-input-9-4be170dfe99c>\u001b[0m in \u001b[0;36m<cell line: 1>\u001b[0;34m()\u001b[0m\n\u001b[0;32m----> 1\u001b[0;31m \u001b[0;34m[\u001b[0m\u001b[0;36m1\u001b[0m\u001b[0;34m,\u001b[0m\u001b[0;36m2\u001b[0m\u001b[0;34m,\u001b[0m\u001b[0;36m3\u001b[0m\u001b[0;34m]\u001b[0m\u001b[0;34m[\u001b[0m\u001b[0;36m3\u001b[0m\u001b[0;34m]\u001b[0m\u001b[0;34m\u001b[0m\u001b[0;34m\u001b[0m\u001b[0m\n\u001b[0m",
            "\u001b[0;31mIndexError\u001b[0m: list index out of range"
          ]
        }
      ]
    },
    {
      "cell_type": "code",
      "metadata": {
        "id": "fyUuxV9kPRoE"
      },
      "source": [
        "[None, 2, 3][0]"
      ],
      "execution_count": null,
      "outputs": []
    },
    {
      "cell_type": "markdown",
      "metadata": {
        "id": "HHKC05UZtRHY"
      },
      "source": [
        "As exceções atravessam todas as chamadas de função (interrompendo imediatamente a sua execução) até encontrar algum escopo apto a tratá-la.\n",
        "Se não há tratamento, a execução do código encerra-se (como no exemplo acima).\n",
        "\n",
        "Exceções são tratadas em blocos do tipo ```try``` ... ```except``` ...\n",
        "\n",
        "Este é um exemplo"
      ]
    },
    {
      "cell_type": "code",
      "metadata": {
        "id": "PiSPRF5JtBPZ",
        "outputId": "253b0f93-746f-44f1-cc8b-3382c2bd5619",
        "colab": {
          "base_uri": "https://localhost:8080/"
        }
      },
      "source": [
        "valores = ['a', 'b', 'c', 'd']\n",
        "\n",
        "def mostra_valores():\n",
        "  try:\n",
        "    for i in range(20):\n",
        "      print(str(i)+\": \" + valores[i])\n",
        "  except:\n",
        "    print(\"Fui longe demais!\")\n",
        "\n",
        "mostra_valores()"
      ],
      "execution_count": null,
      "outputs": [
        {
          "output_type": "stream",
          "name": "stdout",
          "text": [
            "0: a\n",
            "1: b\n",
            "2: c\n",
            "3: d\n",
            "Fui longe demais!\n"
          ]
        }
      ]
    },
    {
      "cell_type": "markdown",
      "metadata": {
        "id": "4bZVeDvOuSx4"
      },
      "source": [
        "Observe que o fluxo do código dentro do bloco ```try``` é desviado para o bloco ```except``` assim que ocorre uma exceção.\n",
        "\n",
        "Este desvio atravessa até mesmo chamadas de função!"
      ]
    },
    {
      "cell_type": "code",
      "metadata": {
        "id": "pJZ2yWi5uNll",
        "outputId": "c5db2093-6c77-43de-e5ff-3adfe73ce93f",
        "colab": {
          "base_uri": "https://localhost:8080/"
        }
      },
      "source": [
        "valores = ['a', 'b', 'c', 'd']\n",
        "\n",
        "def recupera_valor(indice):\n",
        "  return valores[indice]\n",
        "\n",
        "def mostra_valores():\n",
        "  try:\n",
        "    for i in range(20):\n",
        "      print(str(i)+\": \" + recupera_valor(i))\n",
        "  except:\n",
        "    print(\"Fui longe demais!\")\n",
        "\n",
        "mostra_valores()"
      ],
      "execution_count": null,
      "outputs": [
        {
          "output_type": "stream",
          "name": "stdout",
          "text": [
            "0: a\n",
            "1: b\n",
            "2: c\n",
            "3: d\n",
            "Fui longe demais!\n"
          ]
        }
      ]
    },
    {
      "cell_type": "markdown",
      "metadata": {
        "id": "bvJ0pKcnvHUw"
      },
      "source": [
        "Note como a exceção ocorre dentro da função ```recupera_valores```, no entanto, o código é desviado para o bloco ```except``` dentro da função ```mostra_valores```.\n",
        "\n",
        "Vários blocos except são possíveis para tratar exceções de diferentes tipos.\n",
        "\n",
        "Por exemplo:"
      ]
    },
    {
      "cell_type": "code",
      "metadata": {
        "id": "Zh3KUf2Mu4VD",
        "outputId": "32f9eb96-eaa1-4a9b-b907-bfae054650a9",
        "colab": {
          "base_uri": "https://localhost:8080/"
        }
      },
      "source": [
        "valores = ['1', '2', '3.5', '4']\n",
        "\n",
        "def recupera_valor(indice):\n",
        "    return int(valores[indice])\n",
        "\n",
        "def mostra_valores():\n",
        "  for i in range(10):\n",
        "    try:\n",
        "      print(str(i)+\": \" + str(recupera_valor(i)))\n",
        "    except (ValueError):\n",
        "      print(str(i)+\": não é inteiro\")\n",
        "\n",
        "mostra_valores()"
      ],
      "execution_count": null,
      "outputs": [
        {
          "output_type": "stream",
          "name": "stdout",
          "text": [
            "0: 1\n",
            "1: 2\n",
            "2: não é inteiro ou índice inválido\n",
            "3: 4\n",
            "4: não é inteiro ou índice inválido\n",
            "5: não é inteiro ou índice inválido\n",
            "6: não é inteiro ou índice inválido\n",
            "7: não é inteiro ou índice inválido\n",
            "8: não é inteiro ou índice inválido\n",
            "9: não é inteiro ou índice inválido\n"
          ]
        }
      ]
    },
    {
      "cell_type": "code",
      "metadata": {
        "id": "l3-muMKlTGBL",
        "colab": {
          "base_uri": "https://localhost:8080/",
          "height": 36
        },
        "outputId": "7a03d932-8fcd-459a-ace2-ba375ecc7ed7"
      },
      "source": [
        "try:\n",
        "  raise Exception(\"erro\")\n",
        "except Exception as err:\n",
        "  print(err)"
      ],
      "execution_count": null,
      "outputs": [
        {
          "output_type": "stream",
          "text": [
            "erro\n"
          ],
          "name": "stdout"
        }
      ]
    },
    {
      "cell_type": "markdown",
      "metadata": {
        "id": "uDchv73my9m5"
      },
      "source": [
        "O bloco adequado é selecionado de acordo com a classe do objeto exceção que foi lançado.\n",
        "\n",
        "Objetos exceção são lançados com o comando ```raise```.\n",
        "\n",
        "Assim, a função ```carrega_bibliotecas()``` pode sinalizar um erro de versão não-suportada."
      ]
    },
    {
      "cell_type": "code",
      "metadata": {
        "id": "B2bX79yPzli5"
      },
      "source": [
        "def carrega_lib(versao):\n",
        "  print(\"Carregando bibliotecas da versão \" + str(versao))\n",
        "  # carrega bibliotecas de uma determinada versão\n",
        "\n",
        "def carrega_bibliotecas():\n",
        "  versao = recupera_versao()\n",
        "  if versao[0]>=18:\n",
        "    carrega_lib(3)\n",
        "  elif versao[0]>=16 and versao[1]<18:\n",
        "    carrega_lib(2)\n",
        "  else:\n",
        "    raise RuntimeError(\"Versão não suportada\")"
      ],
      "execution_count": null,
      "outputs": []
    },
    {
      "cell_type": "markdown",
      "metadata": {
        "id": "LMv515u20KNh"
      },
      "source": [
        "O erro é reportado pelo lançamento de uma exceção do tipo \"RuntimeError\". Note que as demais exceções eventualmente lançadas dentro de ```recupera_versao``` \"atravessam\" a função ```carrega_bibliotecas``` e também são reportadas."
      ]
    },
    {
      "cell_type": "code",
      "metadata": {
        "id": "PALVhBsY0a7c",
        "outputId": "aadc032a-af46-4797-bfc1-446a32578a4e",
        "colab": {
          "base_uri": "https://localhost:8080/",
          "height": 273
        }
      },
      "source": [
        "def recupera_versao():\n",
        "  return [14]\n",
        "\n",
        "carrega_bibliotecas()"
      ],
      "execution_count": null,
      "outputs": [
        {
          "output_type": "error",
          "ename": "RuntimeError",
          "evalue": "Versão não suportada",
          "traceback": [
            "\u001b[0;31m---------------------------------------------------------------------------\u001b[0m",
            "\u001b[0;31mRuntimeError\u001b[0m                              Traceback (most recent call last)",
            "\u001b[0;32m<ipython-input-15-f96a8b713017>\u001b[0m in \u001b[0;36m<cell line: 4>\u001b[0;34m()\u001b[0m\n\u001b[1;32m      2\u001b[0m   \u001b[0;32mreturn\u001b[0m \u001b[0;34m[\u001b[0m\u001b[0;36m14\u001b[0m\u001b[0;34m]\u001b[0m\u001b[0;34m\u001b[0m\u001b[0;34m\u001b[0m\u001b[0m\n\u001b[1;32m      3\u001b[0m \u001b[0;34m\u001b[0m\u001b[0m\n\u001b[0;32m----> 4\u001b[0;31m \u001b[0mcarrega_bibliotecas\u001b[0m\u001b[0;34m(\u001b[0m\u001b[0;34m)\u001b[0m\u001b[0;34m\u001b[0m\u001b[0;34m\u001b[0m\u001b[0m\n\u001b[0m",
            "\u001b[0;32m<ipython-input-14-5bbcd819b817>\u001b[0m in \u001b[0;36mcarrega_bibliotecas\u001b[0;34m()\u001b[0m\n\u001b[1;32m     10\u001b[0m     \u001b[0mcarrega_lib\u001b[0m\u001b[0;34m(\u001b[0m\u001b[0;36m2\u001b[0m\u001b[0;34m)\u001b[0m\u001b[0;34m\u001b[0m\u001b[0;34m\u001b[0m\u001b[0m\n\u001b[1;32m     11\u001b[0m   \u001b[0;32melse\u001b[0m\u001b[0;34m:\u001b[0m\u001b[0;34m\u001b[0m\u001b[0;34m\u001b[0m\u001b[0m\n\u001b[0;32m---> 12\u001b[0;31m     \u001b[0;32mraise\u001b[0m \u001b[0mRuntimeError\u001b[0m\u001b[0;34m(\u001b[0m\u001b[0;34m\"Versão não suportada\"\u001b[0m\u001b[0;34m)\u001b[0m\u001b[0;34m\u001b[0m\u001b[0;34m\u001b[0m\u001b[0m\n\u001b[0m",
            "\u001b[0;31mRuntimeError\u001b[0m: Versão não suportada"
          ]
        }
      ]
    },
    {
      "cell_type": "markdown",
      "metadata": {
        "id": "J6PKwfnL1B6V"
      },
      "source": [
        "Programadores também podem criar os seus próprios tipos de exceção.\n",
        "Isso é bastante útil, pois como dito, o bloco ```except``` é selecionado de acordo com o tipo da exceção.\n",
        "\n",
        "Para tanto, os programadores devem criar as suas próprias exceções, *sempre* derivadas da classe ```Exception``` ou de alguma de suas filhas.\n",
        "\n",
        "Eis um novo exemplo:\n",
        "\n"
      ]
    },
    {
      "cell_type": "code",
      "metadata": {
        "id": "1PANoibA0jxO"
      },
      "source": [
        "import pathlib\n",
        "import os\n",
        "import re\n",
        "\n",
        "class ErroVersao(Exception):\n",
        "  pass\n",
        "\n",
        "caminho = \"/etc/issue\"\n",
        "reg = re.compile(\"Ubuntu\\\\s+([0-9]+)(\\\\.([0-9]+))?(\\\\.([0-9]+))?\")\n",
        "def recupera_versao():\n",
        "  try:\n",
        "    p = open(caminho)\n",
        "    s = p.read()\n",
        "    match = reg.match(s)\n",
        "    versoes = (int(match.groups()[0]),)\n",
        "    for i in range(2, len(match.groups()),2):\n",
        "      versoes = versoes + (int(match.groups()[i]),)\n",
        "    return versoes\n",
        "  except Exception as ex:\n",
        "    raise ErroVersao(\"Impossível ler versão do sistema operacional\") from ex\n",
        "\n",
        "def carrega_lib(versao):\n",
        "  print(\"Carregando bibliotecas da versão \" + str(versao))\n",
        "  # carrega bibliotecas de uma determinada versão\n",
        "\n",
        "def carrega_bibliotecas():\n",
        "  try:\n",
        "    versao = recupera_versao()\n",
        "    if versao[0]>=18:\n",
        "      carrega_lib(3)\n",
        "    elif versao[0]>=16 and versao[1]<18:\n",
        "      carrega_lib(2)\n",
        "    else:\n",
        "      raise RuntimeError(\"Versão não suportada\")\n",
        "  except ErroVersao as ex:\n",
        "      raise RuntimeError(\"Impossível determinar a versão\") from ex\n"
      ],
      "execution_count": null,
      "outputs": []
    },
    {
      "cell_type": "markdown",
      "metadata": {
        "id": "neii3d182uIf"
      },
      "source": [
        "O código a seguir introduz um erro deliberado no caminho do arquivo de versão a ser lido:"
      ]
    },
    {
      "cell_type": "code",
      "metadata": {
        "id": "2cJHPf-r2ZoT",
        "outputId": "42729cab-5013-4a7f-8d66-c84ef26265d8",
        "colab": {
          "base_uri": "https://localhost:8080/",
          "height": 479
        }
      },
      "source": [
        "caminho = \"/caminho_inexistente/\"\n",
        "carrega_bibliotecas()"
      ],
      "execution_count": null,
      "outputs": [
        {
          "output_type": "error",
          "ename": "RuntimeError",
          "evalue": "Impossível determinar a versão",
          "traceback": [
            "\u001b[0;31m---------------------------------------------------------------------------\u001b[0m",
            "\u001b[0;31mFileNotFoundError\u001b[0m                         Traceback (most recent call last)",
            "\u001b[0;32m<ipython-input-16-28d119ac4919>\u001b[0m in \u001b[0;36mrecupera_versao\u001b[0;34m()\u001b[0m\n\u001b[1;32m     11\u001b[0m   \u001b[0;32mtry\u001b[0m\u001b[0;34m:\u001b[0m\u001b[0;34m\u001b[0m\u001b[0;34m\u001b[0m\u001b[0m\n\u001b[0;32m---> 12\u001b[0;31m     \u001b[0mp\u001b[0m \u001b[0;34m=\u001b[0m \u001b[0mopen\u001b[0m\u001b[0;34m(\u001b[0m\u001b[0mcaminho\u001b[0m\u001b[0;34m)\u001b[0m\u001b[0;34m\u001b[0m\u001b[0;34m\u001b[0m\u001b[0m\n\u001b[0m\u001b[1;32m     13\u001b[0m     \u001b[0ms\u001b[0m \u001b[0;34m=\u001b[0m \u001b[0mp\u001b[0m\u001b[0;34m.\u001b[0m\u001b[0mread\u001b[0m\u001b[0;34m(\u001b[0m\u001b[0;34m)\u001b[0m\u001b[0;34m\u001b[0m\u001b[0;34m\u001b[0m\u001b[0m\n",
            "\u001b[0;31mFileNotFoundError\u001b[0m: [Errno 2] No such file or directory: '/caminho_inexistente/'",
            "\nThe above exception was the direct cause of the following exception:\n",
            "\u001b[0;31mErroVersao\u001b[0m                                Traceback (most recent call last)",
            "\u001b[0;32m<ipython-input-16-28d119ac4919>\u001b[0m in \u001b[0;36mcarrega_bibliotecas\u001b[0;34m()\u001b[0m\n\u001b[1;32m     27\u001b[0m   \u001b[0;32mtry\u001b[0m\u001b[0;34m:\u001b[0m\u001b[0;34m\u001b[0m\u001b[0;34m\u001b[0m\u001b[0m\n\u001b[0;32m---> 28\u001b[0;31m     \u001b[0mversao\u001b[0m \u001b[0;34m=\u001b[0m \u001b[0mrecupera_versao\u001b[0m\u001b[0;34m(\u001b[0m\u001b[0;34m)\u001b[0m\u001b[0;34m\u001b[0m\u001b[0;34m\u001b[0m\u001b[0m\n\u001b[0m\u001b[1;32m     29\u001b[0m     \u001b[0;32mif\u001b[0m \u001b[0mversao\u001b[0m\u001b[0;34m[\u001b[0m\u001b[0;36m0\u001b[0m\u001b[0;34m]\u001b[0m\u001b[0;34m>=\u001b[0m\u001b[0;36m18\u001b[0m\u001b[0;34m:\u001b[0m\u001b[0;34m\u001b[0m\u001b[0;34m\u001b[0m\u001b[0m\n",
            "\u001b[0;32m<ipython-input-16-28d119ac4919>\u001b[0m in \u001b[0;36mrecupera_versao\u001b[0;34m()\u001b[0m\n\u001b[1;32m     19\u001b[0m   \u001b[0;32mexcept\u001b[0m \u001b[0mException\u001b[0m \u001b[0;32mas\u001b[0m \u001b[0mex\u001b[0m\u001b[0;34m:\u001b[0m\u001b[0;34m\u001b[0m\u001b[0;34m\u001b[0m\u001b[0m\n\u001b[0;32m---> 20\u001b[0;31m     \u001b[0;32mraise\u001b[0m \u001b[0mErroVersao\u001b[0m\u001b[0;34m(\u001b[0m\u001b[0;34m\"Impossível ler versão do sistema operacional\"\u001b[0m\u001b[0;34m)\u001b[0m \u001b[0;32mfrom\u001b[0m \u001b[0mex\u001b[0m\u001b[0;34m\u001b[0m\u001b[0;34m\u001b[0m\u001b[0m\n\u001b[0m\u001b[1;32m     21\u001b[0m \u001b[0;34m\u001b[0m\u001b[0m\n",
            "\u001b[0;31mErroVersao\u001b[0m: Impossível ler versão do sistema operacional",
            "\nThe above exception was the direct cause of the following exception:\n",
            "\u001b[0;31mRuntimeError\u001b[0m                              Traceback (most recent call last)",
            "\u001b[0;32m<ipython-input-17-9b6bff9b0954>\u001b[0m in \u001b[0;36m<cell line: 2>\u001b[0;34m()\u001b[0m\n\u001b[1;32m      1\u001b[0m \u001b[0mcaminho\u001b[0m \u001b[0;34m=\u001b[0m \u001b[0;34m\"/caminho_inexistente/\"\u001b[0m\u001b[0;34m\u001b[0m\u001b[0;34m\u001b[0m\u001b[0m\n\u001b[0;32m----> 2\u001b[0;31m \u001b[0mcarrega_bibliotecas\u001b[0m\u001b[0;34m(\u001b[0m\u001b[0;34m)\u001b[0m\u001b[0;34m\u001b[0m\u001b[0;34m\u001b[0m\u001b[0m\n\u001b[0m",
            "\u001b[0;32m<ipython-input-16-28d119ac4919>\u001b[0m in \u001b[0;36mcarrega_bibliotecas\u001b[0;34m()\u001b[0m\n\u001b[1;32m     34\u001b[0m       \u001b[0;32mraise\u001b[0m \u001b[0mRuntimeError\u001b[0m\u001b[0;34m(\u001b[0m\u001b[0;34m\"Versão não suportada\"\u001b[0m\u001b[0;34m)\u001b[0m\u001b[0;34m\u001b[0m\u001b[0;34m\u001b[0m\u001b[0m\n\u001b[1;32m     35\u001b[0m   \u001b[0;32mexcept\u001b[0m \u001b[0mErroVersao\u001b[0m \u001b[0;32mas\u001b[0m \u001b[0mex\u001b[0m\u001b[0;34m:\u001b[0m\u001b[0;34m\u001b[0m\u001b[0;34m\u001b[0m\u001b[0m\n\u001b[0;32m---> 36\u001b[0;31m       \u001b[0;32mraise\u001b[0m \u001b[0mRuntimeError\u001b[0m\u001b[0;34m(\u001b[0m\u001b[0;34m\"Impossível determinar a versão\"\u001b[0m\u001b[0;34m)\u001b[0m \u001b[0;32mfrom\u001b[0m \u001b[0mex\u001b[0m\u001b[0;34m\u001b[0m\u001b[0;34m\u001b[0m\u001b[0m\n\u001b[0m",
            "\u001b[0;31mRuntimeError\u001b[0m: Impossível determinar a versão"
          ]
        }
      ]
    },
    {
      "cell_type": "markdown",
      "metadata": {
        "id": "In-rdf0h20V4"
      },
      "source": [
        "Observe como a exceção do tipo ```ErroVersao``` é tratada especificamente dentro da função ```carrega_bibliotecas```.\n",
        "\n",
        "Note também a sintaxe do bloco ```except``` com a plavra-chave ```as``` seguida de um nome de variável.\n",
        "Este nome torna-se uma variável definida *dentro* do bloco except. Ele permite acessar diretamente o objeto lançado e recuperar as informações nele armazenadas.\n",
        "\n",
        "Objetos de classes geradas pelo programador podem naturalmente conter quaisquer campos pertinentes. A classe ```BaseException``` no entanto, admite no seu construtor um número variável de parâmetros que podem ser recuperados pelo campo ```args```:\n",
        "\n"
      ]
    },
    {
      "cell_type": "code",
      "metadata": {
        "outputId": "e2336961-e201-4a84-f19f-948011301102",
        "id": "aaWgTROu3inV",
        "colab": {
          "base_uri": "https://localhost:8080/",
          "height": 55
        }
      },
      "source": [
        "caminho = \"/caminho_inexistente/\"\n",
        "try:\n",
        "  carrega_bibliotecas()\n",
        "except RuntimeError as erro:\n",
        "  print(\"Um Erro aconteceu:\")\n",
        "  print(erro.args)"
      ],
      "execution_count": null,
      "outputs": [
        {
          "output_type": "stream",
          "text": [
            "Um Erro aconteceu:\n",
            "('Impossível determinar a versão', 1, 2, 3)\n"
          ],
          "name": "stdout"
        }
      ]
    },
    {
      "cell_type": "markdown",
      "metadata": {
        "id": "o-oGbChA5DAj"
      },
      "source": [
        "Um exemplo mais abstrato mostrando múltiplos parâmetros."
      ]
    },
    {
      "cell_type": "code",
      "metadata": {
        "id": "AtapeQKG3o_N",
        "outputId": "2d4f83c2-8cdd-4105-9da2-5255ee5a69a0",
        "colab": {
          "base_uri": "https://localhost:8080/",
          "height": 73
        }
      },
      "source": [
        " def func():\n",
        "   raise Exception(\"parâmetro 1\", \"parâmetro 2\", \"parâmetro 3\")\n",
        "\n",
        "try:\n",
        "  func()\n",
        "except Exception as erro:\n",
        "  for x in erro.args:\n",
        "    print(x)"
      ],
      "execution_count": null,
      "outputs": [
        {
          "output_type": "stream",
          "text": [
            "parâmetro 1\n",
            "parâmetro 2\n",
            "parâmetro 3\n"
          ],
          "name": "stdout"
        }
      ]
    },
    {
      "cell_type": "markdown",
      "metadata": {
        "id": "R5ZbV1ib5j-y"
      },
      "source": [
        "Note também o recurso de se \"encadear\" exceções\".\n",
        "\n",
        "Como a seleção do bloco que vai tratar a exceção se dá pelo *tipo*, às vezes é útil re-envelopar a exceção lançada de forma que o tipo transmita de forma mais clara o que aconteceu.\n",
        "\n",
        "No exemplo ```recupera_versao()```, o cõdigo pode lançar exeções do tipo ```IOError``` caso o arquivo não possa ser lido, ```AttributeError```, ```IndexError``` ou ```ValueError``` caso o seu conteúdo não possa ser interpretado.\n",
        "\n",
        "Pode ser difícil para um módulo distante da implementação ```recupera_versao()``` entender o que exatamente aconteceu!\n",
        "Ao enveloparmos a exceção original dentro de uma nova exceção do tipo ```ErroVersao```, fica mais claro que, independentemente da razão específica, o que aconteceu foi um ```ErroVersao```.\n",
        "Os dados da exceção original pode ser preservada.\n",
        "\n",
        "A sintaxe é:\n",
        "```\n",
        "raise <nova exceção> from <objeto da exceção original>\n",
        "```\n",
        "Por exemplo:"
      ]
    },
    {
      "cell_type": "code",
      "metadata": {
        "id": "y4FUv-lE5TlG",
        "outputId": "cb4bc80f-8f86-42aa-82bc-54f81db76357",
        "colab": {
          "base_uri": "https://localhost:8080/",
          "height": 423
        }
      },
      "source": [
        " def func():\n",
        "   raise Exception(\"Exceção 1\")\n",
        "\n",
        "try:\n",
        "  func()\n",
        "except Exception as erro:\n",
        "  raise Exception(\"Exceção 2\") from erro"
      ],
      "execution_count": null,
      "outputs": [
        {
          "output_type": "error",
          "ename": "Exception",
          "evalue": "ignored",
          "traceback": [
            "\u001b[0;31m---------------------------------------------------------------------------\u001b[0m",
            "\u001b[0;31mException\u001b[0m                                 Traceback (most recent call last)",
            "\u001b[0;32m<ipython-input-42-c054f60f18cc>\u001b[0m in \u001b[0;36m<module>\u001b[0;34m()\u001b[0m\n\u001b[1;32m      4\u001b[0m \u001b[0;32mtry\u001b[0m\u001b[0;34m:\u001b[0m\u001b[0;34m\u001b[0m\u001b[0;34m\u001b[0m\u001b[0m\n\u001b[0;32m----> 5\u001b[0;31m  \u001b[0mfunc\u001b[0m\u001b[0;34m(\u001b[0m\u001b[0;34m)\u001b[0m\u001b[0;34m\u001b[0m\u001b[0;34m\u001b[0m\u001b[0m\n\u001b[0m\u001b[1;32m      6\u001b[0m \u001b[0;32mexcept\u001b[0m \u001b[0mException\u001b[0m \u001b[0;32mas\u001b[0m \u001b[0merro\u001b[0m\u001b[0;34m:\u001b[0m\u001b[0;34m\u001b[0m\u001b[0;34m\u001b[0m\u001b[0m\n",
            "\u001b[0;32m<ipython-input-42-c054f60f18cc>\u001b[0m in \u001b[0;36mfunc\u001b[0;34m()\u001b[0m\n\u001b[1;32m      1\u001b[0m \u001b[0;32mdef\u001b[0m \u001b[0mfunc\u001b[0m\u001b[0;34m(\u001b[0m\u001b[0;34m)\u001b[0m\u001b[0;34m:\u001b[0m\u001b[0;34m\u001b[0m\u001b[0;34m\u001b[0m\u001b[0m\n\u001b[0;32m----> 2\u001b[0;31m   \u001b[0;32mraise\u001b[0m \u001b[0mException\u001b[0m\u001b[0;34m(\u001b[0m\u001b[0;34m\"Exceção 1\"\u001b[0m\u001b[0;34m)\u001b[0m\u001b[0;34m\u001b[0m\u001b[0;34m\u001b[0m\u001b[0m\n\u001b[0m\u001b[1;32m      3\u001b[0m \u001b[0;34m\u001b[0m\u001b[0m\n",
            "\u001b[0;31mException\u001b[0m: Exceção 1",
            "\nThe above exception was the direct cause of the following exception:\n",
            "\u001b[0;31mException\u001b[0m                                 Traceback (most recent call last)",
            "\u001b[0;32m<ipython-input-42-c054f60f18cc>\u001b[0m in \u001b[0;36m<module>\u001b[0;34m()\u001b[0m\n\u001b[1;32m      5\u001b[0m  \u001b[0mfunc\u001b[0m\u001b[0;34m(\u001b[0m\u001b[0;34m)\u001b[0m\u001b[0;34m\u001b[0m\u001b[0;34m\u001b[0m\u001b[0m\n\u001b[1;32m      6\u001b[0m \u001b[0;32mexcept\u001b[0m \u001b[0mException\u001b[0m \u001b[0;32mas\u001b[0m \u001b[0merro\u001b[0m\u001b[0;34m:\u001b[0m\u001b[0;34m\u001b[0m\u001b[0;34m\u001b[0m\u001b[0m\n\u001b[0;32m----> 7\u001b[0;31m  \u001b[0;32mraise\u001b[0m \u001b[0mException\u001b[0m\u001b[0;34m(\u001b[0m\u001b[0;34m\"Exceção 2\"\u001b[0m\u001b[0;34m)\u001b[0m \u001b[0;32mfrom\u001b[0m \u001b[0merro\u001b[0m\u001b[0;34m\u001b[0m\u001b[0;34m\u001b[0m\u001b[0m\n\u001b[0m",
            "\u001b[0;31mException\u001b[0m: Exceção 2"
          ]
        }
      ]
    },
    {
      "cell_type": "markdown",
      "metadata": {
        "id": "Pk-hExF08XNr"
      },
      "source": [
        "Blocos de tratamento de exceção admitem uma cláusula ```else``` a ser executada caso *nenhuma* exceção ocorra:"
      ]
    },
    {
      "cell_type": "code",
      "metadata": {
        "id": "eHl54-am8j05",
        "outputId": "ed7e9efc-87d7-410b-bb3a-9aa8dc6f072f",
        "colab": {
          "base_uri": "https://localhost:8080/"
        }
      },
      "source": [
        "s = [1,2,3,4]\n",
        "\n",
        "for i in range(5):\n",
        "  try:\n",
        "    print(s[i])\n",
        "  except:\n",
        "    print(\"ops!\")\n",
        "  else:\n",
        "    print(\"deu certo!\")\n"
      ],
      "execution_count": null,
      "outputs": [
        {
          "output_type": "stream",
          "name": "stdout",
          "text": [
            "1\n",
            "deu certo!\n",
            "2\n",
            "deu certo!\n",
            "3\n",
            "deu certo!\n",
            "4\n",
            "deu certo!\n",
            "ops!\n"
          ]
        }
      ]
    },
    {
      "cell_type": "markdown",
      "metadata": {
        "id": "UuW8niRo9CVG"
      },
      "source": [
        "Além disso, é possível declarar um bloco que é *sempre* executado, ocorrendo ou não uma exceção por meio da palavra-chave ```finally```.\n",
        "\n",
        "Observe como no exemplo abaixo, a mensagem \"saindo de f2\" é impressa, mesmo com o lançamento de uma exceção em ```f1```."
      ]
    },
    {
      "cell_type": "code",
      "metadata": {
        "id": "aNPLIWrS88eB",
        "outputId": "094c78bc-870e-460e-d3ee-d4ae46b5bc24",
        "colab": {
          "base_uri": "https://localhost:8080/",
          "height": 439
        }
      },
      "source": [
        "def f1():\n",
        "  print(\"Entrando em f1\")\n",
        "  raise Exception()\n",
        "\n",
        "def f2():\n",
        "  try:\n",
        "    print(\"Entrando em f2\")\n",
        "    f1()\n",
        "    print(\"f2 chamou f1\")\n",
        "  finally:\n",
        "    print(\"Saindo de f2\")\n",
        "\n",
        "def f3():\n",
        "  print(\"Entrando em f3\")\n",
        "  f2()\n",
        "  print(\"Saindo de f3\")\n",
        "\n",
        "f3()\n"
      ],
      "execution_count": null,
      "outputs": [
        {
          "output_type": "stream",
          "name": "stdout",
          "text": [
            "Entrando em f3\n",
            "Entrando em f2\n",
            "Entrando em f1\n",
            "Saindo de f2\n"
          ]
        },
        {
          "output_type": "error",
          "ename": "Exception",
          "evalue": "ignored",
          "traceback": [
            "\u001b[0;31m---------------------------------------------------------------------------\u001b[0m",
            "\u001b[0;31mException\u001b[0m                                 Traceback (most recent call last)",
            "\u001b[0;32m<ipython-input-10-2f41570631b2>\u001b[0m in \u001b[0;36m<cell line: 18>\u001b[0;34m()\u001b[0m\n\u001b[1;32m     16\u001b[0m   \u001b[0mprint\u001b[0m\u001b[0;34m(\u001b[0m\u001b[0;34m\"Saindo de f3\"\u001b[0m\u001b[0;34m)\u001b[0m\u001b[0;34m\u001b[0m\u001b[0;34m\u001b[0m\u001b[0m\n\u001b[1;32m     17\u001b[0m \u001b[0;34m\u001b[0m\u001b[0m\n\u001b[0;32m---> 18\u001b[0;31m \u001b[0mf3\u001b[0m\u001b[0;34m(\u001b[0m\u001b[0;34m)\u001b[0m\u001b[0;34m\u001b[0m\u001b[0;34m\u001b[0m\u001b[0m\n\u001b[0m",
            "\u001b[0;32m<ipython-input-10-2f41570631b2>\u001b[0m in \u001b[0;36mf3\u001b[0;34m()\u001b[0m\n\u001b[1;32m     13\u001b[0m \u001b[0;32mdef\u001b[0m \u001b[0mf3\u001b[0m\u001b[0;34m(\u001b[0m\u001b[0;34m)\u001b[0m\u001b[0;34m:\u001b[0m\u001b[0;34m\u001b[0m\u001b[0;34m\u001b[0m\u001b[0m\n\u001b[1;32m     14\u001b[0m   \u001b[0mprint\u001b[0m\u001b[0;34m(\u001b[0m\u001b[0;34m\"Entrando em f3\"\u001b[0m\u001b[0;34m)\u001b[0m\u001b[0;34m\u001b[0m\u001b[0;34m\u001b[0m\u001b[0m\n\u001b[0;32m---> 15\u001b[0;31m   \u001b[0mf2\u001b[0m\u001b[0;34m(\u001b[0m\u001b[0;34m)\u001b[0m\u001b[0;34m\u001b[0m\u001b[0;34m\u001b[0m\u001b[0m\n\u001b[0m\u001b[1;32m     16\u001b[0m   \u001b[0mprint\u001b[0m\u001b[0;34m(\u001b[0m\u001b[0;34m\"Saindo de f3\"\u001b[0m\u001b[0;34m)\u001b[0m\u001b[0;34m\u001b[0m\u001b[0;34m\u001b[0m\u001b[0m\n\u001b[1;32m     17\u001b[0m \u001b[0;34m\u001b[0m\u001b[0m\n",
            "\u001b[0;32m<ipython-input-10-2f41570631b2>\u001b[0m in \u001b[0;36mf2\u001b[0;34m()\u001b[0m\n\u001b[1;32m      6\u001b[0m   \u001b[0;32mtry\u001b[0m\u001b[0;34m:\u001b[0m\u001b[0;34m\u001b[0m\u001b[0;34m\u001b[0m\u001b[0m\n\u001b[1;32m      7\u001b[0m     \u001b[0mprint\u001b[0m\u001b[0;34m(\u001b[0m\u001b[0;34m\"Entrando em f2\"\u001b[0m\u001b[0;34m)\u001b[0m\u001b[0;34m\u001b[0m\u001b[0;34m\u001b[0m\u001b[0m\n\u001b[0;32m----> 8\u001b[0;31m     \u001b[0mf1\u001b[0m\u001b[0;34m(\u001b[0m\u001b[0;34m)\u001b[0m\u001b[0;34m\u001b[0m\u001b[0;34m\u001b[0m\u001b[0m\n\u001b[0m\u001b[1;32m      9\u001b[0m     \u001b[0mprint\u001b[0m\u001b[0;34m(\u001b[0m\u001b[0;34m\"f2 chamou f1\"\u001b[0m\u001b[0;34m)\u001b[0m\u001b[0;34m\u001b[0m\u001b[0;34m\u001b[0m\u001b[0m\n\u001b[1;32m     10\u001b[0m   \u001b[0;32mfinally\u001b[0m\u001b[0;34m:\u001b[0m\u001b[0;34m\u001b[0m\u001b[0;34m\u001b[0m\u001b[0m\n",
            "\u001b[0;32m<ipython-input-10-2f41570631b2>\u001b[0m in \u001b[0;36mf1\u001b[0;34m()\u001b[0m\n\u001b[1;32m      1\u001b[0m \u001b[0;32mdef\u001b[0m \u001b[0mf1\u001b[0m\u001b[0;34m(\u001b[0m\u001b[0;34m)\u001b[0m\u001b[0;34m:\u001b[0m\u001b[0;34m\u001b[0m\u001b[0;34m\u001b[0m\u001b[0m\n\u001b[1;32m      2\u001b[0m   \u001b[0mprint\u001b[0m\u001b[0;34m(\u001b[0m\u001b[0;34m\"Entrando em f1\"\u001b[0m\u001b[0;34m)\u001b[0m\u001b[0;34m\u001b[0m\u001b[0;34m\u001b[0m\u001b[0m\n\u001b[0;32m----> 3\u001b[0;31m   \u001b[0;32mraise\u001b[0m \u001b[0mException\u001b[0m\u001b[0;34m(\u001b[0m\u001b[0;34m)\u001b[0m\u001b[0;34m\u001b[0m\u001b[0;34m\u001b[0m\u001b[0m\n\u001b[0m\u001b[1;32m      4\u001b[0m \u001b[0;34m\u001b[0m\u001b[0m\n\u001b[1;32m      5\u001b[0m \u001b[0;32mdef\u001b[0m \u001b[0mf2\u001b[0m\u001b[0;34m(\u001b[0m\u001b[0;34m)\u001b[0m\u001b[0;34m:\u001b[0m\u001b[0;34m\u001b[0m\u001b[0;34m\u001b[0m\u001b[0m\n",
            "\u001b[0;31mException\u001b[0m: "
          ]
        }
      ]
    },
    {
      "cell_type": "code",
      "metadata": {
        "id": "DvOTAGoGYyZP"
      },
      "source": [],
      "execution_count": null,
      "outputs": []
    }
  ]
}