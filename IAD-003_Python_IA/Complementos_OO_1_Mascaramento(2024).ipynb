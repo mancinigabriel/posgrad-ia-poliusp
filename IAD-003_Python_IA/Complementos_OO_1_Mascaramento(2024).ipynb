{
  "nbformat": 4,
  "nbformat_minor": 0,
  "metadata": {
    "colab": {
      "provenance": []
    },
    "kernelspec": {
      "name": "python3",
      "display_name": "Python 3"
    }
  },
  "cells": [
    {
      "cell_type": "markdown",
      "metadata": {
        "id": "ypoGtkHEIqUj"
      },
      "source": [
        "# Mais tópicos sobre orientação a objetos em Python\n",
        "\n",
        "##  Nomes \"privados\" e mascarando nomes\n",
        "\n",
        "Em Python, nomes iniciados pelo caractere ```_``` são considerados \"privados\" e devem ser referenciados com muito cuidado.\n",
        "De fato, a recomendação é que eles jamais sejam acessados por outro que não o desenvolvedor/mantenedor do código onde eles foram definidos.\n",
        "\n",
        "Esta exigência não é controlada pela linguagem!\n",
        "De fato, considere o código:"
      ]
    },
    {
      "cell_type": "code",
      "metadata": {
        "id": "KgWmRpcIIpfZ"
      },
      "source": [
        "class Valor():\n",
        "  \"\"\" Classe que armazena um simples valor \"\"\"\n",
        "  def __init__(self, x=None):\n",
        "    self._valor = x\n",
        "\n",
        "  def get(self):\n",
        "    \"\"\" Retorna o valor armazenado \"\"\"\n",
        "    return self._valor\n",
        "\n",
        "  def set(self, novo):\n",
        "    \"\"\" Modifica o valor armazenado \"\"\"\n",
        "    self._valor = novo"
      ],
      "execution_count": null,
      "outputs": []
    },
    {
      "cell_type": "markdown",
      "metadata": {
        "id": "CEv0P7P_NrQh"
      },
      "source": [
        "A classe ```Valor```  armazena uma referência para um objeto no campo ```_valor```.\n",
        "\n",
        "Este campo é acessível de fora da classe pelos métodos ```get``` e ```set```."
      ]
    },
    {
      "cell_type": "code",
      "metadata": {
        "id": "PwpZz9veOIoQ",
        "colab": {
          "base_uri": "https://localhost:8080/"
        },
        "outputId": "6f5178f8-41b0-4cea-803f-0fffbe7de03e"
      },
      "source": [
        "a = Valor(\"teste\")\n",
        "print(a.get())\n",
        "a.set(\"Novo Teste\")\n",
        "print(a.get())"
      ],
      "execution_count": null,
      "outputs": [
        {
          "output_type": "stream",
          "name": "stdout",
          "text": [
            "teste\n",
            "Novo Teste\n"
          ]
        }
      ]
    },
    {
      "cell_type": "markdown",
      "metadata": {
        "id": "HsCugy7qOgw5"
      },
      "source": [
        "No entanto, observe como o campo ```_valor``` pode ser acessado sem nenhum controle pelo interpretador:"
      ]
    },
    {
      "cell_type": "code",
      "metadata": {
        "id": "XqZUMnkcONEf",
        "colab": {
          "base_uri": "https://localhost:8080/"
        },
        "outputId": "994e8b5c-9905-4a49-b5c4-ad0a8694711e"
      },
      "source": [
        "a = Valor(\"teste\")\n",
        "print(a._valor)\n",
        "a._valor = \"Novo Teste\"\n",
        "print(a._valor)"
      ],
      "execution_count": null,
      "outputs": [
        {
          "output_type": "stream",
          "name": "stdout",
          "text": [
            "teste\n",
            "Novo Teste\n"
          ]
        }
      ]
    },
    {
      "cell_type": "markdown",
      "metadata": {
        "id": "1WDcoydRO9Ex"
      },
      "source": [
        "De fato, espera-se dos programadores que respeitem a convenção de evitar este tipo de acesso e se possível, ignorem que estes campos existem!\n",
        "\n",
        "Existe no entanto um dilema com esta convenção.\n",
        "Para entendê-lo, considere a seguinte situação:\n",
        "\n",
        "Um novo programador deseja estender a classe valor  ```__str__``` que retorna a representação em string do valor armazenado.\n",
        "\n",
        "Uma maneira de fazê-lo seria simplesmente usar herança para criar a nova classe:"
      ]
    },
    {
      "cell_type": "code",
      "metadata": {
        "id": "zIOyeabJPcdJ"
      },
      "source": [
        "class ValorStr(Valor):\n",
        "  def __str__(self):\n",
        "    \"\"\" Retorna uma representação em string do valor armazenado \"\"\"\n",
        "    return str(self.get())\n"
      ],
      "execution_count": null,
      "outputs": []
    },
    {
      "cell_type": "markdown",
      "metadata": {
        "id": "jhsbLpbdQfF4"
      },
      "source": [
        "De fato, esta classe possui o comportamento desejado:"
      ]
    },
    {
      "cell_type": "code",
      "metadata": {
        "id": "P-8xXbafO0BD",
        "colab": {
          "base_uri": "https://localhost:8080/"
        },
        "outputId": "022ecd6a-cb38-46e4-8e11-736a3ea5a0fa"
      },
      "source": [
        "a = ValorStr(\"teste\")\n",
        "print(a)\n",
        "a.set(\"Novo Teste\")\n",
        "print(a)"
      ],
      "execution_count": null,
      "outputs": [
        {
          "output_type": "stream",
          "name": "stdout",
          "text": [
            "teste\n",
            "Novo Teste\n"
          ]
        }
      ]
    },
    {
      "cell_type": "code",
      "metadata": {
        "id": "AlH_RZYKRqQH"
      },
      "source": [],
      "execution_count": null,
      "outputs": []
    },
    {
      "cell_type": "markdown",
      "metadata": {
        "id": "GKvy2pouQvK9"
      },
      "source": [
        "O novo programador observa no entanto que se o objeto referenciado for *imutável*, o valor produzido por esta função pode ser armazenado para ser reusado futuramente (implementando assim um cache)."
      ]
    },
    {
      "cell_type": "code",
      "metadata": {
        "id": "ygeFTo_QQqNs"
      },
      "source": [
        "class ValorStrCache(Valor):\n",
        "  def __init__(self, obj):\n",
        "    super().__init__(obj)\n",
        "    self._cache = None\n",
        "\n",
        "  def set(self, novo):\n",
        "    Valor.set(self, novo)\n",
        "    # Invalida o Cache\n",
        "    self._cache = None\n",
        "\n",
        "  def __str__(self):\n",
        "    # Verifica se o cache é inválido\n",
        "    if self._cache is None:\n",
        "      self._cache = str(self.get())\n",
        "    return self._cache\n"
      ],
      "execution_count": null,
      "outputs": []
    },
    {
      "cell_type": "code",
      "metadata": {
        "id": "i_BHjkn_RuLS",
        "colab": {
          "base_uri": "https://localhost:8080/"
        },
        "outputId": "adbb64ba-f6dd-4d7f-f6ba-e1120800d43a"
      },
      "source": [
        "a = ValorStrCache(\"teste\")\n",
        "print(a)\n",
        "print(a)\n",
        "print(a)\n",
        "a.set(\"Novo Teste\")\n",
        "print(a)"
      ],
      "execution_count": null,
      "outputs": [
        {
          "output_type": "stream",
          "name": "stdout",
          "text": [
            "teste\n",
            "teste\n",
            "teste\n",
            "Novo Teste\n"
          ]
        }
      ]
    },
    {
      "cell_type": "markdown",
      "metadata": {
        "id": "Jt9xgDy2SXfR"
      },
      "source": [
        "Como visto, a solução envolve adicionar um novo campo à classe filha, ```_cache``` para guardar o resultado da chamada a ```str```.\n",
        "\n",
        "Este nome (```_cache```), pode ser usado sem afetar a classe base pois ele não existia nela.\n",
        "\n",
        "Considere no entanto o seguinte dilema: O que aconteceria se o programador original da classe ```Valor``` decidisse usar este nome no futuro?\n",
        "\n",
        "Do mesmo modo, se o novo programador é até encorajado a ignorar existência dos campos iniciados por ```_```, como ele pode ter certeza de que é seguro usar o nome ```_cache```?\n",
        "\n",
        "Para resolver este problema, Python introduz o mecanismo de mascaramento de nomes (\"name mangling\").\n",
        "\n",
        "Nomes de atributos de classes iniciados por ```__``` (dois caracteres) e *não* terminados por ```__``` são modificados pelo interpretador de modo a inserir o nome da classe precedido de ```_```.\n",
        "\n",
        "Este mascaramento é feito automaticamente em *todas* as referências ao nome dentro da classe. Deste modo, o programador não precisa se preocupar com ele.\n",
        "\n",
        "Por exemplo, considere esta nova definição da clase ```Valor```:\n",
        "\n"
      ]
    },
    {
      "cell_type": "code",
      "metadata": {
        "id": "-c6an0qARvzh"
      },
      "source": [
        "class Valor():\n",
        "  \"\"\" Classe que armazena um simples valor \"\"\"\n",
        "  def __init__(self, x=None):\n",
        "    self.__valor = x\n",
        "\n",
        "  def get(self):\n",
        "    \"\"\" Retorna o valor armazenado \"\"\"\n",
        "    return self.__valor\n",
        "\n",
        "  def set(self, novo):\n",
        "    \"\"\" Modifica o valor armazenado \"\"\"\n",
        "    self.__valor = novo"
      ],
      "execution_count": null,
      "outputs": []
    },
    {
      "cell_type": "markdown",
      "metadata": {
        "id": "bpPpAvHKVUjB"
      },
      "source": [
        "Observe que o campo ```__valor``` é referenciado diretamente por dentro do código. A nova classe continua funcionando normalmente:"
      ]
    },
    {
      "cell_type": "code",
      "metadata": {
        "id": "Qd2HJGeoVg8w",
        "colab": {
          "base_uri": "https://localhost:8080/"
        },
        "outputId": "b7de1c49-8e0a-41ba-88e6-9ef929db623d"
      },
      "source": [
        "a = Valor(\"teste\")\n",
        "print(a.get())\n",
        "a.set(\"Novo Teste\")\n",
        "print(a.get())"
      ],
      "execution_count": null,
      "outputs": [
        {
          "output_type": "stream",
          "name": "stdout",
          "text": [
            "teste\n",
            "Novo Teste\n"
          ]
        }
      ]
    },
    {
      "cell_type": "markdown",
      "metadata": {
        "id": "kl-dPARAVioD"
      },
      "source": [
        "No entanto, o nome do campo foi modificado! Os acessos *externos* a ele agora geram um erro:"
      ]
    },
    {
      "cell_type": "code",
      "metadata": {
        "id": "xvICjR8rVq3h",
        "colab": {
          "base_uri": "https://localhost:8080/",
          "height": 159
        },
        "outputId": "98ec3943-57bb-4284-ab7f-bfca5a76e7ca"
      },
      "source": [
        "a = Valor(\"teste\")\n",
        "print(a.__valor)"
      ],
      "execution_count": null,
      "outputs": [
        {
          "output_type": "error",
          "ename": "AttributeError",
          "evalue": "'Valor' object has no attribute '__valor'",
          "traceback": [
            "\u001b[0;31m---------------------------------------------------------------------------\u001b[0m",
            "\u001b[0;31mAttributeError\u001b[0m                            Traceback (most recent call last)",
            "\u001b[0;32m<ipython-input-11-b8dbd16d1590>\u001b[0m in \u001b[0;36m<cell line: 2>\u001b[0;34m()\u001b[0m\n\u001b[1;32m      1\u001b[0m \u001b[0ma\u001b[0m \u001b[0;34m=\u001b[0m \u001b[0mValor\u001b[0m\u001b[0;34m(\u001b[0m\u001b[0;34m\"teste\"\u001b[0m\u001b[0;34m)\u001b[0m\u001b[0;34m\u001b[0m\u001b[0;34m\u001b[0m\u001b[0m\n\u001b[0;32m----> 2\u001b[0;31m \u001b[0mprint\u001b[0m\u001b[0;34m(\u001b[0m\u001b[0ma\u001b[0m\u001b[0;34m.\u001b[0m\u001b[0m__valor\u001b[0m\u001b[0;34m)\u001b[0m\u001b[0;34m\u001b[0m\u001b[0;34m\u001b[0m\u001b[0m\n\u001b[0m",
            "\u001b[0;31mAttributeError\u001b[0m: 'Valor' object has no attribute '__valor'"
          ]
        }
      ]
    },
    {
      "cell_type": "markdown",
      "metadata": {
        "id": "o12gIoU-VvnW"
      },
      "source": [
        "O nome verdadeiro do campo, quando referenciado por fora da classe, é ```_Valor__valor```."
      ]
    },
    {
      "cell_type": "code",
      "metadata": {
        "id": "Da91hYKpUcpy",
        "colab": {
          "base_uri": "https://localhost:8080/"
        },
        "outputId": "2dac5822-1426-41b8-96c6-882213de2646"
      },
      "source": [
        "a = Valor(\"teste\")\n",
        "print(a._Valor__valor)"
      ],
      "execution_count": null,
      "outputs": [
        {
          "output_type": "stream",
          "name": "stdout",
          "text": [
            "teste\n"
          ]
        }
      ]
    },
    {
      "cell_type": "markdown",
      "metadata": {
        "id": "_PS4uZeJV9LY"
      },
      "source": [
        "Naturalmente, tal acesso direto não é recomendado.\n",
        "\n",
        "De todo modo, o aspecto importante é que como toda classe tem um nome *distinto*, o programador sabe que este nome não será sobreposto em uma eventual herança desta classe."
      ]
    },
    {
      "cell_type": "code",
      "metadata": {
        "id": "bmX8YdO_Udfe",
        "colab": {
          "base_uri": "https://localhost:8080/",
          "height": 54
        },
        "outputId": "36353b9d-73a2-46ed-e260-57e4528d8c44"
      },
      "source": [
        "a = Valor(\"teste\")\n",
        "print(a.get())\n",
        "a.__init__(\"Novo Teste\")\n",
        "print(a.get())"
      ],
      "execution_count": null,
      "outputs": [
        {
          "output_type": "stream",
          "text": [
            "teste\n",
            "Novo Teste\n"
          ],
          "name": "stdout"
        }
      ]
    }
  ]
}