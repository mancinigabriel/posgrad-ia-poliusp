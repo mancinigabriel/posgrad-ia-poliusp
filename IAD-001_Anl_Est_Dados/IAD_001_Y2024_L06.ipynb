{
  "nbformat": 4,
  "nbformat_minor": 0,
  "metadata": {
    "colab": {
      "provenance": [],
      "toc_visible": true
    },
    "kernelspec": {
      "name": "python3",
      "display_name": "Python 3"
    }
  },
  "cells": [
    {
      "cell_type": "markdown",
      "metadata": {
        "id": "dPWPd6gwHEOd"
      },
      "source": [
        "# <font face=\"Verdana\" size=6 color='#6495ED'> ANÁLISE ESTATÍSTICA DE DADOS\n",
        "<font face=\"Verdana\" size=3 color='#40E0D0'> Profs. Larissa Driemeier e Arturo Forner-Cordero\n",
        "\n",
        "<center><img src='https://drive.google.com/uc?export=view&id=1nW_7p_LyFhbR0ipjSekPcAj6kDoyK73R' width=\"800\"></center>\n",
        "\n",
        "Este notebook faz parte da aula 05 do curso [IAD-001](https://alunoweb.net/moodle/pluginfile.php/140752/mod_resource/content/2/EST_06_Y2024.pdf)."
      ]
    },
    {
      "cell_type": "markdown",
      "metadata": {
        "id": "nCLKUan7NDWl"
      },
      "source": [
        "Variáveis podem ter milhares de valores diferentes, ainda mais se forem contínuas.Porém, quando se avalia uma característica de interesse de um produto ou serviço através de um conjunto de medidas, não estamos interessados em cada medida individual, mas sim no padrão de comportamento como um todo.\n",
        "\n",
        "O padrão pode ser caracterizado por alguns poucos números e gráficos que quantificam e exibem informações importantes.\n",
        "\n",
        "O sumário dos aspectos importantes de um conjunto de dados é chamado de Estatística Descritiva. A Estatística Descritiva se preocupa com a organização, descrição, sumário e apresentação gráfica de dados. Em outras palavras, descreve quantitativamente ou resume características de uma coleção de informações. Essas medidas ou estimativas se enquadram em duas categorias gerais: que indicam a localização dos dados (média, mediana, quartis, etc.), e outras que medem sua variabilidade (amplitude, desvio padrão, correlação, etc.).\n",
        "\n",
        "\n",
        "A medida de localização define um *valor típico* daquele dado: uma estimativa de onde a maioria dos dados está localizada – ié, sua __tendência central__. Porém, esta é apenas uma dimensão na sumarização e uma característica. Uma segunda dimensão, __variabilidade__, também chamada de dispersão, mede de que forma os valores estão espalhados. Trabalhar com variabilidade é o centro da estatística: medindo, reduzindo, distinguindo variabilidade aleatória de real, identificando as diversas fontes de variabilidade real e tomando decisões.\n",
        "\n",
        "Além disso, tem-se a definição de  *covariância* e *correlação*, muito úteis para entender o relacionamento entre as variáveis.\n",
        "\n",
        "\n",
        "\n"
      ]
    },
    {
      "cell_type": "markdown",
      "metadata": {
        "id": "7gU-ELVVxPeW"
      },
      "source": [
        "## Apresentação em gráficos e tabelas"
      ]
    },
    {
      "cell_type": "markdown",
      "metadata": {
        "id": "7mSsjv9bZXRb"
      },
      "source": [
        "### Exemplo jogos 2016 RJ\n",
        "Os dados se referem ao número de medalhas de ouro, prata e bronze dos 5 países que mais se destacaram nos jogos Paraolímpicos 2016, no RJ\n"
      ]
    },
    {
      "cell_type": "code",
      "metadata": {
        "id": "XfROBmIbM770"
      },
      "source": [
        "import matplotlib.pyplot as plt\n",
        "import pandas as pd\n",
        "import numpy as np\n",
        "import statistics as st\n",
        "import seaborn as sns"
      ],
      "execution_count": 1,
      "outputs": []
    },
    {
      "cell_type": "markdown",
      "metadata": {
        "id": "hZGZM3nwLhGF"
      },
      "source": [
        "Para você fazer upload dos arquivos `MedalhasParaolimpicos2016.csv` e `MedalhasOlimpicos2016.csv`."
      ]
    },
    {
      "cell_type": "code",
      "metadata": {
        "id": "a2wQbIaJtur-",
        "colab": {
          "base_uri": "https://localhost:8080/",
          "height": 144
        },
        "outputId": "4f9e7102-5a26-4032-8648-ea850451bcc1"
      },
      "source": [
        "from google.colab import files\n",
        "uploaded = files.upload()"
      ],
      "execution_count": null,
      "outputs": [
        {
          "output_type": "display_data",
          "data": {
            "text/plain": [
              "<IPython.core.display.HTML object>"
            ],
            "text/html": [
              "\n",
              "     <input type=\"file\" id=\"files-fad256d6-8f47-456e-b2b1-21277e34f2a8\" name=\"files[]\" multiple disabled\n",
              "        style=\"border:none\" />\n",
              "     <output id=\"result-fad256d6-8f47-456e-b2b1-21277e34f2a8\">\n",
              "      Upload widget is only available when the cell has been executed in the\n",
              "      current browser session. Please rerun this cell to enable.\n",
              "      </output>\n",
              "      <script>// Copyright 2017 Google LLC\n",
              "//\n",
              "// Licensed under the Apache License, Version 2.0 (the \"License\");\n",
              "// you may not use this file except in compliance with the License.\n",
              "// You may obtain a copy of the License at\n",
              "//\n",
              "//      http://www.apache.org/licenses/LICENSE-2.0\n",
              "//\n",
              "// Unless required by applicable law or agreed to in writing, software\n",
              "// distributed under the License is distributed on an \"AS IS\" BASIS,\n",
              "// WITHOUT WARRANTIES OR CONDITIONS OF ANY KIND, either express or implied.\n",
              "// See the License for the specific language governing permissions and\n",
              "// limitations under the License.\n",
              "\n",
              "/**\n",
              " * @fileoverview Helpers for google.colab Python module.\n",
              " */\n",
              "(function(scope) {\n",
              "function span(text, styleAttributes = {}) {\n",
              "  const element = document.createElement('span');\n",
              "  element.textContent = text;\n",
              "  for (const key of Object.keys(styleAttributes)) {\n",
              "    element.style[key] = styleAttributes[key];\n",
              "  }\n",
              "  return element;\n",
              "}\n",
              "\n",
              "// Max number of bytes which will be uploaded at a time.\n",
              "const MAX_PAYLOAD_SIZE = 100 * 1024;\n",
              "\n",
              "function _uploadFiles(inputId, outputId) {\n",
              "  const steps = uploadFilesStep(inputId, outputId);\n",
              "  const outputElement = document.getElementById(outputId);\n",
              "  // Cache steps on the outputElement to make it available for the next call\n",
              "  // to uploadFilesContinue from Python.\n",
              "  outputElement.steps = steps;\n",
              "\n",
              "  return _uploadFilesContinue(outputId);\n",
              "}\n",
              "\n",
              "// This is roughly an async generator (not supported in the browser yet),\n",
              "// where there are multiple asynchronous steps and the Python side is going\n",
              "// to poll for completion of each step.\n",
              "// This uses a Promise to block the python side on completion of each step,\n",
              "// then passes the result of the previous step as the input to the next step.\n",
              "function _uploadFilesContinue(outputId) {\n",
              "  const outputElement = document.getElementById(outputId);\n",
              "  const steps = outputElement.steps;\n",
              "\n",
              "  const next = steps.next(outputElement.lastPromiseValue);\n",
              "  return Promise.resolve(next.value.promise).then((value) => {\n",
              "    // Cache the last promise value to make it available to the next\n",
              "    // step of the generator.\n",
              "    outputElement.lastPromiseValue = value;\n",
              "    return next.value.response;\n",
              "  });\n",
              "}\n",
              "\n",
              "/**\n",
              " * Generator function which is called between each async step of the upload\n",
              " * process.\n",
              " * @param {string} inputId Element ID of the input file picker element.\n",
              " * @param {string} outputId Element ID of the output display.\n",
              " * @return {!Iterable<!Object>} Iterable of next steps.\n",
              " */\n",
              "function* uploadFilesStep(inputId, outputId) {\n",
              "  const inputElement = document.getElementById(inputId);\n",
              "  inputElement.disabled = false;\n",
              "\n",
              "  const outputElement = document.getElementById(outputId);\n",
              "  outputElement.innerHTML = '';\n",
              "\n",
              "  const pickedPromise = new Promise((resolve) => {\n",
              "    inputElement.addEventListener('change', (e) => {\n",
              "      resolve(e.target.files);\n",
              "    });\n",
              "  });\n",
              "\n",
              "  const cancel = document.createElement('button');\n",
              "  inputElement.parentElement.appendChild(cancel);\n",
              "  cancel.textContent = 'Cancel upload';\n",
              "  const cancelPromise = new Promise((resolve) => {\n",
              "    cancel.onclick = () => {\n",
              "      resolve(null);\n",
              "    };\n",
              "  });\n",
              "\n",
              "  // Wait for the user to pick the files.\n",
              "  const files = yield {\n",
              "    promise: Promise.race([pickedPromise, cancelPromise]),\n",
              "    response: {\n",
              "      action: 'starting',\n",
              "    }\n",
              "  };\n",
              "\n",
              "  cancel.remove();\n",
              "\n",
              "  // Disable the input element since further picks are not allowed.\n",
              "  inputElement.disabled = true;\n",
              "\n",
              "  if (!files) {\n",
              "    return {\n",
              "      response: {\n",
              "        action: 'complete',\n",
              "      }\n",
              "    };\n",
              "  }\n",
              "\n",
              "  for (const file of files) {\n",
              "    const li = document.createElement('li');\n",
              "    li.append(span(file.name, {fontWeight: 'bold'}));\n",
              "    li.append(span(\n",
              "        `(${file.type || 'n/a'}) - ${file.size} bytes, ` +\n",
              "        `last modified: ${\n",
              "            file.lastModifiedDate ? file.lastModifiedDate.toLocaleDateString() :\n",
              "                                    'n/a'} - `));\n",
              "    const percent = span('0% done');\n",
              "    li.appendChild(percent);\n",
              "\n",
              "    outputElement.appendChild(li);\n",
              "\n",
              "    const fileDataPromise = new Promise((resolve) => {\n",
              "      const reader = new FileReader();\n",
              "      reader.onload = (e) => {\n",
              "        resolve(e.target.result);\n",
              "      };\n",
              "      reader.readAsArrayBuffer(file);\n",
              "    });\n",
              "    // Wait for the data to be ready.\n",
              "    let fileData = yield {\n",
              "      promise: fileDataPromise,\n",
              "      response: {\n",
              "        action: 'continue',\n",
              "      }\n",
              "    };\n",
              "\n",
              "    // Use a chunked sending to avoid message size limits. See b/62115660.\n",
              "    let position = 0;\n",
              "    do {\n",
              "      const length = Math.min(fileData.byteLength - position, MAX_PAYLOAD_SIZE);\n",
              "      const chunk = new Uint8Array(fileData, position, length);\n",
              "      position += length;\n",
              "\n",
              "      const base64 = btoa(String.fromCharCode.apply(null, chunk));\n",
              "      yield {\n",
              "        response: {\n",
              "          action: 'append',\n",
              "          file: file.name,\n",
              "          data: base64,\n",
              "        },\n",
              "      };\n",
              "\n",
              "      let percentDone = fileData.byteLength === 0 ?\n",
              "          100 :\n",
              "          Math.round((position / fileData.byteLength) * 100);\n",
              "      percent.textContent = `${percentDone}% done`;\n",
              "\n",
              "    } while (position < fileData.byteLength);\n",
              "  }\n",
              "\n",
              "  // All done.\n",
              "  yield {\n",
              "    response: {\n",
              "      action: 'complete',\n",
              "    }\n",
              "  };\n",
              "}\n",
              "\n",
              "scope.google = scope.google || {};\n",
              "scope.google.colab = scope.google.colab || {};\n",
              "scope.google.colab._files = {\n",
              "  _uploadFiles,\n",
              "  _uploadFilesContinue,\n",
              "};\n",
              "})(self);\n",
              "</script> "
            ]
          },
          "metadata": {}
        },
        {
          "output_type": "stream",
          "name": "stdout",
          "text": [
            "Saving MedalhasOlimpicos2016.csv to MedalhasOlimpicos2016.csv\n",
            "Saving MedalhasParaolimpicos2016.csv to MedalhasParaolimpicos2016.csv\n",
            "Saving TempoPreenchimentoFormulario.csv to TempoPreenchimentoFormulario.csv\n"
          ]
        }
      ]
    },
    {
      "cell_type": "code",
      "metadata": {
        "id": "3vUq3rtuPiuL"
      },
      "source": [
        "import io\n",
        "data_paraol = pd.read_csv(io.StringIO(uploaded['MedalhasParaolimpicos2016.csv'].decode('utf-8')),sep=';')\n",
        "data_ol = pd.read_csv(io.StringIO(uploaded['MedalhasOlimpicos2016.csv'].decode('utf-8')),sep=';')\n",
        "data_paraol.head()"
      ],
      "execution_count": null,
      "outputs": []
    },
    {
      "cell_type": "code",
      "metadata": {
        "id": "Cl0hfYhlkQz4"
      },
      "source": [
        "pais_data = data_paraol['pais']\n",
        "ouro_data = data_paraol['ouro']\n",
        "\n",
        "cmap = plt.cm.Set3\n",
        "colors = cmap(np.linspace(0., 1., len(pais_data)))\n",
        "explode = (0.1, 0, 0, 0, 0, 0)\n",
        "plt.pie(ouro_data, labels=pais_data, explode=explode, colors=colors, autopct='%1.1f%%', shadow=True, startangle=140)\n",
        "plt.title(\"Medalhas de ouro dos cinco países mais bem colocados\\n\"+\"Jogos paraolímpicos de 2016\")\n",
        "plt.show()"
      ],
      "execution_count": null,
      "outputs": []
    },
    {
      "cell_type": "code",
      "metadata": {
        "id": "_lCyyz3IDANe"
      },
      "source": [
        "data_paraol.plot(kind='bar',x='pais',y='ouro', alpha=0.5, color='#C9B037')\n",
        "plt.title(\"Medalhas de ouro dos cinco países mais bem colocados\\n\"+\"Jogos paraolímpicos de 2016\")\n",
        "plt.grid()\n",
        "plt.show()"
      ],
      "execution_count": null,
      "outputs": []
    },
    {
      "cell_type": "code",
      "metadata": {
        "id": "RJJONbKSxNtb"
      },
      "source": [
        "# Posições e largura das barras\n",
        "pos = list(range(len(data_paraol['ouro'])))\n",
        "\n",
        "width = 0.15\n",
        "\n",
        "# Bar data\n",
        "plt.bar(pos, data_paraol['ouro'], width, alpha=0.5, color='#AF9500')\n",
        "plt.bar([p + width for p in pos], data_paraol['prata'], width, alpha=0.5, color='#B4B4B4')\n",
        "plt.bar([p + width*2 for p in pos], data_paraol['bronze'], width, alpha=0.5, color='#AD8A56')\n",
        "\n",
        "plt.title(\"Medalhas dos cinco países mais bem colocados\\n\"+\"Jogos paraolímpicos de 2016\")\n",
        "plt.xticks([r + width for r in pos], data_paraol['pais'], rotation='vertical')\n",
        "\n",
        "\n",
        "plt.legend(['Ouro', 'Prata', 'Bronze'], loc='upper left')\n",
        "plt.grid()\n",
        "plt.show()\n",
        "\n"
      ],
      "execution_count": null,
      "outputs": []
    },
    {
      "cell_type": "code",
      "metadata": {
        "id": "_nwKRuKfKeqN"
      },
      "source": [
        "colors = np.random.rand(len(data_paraol['pais']))\n",
        "plt.scatter(data_paraol['pais'], data_paraol['total'], s=data_paraol['ouro'], c=colors, alpha=0.5)\n",
        "plt.show()"
      ],
      "execution_count": null,
      "outputs": []
    },
    {
      "cell_type": "markdown",
      "metadata": {
        "id": "JQGW7_CYZIN8"
      },
      "source": [
        "### Exemplo número de erros de gramática\n",
        "O conjunto de dados a seguir representa a variável número de erros de gramática observados em 20 resumos de teses extraídas do curso de Engenharia da Poli.\n"
      ]
    },
    {
      "cell_type": "code",
      "metadata": {
        "id": "TNRFqjPgTL98"
      },
      "source": [
        "x = [0, 1, 2, 3, 4, 5] #número de erros\n",
        "y = [4, 7, 5, 2, 1, 1] #frequencia\n",
        "N = len(x)\n",
        "data_def = {'numero_erros': x,'frequencia': y}\n",
        "df = pd.DataFrame(data=data_def)\n",
        "df.plot(kind='bar', x='numero_erros', y='frequencia',\n",
        "        legend=False, color='darkcyan', rot=0);\n",
        "plt.title('Número de erros por resumo')\n",
        "plt.xlabel('# erros')\n",
        "plt.ylabel('frequência')\n",
        "plt.grid()\n",
        "plt.show()\n",
        "\n",
        "df['frequencia_acumulada'] = df['frequencia'].cumsum()\n",
        "df.head()"
      ],
      "execution_count": null,
      "outputs": []
    },
    {
      "cell_type": "code",
      "metadata": {
        "id": "IcewQoUmfG7C"
      },
      "source": [
        "totals = df.sum(axis=0)[1]\n",
        "df['frequencia_relativa'] = [i / totals * 100 for i in df['frequencia']]\n",
        "\n",
        "df.plot(kind='bar', x='numero_erros', y='frequencia_relativa',\n",
        "        legend=False, color='darkcyan', rot=0);\n",
        "plt.title('Número de erros por resumo')\n",
        "plt.xlabel('# erros')\n",
        "plt.ylabel('frequência relativa [%]')\n",
        "plt.grid()\n",
        "plt.show()"
      ],
      "execution_count": null,
      "outputs": []
    },
    {
      "cell_type": "code",
      "metadata": {
        "id": "wsv5BllWY8V5"
      },
      "source": [
        "df.plot(kind='bar', x='numero_erros', y='frequencia_acumulada',\n",
        "        legend=False, color='darkcyan', rot=0);\n",
        "plt.title('Frequência acumulada')\n",
        "plt.xlabel('# erros')\n",
        "plt.ylabel('frequência acumulada')\n",
        "plt.grid()\n",
        "plt.show()"
      ],
      "execution_count": null,
      "outputs": []
    },
    {
      "cell_type": "markdown",
      "metadata": {
        "id": "6WJGqb_jkoMa"
      },
      "source": [
        "### Exemplo Diâmetro de peças\n",
        "O exemplo refere-se a 25 valores de diâmetro de peças produzidas por uma máquina."
      ]
    },
    {
      "cell_type": "code",
      "metadata": {
        "id": "K_0HQ6dLkm3T"
      },
      "source": [
        "x = [21.2, 21.3, 21.4, 21.5, 21.6, 21.7, 21.8, 21.9]\n",
        "y = [1, 2, 5, 7, 4, 3, 1, 2]\n",
        "N = len(x)\n",
        "data_def = {'diametros': x,'frequencia': y}\n",
        "df = pd.DataFrame(data=data_def)\n",
        "totals = df.sum(axis=0)[1]\n",
        "df['frequencia_relativa'] = [i / totals * 100 for i in df['frequencia']]\n",
        "df['frequencia_acumulada'] = df['frequencia'].cumsum()\n",
        "df.head()"
      ],
      "execution_count": null,
      "outputs": []
    },
    {
      "cell_type": "code",
      "metadata": {
        "id": "8NJ4Waqrljih"
      },
      "source": [
        "df.plot(kind='bar', x='diametros', y='frequencia', width=1, edgecolor='darkcyan', linewidth=1,\n",
        "        legend=False, color='cadetblue', rot=0);\n",
        "plt.title('Diâmetro das peças')\n",
        "plt.xlabel('diâmetro [mm]')\n",
        "plt.ylabel('frequência')\n",
        "plt.grid()\n",
        "plt.show()\n"
      ],
      "execution_count": null,
      "outputs": []
    },
    {
      "cell_type": "code",
      "metadata": {
        "id": "ryDHR7wAmFYh"
      },
      "source": [
        "df.plot(kind='bar', x='diametros', y='frequencia_relativa',  width=1, edgecolor='darkcyan', linewidth=1,\n",
        "        legend=False, color='cadetblue', rot=0);\n",
        "plt.title('Diâmetro das peças')\n",
        "plt.xlabel('diâmetro [mm]')\n",
        "plt.ylabel('frequência relativa [%]')\n",
        "plt.grid()\n",
        "plt.show()"
      ],
      "execution_count": null,
      "outputs": []
    },
    {
      "cell_type": "code",
      "metadata": {
        "id": "T_-gWMI6mZDE"
      },
      "source": [
        "df.plot(kind='bar', x='diametros', y='frequencia_acumulada', width=1, edgecolor='darkslategrey', linewidth=1,\n",
        "        legend=False, color='darkcyan', rot=0);\n",
        "plt.title('Diâmetro das peças')\n",
        "plt.xlabel('diâmetro [mm]')\n",
        "plt.ylabel('frequência acumulada')\n",
        "plt.grid()\n",
        "plt.show()"
      ],
      "execution_count": null,
      "outputs": []
    },
    {
      "cell_type": "code",
      "metadata": {
        "id": "fr8qhf3ctz90"
      },
      "source": [
        "x = [21.2, 21.3, 21.4, 21.5, 21.6, 21.7, 21.8, 21.9]\n",
        "y = [1, 2, 5, 7, 4, 3, 1, 2]\n",
        "x_t = [21.2, 21.3, 21.3, 21.4, 21.4, 21.4, 21.4, 21.4, 21.5, 21.5, 21.5, 21.5,\\\n",
        "       21.5, 21.5, 21.5, 21.6, 21.6, 21.6, 21.6, 21.7, 21.7, 21.7, 21.8, 21.9, 21.9]\n",
        "bins = [21.05, 21.15, 21.25, 21.35, 21.45, 21.55, 21.65, 21.75, 21.85, 21.95, 22.05]\n",
        "x_h,edges = np.histogram(x_t, bins)\n",
        "centers = 0.5*(edges[1:]+ edges[:-1])\n",
        "centers = 0.5*(edges[1:]+ edges[:-1])\n",
        "print(centers)\n",
        "plt.plot(centers,x_h,'-*')\n",
        "plt.show()"
      ],
      "execution_count": null,
      "outputs": []
    },
    {
      "cell_type": "code",
      "metadata": {
        "id": "3t3i_jomy4OT"
      },
      "source": [
        "plt.scatter(df['diametros'], df['frequencia_acumulada'])\n",
        "plt.plot(df['diametros'], df['frequencia_acumulada'])\n",
        "plt.show()"
      ],
      "execution_count": null,
      "outputs": []
    },
    {
      "cell_type": "markdown",
      "metadata": {
        "id": "alEEjQGcJyMZ"
      },
      "source": [
        "### Exemplo sobre dados de plantas: pétalas e sépalas"
      ]
    },
    {
      "cell_type": "code",
      "metadata": {
        "id": "hP1KufkK-ecD"
      },
      "source": [
        "import seaborn as sns\n",
        "from altair import Chart\n",
        "import altair as alt\n",
        "iris = sns.load_dataset(\"iris\")\n",
        "iris.head()"
      ],
      "execution_count": null,
      "outputs": []
    },
    {
      "cell_type": "code",
      "metadata": {
        "id": "RiJBgrbQ-444"
      },
      "source": [
        "c = Chart(iris)\n",
        "#c.mark_circle().encode(\n",
        "#    x='sepal_width',\n",
        "#    y='sepal_length',\n",
        "#    color='petal_length',\n",
        "#    size='petal_width',\n",
        "#)\n",
        "\n",
        "c.mark_circle().encode(\n",
        "    x=alt.X('sepal_width', axis=alt.Axis(title='Largura da Sépala')),\n",
        "    y=alt.Y('sepal_length', axis=alt.Axis(title='Comprimento da Sépala')),\n",
        "    color=alt.Color('petal_length', title='Comprimento da Pétala'),\n",
        "    size=alt.Size('petal_width', title='Largura da Pétala'))"
      ],
      "execution_count": null,
      "outputs": []
    },
    {
      "cell_type": "markdown",
      "metadata": {
        "id": "s2Mqcl3xJ_ix"
      },
      "source": [
        "### Exemplo sobre tempo necessário para preencher um formulário\n",
        "\n",
        "Dados do tempo necessário para 50 funcionários preencherem um formulário. Você deve fazer upload do arquivo `TempoPreenchimentoFormulario.csv`."
      ]
    },
    {
      "cell_type": "code",
      "metadata": {
        "id": "Y56zLszuJ-JV"
      },
      "source": [
        "uploaded = files.upload()"
      ],
      "execution_count": null,
      "outputs": []
    },
    {
      "cell_type": "code",
      "metadata": {
        "id": "GmhyppbVLMmT"
      },
      "source": [
        "import io\n",
        "data_tempo = pd.read_csv(io.StringIO(uploaded['TempoPreenchimentoFormulario.csv'].decode('utf-8')),sep=';')\n",
        "data_tempo.head()"
      ],
      "execution_count": null,
      "outputs": []
    },
    {
      "cell_type": "code",
      "metadata": {
        "id": "7VL3mtE3LWCR"
      },
      "source": [
        "#bins = [21.05, 21.15, 21.25, 21.35, 21.45, 21.55, 21.65, 21.75, 21.85, 21.95, 22.05]\n",
        "max_value = data_tempo.max()+1\n",
        "min_value = data_tempo.min()\n",
        "bins=np.arange(int(min_value), int(max_value))"
      ],
      "execution_count": null,
      "outputs": []
    },
    {
      "cell_type": "code",
      "metadata": {
        "id": "zwENktJ7M8U-"
      },
      "source": [
        "x_t,edges = np.histogram(data_tempo['tempo'], bins)\n",
        "centers = 0.5*(edges[1:]+ edges[:-1])\n",
        "\n",
        "plt.bar(centers, x_t, color='cadetblue', width=1, edgecolor='darkslategrey', linewidth=1)\n",
        "plt.title('Tempo de resposta de formulário')\n",
        "plt.xlabel('tempo [s]')\n",
        "plt.ylabel('frequência')"
      ],
      "execution_count": null,
      "outputs": []
    },
    {
      "cell_type": "code",
      "metadata": {
        "id": "1AXJvTuYRR3U"
      },
      "source": [
        "bins=np.linspace(int(min_value), int(max_value),8)\n",
        "bins=np.linspace(39.5, 74.5,8)\n",
        "x_t,edges = np.histogram(data_tempo['tempo'], bins)\n",
        "centers = 0.5*(edges[1:]+ edges[:-1])\n",
        "width = 5\n",
        "plt.bar(centers, x_t, width, color='cadetblue',edgecolor='darkslategrey', linewidth=1)\n",
        "plt.title('Tempo de resposta de formulário')\n",
        "plt.xlabel('tempo [s]')\n",
        "plt.ylabel('frequência')"
      ],
      "execution_count": null,
      "outputs": []
    },
    {
      "cell_type": "markdown",
      "metadata": {
        "id": "UAtNxI92n9UO"
      },
      "source": [
        "## Medidas de tendência central\n",
        "![image.png](data:image/png;base64,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)\n"
      ]
    },
    {
      "cell_type": "markdown",
      "metadata": {
        "id": "_sezwskHzEfw"
      },
      "source": [
        "### Média\n",
        "A média aritmética da amostra ou simplesmente a média de um conjunto de dados $X=\\{ x_1, x_2, ..., x_n\\}$ é a soma de todos os elementos $x_i$ dividido pela dimensão $n$ de. A média é matematicamente expressa como\n",
        "\n",
        "$$\n",
        "\\mu=\\sum_{i=1}^n \\frac{x_i}{n},\n",
        "$$\n",
        "\n",
        "onde $i=1, 2,…, n$. I.é, para calcular a média deve-se somar todos os valores que a variável assumiu e dividir pelo número total de valores."
      ]
    },
    {
      "cell_type": "code",
      "metadata": {
        "id": "J9wZFoQeoVFy"
      },
      "source": [
        "Empresa_A = np.array([200.,200.,200.,840.,200.,200.,300.,200.,300.,350.,700.,350.,950.])\n",
        "Empresa_B = np.array([200.,200.,840.,350.,300.,300.,200.,200.,950.,200.])"
      ],
      "execution_count": null,
      "outputs": []
    },
    {
      "cell_type": "code",
      "metadata": {
        "id": "29OVQ1E0tjN9"
      },
      "source": [
        "mean_A = sum(Empresa_A)/len(Empresa_A)\n",
        "mean_B = sum(Empresa_B)/len(Empresa_B)\n",
        "print('A média de salário dos estagiários da empresa A é {:5.2f}'.format(mean_A))\n",
        "print('A média de salário dos estagiários da empresa B é {:5.2f}'.format(mean_B))"
      ],
      "execution_count": null,
      "outputs": []
    },
    {
      "cell_type": "code",
      "metadata": {
        "id": "pyxjX5orwBDE"
      },
      "source": [
        "# Qualquer alternativa abaixo leva ao cálculo da média\n",
        "# Calcule a média da empresa A com as funções\n",
        "mean_A = np.mean(Empresa_A)\n",
        "mean_A2 = st.mean(Empresa_A)\n",
        "mean_A3 = Empresa_A.mean()\n",
        "print('A média de salário dos estagiários da empresa A é {:5.2f}'.format(mean_A))\n",
        "print('A média de salário dos estagiários da empresa A é {:5.2f}'.format(mean_A2))\n",
        "print('A média de salário dos estagiários da empresa A é {:5.2f}'.format(mean_A3))"
      ],
      "execution_count": null,
      "outputs": []
    },
    {
      "cell_type": "markdown",
      "metadata": {
        "id": "UsnnW2A2w6P5"
      },
      "source": [
        "### Mediana\n",
        "A mediana da amostra é o elemento do meio de um conjunto de dados classificado. O conjunto de dados pode ser classificado em ordem crescente ou decrescente. Se o número de elementos $n$ do conjunto de dados for ímpar, a mediana será o valor na posição do meio: $0.5 (n + 1)$. Se $n$ for par, a mediana é a média aritmética dos dois valores no meio, ou seja, os itens nas posições $0.5n$ e $0.5n + 1$."
      ]
    },
    {
      "cell_type": "code",
      "metadata": {
        "id": "XKf3RoJa0N9J"
      },
      "source": [
        "mediana_A = st.median(Empresa_A)\n",
        "mediana_A2 = np.median(Empresa_A)\n",
        "mediana_B = st.median(Empresa_B)\n",
        "print('A mediana dos salários dos estagiários da empresa A é {:5.2f}'.format(mediana_A2))\n",
        "print('A mediana dos salários dos estagiários da empresa B é {:5.2f}'.format(mediana_B))"
      ],
      "execution_count": null,
      "outputs": []
    },
    {
      "cell_type": "code",
      "metadata": {
        "id": "kH9Vnnyx0mq3"
      },
      "source": [
        "#Caso você queira programar o cálculo da mediana\n",
        "n = len(Empresa_B)\n",
        "if n % 2:\n",
        "  mediana = sorted(Empresa_B)[round(0.5*(n-1))]\n",
        "else:\n",
        "  x_ord, index = sorted(Empresa_B), round(0.5 * n)\n",
        "  mediana = 0.5 * (x_ord[index-1] + x_ord[index])\n",
        "print('A médiana dos salários dos estagiários da empresa B é {:5.2f}'.format(mediana_B))"
      ],
      "execution_count": null,
      "outputs": []
    },
    {
      "cell_type": "markdown",
      "metadata": {
        "id": "_6ZtR1gW17H1"
      },
      "source": [
        "### Moda\n",
        "A última medida de tendência central que discutiremos é a moda. A moda de uma amostra é o valor que ocorre com mais frequência no conjunto de dados. Se não houver um único valor, o conjunto é multimodal, pois possui vários valores modais. Por exemplo, no conjunto que contém os pontos 2, 3, 2, 8 e 12, o número 2 é a moda porque ocorre duas vezes, ao contrário dos outros itens que ocorrem apenas uma vez.\n",
        "\n",
        "A intuição da moda como o *meio* não é tão imediata quanto a *média* ou a *mediana*. Porém, verifique que, se um valor aparecer repetidamente nos dados, também ele influenciará a média em sua direção. Quanto mais um valor aparecer, mais ele influenciará a média. Assim, a moda representa o fator de contribuição mais alto ponderado para a nossa média."
      ]
    },
    {
      "cell_type": "code",
      "metadata": {
        "id": "b5Ig8L7u3GqX"
      },
      "source": [
        "moda_A = st.mode(Empresa_A)\n",
        "moda_B = st.mode(Empresa_B)\n",
        "print('A moda dos salários dos estagiários da empresa A é {:5.2f}'.format(moda_A))\n",
        "print('A moda dos salários dos estagiários da empresa B é {:5.2f}'.format(moda_B))"
      ],
      "execution_count": null,
      "outputs": []
    },
    {
      "cell_type": "code",
      "metadata": {
        "id": "NU3kKpXK7zcn"
      },
      "source": [
        "#caso multimodal\n",
        "from collections import Counter\n",
        "from itertools import takewhile\n",
        "\n",
        "data = [1., 1., 1., 2., 3., 4., 4., 4., 5., 6., 7., 8., 9]\n",
        "freq = Counter(data)\n",
        "mostfreq = freq.most_common()\n",
        "modes = list(takewhile(lambda x_f: x_f[1] == mostfreq[0][1], mostfreq))\n",
        "print(\"As modas do conjunto 'data' são {:2.1f} e {:2.1f}, com {:2d} ocorrências\".format(modes[0][0],modes[1][0],modes[0][1]))"
      ],
      "execution_count": null,
      "outputs": []
    },
    {
      "cell_type": "code",
      "source": [
        "data = [1., 1., 1., 2., 3., 4., 4., 4., 5., 6., 7., 8., 9]\n",
        "print('moda',st.multimode(data))"
      ],
      "metadata": {
        "id": "DVqiyizM89S_"
      },
      "execution_count": null,
      "outputs": []
    },
    {
      "cell_type": "code",
      "source": [
        "data = [10, 15, 20, 25, 30, 35, 40, 45, 50]\n",
        "\n",
        "moda_data = st.multimode(data)\n",
        "print('A moda é', moda_data)\n",
        "mediana_data= np.median(data)\n",
        "print('A mediana é', mediana_data)\n",
        "mean_data = np.mean(data)\n",
        "print('A media é', mean_data)"
      ],
      "metadata": {
        "id": "n0Y1Djep7ab2"
      },
      "execution_count": null,
      "outputs": []
    },
    {
      "cell_type": "markdown",
      "metadata": {
        "id": "AVh0Nsc-H_fh"
      },
      "source": [
        "## Medidas de dispersão\n",
        "A informação fornecida pelas medidas de posição necessita, em geral, ser complementada pelas medidas de dispersão.\n",
        "\n",
        "*Fenômenos que envolvem análises estatísticas caracterizam-se por suas semelhanças e variabilidades.*\n",
        "\n",
        "As medidas de dispersão são utilizadas para indicar o quanto os dados se apresentam dispersos em torno da região central, caracterizando, portanto, o grau de variação existente no conjunto de valores.\n",
        "\n",
        "As medidas de dispersão usualmente utilizadas são *amplitude, variância, desvio padrão, distância interquartil*.\n",
        "\n"
      ]
    },
    {
      "cell_type": "markdown",
      "metadata": {
        "id": "iIUwZJtHYgQa"
      },
      "source": [
        "### Amplitude\n",
        "\n",
        "A amplitude é definida como a diferença entre o maior e o menor valores do conjunto de dados:\n",
        "\n",
        "$$\n",
        "R=x_{max}-x_{min}\n",
        "$$\n",
        "\n",
        "Embora o valor de $R$ esteja relacionado com a dispersão dos dados, por usar apenas dois valores, a amplitude contém relativamente pouca informação quanto à dispersão.\n",
        "\n"
      ]
    },
    {
      "cell_type": "code",
      "metadata": {
        "id": "XBu0nwkoY_NG"
      },
      "source": [
        "robo = np.array([184., 186., 193., 193., 199.])\n",
        "min_robo = min(robo)\n",
        "max_robo = max(robo)\n",
        "\n",
        "print('Valores mínimo e máximo são, respectivamente: {:4.2f} e {:4.2f}'.format(min_robo, max_robo))"
      ],
      "execution_count": null,
      "outputs": []
    },
    {
      "cell_type": "markdown",
      "metadata": {
        "id": "rDbWibqEIodl"
      },
      "source": [
        "### Variância e desvio padrão\n",
        "\n",
        "A variação da amostra quantifica a propagação dos dados. Mostra numericamente a que distância os pontos dos dados estão da média.\n",
        "\n",
        "Você pode expressar a variância de um conjunto de dados $X=\\{ x_1, x_2, ..., x_n\\}$ com $n$ elementos como\n",
        "$$\n",
        "\\sigma^2 = \\sum_{i=1}^n \\frac{(x_i-\\mu)^2}{n}\n",
        " $$\n",
        "\n",
        "onde $i = 1, 2,…, n$ e a $\\mu$ é a média de $X$. Se $X$ representa uma amostra, a equação acima fica dividida por $n-1$ e não por $n$ (correção de Bessel, que está fora do escopo de nosso curso).\n",
        "\n",
        "O desvio padrão é a raiz quadrada da variância.\n",
        "$$\n",
        "\\sigma = \\sqrt{\\sum_{i=1}^n \\frac{(x_i-\\mu)^2}{n}}\n",
        " $$"
      ]
    },
    {
      "cell_type": "code",
      "metadata": {
        "id": "rJ_jXBzs1-wh"
      },
      "source": [
        "robo = np.array([184., 186., 193., 193., 199.])\n",
        "desv_robo = st.stdev(robo)\n",
        "var_robo = desv_robo**2\n",
        "print('O desvio padrão e a variância dos dados são, respectivamente: {:4.2f} e {:4.2f}'.format(desv_robo,var_robo))"
      ],
      "execution_count": null,
      "outputs": []
    },
    {
      "cell_type": "code",
      "metadata": {
        "id": "cgnIrXRzXMvl"
      },
      "source": [
        "#programando o desvio padrão\n",
        "robo = np.array([184., 186., 193., 193., 199.])\n",
        "diffs = 0\n",
        "media = sum(robo)/len(robo)\n",
        "for n in robo:\n",
        "  diffs += (n - media)**(2)\n",
        "var = diffs/(len(robo)-1)\n",
        "print('O desvio padrão e a variância dos dados são, respectivamente: {:4.2f} e {:4.2f}'.format(var**0.5,var))"
      ],
      "execution_count": null,
      "outputs": []
    },
    {
      "cell_type": "markdown",
      "metadata": {
        "id": "7hJGHjMOaCGw"
      },
      "source": [
        "### Diagrama de caixa\n",
        "\n",
        "A amostra percentil $p$ é o elemento no conjunto de dados, de modo que $p\\%$ dos elementos é menor ou igual a esse valor. Além disso, $(100 - p)\\%$ dos elementos são maiores ou iguais a esse valor. Se houver dois desses elementos no conjunto de dados, o percentil $p\\%$ da amostra é a média aritmética desses valores. Cada conjunto de dados possui três quartis, que são os percentis que dividem o conjunto de dados em quatro partes:\n",
        "\n",
        "* O primeiro quartil é o percentil 25 da amostra. Ele divide aproximadamente $25\\%$ dos itens menores do restante do conjunto de dados.\n",
        "* O segundo quartil é o percentil 50 da amostra ou a mediana. Aproximadamente $25\\%$ dos itens estão entre o primeiro e o segundo quartil e outros $25\\%$ entre o segundo e o terceiro quartil.\n",
        "* O terceiro quartil é o percentil 75 da amostra. Ele divide aproximadamente $25\\%$ dos maiores itens do restante do conjunto de dados.\n",
        "\n",
        "O *intervalo interquartil* é a diferença entre o primeiro e o terceiro quartil."
      ]
    },
    {
      "cell_type": "markdown",
      "metadata": {
        "id": "V0Lfdy_47FRB"
      },
      "source": [
        "![image.png](data:image/png;base64,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)"
      ]
    },
    {
      "cell_type": "code",
      "metadata": {
        "id": "qtYp6sbYiQvS"
      },
      "source": [
        "A = [3, 7, 8, 5, 12, 14, 21, 15, 18, 14]\n",
        "B= [3, 7, 8, 5, 12, 14, 21, 13, 18]\n",
        "C = [19, 26, 25, 37, 32, 28, 22, 23, 29, 34, 39, 31]\n",
        "\n",
        "y= np.sort(np.array(C))\n",
        "print(y)\n",
        "print(len(y))\n",
        "#Mude o tipo de interpolação:\n",
        "#interpolation{‘linear’, ‘lower’, ‘higher’, ‘midpoint’, ‘nearest’}\n",
        "p25=np.quantile(y, .25,interpolation='midpoint')\n",
        "p50=np.quantile(y, 0.5,interpolation='midpoint')\n",
        "p75=np.quantile(y, 0.75,interpolation='midpoint')\n",
        "print('Percentis 25,50,75:  {:4.2f}, {:4.2f} e {:4.2f}'.format(p25, p50, p75))\n",
        "\n",
        "sns.set(style=\"whitegrid\")\n",
        "tips = sns.load_dataset(\"tips\")\n",
        "ax = sns.boxplot(y)"
      ],
      "execution_count": null,
      "outputs": []
    },
    {
      "cell_type": "code",
      "metadata": {
        "id": "M8cKAcANsGhj"
      },
      "source": [
        "y = [40, 50, 70, 500, 78, 1000, 950, 59, 75, 85, 90, 55, 100, 44, 83]\n",
        "mean_y = np.mean(y)\n",
        "std_y = st.stdev(y)\n",
        "print('A média de y é         {:5.2f}'.format(mean_y))\n",
        "print('O desvio padrão de y é {:5.2f}'.format(std_y))\n",
        "print(np.sort(np.array(y)))\n",
        "print(len(np.sort(np.array(y))))"
      ],
      "execution_count": null,
      "outputs": []
    },
    {
      "cell_type": "code",
      "metadata": {
        "id": "x35L6YaTkYST"
      },
      "source": [
        "y = np.array([40., 50., 70., 500., 78., 1000., 950., 59., 75., 85., 90., 55., 100., 44., 83.])\n",
        "p25=np.quantile(y, 0.25)\n",
        "p50=np.quantile(y, 0.5)\n",
        "p75=np.quantile(y, 0.75)\n",
        "print('Percentis 25,50,75:{:4.2f}, {:4.2f} e {:4.2f}'.format(p25, p50, p75))\n",
        "mean_y = np.mean(y)\n",
        "desv_y = st.stdev(y)\n",
        "print('Média e desvio padrão:{:4.2f} e {:4.2f}'.format(mean_y,desv_y))\n",
        "sns.set(style=\"whitegrid\")\n",
        "tips = sns.load_dataset(\"tips\")\n",
        "ax = sns.boxplot(y)\n"
      ],
      "execution_count": null,
      "outputs": []
    },
    {
      "cell_type": "code",
      "source": [
        "y = [2, 6, 8, 12, 13, 17, 22, 45, 49, 50, 51, 53]\n",
        "y=[12,15,17,20,22,25,28,30,33,35]\n",
        "p25=np.quantile(y, 0.25,interpolation='midpoint')\n",
        "p50=np.quantile(y, 0.5,interpolation='midpoint')\n",
        "p75=np.quantile(y, 0.75,interpolation='midpoint')\n",
        "print('Percentis 25,50,75:  {:4.2f}, {:4.2f} e {:4.2f}'.format(p25, p50, p75))"
      ],
      "metadata": {
        "id": "afTqhku1Dkdj"
      },
      "execution_count": null,
      "outputs": []
    },
    {
      "cell_type": "markdown",
      "metadata": {
        "id": "52IjePy7lepX"
      },
      "source": [
        "## Medidas de correlação\n",
        "Você precisará examinar frequentemente o relacionamento entre os elementos correspondentes de duas variáveis em um conjunto de dados. Digamos que haja duas variáveis, $x$ e $y$, com um número igual de elementos, $n$. Para os pares $(x_1,y_1), (x_2,y_2),...(x_n,y_n)$ tem-se as seguintes medidas de covariância entre pares de dados:\n",
        "$$\n",
        "\\sigma_{xy}=\\sum_{i=1}^n\\frac{(x_i-\\mu_x)(y_i-\\mu_y)}{n-1}\n",
        "$$\n",
        "\n",
        "A correlação é dada por:\n",
        "$$\n",
        "r_{xy}=\\frac{\\sigma_{xy}}{\\sigma_x \\sigma_y}\n",
        "$$\n",
        "\n",
        "* Existe correlação positiva quando valores maiores de $x$ correspondem a valores maiores de $y$ e vice-versa.\n",
        "* Existe correlação negativa quando valores maiores de $x$ correspondem a valores menores de $y$ e vice-versa.\n",
        "* Existe uma correlação fraca ou inexistente se não houver uma relação aparente."
      ]
    },
    {
      "cell_type": "markdown",
      "metadata": {
        "id": "m3ifjQckmEqs"
      },
      "source": [
        "![image.png](data:image/png;base64,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)\n",
        "\n",
        "Figura extrída do [link](https://realpython.com/python-statistics/)."
      ]
    },
    {
      "cell_type": "code",
      "metadata": {
        "id": "GbtlVHIPmYSB"
      },
      "source": [
        "x = list(range(-10, 11))\n",
        "y = [0, 2, 2, 2, 2, 3, 3, 6, 7, 4, 7, 6, 6, 9, 4, 5, 5, 10, 11, 12, 14]\n",
        "x_, y_ = np.array(x), np.array(y)\n",
        "cov_matrix = np.cov(x_, y_)\n",
        "print('Matriz de covariância:')\n",
        "print(cov_matrix)\n"
      ],
      "execution_count": null,
      "outputs": []
    },
    {
      "cell_type": "code",
      "metadata": {
        "id": "JM4Nzp31rMO6"
      },
      "source": [
        "M=np.array([[4.1,  2.0,  0.60],\n",
        "            [4.2,  2.1,  0.59],\n",
        "            [3.9,  2.0,  0.58],\n",
        "            [4.3,  2.1,  0.62],\n",
        "            [4.1,  2.2,  0.63]])\n",
        "print('Matriz M com os dados')\n",
        "print(M.T)\n",
        "cov_M = np.cov(M.T)\n",
        "print('Matriz de covariância dos dados')\n",
        "print(cov_M)"
      ],
      "execution_count": null,
      "outputs": []
    },
    {
      "cell_type": "markdown",
      "metadata": {
        "id": "sMDI7BqaGn9D"
      },
      "source": [
        "### Valor esperado\n",
        "\n",
        "Um *valor esperado* $E[\\cdot]$ é uma *média teórica* no sentido de que você precisa obter todas as observações relacionadas ao fenômeno em questão para computá-lo, o que raramente é possível, caro ou simplesmente impossível. Isso nos leva a aproximar o valor esperado em vez de realmente obtê-lo. Observe que quanto mais dados você tiver, melhor será a sua aproximação, já que se espera que essa aproximação converja com o tamanho da amostra: essa é a chamada *lei assintótica*.\n"
      ]
    }
  ]
}