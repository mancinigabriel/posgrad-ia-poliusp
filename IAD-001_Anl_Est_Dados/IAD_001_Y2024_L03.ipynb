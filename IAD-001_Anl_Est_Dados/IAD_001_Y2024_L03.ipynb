{
  "nbformat": 4,
  "nbformat_minor": 0,
  "metadata": {
    "colab": {
      "provenance": [],
      "toc_visible": true
    },
    "kernelspec": {
      "name": "python3",
      "display_name": "Python 3"
    }
  },
  "cells": [
    {
      "cell_type": "markdown",
      "source": [
        "# <font face=\"Verdana\" size=6 color='#6495ED'> ANÁLISE ESTATÍSTICA DE DADOS\n",
        "\n",
        "<font face=\"Verdana\" size=3 color='#40E0D0'> Profs. Larissa Driemeier e Arturo Forner-Cordero\n",
        "\n",
        "<center><img src='https://drive.google.com/uc?export=view&id=1nW_7p_LyFhbR0ipjSekPcAj6kDoyK73R' width=\"800\"></center>\n",
        "\n",
        "Este notebook faz parte da aula 02 do curso [IAD-001](https://alunoweb.net/moodle/pluginfile.php/112587/mod_resource/content/2/Aula03_SVD.pdf)."
      ],
      "metadata": {
        "id": "gb9eLCLib609"
      }
    },
    {
      "cell_type": "markdown",
      "source": [
        "# Importando bibliotecas"
      ],
      "metadata": {
        "id": "qcfwqDTQck_i"
      }
    },
    {
      "cell_type": "code",
      "source": [
        "import numpy as np\n",
        "import matplotlib.pyplot as plt"
      ],
      "metadata": {
        "id": "pqVj-652l0OF"
      },
      "execution_count": null,
      "outputs": []
    },
    {
      "cell_type": "markdown",
      "source": [
        "# Sistema de equações lineares\n",
        "\n",
        "Em álgebra linear, um sistema é um conjunto de duas ou mais equações lineares,\n",
        "$$\n",
        "a_{1,1}x_1 + a_{1,2}x_2 + \\cdots + a_{1,n}x_n = b_1 \\\\ a_{2,1}x_1 + a_{2,2}x_2 + \\cdots + a_{2,n}x_n = b_2 \\\\ \\cdots \\\\ a_{m,1}x_1 + a_{m,2}x_2 + \\cdots + a_{m,n}x_n = b_n\n",
        "$$\n",
        "\n",
        "Todas as equações dependem do mesmo conjunto de variáveis desconhecidas $\\boldsymbol{x}$ e devem ser consideradas simultaneamente na resolução do sistema. As variáveis conhecidas são $a_{1,1}\\cdots a_{m,n}$ e $b_1 \\cdots b_n$.\n",
        "\n",
        "Pode-se escrever matricialmente $\\boldsymbol{Ax}=\\boldsymbol{b}$:\n",
        "\n",
        "$$\n",
        "\\begin{bmatrix} a_{1,1} & a_{1,2} & \\cdots & a_{1,n} \\\\ a_{2,1} & a_{2,2} & \\cdots & a_{2,n} \\\\ \\cdots & \\cdots & \\cdots & \\cdots \\\\ a_{m,1} & a_{m,2} & \\cdots & a_{m,n} \\end{bmatrix} \\begin{bmatrix} x_1 \\\\ x_2 \\\\ \\cdots \\\\ x_n \\end{bmatrix} = \\begin{bmatrix} b_1 \\\\ b_2 \\\\ \\cdots \\\\ b_n \\end{bmatrix}\n",
        "$$\n",
        "\n",
        "\n",
        "As colunas de  $\\boldsymbol{A}$ nos dão as direções pelas quais podemos viajar e seus pesos  $\\boldsymbol{x}$ são o comprimento do caminho em cada direção.\n",
        "\n",
        "O número de colunas de $\\boldsymbol{A}$ é o número de dimensões do nosso espaço vetorial.\n",
        "\n",
        "O número de soluções do nosso sistema linear corresponde ao número de maneiras pelas quais podemos alcançar $\\boldsymbol{b}$ percorrendo nossas 𝑛 dimensões.\n",
        "\n",
        "\n",
        "<center><img src='https://drive.google.com/uc?export=view&id=1WGm8LXWnFIfmWYjJrnmo_1bfPrr4TqTz' width=\"800\"></center>\n",
        "\n",
        "\n",
        "Um sistema de equações subdeterminado é um sistema com menos equações do que incógnitas"
      ],
      "metadata": {
        "id": "q0OEXRZYNcoP"
      }
    },
    {
      "cell_type": "code",
      "source": [
        "A = np.array([[1, 1, 1],\n",
        "              [1, -1, 2],\n",
        "              [2, 0, 3]])\n",
        "b = np.array([3, 2, 1])\n",
        "#np.linalg.solve(A, b) # ERRO\n",
        "print(np.linalg.det(A))"
      ],
      "metadata": {
        "colab": {
          "base_uri": "https://localhost:8080/"
        },
        "id": "3SpIT0MeQZHP",
        "outputId": "9063f36a-d4ef-4b40-dcdd-a65febe488df"
      },
      "execution_count": null,
      "outputs": [
        {
          "output_type": "stream",
          "name": "stdout",
          "text": [
            "0.0\n"
          ]
        }
      ]
    },
    {
      "cell_type": "code",
      "source": [
        "A = np.array([[1, 1, 1],\n",
        "              [1, -1, 2],\n",
        "              [0, 1, 1]])\n",
        "b = np.array([3, 2, 2])\n",
        "np.linalg.solve(A, b)"
      ],
      "metadata": {
        "colab": {
          "base_uri": "https://localhost:8080/"
        },
        "id": "-VZBG8bnQvAU",
        "outputId": "164d2ba1-c6c3-4378-e8ab-9bebccd5488b"
      },
      "execution_count": null,
      "outputs": [
        {
          "output_type": "execute_result",
          "data": {
            "text/plain": [
              "array([1., 1., 1.])"
            ]
          },
          "metadata": {},
          "execution_count": 28
        }
      ]
    },
    {
      "cell_type": "code",
      "source": [
        "print(np.linalg.det(A))"
      ],
      "metadata": {
        "colab": {
          "base_uri": "https://localhost:8080/"
        },
        "id": "Kz7I6ZkBQ8T8",
        "outputId": "5fb5e45e-506f-40ad-8961-2c132857bfb5"
      },
      "execution_count": null,
      "outputs": [
        {
          "output_type": "stream",
          "name": "stdout",
          "text": [
            "-2.9999999999999996\n"
          ]
        }
      ]
    },
    {
      "cell_type": "code",
      "source": [
        "A = np.array([[1, 1, 1],\n",
        "              [1, -1, 2],\n",
        "              [2, 0, 3]])\n",
        "b = np.array([3, 2, 5])\n",
        "#np.linalg.solve(A, b)\n",
        "print(np.linalg.det(A))"
      ],
      "metadata": {
        "colab": {
          "base_uri": "https://localhost:8080/"
        },
        "id": "N3oegYBQQ-gm",
        "outputId": "8b76cd25-1288-483f-c4b9-228dcaa8ca2d"
      },
      "execution_count": null,
      "outputs": [
        {
          "output_type": "stream",
          "name": "stdout",
          "text": [
            "0.0\n"
          ]
        }
      ]
    },
    {
      "cell_type": "markdown",
      "source": [
        "Existe um método para destinguir entre sistemas lineares sem solução e sistemas lineares com infinitas soluções, mas não faz parte do nosso escopo. Você pode aprender, se tiver interesse, nesse [link](https://towardsdatascience.com/how-do-you-use-numpy-scipy-and-sympy-to-solve-systems-of-linear-equations-9afed2c388af)."
      ],
      "metadata": {
        "id": "JsSQKrbgRhg1"
      }
    },
    {
      "cell_type": "markdown",
      "source": [
        "### Matriz inversa"
      ],
      "metadata": {
        "id": "gfRaR-CDrCtb"
      }
    },
    {
      "cell_type": "code",
      "source": [
        "import numpy as np\n",
        "#Matriz 3x3\n",
        "A = np.array([[1,1,3],\n",
        "              [1,2,4],\n",
        "              [1,1,2]])\n",
        "\n",
        "# Inversa\n",
        "print(np.linalg.inv(A))"
      ],
      "metadata": {
        "colab": {
          "base_uri": "https://localhost:8080/"
        },
        "id": "KZYER4yrrEdj",
        "outputId": "80536e32-8bac-4268-cc3a-ff23d1a715b3"
      },
      "execution_count": null,
      "outputs": [
        {
          "output_type": "stream",
          "name": "stdout",
          "text": [
            "[[ 0. -1.  2.]\n",
            " [-2.  1.  1.]\n",
            " [ 1. -0. -1.]]\n"
          ]
        }
      ]
    },
    {
      "cell_type": "code",
      "source": [
        "A = np.array([[1, -1, 4],\n",
        "              [3, 0, 1],\n",
        "              [-1, 1, -4]])\n",
        "\n",
        "# Inversa\n",
        "print(np.linalg.det(A))"
      ],
      "metadata": {
        "colab": {
          "base_uri": "https://localhost:8080/"
        },
        "id": "cXRymIPiQKFt",
        "outputId": "c416bfb5-b7d3-475b-ac54-828f4f8cd729"
      },
      "execution_count": null,
      "outputs": [
        {
          "output_type": "stream",
          "name": "stdout",
          "text": [
            "0.0\n"
          ]
        }
      ]
    },
    {
      "cell_type": "markdown",
      "source": [
        "#Autovalores e autovetores\n",
        "\n",
        "Em inglês, autovalores e autovetores chamam-se, respectivamente, *eigenvalues* e *eigenvectors*. Mas, a palavra original é alemã, *eigen*, e significa *próprio, peculiar*. Mas, isso não explica muito. É uma curiosidade.\n",
        "\n",
        "Dado um operador linear $ {\\bf A}  \\in \\mathbb{R}^{n\\times n}$, existe um conjunto de $n$ vetores $ \\bf {v}_i $, cada um com a dimensão $n$, de modo que a multiplicação de qualquer um desses vetores por $ {\\bf A } $ resulta em um vetor paralelo a $ \\bf {v} _i $, com um comprimento multiplicado por uma constante $ \\lambda_i $,\n",
        "\n",
        "$$ {\\bf A} \\bf {v} _i = \\lambda_i \\bf {v}_i $$\n",
        "\n",
        "onde $ \\lambda_i $ são os *autovalores* e os vetores $ \\bf {v}_i $ são os *autovetores*.\n",
        "\n",
        "**Importante: autovalores e autovetores são uma característica da matriz ${\\bf A}$.** O número de autovalores e autovetores é igual ao rank da matriz.\n",
        "\n",
        "Use a biblioteca `numpy` para calcular autovalores e autovetores da matriz de covariância que estamos usando como exemplo.\n",
        "```\n",
        "autovalores, autovetores = LA.eig(cov)\n",
        "```\n",
        "Veja que os autovetores são as colunas da matriz `autovetores`, e referem-se aos autovalores listados no vetor `autovalores`."
      ],
      "metadata": {
        "id": "649I0MqBmBRy"
      }
    },
    {
      "cell_type": "markdown",
      "source": [
        "Calcule os autovalores e autovetores da matriz $\\boldsymbol{A}$:\n",
        "\n",
        "$$\\boldsymbol{A} = \\begin{bmatrix}\n",
        "2 & 2 & 4\\\\\n",
        "1 & 3 & 5\\\\\n",
        "2 & 3 & 4\\\\\n",
        "\\end{bmatrix}$$"
      ],
      "metadata": {
        "id": "MBa6sIzxr-TF"
      }
    },
    {
      "cell_type": "code",
      "source": [
        "A = np.array([[2, 2, 4],\n",
        "              [1, 3, 5],\n",
        "              [2, 3, 4]])\n",
        "w,v=np.linalg.eig(A)\n",
        "print('Autovalores:\\n', w)\n",
        "print('Autovetores:\\n', v)"
      ],
      "metadata": {
        "colab": {
          "base_uri": "https://localhost:8080/"
        },
        "id": "_oTrbOdcptW3",
        "outputId": "eb5e180d-2d72-45c1-8ee5-0702b48c47c2"
      },
      "execution_count": null,
      "outputs": [
        {
          "output_type": "stream",
          "name": "stdout",
          "text": [
            "Autovalores:\n",
            " [ 8.80916362  0.92620912 -0.73537273]\n",
            "Autovetores:\n",
            " [[-0.52799324 -0.77557092 -0.36272811]\n",
            " [-0.604391    0.62277013 -0.7103262 ]\n",
            " [-0.59660259 -0.10318482  0.60321224]]\n"
          ]
        }
      ]
    },
    {
      "cell_type": "markdown",
      "source": [
        "São dois passos básicos para encontrar autovalores e autovetores:\n",
        "\n",
        "1. Encontre os autovalores $\\lambda_i$;\n",
        "2. 'Conecte' cada autovalor $\\lambda_i$ para obter um sistema de equações lineares para os valores dos componentes do autovetor $\\mathbf v_i$ correspondente e resolva esse sistema linear.\n",
        "\n",
        "#### Autovalores\n",
        "\n",
        "Os autovalores são obtidos desenvolvendo a equação que os define, ié,\n",
        "$$ {\\bf A} \\mathbf{v} _i - \\lambda_i \\mathbf {v}_i = \\mathbf 0$$\n",
        "i.é,\n",
        "$$ \\left({\\mathbf A} - \\lambda_i \\mathbf{I} \\right)\\mathbf {v}_i = \\mathbf 0$$\n",
        "\n",
        "Para obter solução diferente da trivial, $\\bf v = \\bf 0$, deve-se tomar o determinante da matriz entre parenteses e igualar a zero,\n",
        "\n",
        "$${\\text{det}}\\left( \\bf{A} - \\lambda \\mathbf{I}\\right) = 0 $$\n",
        "\n",
        "O determinante acima resulta em uma equação polinomial que depende exlcusivamente de $\\lambda$. As soluções ou raízes da equação são os autovalores $\\lambda_i$. O valor máximo de $i$ depende do grau do polinômio.\n",
        "\n",
        "Por exemplo,\n",
        "\n",
        "$$\n",
        "{\\bf A} =\n",
        "\\begin{bmatrix}\n",
        "2 & 1 & 1 \\\\\n",
        "5 & 4 & 7 \\\\\n",
        "-1 & -1 & 0\n",
        "\\end{bmatrix}\n",
        "$$\n",
        "\n",
        "\n",
        "Para achar os autovalores,\n",
        "$$\n",
        "{\\text{det}}( \\bf{A} - \\lambda I) =\n",
        "\\begin{vmatrix}\n",
        "2-\\lambda & 1 & 1 \\\\\n",
        "5 & 4-\\lambda & 7 \\\\\n",
        "-1 & -1 & 0-\\lambda\n",
        "\\end{vmatrix} = 0.$$\n",
        "\n",
        "A equação característica é\n",
        "$$\\lambda^3 - 6\\lambda^2 + 11\\lambda -6 = 0$$\n",
        "\n",
        "e tem três soluções,\n",
        "$$ \\lambda = 3, 2, 1$$\n",
        "\n",
        "A equação característica de uma matriz e as soluções podem ser encontradas com ajuda da biblioteca `numpy`(sempre ela...),\n",
        "```\n",
        "A=np.array([[2,1,1],[5,4,7],[-1, -1, 0]])\n",
        "ce=np.poly(A)\n",
        "p=np.poly1d(ce)\n",
        "print(p)\n",
        "print((np.roots(p)).real)\n",
        "```"
      ],
      "metadata": {
        "id": "QStEQRdim56S"
      }
    },
    {
      "cell_type": "markdown",
      "source": [
        "\n",
        "#### Autovetores\n",
        "\n",
        "Substitui-se cada autovalor na equação básica definida inicialmente, $\\left({\\mathbf A} - \\lambda_i \\mathbf{I} \\right)\\mathbf {v}_i = \\mathbf 0 $, que resulta em um *sistema linear*. Por exemplo, para $ \\lambda_3 = 1 $, temos\n",
        "\n",
        "$$\n",
        "\\left({\\mathbf A} -  \\mathbf{I} \\right)\\mathbf {v}_3 = \\mathbf 0\n",
        "$$\n",
        "i.e.\n",
        "\n",
        "$$\n",
        "\\begin{bmatrix}\n",
        "2-1 & 1 & 1 \\\\\n",
        "5 & 4-1 & 7 \\\\\n",
        "-1 & -1 & 0-1\n",
        "\\end{bmatrix}\n",
        "\\begin{bmatrix}\n",
        "{v_{3}}_1\\\\\n",
        "{v_{3}}_2\\\\\n",
        "{v_{3}}_3\\\\\n",
        "\\end{bmatrix}\n",
        "=\n",
        "\\begin{bmatrix}\n",
        "0\\\\\n",
        "0\\\\\n",
        "0\\\\\n",
        "\\end{bmatrix}\n",
        "$$\n",
        "\n",
        "onde ${v_3}_i$ é cada uma das três componentes do terceiro autovetor $\\mathbf v_3$.\n",
        "Ou seja, 3 equações para 3 incógnitas, ... Porém, como o determinante da matriz é nulo, não é possível encontrar uma solução única e pode-se arbitrariamente escalonar os autovetores. Portanto, os autovetores são, em geral, normalizados de forma que  $|| \\mathbf{v}_i||=\\sqrt{{v_{3}}_1^2+{v_{3}}_2^2+{v_{3}}_3^2}=1$. Com a nova equação, as soluções obtidas serão,\n",
        "\n",
        " $$\n",
        " \\lambda_1 = 3 \\qquad \\mathbf v_1 = {1\\over \\sqrt{6}}\\begin{bmatrix}\n",
        "1\\\\\n",
        "2\\\\\n",
        "-1\n",
        "\\end{bmatrix} \\\\\\\n",
        " \\lambda_2 = 2 \\qquad \\mathbf v_2 = {1\\over \\sqrt{3}}\\begin{bmatrix}\n",
        "1\\\\\n",
        "1\\\\\n",
        "-1\n",
        "\\end{bmatrix} \\\\\\\n",
        " \\lambda_3 = 1 \\qquad \\mathbf v_3 = {1\\over \\sqrt{6}}\\begin{bmatrix}\n",
        "-2\\\\\n",
        "1\\\\\n",
        "1\n",
        "\\end{bmatrix}$$\n",
        "\n",
        "Checando nossas respostas com a bilbioteca `numpy`:"
      ],
      "metadata": {
        "id": "EoIhobAym-6I"
      }
    },
    {
      "cell_type": "code",
      "source": [
        "A=np.array([[2,1,1],[5,4,7],[-1, -1, 0]])\n",
        "ce=np.poly(A)\n",
        "p=np.poly1d(ce)\n",
        "print(p)\n",
        "print((np.roots(p)).real)"
      ],
      "metadata": {
        "id": "kSBi4jYbm-Zp"
      },
      "execution_count": null,
      "outputs": []
    },
    {
      "cell_type": "code",
      "source": [
        "#Nossa solução:\n",
        "A=np.array([[2,1,1],[5,4,7],[-1, -1, 0]])\n",
        "#Numpy\n",
        "#A função abaixo ordena os autovalores em ordem decrescente - fundamental em PCA, como veremos mais adiante\n",
        "#Subrotina extraída de https://drscotthawley.github.io/devblog3/2019/12/21/PCA-From-Scratch.html\n",
        "def sorted_eig(A):\n",
        "    lambda_i, v_i = LA.eig(A)\n",
        "    # Next line just sorts values & vectors together in order of decreasing eigenvalues\n",
        "    lambda_i, v_i = zip(*sorted(zip(list(lambda_i), list(v_i.T)),key=lambda x: x[0], reverse=True))\n",
        "    return lambda_i, np.array(v_i).T  # un-doing the list-casting from the previous line\n",
        "\n",
        "autovalores1, autovetores1 = sorted_eig(A)\n",
        "print(' '*15,'Teoria',' '*30,'Numpy')\n",
        "print(np.array([1,2,-1])/np.sqrt(6), autovetores1[:,0])\n",
        "print(np.array([1,1,-1])/np.sqrt(3), autovetores1[:,1])\n",
        "print(np.array([-2,1,1])/np.sqrt(6), autovetores1[:,2])"
      ],
      "metadata": {
        "id": "rzDnimienHX-"
      },
      "execution_count": null,
      "outputs": []
    },
    {
      "cell_type": "markdown",
      "source": [
        " ![Transf Afim](https://drive.google.com/uc?export=view&id=1Iv7Tzh6SqorQmiGmr1xAGFbqgcox9awW)"
      ],
      "metadata": {
        "id": "qOUIyB5Ru93U"
      }
    }
  ]
}