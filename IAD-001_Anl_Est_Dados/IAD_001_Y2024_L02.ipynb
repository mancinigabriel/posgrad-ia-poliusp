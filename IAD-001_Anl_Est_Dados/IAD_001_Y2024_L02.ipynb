{
  "cells": [
    {
      "cell_type": "markdown",
      "metadata": {
        "id": "gb9eLCLib609"
      },
      "source": [
        "# <font face=\"Verdana\" size=6 color='#6495ED'> ANÁLISE ESTATÍSTICA DE DADOS\n",
        "\n",
        "<font face=\"Verdana\" size=3 color='#40E0D0'> Profs. Larissa Driemeier e Arturo Forner-Cordero\n",
        "\n",
        "<center><img src='https://drive.google.com/uc?export=view&id=1nW_7p_LyFhbR0ipjSekPcAj6kDoyK73R' width=\"800\"></center>\n",
        "\n",
        "Este notebook faz parte da aula 02 do curso [IAD-001](https://alunoweb.net/moodle/pluginfile.php/139715/mod_resource/content/4/EST_02_Y2024.pdf)."
      ]
    },
    {
      "cell_type": "markdown",
      "metadata": {
        "id": "qcfwqDTQck_i"
      },
      "source": [
        "# Importando bibliotecas"
      ]
    },
    {
      "cell_type": "code",
      "execution_count": 1,
      "metadata": {
        "id": "pqVj-652l0OF"
      },
      "outputs": [],
      "source": [
        "import numpy as np\n",
        "import matplotlib.pyplot as plt\n",
        "from mpl_toolkits.mplot3d import Axes3D\n",
        "from mpl_toolkits.mplot3d.art3d import Poly3DCollection, Line3DCollection"
      ]
    },
    {
      "cell_type": "markdown",
      "metadata": {
        "id": "AiexBozPmFSV"
      },
      "source": [
        "# Escalares, Vetores, Matrizes e Tensores\n",
        "\n",
        "__Escalares:__ são apenas um único número. Por exemplo, temperatura, idade, altura, glicemia de jejum, que são denotados por apenas um número.\n",
        "\n",
        "__Vetores:__ Um vetor é uma tupla de dois ou mais escalares. Os vetores são construídos a partir de componentes, organizados em ordem e podemos identificar cada número individual por seu índice nessa ordenação. Você pode pensar em um vetor como uma lista de números que representam pontos de identificação no espaço, com cada elemento dando a coordenada ao longo de um eixo diferente. Em termos simples, um vetor é uma seta que representa uma quantidade que tem magnitude e direção, em que o comprimento da seta representa a magnitude e a orientação indica a direção. Por exemplo vento, velocidade que tem uma direção e magnitude.\n",
        "\n",
        "__Matrizes:__ Matriz é um conjunto de números dispostos em linhas e colunas de modo a formar uma estrutura 2D. Portanto, cada elemento é identificado por dois índices em vez de apenas um. Se uma matriz de valor real $\\boldsymbol{A}$ tem altura $m$ e largura $n$, então dizemos que $\\boldsymbol{A} \\in \\mathbb{R}^{m \\times n}$. Identificamos os elementos da matriz como $a_{i,j}$ onde $i$ representa a linha e $j$ representa a coluna do elemento.\n",
        "\n",
        "__Tensores:__ são generalizações de escalares (que não têm índices), vetores (que têm exatamente um índice) e matrizes (que têm exatamente dois índices) para um número arbitrário de índices. Um escalar é um tensor de dimensão 0 (0D). Ele, portanto, tem 0 eixos e é de rank 0 (nomenclatura de tensor para *número de eixos*). Um vetor é um tensor de dimensão única (1D), comumente chamado de *array*. Tem 1 eixo e é de rank 1. Uma matriz é um tensor de rank 2, o que significa que tem 2 eixos. Embora, tecnicamente, essas construções (escalares, vetores e matrizes) sejam *tensores*, coloquialmente, chamamos somente aquilo que é maior que uma matriz de *tensor*, a fim de evitar confusão.\n",
        "\n",
        "O código abaixo cria um tensor 3D. Se fôssemos empacotar uma série deles em um contêiner de tensor de ordem superior, ele seria referido como um tensor 4D; embalá-los em outra ordem superior, 5D, e assim por diante.\n",
        "\n",
        "<center><img src='https://drive.google.com/uc?export=view&id=16FdzWzqhVQwc0SS8hTg1WWjijXwLKE7K' width=\"600\"></center>\n",
        "\n"
      ]
    },
    {
      "cell_type": "markdown",
      "metadata": {
        "id": "GGuWXPuCmKA_"
      },
      "source": [
        "* `np.ndim`: O número de dimensões (eixos) do *array*;\n",
        "* `np.shape`: Uma tupla de *N* inteiros positivos que especifica o tamanho (número de elementos) de cada dimensão. Para uma matriz com *m* linhas e *n* colunas, a forma será *(m, n)*. O comprimento da forma da tupla é, portanto, o número de dimensões, definido com `np.ndim`.\n",
        "* `np.size`: O número total de elementos na matriz. Isso é igual ao produto dos elementos de `n.shape`.\n",
        "\n",
        "Extraído do [link](https://towardsdatascience.com/numpy-for-data-science-part-1-21e2c5ddbbd3)."
      ]
    },
    {
      "cell_type": "code",
      "execution_count": null,
      "metadata": {
        "id": "Zh7dSLkxmN0O"
      },
      "outputs": [],
      "source": [
        "x = np.array(42)\n",
        "print(x)\n",
        "print('Um escalar tem rank %d' %(x.ndim))\n",
        "x.ndim,x.shape"
      ]
    },
    {
      "cell_type": "code",
      "execution_count": null,
      "metadata": {
        "id": "4pmUF7HMmN5k"
      },
      "outputs": [],
      "source": [
        "x = np.array([1, 1, 2, 3, 5, 8])\n",
        "print(x)\n",
        "print('Um vetor tem rank {:d}'.format(x.ndim))\n",
        "x.ndim,x.shape"
      ]
    },
    {
      "cell_type": "code",
      "execution_count": null,
      "metadata": {
        "id": "MWMSPw1GfXFJ"
      },
      "outputs": [],
      "source": [
        "x.size"
      ]
    },
    {
      "cell_type": "markdown",
      "metadata": {
        "id": "gYWmzPmpmLFl"
      },
      "source": [
        "Observe na resposta acima para `x.ndim, x.shape`: (1, (6,)). Isso representa o fato de que o tensor `x` tem 1 dimensão (rank 1) com 6 elementos.\n",
        "\n",
        "Na resposta abaixo para `x.ndim, x.shape`: (2, (3,3)). Isso representa o fato de que o tensor `x` tem 2 dimensões (rank 2) com 3x3 elementos em cada dimensão."
      ]
    },
    {
      "cell_type": "code",
      "execution_count": null,
      "metadata": {
        "id": "F5s_VpNnmVoT"
      },
      "outputs": [],
      "source": [
        "x = np.array([[1, 4, 7],\n",
        "              [2, 5, 8],\n",
        "              [3, 6, 9]])\n",
        "print(x)\n",
        "print('A matriz tem rank {:d}'.format(x.ndim))\n",
        "x.ndim,x.shape"
      ]
    },
    {
      "cell_type": "code",
      "execution_count": null,
      "metadata": {
        "id": "whl5wliGfcM_"
      },
      "outputs": [],
      "source": [
        "x.size"
      ]
    },
    {
      "cell_type": "code",
      "execution_count": null,
      "metadata": {
        "id": "j3yY8FVrmYJ9"
      },
      "outputs": [],
      "source": [
        "x = np.array([[[1, 4, 7],\n",
        "               [2, 5, 8],\n",
        "               [3, 6, 9]],\n",
        "              [[10, 40, 70],\n",
        "               [20, 50, 80],\n",
        "               [30, 60, 90]]])\n",
        "print(x)\n",
        "print('O tensor mostrado é de rank {:d}'.format(x.ndim))\n",
        "x.ndim,x.shape"
      ]
    },
    {
      "cell_type": "code",
      "execution_count": null,
      "metadata": {
        "id": "eUEw3SjCguYA"
      },
      "outputs": [],
      "source": [
        "x.size"
      ]
    },
    {
      "cell_type": "markdown",
      "metadata": {
        "id": "2ou5puWInGik"
      },
      "source": [
        "## Exemplo\n",
        "\n",
        "Veja o tensor que representa a imagem do elefante abaixo.\n",
        "\n",
        "<center><img src='https://drive.google.com/uc?export=view&id=12G94QvL3K_7Ht0OCBifcWfzPoFVKdwHI' width=\"400\"></center>\n"
      ]
    },
    {
      "cell_type": "code",
      "execution_count": null,
      "metadata": {
        "colab": {
          "base_uri": "https://localhost:8080/",
          "height": 73
        },
        "id": "ub6yJ36QoV9V",
        "outputId": "f19d85a5-b795-475d-a796-5c2b8534d5e5"
      },
      "outputs": [
        {
          "data": {
            "text/html": [
              "\n",
              "     <input type=\"file\" id=\"files-9cfcd898-306e-42f4-8fa4-316cf0e074d1\" name=\"files[]\" multiple disabled\n",
              "        style=\"border:none\" />\n",
              "     <output id=\"result-9cfcd898-306e-42f4-8fa4-316cf0e074d1\">\n",
              "      Upload widget is only available when the cell has been executed in the\n",
              "      current browser session. Please rerun this cell to enable.\n",
              "      </output>\n",
              "      <script>// Copyright 2017 Google LLC\n",
              "//\n",
              "// Licensed under the Apache License, Version 2.0 (the \"License\");\n",
              "// you may not use this file except in compliance with the License.\n",
              "// You may obtain a copy of the License at\n",
              "//\n",
              "//      http://www.apache.org/licenses/LICENSE-2.0\n",
              "//\n",
              "// Unless required by applicable law or agreed to in writing, software\n",
              "// distributed under the License is distributed on an \"AS IS\" BASIS,\n",
              "// WITHOUT WARRANTIES OR CONDITIONS OF ANY KIND, either express or implied.\n",
              "// See the License for the specific language governing permissions and\n",
              "// limitations under the License.\n",
              "\n",
              "/**\n",
              " * @fileoverview Helpers for google.colab Python module.\n",
              " */\n",
              "(function(scope) {\n",
              "function span(text, styleAttributes = {}) {\n",
              "  const element = document.createElement('span');\n",
              "  element.textContent = text;\n",
              "  for (const key of Object.keys(styleAttributes)) {\n",
              "    element.style[key] = styleAttributes[key];\n",
              "  }\n",
              "  return element;\n",
              "}\n",
              "\n",
              "// Max number of bytes which will be uploaded at a time.\n",
              "const MAX_PAYLOAD_SIZE = 100 * 1024;\n",
              "\n",
              "function _uploadFiles(inputId, outputId) {\n",
              "  const steps = uploadFilesStep(inputId, outputId);\n",
              "  const outputElement = document.getElementById(outputId);\n",
              "  // Cache steps on the outputElement to make it available for the next call\n",
              "  // to uploadFilesContinue from Python.\n",
              "  outputElement.steps = steps;\n",
              "\n",
              "  return _uploadFilesContinue(outputId);\n",
              "}\n",
              "\n",
              "// This is roughly an async generator (not supported in the browser yet),\n",
              "// where there are multiple asynchronous steps and the Python side is going\n",
              "// to poll for completion of each step.\n",
              "// This uses a Promise to block the python side on completion of each step,\n",
              "// then passes the result of the previous step as the input to the next step.\n",
              "function _uploadFilesContinue(outputId) {\n",
              "  const outputElement = document.getElementById(outputId);\n",
              "  const steps = outputElement.steps;\n",
              "\n",
              "  const next = steps.next(outputElement.lastPromiseValue);\n",
              "  return Promise.resolve(next.value.promise).then((value) => {\n",
              "    // Cache the last promise value to make it available to the next\n",
              "    // step of the generator.\n",
              "    outputElement.lastPromiseValue = value;\n",
              "    return next.value.response;\n",
              "  });\n",
              "}\n",
              "\n",
              "/**\n",
              " * Generator function which is called between each async step of the upload\n",
              " * process.\n",
              " * @param {string} inputId Element ID of the input file picker element.\n",
              " * @param {string} outputId Element ID of the output display.\n",
              " * @return {!Iterable<!Object>} Iterable of next steps.\n",
              " */\n",
              "function* uploadFilesStep(inputId, outputId) {\n",
              "  const inputElement = document.getElementById(inputId);\n",
              "  inputElement.disabled = false;\n",
              "\n",
              "  const outputElement = document.getElementById(outputId);\n",
              "  outputElement.innerHTML = '';\n",
              "\n",
              "  const pickedPromise = new Promise((resolve) => {\n",
              "    inputElement.addEventListener('change', (e) => {\n",
              "      resolve(e.target.files);\n",
              "    });\n",
              "  });\n",
              "\n",
              "  const cancel = document.createElement('button');\n",
              "  inputElement.parentElement.appendChild(cancel);\n",
              "  cancel.textContent = 'Cancel upload';\n",
              "  const cancelPromise = new Promise((resolve) => {\n",
              "    cancel.onclick = () => {\n",
              "      resolve(null);\n",
              "    };\n",
              "  });\n",
              "\n",
              "  // Wait for the user to pick the files.\n",
              "  const files = yield {\n",
              "    promise: Promise.race([pickedPromise, cancelPromise]),\n",
              "    response: {\n",
              "      action: 'starting',\n",
              "    }\n",
              "  };\n",
              "\n",
              "  cancel.remove();\n",
              "\n",
              "  // Disable the input element since further picks are not allowed.\n",
              "  inputElement.disabled = true;\n",
              "\n",
              "  if (!files) {\n",
              "    return {\n",
              "      response: {\n",
              "        action: 'complete',\n",
              "      }\n",
              "    };\n",
              "  }\n",
              "\n",
              "  for (const file of files) {\n",
              "    const li = document.createElement('li');\n",
              "    li.append(span(file.name, {fontWeight: 'bold'}));\n",
              "    li.append(span(\n",
              "        `(${file.type || 'n/a'}) - ${file.size} bytes, ` +\n",
              "        `last modified: ${\n",
              "            file.lastModifiedDate ? file.lastModifiedDate.toLocaleDateString() :\n",
              "                                    'n/a'} - `));\n",
              "    const percent = span('0% done');\n",
              "    li.appendChild(percent);\n",
              "\n",
              "    outputElement.appendChild(li);\n",
              "\n",
              "    const fileDataPromise = new Promise((resolve) => {\n",
              "      const reader = new FileReader();\n",
              "      reader.onload = (e) => {\n",
              "        resolve(e.target.result);\n",
              "      };\n",
              "      reader.readAsArrayBuffer(file);\n",
              "    });\n",
              "    // Wait for the data to be ready.\n",
              "    let fileData = yield {\n",
              "      promise: fileDataPromise,\n",
              "      response: {\n",
              "        action: 'continue',\n",
              "      }\n",
              "    };\n",
              "\n",
              "    // Use a chunked sending to avoid message size limits. See b/62115660.\n",
              "    let position = 0;\n",
              "    do {\n",
              "      const length = Math.min(fileData.byteLength - position, MAX_PAYLOAD_SIZE);\n",
              "      const chunk = new Uint8Array(fileData, position, length);\n",
              "      position += length;\n",
              "\n",
              "      const base64 = btoa(String.fromCharCode.apply(null, chunk));\n",
              "      yield {\n",
              "        response: {\n",
              "          action: 'append',\n",
              "          file: file.name,\n",
              "          data: base64,\n",
              "        },\n",
              "      };\n",
              "\n",
              "      let percentDone = fileData.byteLength === 0 ?\n",
              "          100 :\n",
              "          Math.round((position / fileData.byteLength) * 100);\n",
              "      percent.textContent = `${percentDone}% done`;\n",
              "\n",
              "    } while (position < fileData.byteLength);\n",
              "  }\n",
              "\n",
              "  // All done.\n",
              "  yield {\n",
              "    response: {\n",
              "      action: 'complete',\n",
              "    }\n",
              "  };\n",
              "}\n",
              "\n",
              "scope.google = scope.google || {};\n",
              "scope.google.colab = scope.google.colab || {};\n",
              "scope.google.colab._files = {\n",
              "  _uploadFiles,\n",
              "  _uploadFilesContinue,\n",
              "};\n",
              "})(self);\n",
              "</script> "
            ],
            "text/plain": [
              "<IPython.core.display.HTML object>"
            ]
          },
          "metadata": {},
          "output_type": "display_data"
        },
        {
          "name": "stdout",
          "output_type": "stream",
          "text": [
            "Saving Elefante.png to Elefante.png\n"
          ]
        }
      ],
      "source": [
        "from google.colab import files\n",
        "uploaded = files.upload()"
      ]
    },
    {
      "cell_type": "code",
      "execution_count": null,
      "metadata": {
        "id": "4dK7TbpfIzOe"
      },
      "outputs": [],
      "source": [
        "from PIL import Image\n",
        "\n",
        "img = Image.open('Elefante.png')\n",
        "plt.imshow(img);"
      ]
    },
    {
      "cell_type": "code",
      "execution_count": null,
      "metadata": {
        "id": "2kp3zXvQo0dD"
      },
      "outputs": [],
      "source": [
        "pix = img.load()\n",
        "print(img.size)  # Para sabermos o número de pixels (largura e altura)\n",
        "x,y=0,0\n",
        "print(pix[x,y])  # selecionar o valor RGBA de um pixel da imagem"
      ]
    },
    {
      "cell_type": "markdown",
      "metadata": {
        "id": "kA3lwM0f_NPM"
      },
      "source": [
        "Veja que, como a imagem está no formato PNG possui 4 canais, R (red) B (blue), G (green) e A (alpha). O valor alfa indica a transparência da cor — o quanto a cor é misturada com a cor de fundo. Os valores alfa variam de 0 a 255, onde 0 representa uma cor totalmente transparente e 255 representa uma cor totalmente opaca."
      ]
    },
    {
      "cell_type": "code",
      "execution_count": null,
      "metadata": {
        "id": "nnyyW11SA_G4"
      },
      "outputs": [],
      "source": [
        "data=np.array(img)\n",
        "print(data.shape)\n",
        "data = data[:, :, :3]\n",
        "print(np.shape(data[0,0,:]))\n",
        "data[0,0,:]"
      ]
    },
    {
      "cell_type": "code",
      "execution_count": null,
      "metadata": {
        "id": "bDh05dcNBHRm"
      },
      "outputs": [],
      "source": [
        "data.shape"
      ]
    },
    {
      "cell_type": "markdown",
      "metadata": {
        "id": "_dQnR0B7Euaz"
      },
      "source": [
        "Uma atividade extra...\n",
        "\n",
        "A função `Image.thumbnail` redimensiona para o maior tamanho que (a) preserva a proporção, (b) não excede a imagem original e (c) não ultrapassa o tamanho especificado nos argumentos da função."
      ]
    },
    {
      "cell_type": "code",
      "execution_count": null,
      "metadata": {
        "id": "H9BBc1EtJ0Rs"
      },
      "outputs": [],
      "source": [
        "img.thumbnail((64, 64), Image.LANCZOS)\n",
        "# resizes image in-place\n",
        "imgplot = plt.imshow(img);"
      ]
    },
    {
      "cell_type": "code",
      "execution_count": null,
      "metadata": {
        "id": "ZezVMX-PS0Gs"
      },
      "outputs": [],
      "source": [
        "data=np.array(img)\n",
        "data.shape"
      ]
    },
    {
      "cell_type": "markdown",
      "metadata": {
        "id": "gcvj54BXdVbQ"
      },
      "source": [
        "## Vetores"
      ]
    },
    {
      "cell_type": "markdown",
      "metadata": {
        "id": "9E6Ip5F6d0ey"
      },
      "source": [
        "### Produto interno entre vetores\n",
        "\n",
        "O produto interno entre dois vetores,\n",
        "$$\n",
        "\\boldsymbol{r}=\\begin{bmatrix} r_1 \\\\ r_2 \\\\ \\vdots \\\\ r_n \\end{bmatrix} \\qquad \\boldsymbol{v}=\\begin{bmatrix} v_1 \\\\ v_2 \\\\ \\vdots \\\\ v_n \\end{bmatrix},\n",
        "$$\n",
        "é definido como $\\boldsymbol{r}^T\\boldsymbol{v}=\\boldsymbol{v}^T\\boldsymbol{r}$, ie, $\\sum_ir_iv_i$. Por exemplo:\n",
        "$$\n",
        "\\boldsymbol{r}^T\\boldsymbol{v}=\\begin{bmatrix} r_1 & r_2  & r_3 \\end{bmatrix} \\begin{bmatrix} v_1 \\\\ v_2 \\\\  v_3 \\end{bmatrix}=r_1v_1+r_2v_2+r_3v_3\n",
        "$$\n",
        "\n",
        "Se queremos saber a dimensão de um vetor, basta tirar a raiz do seu produto interno!\n",
        "\n",
        "<center><img src='https://drive.google.com/uc?export=view&id=1zKsFK9sVKPCarAZgmk8ss8-_jl-W6_9R' width=\"400\"></center>\n"
      ]
    },
    {
      "cell_type": "code",
      "execution_count": null,
      "metadata": {
        "id": "djiXlYfKd330"
      },
      "outputs": [],
      "source": [
        "v1 = np.array([10,20,30])\n",
        "v2= np.array([2,3,4])\n",
        "np.inner(v1,v2)"
      ]
    },
    {
      "cell_type": "code",
      "execution_count": null,
      "metadata": {
        "id": "p-nnNHEymiF-"
      },
      "outputs": [],
      "source": [
        "v1 = np.ones(4) #vetor de 1s de dimensão 4: [1.,  1.,  1.,  1.]\n",
        "v2 = np.linspace(-1, 2, 4) #vetor com 4 valores igualmente espaçados de -1 a 2: [-1.,  0.,  1.,  2.]\n",
        "np.outer(v1,v2)"
      ]
    },
    {
      "cell_type": "markdown",
      "metadata": {
        "id": "xV4TFf9zPFLG"
      },
      "source": [
        "### Projeção vetorial e projeção escalar de vetores\n",
        "Dados dois vetores $\\mathbf{u}$ e $\\mathbf{v}$, a projeção escalar de $\\mathbf{v}$ em $\\mathbf{u}$ significa a magnitude de $\\mathbf{v}$ na direção de $\\mathbf{u}$,\n",
        "\\begin{equation}\n",
        "\\frac{\\mathbf{v} \\cdot \\mathbf{u}}{\\left \\| \\mathbf{u} \\right\\|}\n",
        "\\end{equation}\n",
        "\n",
        "onde $\\left \\| \\mathbf{u} \\right\\|$ é o módulo de $\\mathbf{u}=\\sqrt{u_1^2+u_2^2+u_3^2}$.\n",
        "\n",
        "A projeção vetorial significa a magnitude de $\\mathbf{v}$  na direção do vetor $\\mathbf{u}$,\n",
        "\\begin{equation}\n",
        "\\frac{\\mathbf{v} \\cdot \\mathbf{u}}{\\left \\| \\mathbf{u} \\right\\|} \\frac{\\mathbf{u}}{\\left \\| \\mathbf{u} \\right\\|} =\\frac{\\mathbf{v} \\cdot \\mathbf{u}}{\\left \\| \\mathbf{u} \\right\\|^2} \\mathbf{u}\n",
        "\\end{equation}\n",
        "\n",
        "Veja que a projeção escalar é um valor e a projeção vetorial é um vetor com o módulo igual ao valor da projeçaõ escalar.\n"
      ]
    },
    {
      "cell_type": "code",
      "execution_count": null,
      "metadata": {
        "id": "e9vfkrcNPEFH"
      },
      "outputs": [],
      "source": [
        "#Projeção escalar e vetorial, conforme exercício na no slide 22 da aula 02 (recordação de Algebra Linear)\n",
        "u = np.array([3, -4, 0]).T\n",
        "v = np.array([10, 5, -6]).T\n",
        "proj_esc=np.dot(v,u) / np.linalg.norm(u)\n",
        "proj_vet =u * np.dot(v,u) /  (np.linalg.norm(u))**2\n",
        "proj_vet2 = u * np.dot(v,u) / np.dot(u,u) #outra maneira de escrever - veja a figura\n",
        "print('A projeção escalar de v em u é vale {:2.0f}'.format(proj_esc))\n",
        "print('A projeção vetorial de v em u é vale ',proj_vet)\n",
        "print('A projeção vetorial de v em u é vale ',proj_vet2)\n"
      ]
    },
    {
      "cell_type": "code",
      "execution_count": null,
      "metadata": {
        "id": "oh8LTaC_qBSF"
      },
      "outputs": [],
      "source": [
        "u = [1, 3]\n",
        "v = [2, 1]\n",
        "\n",
        "# Plotando uma amostra do conjunto de pontos no intervalo de u e v\n",
        "for a in range(-10, 10):\n",
        "    for b in range(-10, 10):\n",
        "        plt.scatter(u[0] * a + v[0] * b, u[1] * a + v[1] * b, marker='.', color='skyblue')\n",
        "\n",
        "# Definindo as dimensões de x e y\n",
        "plt.xlim(-50, 50)\n",
        "plt.ylim(-50, 50)\n",
        "\n",
        "# Desenhando os eixos\n",
        "plt.axvline(x=0, color='#A9A9A9')\n",
        "plt.axhline(y=0, color='#A9A9A9')\n",
        "\n",
        "plt.show()\n",
        "plt.close()"
      ]
    },
    {
      "cell_type": "markdown",
      "metadata": {
        "id": "70vRwfYvDsVb"
      },
      "source": [
        "<center><img src='https://drive.google.com/uc?export=view&id=1ujfZgxiKwIPTg2EK3z9nPUJwOzfrrwqQ' width=\"800\"></center>\n"
      ]
    },
    {
      "cell_type": "markdown",
      "metadata": {
        "id": "DPPnEfEyjCRx"
      },
      "source": [
        "Abaixo, o exemplo de projeção escalar e vetorial, para os seguintes vetores:\n",
        "\\begin{equation}\n",
        "\\mathbf{u} = \\left( \\begin{matrix} 3 \\\\ -4 \\\\ 0 \\end{matrix} \\right) \\qquad \\mathbf{v} = \\left( \\begin{matrix} 10 \\\\ 5 \\\\ -6 \\end{matrix} \\right)\n",
        "\\end{equation}"
      ]
    },
    {
      "cell_type": "markdown",
      "metadata": {
        "id": "aWpkAavTGmmO"
      },
      "source": [
        "## Matrizes"
      ]
    },
    {
      "cell_type": "markdown",
      "metadata": {
        "id": "iXX9hHl8qKeq"
      },
      "source": [
        "### Multiplicação de matriz por vetor $\\boldsymbol{A} \\times \\boldsymbol{b} = \\boldsymbol{c}$\n",
        "\n",
        "Dada a matriz $\\boldsymbol{A}$ e o vetor $\\boldsymbol{b}$,\n",
        "$$\n",
        "\\boldsymbol{A}= \\begin{bmatrix} 1 & 2 \\\\ 3 & 4 \\\\ 5 & 6 \\end{bmatrix} \\qquad \\boldsymbol{b}=\\begin{bmatrix} 2\\\\ 4 \\end{bmatrix}\n",
        "$$\n",
        "\n",
        "a multiplicação  $\\boldsymbol{A} \\times \\boldsymbol{b} = \\boldsymbol{C}$ é definida por $c_{i} = a_{i,k}b_{k} = \\sum_{k}a_{i,k}b_{k}$:\n",
        "$$\n",
        " \\boldsymbol{c} = \\begin{bmatrix} a_{1,1} & a_{1,2} \\\\ a_{2,1} & a_{2,2} \\\\ a_{3,1} & a_{3,2} \\end{bmatrix}\\times \\begin{bmatrix} b_{1} \\\\ b_{2} \\end{bmatrix}=\\begin{bmatrix} a_{1,1}b_{1} + a_{1,2}b_{2} \\\\ a_{2,1}b_{1} + a_{2,2}b_{2} \\\\ a_{3,1}b_{1} + a_{3,2}b_{2} \\end{bmatrix} $$\n",
        " de forma que\n",
        " $$\n",
        " \\boldsymbol{c} = \\begin{bmatrix} 1 & 2 \\\\ 3 & 4 \\\\ 5 & 6 \\end{bmatrix}\\times \\begin{bmatrix} 2 \\\\ 4 \\end{bmatrix}= \\begin{bmatrix} 1 \\times 2 + 2 \\times 4 \\\\ 3 \\times 2 + 4 \\times 4 \\\\ 5 \\times 2 + 6 \\times 4 \\end{bmatrix}= \\begin{bmatrix} 10 \\\\ 22 \\\\ 34 \\end{bmatrix}\n",
        " $$"
      ]
    },
    {
      "cell_type": "code",
      "execution_count": null,
      "metadata": {
        "id": "I38xGROeqOFI"
      },
      "outputs": [],
      "source": [
        "A = np.array([[1, 2], [3, 4], [5, 6]])\n",
        "b = np.array([[2], [4]])\n",
        "c = np.dot(A, b)\n",
        "print(c)"
      ]
    },
    {
      "cell_type": "markdown",
      "metadata": {
        "id": "-8nKXqmqqT3M"
      },
      "source": [
        "### Multiplicação de duas matrizes\n",
        "Dadas as matrizes $\\boldsymbol{A}$ e $\\boldsymbol{B}$:\n",
        "$$\n",
        "\\boldsymbol{A}=\\begin{bmatrix} 1 & 2 & 3 \\\\ 4 & 5 & 6 \\\\ 7 & 8 & 9 \\\\ 10 & 11 & 12 \\end{bmatrix} \\qquad  \\boldsymbol{B}=\\begin{bmatrix} 2 & 7 \\\\ 1 & 2 \\\\ 3 & 6 \\end{bmatrix}\n",
        "$$\n",
        "a multiplicação  $\\boldsymbol{A} \\times \\boldsymbol{B} = \\boldsymbol{C}$ é definida por $c_{i,j} = a_{i,k}b_{k,j} = \\sum_{k}a_{i,k}b_{k,j}$:\n",
        "\n",
        "$$\n",
        "\\boldsymbol{C}= \\begin{bmatrix} 1 & 2 & 3 \\\\ 4 & 5 & 6 \\\\ 7 & 8 & 9 \\\\ 10 & 11 & 12 \\end{bmatrix} \\begin{bmatrix} 2 & 7 \\\\ 1 & 2 \\\\ 3 & 6 \\end{bmatrix}=\\begin{bmatrix} 2 \\times 1 + 1 \\times 2 + 3 \\times 3 & 7 \\times 1 + 2 \\times 2 + 6 \\times 3 \\\\ 2 \\times 4 + 1 \\times 5 + 3 \\times 6 & 7 \\times 4 + 2 \\times 5 + 6 \\times 6 \\\\ 2 \\times 7 + 1 \\times 8 + 3 \\times 9 & 7 \\times 7 + 2 \\times 8 + 6 \\times 9 \\\\ 2 \\times 10 + 1 \\times 11 + 3 \\times 12 & 7 \\times 10 + 2 \\times 11 + 6 \\times 12 \\\\ \\end{bmatrix} = \\begin{bmatrix} 13 & 29 \\\\ 31 & 74 \\\\ 49 & 119 \\\\ 67 & 164 \\end{bmatrix}\n",
        "$$"
      ]
    },
    {
      "cell_type": "code",
      "execution_count": null,
      "metadata": {
        "id": "XbzGRKEzqSn3"
      },
      "outputs": [],
      "source": [
        "A = np.array([[1, 2, 3], [4, 5, 6], [7, 8, 9], [10, 11, 12]])\n",
        "B = np.array([[2, 7], [1, 2], [3, 6]])\n",
        "C = A.dot(B)\n",
        "print(C)"
      ]
    },
    {
      "cell_type": "code",
      "execution_count": null,
      "metadata": {
        "id": "M1bOchsyJH98"
      },
      "outputs": [],
      "source": [
        "A@B"
      ]
    },
    {
      "cell_type": "markdown",
      "metadata": {
        "id": "cyiVhpSMqerP"
      },
      "source": [
        "#### Propriedades da multiplicação\n",
        "\n",
        "* Transposta: $(\\boldsymbol{AB})^{\\text{T}} = \\boldsymbol{B}^\\text{T}\\boldsymbol{A}^\\text{T}$"
      ]
    },
    {
      "cell_type": "code",
      "execution_count": null,
      "metadata": {
        "id": "7NepkScoqeaz"
      },
      "outputs": [],
      "source": [
        "A = np.array([[2, 3], [1, 4], [7, 6]])\n",
        "B = np.array([[5, 3], [2, 2]])\n",
        "C = np.array([[4, 9], [1, 3]])"
      ]
    },
    {
      "cell_type": "code",
      "execution_count": null,
      "metadata": {
        "id": "sYsV8O82quyH"
      },
      "outputs": [],
      "source": [
        "AB_t = A.dot(B).T\n",
        "B_tA_t = B.T.dot(A.T)\n",
        "print('(AB)^T=\\n',AB_t)\n",
        "print('B^T A^T=\\n',B_tA_t)"
      ]
    },
    {
      "cell_type": "markdown",
      "metadata": {
        "id": "rTBCLDgeIwNf"
      },
      "source": [
        "* Distributiva: $\\boldsymbol{A}(\\boldsymbol{B}+\\boldsymbol{C}) = \\boldsymbol{AB}+ \\boldsymbol{AC}$\n"
      ]
    },
    {
      "cell_type": "code",
      "execution_count": null,
      "metadata": {
        "id": "t5mlUUh0qycc"
      },
      "outputs": [],
      "source": [
        "D1 = A.dot(B+C)\n",
        "D2 = A.dot(B) + A.dot(C)\n",
        "print('D1=\\n',D1)\n",
        "print('D2=\\n',D2)"
      ]
    },
    {
      "cell_type": "markdown",
      "metadata": {
        "id": "AJ-D6EgBI0jX"
      },
      "source": [
        "* Associativa: $\\boldsymbol{A}(\\boldsymbol{BC}) = (\\boldsymbol{AB})\\boldsymbol{C}$"
      ]
    },
    {
      "cell_type": "code",
      "execution_count": null,
      "metadata": {
        "id": "hibV9T73KSTQ"
      },
      "outputs": [],
      "source": [
        "D1 = A.dot(B.dot(C))\n",
        "D2 = (A.dot(B)).dot(C)\n",
        "print('D1=\\n',D1)\n",
        "print('D2=\\n',D2)"
      ]
    },
    {
      "cell_type": "markdown",
      "metadata": {
        "id": "OdzQg6XuI2sK"
      },
      "source": [
        "* Não é comutativa: $\\boldsymbol{AB} \\neq \\boldsymbol{BA}$"
      ]
    },
    {
      "cell_type": "code",
      "execution_count": null,
      "metadata": {
        "id": "g_aXZiGzK0Fe"
      },
      "outputs": [],
      "source": [
        "A = np.array([[2, 3], [6, 5]])\n",
        "B = np.array([[5, 3], [2, 2]])"
      ]
    },
    {
      "cell_type": "code",
      "execution_count": null,
      "metadata": {
        "id": "7ChHBb30Koj0"
      },
      "outputs": [],
      "source": [
        "AB = np.dot(A, B)\n",
        "BA = np.dot(B, A)\n",
        "print('AB=\\n',AB)\n",
        "print('BA=\\n',BA)"
      ]
    },
    {
      "cell_type": "markdown",
      "metadata": {
        "id": "qjFSFByULF_t"
      },
      "source": [
        "### Traço de uma matriz\n",
        "\n",
        "<center><img src='https://drive.google.com/uc?export=view&id=1hX4wCf2aVXWBEI2O3QWA-VW7QvPUdND4' width=\"200\"></center>\n"
      ]
    },
    {
      "cell_type": "code",
      "execution_count": null,
      "metadata": {
        "id": "Q2Yz4P1OLP3O"
      },
      "outputs": [],
      "source": [
        "A = np.array([[0,2, 3], [1,6, 4], [2,6, 1]])\n",
        "np.trace(A)"
      ]
    },
    {
      "cell_type": "markdown",
      "metadata": {
        "id": "wyOWoUif4PiI"
      },
      "source": [
        "### Exercício dos slides\n",
        "Dadas as matrizes $\\boldsymbol{A}$, $\\boldsymbol{B}$ e $\\boldsymbol{C}$:\n",
        "$$\n",
        "\\boldsymbol{A}=\\begin{bmatrix} 4 & 12  \\\\ 7 & 6 \\end{bmatrix} \\qquad  \\boldsymbol{B}=\\begin{bmatrix} 1 & -3  \\\\ 4 & 3 \\end{bmatrix} \\qquad\n",
        "\\boldsymbol{C}=\\begin{bmatrix} 6 & 6  \\\\ 2 & 5 \\end{bmatrix}\n",
        "$$\n",
        "\n",
        "Calcule as matrizes $\\boldsymbol{ABC}$, $\\boldsymbol{CAB}$ e $\\boldsymbol{BCA}$ e seus respectivos traços.\n"
      ]
    },
    {
      "cell_type": "code",
      "execution_count": null,
      "metadata": {
        "id": "5nPvx_uU4SlB"
      },
      "outputs": [],
      "source": [
        "A = np.array([[4,12],\n",
        "              [7,6]])\n",
        "B = np.array([[1,-3],\n",
        "              [4,3]])\n",
        "C = np.array([[6,6],\n",
        "              [2,5]])"
      ]
    },
    {
      "cell_type": "code",
      "execution_count": null,
      "metadata": {
        "id": "sLrMhQcQ5qYJ"
      },
      "outputs": [],
      "source": [
        "ABC = np.dot(np.dot(A, B),C)\n",
        "print(ABC)\n",
        "print(np.trace(ABC))"
      ]
    },
    {
      "cell_type": "code",
      "execution_count": null,
      "metadata": {
        "id": "cHNve9b056PI"
      },
      "outputs": [],
      "source": [
        "CAB = np.dot(np.dot(C,A),B)\n",
        "print(CAB)\n",
        "print(np.trace(CAB))"
      ]
    },
    {
      "cell_type": "code",
      "execution_count": null,
      "metadata": {
        "id": "XgClwBhz6Hzl"
      },
      "outputs": [],
      "source": [
        "BCA = np.dot(np.dot(B,C),A)\n",
        "print(BCA)\n",
        "print(np.trace(BCA))"
      ]
    },
    {
      "cell_type": "markdown",
      "metadata": {
        "id": "hNxyJfxpucJJ"
      },
      "source": [
        "# Transformação Afim\n",
        "Uma transformação afim é qualquer transformação que preserva a colinearidade (ou seja, todos os pontos que se encontram em uma linha inicialmente ainda permanecem em uma linha após a transformação) e razões de distâncias (por exemplo, o ponto médio de um segmento de linha permanece o ponto médio após a transformação).\n",
        "Em geral, uma transformação afim é uma composição de rotações, translações, ampliações e cisalhamento."
      ]
    },
    {
      "cell_type": "markdown",
      "metadata": {
        "id": "kcoygtGYueoK"
      },
      "source": [
        "\n",
        "Escalonamento dos eixos $x$ e $y$:\n",
        "\\begin{equation}\n",
        "\\begin{bmatrix} \\color{red}{S_1} & \\color{red}0 & \\color{red}0 & \\color{red}0 \\\\ \\color{green}0 & \\color{green}{S_2} & \\color{green}0 & \\color{green}0 \\\\ \\color{blue}0 & \\color{purple}0 & \\color{purple}0 & \\color{purple}1 \\end{bmatrix}  \\begin{pmatrix} x \\\\ y \\\\ 1 \\end{pmatrix} = \\begin{pmatrix} \\color{red}{S_1} \\times x \\\\ \\color{green}{S_2} \\times y \\\\ 1 \\end{pmatrix}\n",
        "\\end{equation}\n",
        "\n",
        "Translação em $x$ e $y$:\n",
        "\\begin{equation}\n",
        "\\begin{bmatrix}  \\color{red}1 & \\color{red}0 & \\color{red}0 & \\color{red}{T_x} \\\\ \\color{green}0 & \\color{green}1 & \\color{green}0 & \\color{green}{T_y}  \\\\ \\color{purple}0 & \\color{purple}0 & \\color{purple}0 & \\color{purple}1 \\end{bmatrix}  \\begin{pmatrix} x \\\\ y  \\\\ 1 \\end{pmatrix} = \\begin{pmatrix} x + \\color{red}{T_x} \\\\ y + \\color{green}{T_y}  \\\\ 1 \\end{pmatrix}\n",
        " \\end{equation}\n",
        "\n",
        "Rotação em torno do eixo $z$:\n",
        "\n",
        "\\begin{equation}\n",
        "\\begin{bmatrix} \\color{red}{\\cos \\theta} & - \\color{red}{\\sin \\theta} & \\color{red}0 & \\color{red}0 \\\\ \\color{green}{\\sin \\theta} & \\color{green}{\\cos \\theta} & \\color{green}0 & \\color{green}0 \\\\ \\color{purple}0 & \\color{purple}0 & \\color{purple}0 & \\color{purple}1 \\end{bmatrix}  \\begin{pmatrix} x \\\\ y  \\\\ 1 \\end{pmatrix} = \\begin{pmatrix} \\color{red}{\\cos \\theta} \\times x - \\color{red}{\\sin \\theta} \\times y  \\\\ \\color{green}{\\sin \\theta} \\times x + \\color{green}{\\cos \\theta} \\times y  \\\\ 1 \\end{pmatrix}\n",
        " \\end{equation}\n",
        "\n",
        "<center><img src='https://drive.google.com/uc?export=view&id=12BK9dGWkT6HulWjKjmZAZ5bTCpmrHTBF' width=\"600\"></center>\n",
        "\n",
        "\n",
        "Para mais informações veja o [link](https://github.com/amcquistan/affine-image-transforms-python/blob/master/Affine%20Transforms%20In%20Python.ipynb)."
      ]
    },
    {
      "cell_type": "code",
      "execution_count": null,
      "metadata": {
        "id": "mGCL5JY-s2qH"
      },
      "outputs": [],
      "source": [
        "A = [[1 , 0 ,  3],\n",
        " [0 ,  1 ,  2],\n",
        " [0 ,  0 ,  1]]\n",
        "\n",
        "P1 = np.array([1, 0, 1])\n",
        "P2 = np.array([0, 1, 1])\n",
        "P3 = np.array([0, 0, 1])\n",
        "P4 = np.array([1, 1, 1])\n",
        "\n",
        "fig = plt.figure(figsize=(8,8))\n",
        "ax = plt.axes(projection='3d')\n",
        "\n",
        "X = np.array([4, 0,0,4])\n",
        "Y = np.array([0, 4, 0, 4])\n",
        "Z = np.array([1,1,1,1])\n",
        "surf1 = ax.plot_trisurf(X, Y, Z, antialiased=True, color = 'mediumturquoise', alpha = 0.2)\n",
        "\n",
        "X = np.array([P1[0], P2[0],P3[0],P4[0]])\n",
        "Y = np.array([P1[1], P2[1],P3[1],P4[1]])\n",
        "Z = np.array([P1[2], P2[2],P3[2],P4[2]])\n",
        "\n",
        "surf2 = ax.plot_trisurf(X, Y, Z, antialiased=True, color = 'navy', alpha = 0.9)\n",
        "\n",
        "Q1 = A @ P1.T\n",
        "Q2 = A @ P2.T\n",
        "Q3 = A @ P3.T\n",
        "Q4 = A @ P4.T\n",
        "print(Q1,Q2,Q3,Q4)\n",
        "\n",
        "X = np.array([Q1[0], Q2[0],Q3[0],Q4[0]])\n",
        "Y = np.array([Q1[1], Q2[1],Q3[1],Q4[1]])\n",
        "Z = np.array([Q1[2], Q2[2],Q3[2],Q4[2]])\n",
        "surf3 = ax.plot_trisurf(X, Y, Z, antialiased=True, color = 'crimson', alpha = 0.9)\n",
        "\n",
        "plt.show()"
      ]
    },
    {
      "cell_type": "code",
      "execution_count": null,
      "metadata": {
        "id": "sg-J6uZoCtED"
      },
      "outputs": [],
      "source": [
        "from google.colab import files\n",
        "uploaded = files.upload()"
      ]
    },
    {
      "cell_type": "code",
      "execution_count": 3,
      "metadata": {
        "id": "8WxM8dZ7QWls"
      },
      "outputs": [],
      "source": [
        "from scipy import ndimage as ndi\n",
        "import cv2 as cv"
      ]
    },
    {
      "cell_type": "code",
      "execution_count": null,
      "metadata": {
        "id": "lU2LQbn5SLtE"
      },
      "outputs": [],
      "source": [
        "image = cv.imread('letterL.jpg') # lê a imagem\n",
        "image1 = cv.cvtColor(image, cv.COLOR_BGR2HSV) # converte RGB para HSV\n",
        "img = cv.cvtColor(image, cv.COLOR_BGR2GRAY) # converte RGB para Escala de cinza\n",
        "plt.figure(figsize=(11,6))\n",
        "plt.subplot(121), plt.imshow(cv.cvtColor(image1, cv.COLOR_HSV2RGB)),plt.title('Original')\n",
        "plt.xticks([]), plt.yticks([])\n",
        "plt.subplot(122), plt.imshow(img, cmap='gray'),plt.title('Escala de cinza')\n",
        "plt.xticks([]), plt.yticks([])\n",
        "plt.show()\n",
        "print(img)\n",
        "w,h = img.shape\n",
        "print('Foto com altura {:4d} e largura {:4d}'.format(h, w))"
      ]
    },
    {
      "cell_type": "code",
      "execution_count": null,
      "metadata": {
        "id": "yBaoSqp2C9Qu"
      },
      "outputs": [],
      "source": [
        "img.shape"
      ]
    },
    {
      "cell_type": "code",
      "execution_count": null,
      "metadata": {
        "id": "c9Lf5OCiEc_k"
      },
      "outputs": [],
      "source": [
        "#aplicando a identidade\n",
        "mat_identity = np.array([[1,0,0],[0,1,0],[0,0,1]])\n",
        "img1 = ndi.affine_transform(img, mat_identity)\n",
        "plt.figure(figsize=(5, 5))\n",
        "plt.imshow(img1, cmap='gray')"
      ]
    },
    {
      "cell_type": "markdown",
      "metadata": {
        "id": "YQ-UBwfxGjQE"
      },
      "source": [
        "## Exemplos dos slides"
      ]
    },
    {
      "cell_type": "code",
      "execution_count": null,
      "metadata": {
        "id": "NyfqFFO7Qni3"
      },
      "outputs": [],
      "source": [
        "#transformação de reflexão (em torno do eixo x ou y - mude o comentário):\n",
        "#mat_reflect = np.array([[-1,0,0],[0,1,0],[0,0,1]]) @ np.array([[1,0,-w],[0,1,0],[0,0,1]]) # em torno de x\n",
        "mat_reflect = np.array([[1,0,0],[0,-1,0],[0,0,1]]) @ np.array([[1,0,0],[0,1,-h],[0,0,1]]) # em torno de y\n",
        "\n",
        "img1 = ndi.affine_transform(img, mat_reflect) # offset=(0,h)\n",
        "plt.figure(figsize=(5, 5))\n",
        "plt.imshow(img1, cmap='gray');"
      ]
    },
    {
      "cell_type": "code",
      "source": [
        "#transformação de rotação (+- 90 graus - mude o comentário):\n",
        "mat_rot = np.array([[0,-1,0],[1,0,0],[0,0,1]]) @ np.array([[1,0,0],[0,1,-h],[0,0,1]]) # 90 graus\n",
        "#mat_rot = np.array([[0,1,0],[-1,0,0],[0,0,1]]) @ np.array([[1,0,-w],[0,1,0],[0,0,1]]) # -90 graus\n",
        "img1 = ndi.affine_transform(img, mat_rot) # offset=(0,h)\n",
        "plt.figure(figsize=(5, 5))\n",
        "plt.imshow(img1, cmap='gray');"
      ],
      "metadata": {
        "id": "1P2J2H6e_jyy"
      },
      "execution_count": null,
      "outputs": []
    },
    {
      "cell_type": "code",
      "execution_count": null,
      "metadata": {
        "id": "eR0CBtUQepzr"
      },
      "outputs": [],
      "source": [
        "#Escalonamento da imagem (0,75x ao longo do eixo x e 1,25x ao longo do eixo y):\n",
        "s_x, s_y = 0.75, 1.25\n",
        "mat_scale = np.array([[s_x,0,0],[0,s_y,0],[0,0,1]])\n",
        "img1 = ndi.affine_transform(img, mat_scale)\n",
        "plt.figure(figsize=(5, 5))\n",
        "plt.imshow(img1, cmap='gray');"
      ]
    },
    {
      "cell_type": "code",
      "execution_count": null,
      "metadata": {
        "id": "xc_Z58ExfeTh"
      },
      "outputs": [],
      "source": [
        "# Rotação da imagem em 30° no sentido anti-horário.\n",
        "#É uma operação composta:\n",
        "#1. deslocar/centralizar a imagem para aplicar a rotação e depois aplicar deslocamento inverso:\n",
        "theta = np.pi/6\n",
        "R = np.array([[np.cos(theta),-np.sin(theta),0],[np.sin(theta),np.cos(theta),0],[0,0,1]])\n",
        "mat_rotate = np.array([[1,0,w/2],[0,1,h/2],[0,0,1]]) @ R.T  @ np.array([[1,0,-w/2],[0,1,-h/2],[0,0,1]])\n",
        "img1 = ndi.affine_transform(img, mat_rotate)\n",
        "plt.figure(figsize=(5, 5))\n",
        "plt.imshow(img1, cmap='gray');"
      ]
    },
    {
      "cell_type": "code",
      "execution_count": null,
      "metadata": {
        "id": "I9awYTXNgb68"
      },
      "outputs": [],
      "source": [
        "#transformação de cisalhamento na imagem\n",
        "lambda1 = 0.3\n",
        "mat_shear = np.array([[1,lambda1,0],[lambda1,1,0],[0,0,1]])\n",
        "img1 = ndi.affine_transform(img, mat_shear)\n",
        "plt.figure(figsize=(5, 5))\n",
        "plt.imshow(img1, cmap='gray');"
      ]
    },
    {
      "cell_type": "code",
      "execution_count": null,
      "metadata": {
        "id": "XurRJlyiDHTO"
      },
      "outputs": [],
      "source": [
        "mat_all = mat_identity @ mat_reflect @ mat_scale @ mat_rotate @ mat_shear\n",
        "img1 = ndi.affine_transform(img, mat_all)\n",
        "plt.figure(figsize=(5, 5))\n",
        "plt.imshow(img1, cmap='gray');"
      ]
    },
    {
      "cell_type": "code",
      "execution_count": null,
      "metadata": {
        "id": "FNG4WxVuiM3l"
      },
      "outputs": [],
      "source": [
        "alpha, beta = 2,1\n",
        "S = np.array([[alpha, 0, 0], [0, beta, 0], [0, 0, 1]])\n",
        "theta = -np.pi/2\n",
        "R = np.array([[np.cos(theta),-np.sin(theta),0],[np.sin(theta),np.cos(theta),0],[0,0,1]])"
      ]
    },
    {
      "cell_type": "code",
      "execution_count": null,
      "metadata": {
        "id": "rT-3sZpznk8p"
      },
      "outputs": [],
      "source": [
        "img1 = ndi.affine_transform(img, S)\n",
        "plt.figure(figsize=(5, 5))\n",
        "plt.imshow(img1, cmap='gray');"
      ]
    },
    {
      "cell_type": "code",
      "execution_count": null,
      "metadata": {
        "id": "NzKjZZe0oVO2"
      },
      "outputs": [],
      "source": [
        "T=np.array([[1,0,w/2],[0,1,h/2],[0,0,1]])\n",
        "T_inv = np.array([[1,0,-w/2],[0,1,-h/2],[0,0,1]])\n",
        "img1 = ndi.affine_transform(img, T @ R.T @ T_inv)\n",
        "plt.figure(figsize=(5, 5))\n",
        "plt.imshow(img1, cmap='gray');"
      ]
    },
    {
      "cell_type": "code",
      "execution_count": null,
      "metadata": {
        "id": "-0GZvdFtzwIs"
      },
      "outputs": [],
      "source": [
        "T=np.array([[1,0,w/2],[0,1,h/2],[0,0,1]])\n",
        "T_inv = np.array([[1,0,-w/2],[0,1,-h/2],[0,0,1]])\n",
        "#Se a imagem for primeiro girada e depois escalonada, a ordem do produto escalar precisa ser invertida:\n",
        "RS = S @ T @ R.T @ T_inv\n",
        "SR =  T @ R.T @ T_inv @ S"
      ]
    },
    {
      "cell_type": "code",
      "execution_count": null,
      "metadata": {
        "id": "qM0fo4dV6Svr"
      },
      "outputs": [],
      "source": [
        "img1 = ndi.affine_transform(img,RS )\n",
        "plt.figure(figsize=(5, 5))\n",
        "plt.imshow(img1, cmap='gray')"
      ]
    },
    {
      "cell_type": "code",
      "execution_count": null,
      "metadata": {
        "id": "LxHVzuOVjCUA"
      },
      "outputs": [],
      "source": [
        "img1 = ndi.affine_transform(img,SR )\n",
        "plt.figure(figsize=(5, 5))\n",
        "plt.imshow(img1, cmap='gray')"
      ]
    }
  ],
  "metadata": {
    "colab": {
      "toc_visible": true,
      "provenance": []
    },
    "kernelspec": {
      "display_name": "Python 3",
      "name": "python3"
    }
  },
  "nbformat": 4,
  "nbformat_minor": 0
}