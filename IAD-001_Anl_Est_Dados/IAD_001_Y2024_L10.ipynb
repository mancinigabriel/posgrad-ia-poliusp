{
  "cells": [
    {
      "cell_type": "markdown",
      "source": [
        "# <font face=\"Verdana\" size=6 color='#6495ED'> ANÁLISE ESTATÍSTICA DE DADOS\n",
        "\n",
        "<font face=\"Verdana\" size=3 color='#40E0D0'> Profs. Larissa Driemeier e Arturo Forner-Cordero\n",
        "\n",
        "<center><img src='https://drive.google.com/uc?export=view&id=1CJsooGWXxTqWw0VeGAoroNb509nYKiRK' width=\"800\"></center>\n",
        "\n",
        "Este notebook faz parte da aula [10](https://alunoweb.net/moodle/pluginfile.php/141434/mod_resource/content/2/EST_10_Y2024.pdf) do curso IAD-001."
      ],
      "metadata": {
        "id": "30cz5pj1lOO2"
      }
    },
    {
      "cell_type": "markdown",
      "metadata": {
        "id": "Pe-s4X3jyVMn"
      },
      "source": [
        "# Markov e Markov Oculto\n",
        "Na teoria das probabilidades, um modelo de Markov é um modelo estocástico usado para modelar sistemas que mudam aleatoriamente. Supõe-se que os estados futuros dependam apenas do estado atual, não dos eventos que ocorreram antes dele (ou seja, assume-se a propriedade Markov).\n",
        "\n",
        "A aplicação do Modelo de Markov oculto (Hidden Markov Models) inclui aprendizado por reforço e reconhecimento de padrões temporais, como fala, escrita, reconhecimento de gestos, marcação de parte do discurso, acompanhamento de partituras, descargas parciais e bioinformática.\n"
      ]
    },
    {
      "cell_type": "code",
      "execution_count": 1,
      "metadata": {
        "id": "iCsRxaZsqqJm"
      },
      "outputs": [],
      "source": [
        "import numpy as np\n",
        "import pandas as pd\n",
        "from random import seed\n",
        "from random import random\n",
        "import matplotlib.pyplot as plt\n",
        "%matplotlib inline"
      ]
    },
    {
      "cell_type": "markdown",
      "metadata": {
        "id": "O_anJAKiYcG3"
      },
      "source": [
        "## Modelo de Markov para gerar texto\n",
        "Reveja a teoria aplicada aqui em suas notas de aula, quando usamos uma parte do poema *E agora, José?*, de Carlos Drummond de Andrade.\n",
        "\n",
        "<center><img src='https://drive.google.com/uc?export=view&id=1o4eOPXwRSujVT2QDnWrVrDEB4SPgPLBy' width=\"400\"></center>\n"
      ]
    },
    {
      "cell_type": "code",
      "execution_count": null,
      "metadata": {
        "id": "OhB5QbzOU0z4"
      },
      "outputs": [],
      "source": [
        "from google.colab import files\n",
        "\n",
        "uploaded = files.upload()\n",
        "\n",
        "#Aqui você fará upload dos arquivos (disponíveis no Moodle):\n",
        "# IHaveADream_MartinLutherKingJr.txt\n",
        "#OAstronautaDeMarmore_NenhumDeNos.txt\n",
        "for fn in uploaded.keys():\n",
        "  print('User uploaded file \"{name}\" with length {length} bytes'.format(\n",
        "      name=fn, length=len(uploaded[fn])))"
      ]
    },
    {
      "cell_type": "code",
      "execution_count": null,
      "metadata": {
        "id": "rgikGnvAVEGK"
      },
      "outputs": [],
      "source": [
        "discurso = open('OAstronautaDeMarmore_NenhumDeNos.txt', encoding='utf8').read()\n",
        "#display the data\n",
        "print(discurso)"
      ]
    },
    {
      "cell_type": "code",
      "execution_count": null,
      "metadata": {
        "id": "xI_MurqePXyr"
      },
      "outputs": [],
      "source": [
        "# 'Split' o discurso em um conjunto de palavras individuais\n",
        "palavras = discurso.split()\n",
        "print(palavras)"
      ]
    },
    {
      "cell_type": "code",
      "execution_count": null,
      "metadata": {
        "id": "YptoP8QBV490"
      },
      "outputs": [],
      "source": [
        "#Criando pares de palavras chave e as palavras seguintes\n",
        "#Para economizar espaço, uses um objeto generator (vide aula do Thiago).\n",
        "def make_pairs(palavras):\n",
        "  for i in range(len(palavras) - 1):\n",
        "    yield (palavras[i], palavras[i + 1])\n",
        "pairs = make_pairs(palavras)"
      ]
    },
    {
      "cell_type": "code",
      "execution_count": null,
      "metadata": {
        "id": "IDbY1rSjV5R2"
      },
      "outputs": [],
      "source": [
        "#Em seguida, vamos inicializar um dicionário vazio para armazenar os pares de palavras.\n",
        "palavra_dict = {}\n",
        "#Caso a primeira palavra do par (palavra chave) já seja uma chave no dicionário, basta anexar a próxima\n",
        "#palavra potencial à lista de palavras que seguem a palavra chave. Mas se a palavra não for uma chave,\n",
        "#crie uma nova entrada no dicionário e atribua a chave igual à primeira palavra do par.\n",
        "#Caso fique confuso, veja a teoria, quando usamos o poema \"E agora, José?\"\n",
        "for palavra_1, palavra_2 in pairs:\n",
        "  if palavra_1 in palavra_dict.keys():\n",
        "    palavra_dict[palavra_1].append(palavra_2)\n",
        "  else:\n",
        "    palavra_dict[palavra_1] = [palavra_2]"
      ]
    },
    {
      "cell_type": "code",
      "execution_count": null,
      "metadata": {
        "id": "Pqs42nm_Z-T7"
      },
      "outputs": [],
      "source": [
        "# Modelo de Markov\n",
        "#Vamos pegar uma palavra aleatória para iniciar nosso texto\n",
        "#(deverá se iniciar com letra maiúscula para não pegarmos palavra no meio do texto)\n",
        "start_palavra = np.random.choice(palavras)\n",
        "while start_palavra.islower():\n",
        "  start_palavra = np.random.choice(palavras)\n",
        "chain = [start_palavra]\n",
        "print(chain)\n",
        "#Número total de palavras que terá nosso discurso\n",
        "n_palavras = 20\n",
        "for i in range(n_palavras):\n",
        "  chain.append(np.random.choice(palavra_dict[chain[-1]]))"
      ]
    },
    {
      "cell_type": "code",
      "execution_count": null,
      "metadata": {
        "id": "YTXrc4ykZ-gR"
      },
      "outputs": [],
      "source": [
        "#Finalmente, vamos exibir o texto  gerado\n",
        "# 'join' retorna a nossa cadeia de palavras 'chain' como uma string\n",
        "print(' '.join(chain))"
      ]
    },
    {
      "cell_type": "markdown",
      "metadata": {
        "id": "20RWlMQUeMpC"
      },
      "source": [
        "O texto pode não fazer muito sentido, mas serve para você entender, de maneira simples, como as cadeias de Markov podem ser usadas para gerar textos automaticamente.\n",
        "\n",
        "Agora, vamos ver mais algumas aplicações das cadeias de Markov e como elas são usadas para resolver problemas do mundo real.\n",
        "\n",
        "**Google PageRank**: toda a web pode ser vista como um modelo de Markov, onde cada página da web pode ser um estado e os links ou referências entre essas páginas podem ser vistos como transições com probabilidades. Então, basicamente, independentemente de qual página da Web você começa a navegar, a chance de chegar a uma determinada página X da Web é uma probabilidade fixa.\n",
        "\n",
        "**Previsão de digitação de palavras em telefones celulares**: Sabe-se que as cadeias de Markov são usadas para prever as próximas palavras ou preenchimento automático e sugestões. O aplicativo irá adivinhar qual é a sua próxima palavra mais provável com base nas combinações de palavras que você digitou antes (por exemplo, *dia* depois de *bom*\" ou *como vai* com base em *Oi*). Da mesma maneira, ao completar as palavras, o algoritmo se baseia nas palavras que você repete várias vezes e, quanto mais vezes já apareceu, maior a probabilidade de aparecer novamente.\n",
        "\n",
        "**Gerador de texto**: as cadeias de Markov são mais comumente usadas para gerar textos fictícios ou produzir grandes ensaios e compilar discursos. Também são usadas nos geradores de nome."
      ]
    },
    {
      "cell_type": "markdown",
      "metadata": {
        "id": "gkFvqGmSfh_r"
      },
      "source": [
        "### Para você aumentar seu conhecimento!\n",
        "\n",
        "O [link](https://towardsdatascience.com/using-a-markov-chain-sentence-generator-in-python-to-generate-real-fake-news-e9c904e967e) apresenta um gerador de Fake News. O programa está completo, e muito bem explicado. Pode ser que você precise procurar alguns comandos na internet para entendê-los melhor, mas o texto do link explica em detalhes o que exatamente cada parte do programa faz.\n",
        "\n",
        "Se você está familiarizado com programação, ou gosta muito de desafios, pode gerar notícias seguindo a programação em [Markov](https://filiph.github.io/markov/).\n",
        "\n",
        "__Mas veja bem:__\n",
        "usar o primeiro link já é desafio o suficiente para o nível que estamos. O segundo exige uma capacidade de programação compatível somente com aqueles que já tem uma base sólida de programação, vinda da graduação."
      ]
    },
    {
      "cell_type": "markdown",
      "metadata": {
        "id": "aFUNlXpgyd6E"
      },
      "source": [
        "## Cadeia de Markov\n",
        "\n",
        "A cadeia de Markov possui estados possíveis\n",
        "\\begin{equation}\n",
        " \\begin{bmatrix}\n",
        "\\mathbf{q}_1 & \\mathbf{q}_2 & ... & \\mathbf{q}_n \\\\\n",
        "\\end{bmatrix}\n",
        "\\end{equation}\n",
        "\n",
        "E a probabilidade de transição de estado $\\mathbf{A}$ (matriz $n \\times n$)\n",
        "\\begin{equation}\n",
        "a_{ij}=P\\left( \\mathbf{S}_{t+1} | \\mathbf{S}_t \\right)\n",
        "\\end{equation}\n",
        "\n",
        "Dado o estado inicial\n",
        "$\\mathbf{\\pi}=\\mathbf{S}_0=P\\left(\\mathbf{S}_{0_i}=\\mathbf{s}_i\\right)$\n",
        "\n",
        "A transição do estado $\\mathbf{S}_{t}$ para o estado $\\mathbf{S}_{t+n}$ é dada por,\n",
        "\\begin{equation}\n",
        "\\mathbf{S}_{t+n} = \\mathbf{S}_{t} \\mathbf{A}^n\n",
        "\\end{equation}\n",
        "\n",
        "Sabe-se que, para uma matriz de transição $\\mathbf{A}$ constante, a cadeia de Markov leva a um estado estacionário $\\bar{\\mathbf{S}}$, sendo que:\n",
        "\\begin{equation}\n",
        "\\bar{\\mathbf{S}} = \\bar{\\mathbf{S}}\\mathbf{A}\n",
        "\\end{equation}\n",
        "ou, ainda, tem-se a matriz de transição estabilizada, $\\bar{\\mathbf{A}}$, dada por,\n",
        "\n",
        "\\begin{equation}\n",
        "\\bar{\\mathbf{S}} = \\mathbf{S}_0 \\bar{\\mathbf{A}}= \\mathbf{\\pi} \\bar{\\mathbf{A}}\n",
        "\\end{equation}\n",
        "\n",
        "A partir da equação da estacionariedade $\\mathbf{A}^T\\bar{\\mathbf{S}} ^T = \\bar{\\mathbf{S}}^T$, podemos ver que ${\\mathbf{S}}$ deve ser um autovetor de $\\mathbf{A}^T$ com um autovalor $1$.\n",
        "\n",
        "Então, encontramos $\\bar{\\mathbf{S}}$ da seguinte forma,  para uma matriz $\\mathbf{A}$ $3 \\times 3$,\n",
        "\\begin{equation}\n",
        "\\begin{vmatrix}\n",
        "  &a_{11}-1 & a_{21} & a_{31}  \\\\\n",
        "  &a_{12} & a_{22}-1& a_{32}\\\\\n",
        "  &a_{13} & a_{23}& a_{33}-1\\\\\n",
        "\\end{vmatrix}=0\n",
        "\\end{equation}\n",
        "\n",
        "Por exemplo, para uma matriz $\\mathbf{A}$ $3 \\times 3$, tem-se:\n",
        "\n",
        "\\begin{equation}\n",
        "\\begin{split}\n",
        "  &\\bar{s}_1 a_{11} + \\bar{s}_2 a_{21} + \\bar{s}_3 a_{31} &= \\bar{s}_1 \\\\\n",
        "  &\\bar{s}_1 a_{12} + \\bar{s}_2 a_{22} + \\bar{s}_3 a_{32} &= \\bar{s}_2 \\\\\n",
        "  &\\bar{s}_1 a_{13} + \\bar{s}_2 a_{23} + \\bar{s}_3 a_{33} &= \\bar{s}_3 \\\\\n",
        "\\end{split}\n",
        "\\end{equation}\n",
        "e\n",
        "\\begin{equation}\n",
        "\\bar{s}_1 + \\bar{s}_2  + \\bar{s}_3= 1\n",
        "\\end{equation}\n",
        "\n",
        "Em python, `np.linalg.solve` resolve um sistema de equações lineares. E usaremos as equações acima para gerar um sistema:\n",
        "\n",
        "\\begin{equation}\n",
        "\\begin{split}\n",
        "  &\\bar{s}_1 \\left(a_{11}-1\\right) &+ \\bar{s}_2 a_{21} &+ \\bar{s}_3 a_{31}   &= 0 \\\\\n",
        "  &\\bar{s}_1 a_{12} &+ \\bar{s}_2 \\left(a_{22}-1\\right) &+ \\bar{s}_3 a_{32}   &= 0 \\\\\n",
        "  &\\bar{s}_1  a_{13} &+ \\bar{s}_2 a_{23} &+ \\bar{s}_3 \\left(a_{33}-1\\right)   &= 0 \\\\\n",
        "  &\\bar{s}_1       &+ \\bar{s}_2 &+\\bar{s}_3 &= 1\n",
        "  \\end{split}\n",
        "\\end{equation}\n",
        "\n",
        "A função `np.linalg.solve` resolve $Ax=b$ para matriz $A$ quadrada, então aplicamos a transformação em ambos os lados $A^T Ax = A^T b$.\n",
        "\n",
        "Depois, podemos encontrar a matriz de transição estabilizada $\\bar{\\mathbf{A}}$, utilizando-se a equação $\\bar{\\mathbf{S}}^T =  \\bar{\\mathbf{A}}^T\\mathbf{\\pi}^T$.\n",
        "\n",
        "Suponha uma mudança de coordenadas do estado, no qual a primeira componente equivale à soma das demais, e as outras permanecem inalteradas - só para evidenciar que o que importa é exclusivamente a soma das componentes. Então, a matriz que faz essa transformação é\n",
        "\n",
        "$$\n",
        "\\begin{bmatrix}\n",
        "1 &1 &1& 1& 1& 1& \\\\\n",
        "0 &1 &0& 0& 0 &0& ...\\\\\n",
        "0 &0 &1& 0 &0 &0& \\\\\n",
        "0 &0&0&1&0&0& \\\\\n",
        "& & & \\vdots & & &\n",
        "\\end{bmatrix}\\begin{bmatrix}\n",
        "\\pi_1\\\\\n",
        "\\pi_2\\\\\n",
        "\\pi_3\\\\\n",
        "\\vdots\n",
        "\\end{bmatrix} = \\begin{bmatrix}\n",
        "1 \\\\\n",
        "\\bar s_2\\\\\n",
        "\\bar s_3\\\\\n",
        "\\vdots\n",
        "\\end{bmatrix}\n",
        "$$\n",
        "\n",
        "\n",
        "$$\n",
        "\\bar{\\mathbf{A}}^T= \\begin{bmatrix}\n",
        "\\bar s_1 &0 &0& 0& 0& 0& \\\\\n",
        "\\bar s_2 &0 &0& 0& 0 &0& ...\\\\\n",
        "\\bar s_3 &0 &0& 0 &0 &0& \\\\\n",
        "\\bar s_4 &0&0&0&0&0& \\\\\n",
        "& & & \\vdots & & &\n",
        "\\end{bmatrix} \\begin{bmatrix}\n",
        "1 &1 &1& 1& 1& 1& \\\\\n",
        "0 &1 &0& 0& 0 &0& ...\\\\\n",
        "0 &0 &1& 0 &0 &0& \\\\\n",
        "0 &0&0&1&0&0& \\\\\n",
        "& & & \\vdots & & &\n",
        "\\end{bmatrix}\n",
        "$$\n",
        "\n",
        "A matriz será, portanto, sempre,\n",
        "\n",
        "$$\n",
        "\\bar{\\mathbf{A}} =\\begin{bmatrix}\n",
        "\\mathbf{\\bar S}\\\\\n",
        "\\mathbf{\\bar S}\\\\\n",
        "\\vdots\n",
        "\\end{bmatrix}\n",
        "$$\n",
        "\n",
        "onde $\\pi=[\\pi_1 \\quad \\pi_2 \\quad \\pi_3 \\cdots]$ é a matriz de probabilidades inicial.\n",
        "Em python, usaremos `np.linalg.solve` para resolver o sistema de equações lineares.\n",
        "\n",
        "[Brinque](https://setosa.io/ev/markov-chains/) com cadeia de Markov."
      ]
    },
    {
      "cell_type": "code",
      "source": [
        "Tr = np.array([[1,1,1],\n",
        "     [0,1,0],\n",
        "     [0,0,1]\n",
        "    ])\n",
        "sb = np.array([[0.1,0,0],\n",
        "     [0.4,0,0],\n",
        "     [0.5,0,0]\n",
        "    ])\n",
        "Abar = sb.dot(Tr).T\n",
        "print(Abar)"
      ],
      "metadata": {
        "id": "-pviQFhn9Ly4"
      },
      "execution_count": null,
      "outputs": []
    },
    {
      "cell_type": "markdown",
      "source": [
        "### Exemplo de aplicação\n",
        "\n",
        "<center><img src='https://drive.google.com/uc?export=view&id=140mitXL21DSCXh5uNuQkx6bnxzpdD1Yh' width=\"300\"></center>\n",
        "\n",
        "Para $\\pi =[3/5 \\quad 2/5]$ e matriz de transição dada por,\n",
        "\n",
        "$$\n",
        "\\mathbf{A} = \\begin{bmatrix}\n",
        "0.5 & 0.5  \\\\\n",
        "0.25 & 0.75\n",
        "\\end{bmatrix}\n",
        "$$"
      ],
      "metadata": {
        "id": "BalQqyQKjYGV"
      }
    },
    {
      "cell_type": "code",
      "source": [
        "#Resposta:\n",
        "A = np.array([[0.5,0.5],[0.25,0.75]])\n",
        "A2 = np.append(A.T-np.identity(2),[[1,1]],axis=0)\n",
        "b = (np.array([0,0,1])).T\n",
        "#matriz deixa de ser quadrada\n",
        "sbar = np.linalg.solve(A2.T.dot(A2), A2.T.dot(b))\n",
        "print('A distribuição estável é dada por:\\n',sbar)\n",
        "\n",
        "w,v=np.linalg.eig(A.T) # autovetores são as colunas de v\n",
        "for i,autovalor in enumerate(w):\n",
        "  if autovalor == 1:\n",
        "    autovetor = v[:,i]\n",
        "    sum = np.sum(autovetor)\n",
        "    autovetor = autovetor/sum\n",
        "sbar = autovetor\n",
        "print('A distribuição estável é dada por:\\n',sbar)"
      ],
      "metadata": {
        "id": "zHzN0XnrcC1w"
      },
      "execution_count": null,
      "outputs": []
    },
    {
      "cell_type": "code",
      "source": [
        "Abar = np.array([sbar,sbar])\n",
        "print('A matriz de transformação estável é dada por:\\n',Abar)"
      ],
      "metadata": {
        "id": "VYhecWHOoLfL"
      },
      "execution_count": null,
      "outputs": []
    },
    {
      "cell_type": "code",
      "source": [
        "A.dot(A).dot(A).dot(A).dot(A).dot(A).dot(A).dot(A).dot(A).dot(A)"
      ],
      "metadata": {
        "id": "uGSgxujorAtO"
      },
      "execution_count": null,
      "outputs": []
    },
    {
      "cell_type": "code",
      "source": [
        "S0=np.array([3/5,2/5])\n",
        "S0.dot(Abar)"
      ],
      "metadata": {
        "id": "QqKPrqkhT9ic"
      },
      "execution_count": null,
      "outputs": []
    },
    {
      "cell_type": "markdown",
      "source": [
        "Veja que\n",
        "\n",
        "$$\n",
        "\\bar{\\mathbf{A}} =\\begin{bmatrix}\n",
        "\\bar s_1 & \\bar s_2\\\\\n",
        "\\bar s_1 & \\bar s_2\n",
        "\\end{bmatrix} = \\begin{bmatrix}\n",
        "1/3 & 2/3\\\\\n",
        "1/3 & 2/3\n",
        "\\end{bmatrix}\n",
        "$$\n",
        "leva à estabilização, independente do valor de $\\mathbf{\\bar \\pi}$ ."
      ],
      "metadata": {
        "id": "Ns4SHx3kVf1s"
      }
    },
    {
      "cell_type": "code",
      "source": [
        "Sn = np.array([0.3, 0.7])\n",
        "Sn.dot(Abar)"
      ],
      "metadata": {
        "id": "SD9rxx0RNNxL"
      },
      "execution_count": null,
      "outputs": []
    },
    {
      "cell_type": "markdown",
      "metadata": {
        "id": "UDpwFXMNqtb9"
      },
      "source": [
        "### Exemplo Marcas de fast food\n",
        "\n",
        "<center><img src='https://drive.google.com/uc?export=view&id=1chbEE-Oa_9PHMILDPh2Ex5HdCHa7kN00' width=\"400\"></center>\n",
        "\n",
        "Queremos analisar a transação de clientes em uma área de alimentação de um shopping. Analisamos os clientes almoçando nos três lugares mostrados. A probabilidade do cliente voltar no dia seguinte ou ir para outro lugar é definida conforme a matriz de transição\n",
        "\\begin{equation}\n",
        "\\mathbf{A} = \\begin{bmatrix}\n",
        "0.8 & 0.1 & 0.1 \\\\\n",
        "0.2 & 0.7 & 0.1 \\\\\n",
        "0.1 & 0.3 & 0.6 \\\\\n",
        "\\end{bmatrix}\n",
        "\\end{equation}\n",
        "\n",
        "1. Dados os estados iniciais $S_0=\\left[0.4 \\quad 0.24 \\quad 0.36 \\right]$, defina a distribuição provável de 500 clientes no dia seguinte.\n",
        "1. Plote o gráfico das variáveis em função das iterações.\n",
        "2. Encontre a distribuição estável $\\bar{\\mathbf{s}}$.\n",
        "1. Encontre a matriz de transição estável, $\\bar{\\mathbf{A}}$.\n",
        "2. Encontre $\\bar{\\mathbf{s}}$ para diferentes entradas $S_0$ usando $\\bar{\\mathbf{A}}$ obtida no item anterior.\n",
        "\n",
        "\n",
        "\n"
      ]
    },
    {
      "cell_type": "code",
      "execution_count": null,
      "metadata": {
        "id": "jeX1AAFJqqJp"
      },
      "outputs": [],
      "source": [
        "A = np.array([[0.8, 0.1, 0.1],\n",
        "              [0.2, 0.7, 0.1],\n",
        "              [0.1, 0.3, 0.6]])\n",
        "state=np.array([[0.4, 0.24, 0.36]])\n",
        "stateHist=state\n",
        "dfStateHist=pd.DataFrame(state)\n",
        "distr_hist = [[0,0,0]]\n",
        "plt.figure()\n",
        "for x in range(20):\n",
        "  state=np.dot(state,A)\n",
        "  stateHist=np.append(stateHist,state,axis=0)\n",
        "  dfDistrHist = pd.DataFrame(stateHist)\n",
        "dfDistrHist.plot()\n",
        "#Item 1\n",
        "value_500 = 500*dfDistrHist.iloc[0]\n",
        "print('1. O número de pessoas que irão aos locais 0,1,2 serão:',value_500)\n",
        "#Item 2\n",
        "print('Item 2')\n",
        "plt.xlabel('Número de iterações', fontsize = 12)\n",
        "plt.ylabel('$X_0,X_1, X_2$', fontsize = 12)\n",
        "plt.legend()\n",
        "plt.show()"
      ]
    },
    {
      "cell_type": "code",
      "execution_count": null,
      "metadata": {
        "id": "4qZ7JhIW8gVV"
      },
      "outputs": [],
      "source": [
        "# Faremos um sistema linear para resolver com np.linalg.solve\n",
        "#Para isso precisamos unir todas as equações conforme explicado no texto\n",
        "A2 = np.append(A.T-np.identity(3),[[1,1,1]],axis=0)\n",
        "b = (np.array([0,0,0,1])).T\n",
        "#matriz deixa de ser quadrada usar teorema de Rouché-Capelli\n",
        "xbar = np.linalg.solve(A2.T.dot(A2), A2.T.dot(b))\n",
        "#Item 3\n",
        "print('3. A distribuição estável é dada por:',xbar)\n",
        "#Item 4\n",
        "Abar = np.array([xbar,xbar,xbar])\n",
        "print('4. A matriz de transformação estável é dada por:',Abar)\n",
        "#Item 5\n",
        "#Estado inicial 1:\n",
        "print('5. Independente do estado inicial, o estado estacionário é o mesmo:')\n",
        "print(state.dot(Abar))\n",
        "state2=np.array([[0.1, 0.5, 0.4]])\n",
        "print(state2.dot(Abar))\n",
        "state3=np.array([[0.3, 0.5, 0.2]])\n",
        "print(state2.dot(Abar))"
      ]
    },
    {
      "cell_type": "markdown",
      "metadata": {
        "id": "aPFn53h7Xd5p"
      },
      "source": [
        "### Exemplo da Loja de Doces\n",
        "Temos duas lojas de doces, $A$ e $B$. Sabe-se,a través de pesquisas, que $30\\%$ dos clientes da loja $A$ vão para loja $B$ todo mês, e $20\\%$ dos clientes da loja $B$ vão para loja $A$ todo mês. Qual a matriz de distribuição estabilizada $\\bar{\\mathbf{A}}$ e, supondo que tenhamos 200 clientes ao total, como se distribuirão no estado estacionário?"
      ]
    },
    {
      "cell_type": "code",
      "execution_count": null,
      "metadata": {
        "id": "XFvbRJtrSl8G"
      },
      "outputs": [],
      "source": [
        " #Sua resposta\n"
      ]
    },
    {
      "cell_type": "code",
      "execution_count": null,
      "metadata": {
        "id": "mCV3sS5AJkE3"
      },
      "outputs": [],
      "source": [
        "#Resposta:\n",
        "A = np.array([[0.7,0.3],[0.2,0.8]])\n",
        "A2 = np.append(A.T-np.identity(2),[[1,1]],axis=0)\n",
        "b = (np.array([0,0,1])).T\n",
        "xbar = np.linalg.solve(A2.T.dot(A2), A2.T.dot(b))\n",
        "print('A distribuição estável é dada por:',xbar)\n",
        "Abar = np.array([xbar,xbar,xbar])\n",
        "print('A matriz de transformação estável é dada por:',Abar)\n",
        "print('Para 200 clientes ao total, tem-se a seguinte distribuição nas lojas A e B, respectivamente,'\n",
        "       ,int(round(xbar[0]*200)),'e',int(round(xbar[1]*200)))"
      ]
    },
    {
      "cell_type": "markdown",
      "metadata": {
        "id": "wCXxIqOQMrfD"
      },
      "source": [
        "### Exemplo de análise de lealdade à marca\n",
        "Três marcas $A,B,C$ foram analisadas e verificou-se que:\n",
        "\n",
        "\n",
        "*   Na marca $A$: $10\\%$ dos clientes se movem para $B$ e $10\\%$ se movem para $C$\n",
        "*   Na marca $B$: $20\\%$ dos clientes se movem para $A$ e $20\\%$ se movem para $C$\n",
        "*   Na marca $C$: $10\\%$ dos clientes se movem para $A$ e $20\\%$ se movem para $B$\n",
        "\n",
        "Encontre a matriz de distribuição estabilizada e o vetor de estabilização.\n",
        "\n"
      ]
    },
    {
      "cell_type": "code",
      "execution_count": null,
      "metadata": {
        "id": "vhcsS_xiN1bt"
      },
      "outputs": [],
      "source": [
        "#Resposta: Você deve encontrar xbar = [8/19, 5/19, 6/19]"
      ]
    },
    {
      "cell_type": "markdown",
      "metadata": {
        "id": "PrOim0V037tO"
      },
      "source": [
        "### Cadeias de Markov com estados absorventes\n",
        "Um estado da cadeia de Markov é chamado de *estado absorvente* se $a_{ii} = 1 $ e, por consequência, qualquer valor da linha $i$, $a_{ij}, i \\neq j$, vale $0$. Uma cadeia de Markov é dita absorvente se existe ao menos um estado absorvente, ou se for possível, a partir de qualquer estado, atingir um estado absorvente, não necessariamente em um único passo.\n",
        "\n",
        "Veja a figura abaixo. Veja que a matriz da figura é definida como:\n",
        "\\begin{equation}\n",
        "\\mathbf{A} = \\begin{bmatrix}\n",
        "1.0 & 0.0 & 0.0 \\\\\n",
        "0.2 & 0.7 & 0.1 \\\\\n",
        "0.3 & 0.1 & 0.6 \\\\\n",
        "\\end{bmatrix}\n",
        "\\end{equation}\n",
        "\n",
        "Dessa forma,\n",
        "\\begin{equation}\n",
        "\\mathbf{A}^2 = \\begin{bmatrix}\n",
        "1.0 & 0.0 & 0.0 \\\\\n",
        "0.37 & 0.50 & 0.13 \\\\\n",
        "0.50 & 0.13 & 0.37 \\\\\n",
        "\\end{bmatrix}\n",
        "\\end{equation}\n",
        "\n",
        "\\begin{equation}\n",
        "\\mathbf{A}^3 = \\begin{bmatrix}\n",
        "1.0 & 0.0 & 0.0 \\\\\n",
        "0.509 & 0.363 & 0.128 \\\\\n",
        "0.637 & 0.128 & 0.235 \\\\\n",
        "\\end{bmatrix}\n",
        "\\end{equation}\n",
        "\n",
        "Se formos adiante, perceberemos que a primeira coluna os valores crescem, se aproximando de 1, a primeira linha se mantém constante, e os demais valores estão indo para zero. Veja, por exemplo,\n",
        "\n",
        "\\begin{equation}\n",
        "\\mathbf{A}^5 = \\begin{bmatrix}\n",
        "1.0 & 0.0 & 0.0 \\\\\n",
        "0.707 & 0.198 & 0.095 \\\\\n",
        "0.802 & 0.095 & 0.103 \\\\\n",
        "\\end{bmatrix}\n",
        "\\end{equation}\n",
        "\n",
        "Eventualmente, o estado estacionário leva a:\n",
        "\\begin{equation}\n",
        "\\bar{\\mathbf{A}} = \\begin{bmatrix}\n",
        "1 & 0 & 0 \\\\\n",
        "1 & 0 & 0 \\\\\n",
        "1 & 0 & 0 \\\\\n",
        "\\end{bmatrix}\n",
        "\\end{equation}\n",
        "isto é,\n",
        "\\begin{equation}\n",
        "\\bar{s} = \\begin{bmatrix}\n",
        "1 & 0 & 0\n",
        "\\end{bmatrix}\n",
        "\\end{equation}\n",
        "\n",
        "Isto é, o estado $\\mathbf{\\mathcal{\\bar P}} $ absorve todo o universo analisado.\n",
        "\n",
        "Foi usada a palavra *eventualmente* no texto acima. Veja o exemplo de um estudo realizado pela Universidade da Carolina do Norte em pacientes de um determinado hospital. O problema foi modelado por uma cadeia de Markov: $0$ (morto), $1$ (estado desfavorável), $2 $(estado favorável). A matriz de transição tem um ciclo de 72 horas,\n",
        "\n",
        "\\begin{equation}\n",
        "\\mathbf{A} = \\begin{bmatrix}\n",
        "1.0 & 0.0 & 0.0 \\\\\n",
        "0.085 & 0.779 & 0.136 \\\\\n",
        "0.017 & 0.017 & 0.966 \\\\\n",
        "\\end{bmatrix}\n",
        "\\end{equation}\n",
        "\n",
        "Perceba que $a_{11} = 1$, ou seja, $a_1$ é um estado de absorção, uma vez que o paciente morto, a cada passo ele continuará morto. Os estados $2$ e $3$ são\n",
        "os estados de transição, e a partir de qualquer um destes é possível chegar no estado de absorção. Daí, a cadeia é absorvente. Porém, não é sensato acreditar que todos os pacientes acabarão mortos. Então, a matriz de transformação estabilizada é diferente daquela mostrada anteriormente.\n",
        "\n",
        "Um [estudo](https://www.ncbi.nlm.nih.gov/pmc/articles/PMC1828134/) realizado pela universidade de medicina do Texas em pacientes em UTI de um determinado hospital foi modelado por uma cadeia de Markov, com 8 estados possíveis após o primeiro dia de internação na unidade de terapia intensiva foram avaliados para cada paciente de UTI: enfermaria do mesmo hospital (W); Enfermaria de outro hospital, não UTI ou estar em outro hospital após a alta da UTI para outro hospital (B); UTI de outro hospital (O); Unidade de alta dependência ou área de atendimento intermediário mesmo hospital (U); mesma UTI ou outra UTI dentro do mesmo hospital (I); outro local mesmo hospital (H), saída (E) e óbito (D). Cada destino identifica um estado na cadeia de Markov. **Leia o artigo e veja uma aplicação clara do modelo.**"
      ]
    },
    {
      "cell_type": "markdown",
      "metadata": {
        "id": "utiZhwypr9FH"
      },
      "source": [
        "#### Exercício\n",
        "\n",
        "Para as duas matrizes abaixo,\n",
        "\n",
        "\\begin{equation}\n",
        "\\mathbf{A} = \\begin{bmatrix}\n",
        "1.0 & 0.0 &  0.0 & 0.0 \\\\\n",
        "0.0 & 1.0 &  0.0 & 0.0 \\\\\n",
        "0.2 & 0.2 &  0.5 & 0.1 \\\\\n",
        "0.3 & 0.1 &  0.2 & 0.4 \\\\\n",
        "\\end{bmatrix}\n",
        "\\end{equation}\n",
        "\n",
        "\n",
        "\\begin{equation}\n",
        "\\mathbf{A} = \\begin{bmatrix}\n",
        "1.0 & 0.0 & 0.0 \\\\\n",
        "0.4 & 0.3 & 0.3 \\\\\n",
        "0.3 & 0.2 & 0.5 \\\\\n",
        "\\end{bmatrix}\n",
        "\\end{equation}\n",
        "\n",
        "1.   Encontre a matriz estabilizada de transição de estado;\n",
        "2.   Use diferentes valores de $\\mathbf{S}_0$ e verifique os valores encontrados. Qual sua conclusão?"
      ]
    },
    {
      "cell_type": "markdown",
      "source": [
        "### Markov oculto\n"
      ],
      "metadata": {
        "id": "SjA4vTXfrxvS"
      }
    },
    {
      "cell_type": "markdown",
      "metadata": {
        "id": "dB9expAbt6PA"
      },
      "source": [
        "#### <font color='green'>Seu trabalho </font>\n",
        "\n",
        "<center><img src='https://drive.google.com/uc?export=view&id=1r_BcKlp6AVj46yeQlT9fNxZY1qeajrH_' width=\"200\"></center>\n",
        "\n",
        "<font color='green'>\n",
        "A aula de hoje, apesar de complexa, foi apenas uma introdução aos modelos de Markov, que serão muito úteis em nossas próximas etapas. Na lição de casa, você resolverá um problema mais elaborado, com até 3 colegas. A nota desta lição, substituirá sua menor nota.\n",
        "</font>\n",
        "\n",
        "<font color='green'>\n",
        "Suponha que alguém lance uma moeda dez vezes e forneça o resultado:. Porém, o lançador tem duas moedas e muda aleatoriamente de uma moeda para outra. Uma moeda é equilibrada $E$ e a outra é tendenciosa $NE$, que resulta em cara 80% das vezes que é lançada. Após cada lançamento, o jogador pode manter a mesma moeda (probabilidade 0,8), mudar para a outra moeda (0,20). Além disso, a probabilidade de começar com a moeda equilibrada é 0,8. Com essas informações,\n",
        "\n",
        "1. Monte o problema e as matrizes;\n",
        "2. Qual a probabilidade da sequência $CKKCCCCCKC$, onde $C$ é cara e $K$ é coroa, ocorrer?\n",
        "3. Qual a sequência mais provável das moedas utilizadas?\n",
        "4. Qual a probabilidade dessa sequência ocorrer cem vezes? Estude o fenômeno de underflow e proponha a solução.\n",
        "\n",
        "</font>"
      ]
    }
  ],
  "metadata": {
    "colab": {
      "provenance": []
    },
    "kernelspec": {
      "display_name": "Python 3",
      "language": "python",
      "name": "python3"
    },
    "language_info": {
      "codemirror_mode": {
        "name": "ipython",
        "version": 3
      },
      "file_extension": ".py",
      "mimetype": "text/x-python",
      "name": "python",
      "nbconvert_exporter": "python",
      "pygments_lexer": "ipython3",
      "version": "3.7.4"
    }
  },
  "nbformat": 4,
  "nbformat_minor": 0
}