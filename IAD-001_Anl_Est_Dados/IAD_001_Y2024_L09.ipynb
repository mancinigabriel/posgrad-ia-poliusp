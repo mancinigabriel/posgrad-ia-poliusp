{
  "nbformat": 4,
  "nbformat_minor": 0,
  "metadata": {
    "colab": {
      "provenance": [],
      "toc_visible": true
    },
    "kernelspec": {
      "name": "python3",
      "display_name": "Python 3"
    }
  },
  "cells": [
    {
      "cell_type": "markdown",
      "source": [
        "![Wall-E](https://drive.google.com/uc?export=view&id=1CJsooGWXxTqWw0VeGAoroNb509nYKiRK)\n",
        "\n",
        "Este notebook faz parte da aula [09](https://alunoweb.net/moodle/pluginfile.php/113365/mod_resource/content/2/Aula06_Probabilidade.pdf) do curso IAD-001."
      ],
      "metadata": {
        "id": "a73ZT137Ydh2"
      }
    },
    {
      "cell_type": "markdown",
      "metadata": {
        "id": "vvVtcy77QtsQ"
      },
      "source": [
        "# Modelos probabilísticos:\n",
        "#Distribuições de probabilidade para variáveis contínuas\n",
        "\n",
        "Lembrando que uma **distribuição de probabilidades**, ou **modelo probabilístico**, indica, para uma variável aleatória, **quais são os resultados que podem ocorrer** e **qual é a probabilidade de cada resultado acontecer**.\n",
        "\n",
        "Na aula anterior vimo que uma função de massa de probabilidade (PMF, do inglês, *probability mass function*), $P(x)$, descreve a probabilidade de uma variável discreta obter $X$ o valor $x$. A variável $x$ assume $n$ valores discretos, de modo que,\n",
        "\\begin{align}\n",
        "\\sum_{x=x_1}^{x_n} P(x) = 1.\n",
        "\\end{align}\n",
        "\n",
        "As distribuições de probabilidade de variáveis aleatórias contínuas, conhecidas como funções densidade de probabilidade (PDF em inglês, de probability density functions), são as funções que assumem valores contínuos. A probabilidade de observar qualquer valor único é igual a $0$, pois uma variável aleatória $x$ pode assumir qualquer valor ao longo de um intervalo de números reais. Portanto, o número de valores que podem ser assumidos pela variável aleatória é infinito.\n",
        "\n",
        "Então, a probabilidade de $x$ estar no conjunto de resultados $A$, i.é, $P(A)$ é definida como a área que abrange o intervalo $A$ sob uma curva. A curva que representa uma função densidade de probabilidade $f(x)$, deve satisfazer o seguinte:\n",
        "\n",
        "1.   não possui valores negativos ($f(x)>0$ para todos os valores admissíveis de $x$)\n",
        "2.   a área total sob a curva é igual a 1.\n",
        "$$\\int_{-\\infty}^{x} f(t) dt = 1 $$\n",
        "\n",
        "## Função de distribuição cumulativa\n",
        "Ainda, todas as variáveis aleatórias (discretas e contínuas) têm uma função de distribuição cumulativa. É uma função que fornece a probabilidade de que a variável aleatória $x$ seja menor ou igual a $x=a$, para cada valor $a$. Para uma variável aleatória discreta, a função de distribuição cumulativa é encontrada pela soma das probabilidades, para a variável contínua, esse valor é encontrado pela integral da função de $ - \\infty$ até $a$.\n",
        "\n",
        "\n",
        "Uma função de distribuição acumulativa (CDF, do inglês, *cumulative distribution function*), denominada $F(X)$, é definida como a probabilidade de que uma variável $X$ assuma valores menores ou iguais a $x$.\n",
        "Vimos que, para uma distribuição discreta: $F(x) = \\sum_{x_i=x_1}^x P(x_i)$\n",
        "e para uma distribuiçõa contínua:\n",
        "\\begin{align}\n",
        "F(x)=P(X \\leqslant x)= \\int_{-\\infty}^{x} f(t) dt\n",
        "\\end{align}\n",
        "\n",
        "Alguns exemplos de distribuições de probabilidade contínuas são distribuição Uniforme, Normal, Exponencial, Gama, etc... Vamos tratar de cada uma delas a seguir.\n",
        "\n",
        "Vamos nos preocupar também em gerar variáveis pseudo randômicas para cada distribuição. Para explorar mais o assunto, sugere-se o site [random — Generate pseudo-random numbers](https://docs.python.org/2/library/random.html)."
      ]
    },
    {
      "cell_type": "markdown",
      "source": [
        "## Valor esperado e variância\n",
        "\n",
        "O valor esperado de uma variável aleatória discreta pode ser obtido como  a integral da multiplicação de cada valor $x$ por sua densidade de probabilidades de ocorrência, definida como $f(x)$.\n",
        "\n",
        "\\begin{align}\n",
        "E[X] = \\mu_x = \\int_{-\\infty}^{\\infty} x f(x) dx,\n",
        "\\end{align}\n",
        "\n",
        "A variância e o desvio padrão são medidas de quanto os resultados probabilísticos se desviam do valor esperado, desta forma o valor esperado seria como o centro de massas do pdf e a varianza o momento de inércia ao respeito deste centro de massas.\n",
        "Assumindo que o valor esperado $E[X]$ da variável foi calculado, a variância de uma variável aleatória $X$ é igual ao valor esperado do quadrado de $X$ menos o valor esperado de $X$ ao quadrado,\n",
        "\\begin{align}\n",
        "\\sigma_x^2 = \\int_{-\\infty}^{\\infty} (x-\\mu_x)^2 f(x) dx.\n",
        "\\end{align}\n",
        "\n",
        "O desvio padrão de uma variável aleatória, $\\sigma_x$ ou $s_x$, é a raiz quadrada da variância.\n",
        "\n",
        "### Porque estamos falando de *valor esperado* e não média?\n",
        "\n",
        "O Valor Esperado é usado no caso de Variáveis Aleatórias (ou em outras palavras, *Distribuições de Probabilidade*).\n",
        "\n",
        "Sabe-se que a *média* é definida como a soma de todos os elementos dividida pela soma de suas frequências. Mas, para o caso da distribuição de probabilidade, não podemos descrever uma variável aleatória em termos de sua frequência de antemão, portanto, usamos a probabilidade. Conceitualmente, a probabilidade de um elemento é a frequência de um evento dividida pelo tamanho do espaço amostral. Assim, a média no caso de variável aleatória pode ser dada pela soma das multiplicações de cada evento pela respectiva probabilidade. Nesse caso, $P(x_i)*x_i$ é conceitualmente a frequência de $x_i$ dividida pela frequência total.\n",
        "\n",
        "A média, por outro lado, é usada no caso em que temos o conhecimento das frequências dos elementos individuais e da contagem total dos elementos, por exemplo, no caso de um conjunto de dados ou amostra conhecido. Podemos simplesmente usar a definição fundamental de média para calculá-la.\n",
        "\n",
        "Observe que temos, em geral,\n",
        "\n",
        "\\begin{equation}\n",
        "\\bar{X}=\\frac{\\sum_{k=1}^n x_k}{n}\\neq E(X).\n",
        "\\end{equation}\n",
        "\n",
        "\n",
        "Mas, a média dos experimentos tende ao valor esperado quando o número de experimentos tende ao infinito. Esse comportamento também é chamado de *lei dos grandes números*, mas isso não pe assunto para nós..."
      ],
      "metadata": {
        "id": "VeYpJ9PtOWeI"
      }
    },
    {
      "cell_type": "code",
      "metadata": {
        "id": "ExFTKMLRUd6I"
      },
      "source": [
        "%matplotlib inline\n",
        "import numpy as np\n",
        "import matplotlib.pyplot as plt\n",
        "import random\n",
        "\n",
        "\n",
        "# para plotagem\n",
        "import seaborn as sns\n",
        "# settings: seaborn plotting style\n",
        "sns.set_style(\"darkgrid\")\n",
        "sns.set(color_codes=True)\n",
        "# settings: seaborn plot sizes\n",
        "sns.set(rc={'figure.figsize':(8,8)})\n",
        "colors=['skyblue','darkblue','darkred','darkolivegreen','darkmagenta']\n",
        "\n",
        "# para Latex\n",
        "from IPython.display import Math, Latex\n"
      ],
      "execution_count": 4,
      "outputs": []
    },
    {
      "cell_type": "markdown",
      "metadata": {
        "id": "9AM26aoqXxVe"
      },
      "source": [
        "## Distribuição Uniforme\n",
        "A função densidade de probabilidade (em inglês PDF, de probability density function)  de uma distribuição uniforme é dada por:\n",
        "\n",
        "\\begin{equation}\n",
        "f(x)= \\begin{cases} \\begin{split}\n",
        "&\\frac{1}{b-a} \\qquad &\\text{se } a \\leq x \\leq b \\\\\n",
        "&0   \\qquad &\\text{se } a \\leq x \\leq b \\\\\n",
        "\\end{split} \\end{cases}\n",
        "\\end{equation}\n",
        "\n",
        "sendo $x$ a variável aleatória.\n"
      ]
    },
    {
      "cell_type": "markdown",
      "metadata": {
        "id": "J6-ggWyUQwCI"
      },
      "source": [
        "![image.png](data:image/png;base64,iVBORw0KGgoAAAANSUhEUgAAAV8AAAFMCAYAAABs97+0AAAck0lEQVR4nO3dbWxb9b3A8aNd7QXixe15hYYYi7AmTRPTcjWPO8HErTRp1t51V0h5MV1d2IurRUhbSxGgoImHBnZ9r1BFuxRDy+hGFxdo1ybFS59okIxKS5/cCdpS8LKAtELrxWnaNGnT5HdfcP/GsY99nHNO/Mvp//uRfkJNbOfgul8fn6c4AgBoO0d7AQDARsQXABQQXwBQQHwBQAHxBQAFxBcAFBBfAFBAfAFAAfEFAAXEFwAUEF8AUKAW33K5LCdOnAh035GRkcD3BYCloO3xLZfLsnLlSuno6JAVK1YEeowTJ05IR0eHLF++nAgDiKVI4pvL5SSVSonjOJUpFot1tyuXy7J8+XLp7OyMJJpPPvmkOI4jr7zySujHAoB2Ch3fnp4ecRxHMpmMiIhkMhlxXbfudia8HR0dUi6Xw/7YirVr14rjOLJjx47IHhMAFluo+ObzeXEcR7q7u31va9ZSh4eHw/xIT52dnbJs2bLIHxcAFkuo+HZ3d4vjOJLL5Zrerlwuy7JlywJv4/UzPDwsjuPIk08+uSiPDwBRCxxfs9brOI6USqWmtzWbBtauXRv0x/nq6Ohg7RdAbASKb/WOterp6uryvP2KFSvEcRwZGRlp+JiFQqGy0y6ZTM4LeqFQkEQi0TT0999/v+/PAIClIvCaby6XE8dxpKenx/e2HR0d4jjNf1RXV5cUi0XJZDLzduAVCgVxXbcS5UbMNuXFXLsGgKgEjm86nRbHcSSbzTa93cjIiDiOIx0dHS09bqlUqqxFl0olSSQSLe3Q27FjB9t9AcRG4PiaTQSFQqHp7Ux8Ozs7W37sZDIpiURCenp6Gm7KqGXie//997f8cwBAS+D4uq7reTxvrSDxNUdR1G77bYb4AoiTQPEtFAriOI6kUinf25bL5QVtdhD5cpOG3yFs1V555RVxHEdWrlzZ8n0AQEug+GazWXEcR9LpdGs/xHFaPgys+siGVh9f5MvD2YgvgDgIFN9WT64wzNEOfqcVmx1s5kiKVtasDXOoWdjTjCcnJ6VcLsv4+DjDMJbNxMSEzM3NhWpIqwLFN5lMNrx4jpeVK1f6nlpcKpUkmUxWjmwwO/RatXz58tDH+V64cEHWr18v27Ztk+3btzMMY9Fs27ZNfvvb38qZM2cCN2QhFhxfcyhYKzvbjBMnTjTcGWYer3YHmzneN5vNVk7AaMTs1At7+vLo6Kjs3r071GMAiK8jR47IsWPH2vKzFhxfc1rxQjYJiDS++E31JobqIxvMJgjzvWaHtEV10Z5PPvlEhoaGQj0GgPg6fPiwHD9+vC0/a8HxNUciLGRnmMiXa6dRHwo2MjIiy5Yti+RxiS9gtyUd31ZPrvBiDgeL6hTgcrksnZ2d0tnZGck1gokvYLclG1+zfTaRSAT+geZkiJUrVwbeOVYul2V4eLjyq4Siujg78QXstmTjaw4xy+fzoX5ouVyWtWvXBt5UMDw8LMuXL4/8wuzEF7Dbkouv2SmWTCZDh3cpI76A3ZZcfG1BfAG7EV8lxBewG/FVQnwBuxFfJcQXsBvxVUJ8AbsRXyXEF7Ab8VVCfAG7EV8lxBewG/FVQnwBuxFfJcQXsBvxVUJ8AbsRXyXEF7Ab8VVCfAG7EV8lxBewG/FVQnwBuxFfJcQXsBvxVUJ8AbsRXyXEF7Ab8VVCfAG7EV8lxBewG/FVQnwBuxFfJcQXsBvxVUJ8AbsRXyXEF7Ab8VVCfAG7EV8lxBewG/FVQnwBuxFfJcQXsBvxVUJ8AbsRXyXEF7Ab8VVCfAG7EV8lxBew2w0b33w+L4lEQvL5fDt/bMuIL2C3Gy6+xWJRurq6xHEccRyH+AJYkm6o+KbTaUkkEtLV1SWu6xJfAEvWDRPffD4vXV1dUiqVREQklUoRXwBL1g0T31rEF8BSRnyVEF/AbsRXCfEF7EZ8lRBfwG7EVwnxBexGfJUQX8BuxFcJ8QXsRnyVEF/AbsRXCfEF7HZDxrdYLFZOL+7q6mrXj10Q4hve9PS09iJY7erVq9qLEGs3VHx7enokkUhULqpTPclkUrLZ7GIvQsuIb3B79uyRFStWSDKZlJ/97Gdy5MgR7UWyykcffSS/+MUv5K677pJUKiX9/f0yNzenvVixc0PFN06IbzADAwNy8803z3tjvfXWW+Xo0aPai2aF0dFRufPOO+c9/1/5ylekr69Pe9Fih/gqOXfunOzdu1d7MWJlenpa7r33Xs9PNj//+c+1F88KzzzzjOfzf8cdd8j58+e1Fy9WiG8bHDp0aN4cPnxYdu7cKRs3bvS8/T/+8Q+5cOFC3dfn5ubkb3/7m1y/ft3zPl4v/mb3GRsba3qfmZmZuu+Vy2X5/PPPPe8zOjoq165dq/ve+Pi4fPbZZw3v47Xt0Os+pVJJbr/9ds9//Lfddps8/fTT0tvbK2vWrGEWYZ555pm6tV4zN998s7z//vt1f49ojPi2QW9vb9089NBD8thjj3luKzt16pScPHmy7uvXr1+X3bt3e8bq9OnTUigUPO+zZ88ez51TZ86caXifvXv3ypUrV+q+99FHH8mxY8fqvj47Oyv79u2Ty5cv133v448/9twsMDs7K/v375dLly7Vfe+vf/1r3bbcqakp+cEPfuD5j//rX/+6fOc735Fvf/vbzCLNnXfeKXfccYfn83/77bd7vsGiMeKr5LPPPmOzQwD9/f3y1a9+dd4//H//l3+W49v/V6ZOvcks8hT3vyT/8cNb5cff/Cf58Tf/qfJ38Jvf/Eb7pRE7xFcJO9yC27p1q9x7773yta99Tb7//e/L0TfSMnN2N9OmOTPUJ08/8G/yn/feJrfddpusX7/ec3MTmiO+SohvONevX5dsNiubNm1Sj5GtM3Jgkzz88MPaL4XYIr5KiG94uVxOXnzxRfUI2TqfH+qXRx991HNnLvwRXyXEN7xdu3YRX8X57N0/yiOPPEJ8AyK+SohveMRXd84d3CKrVq0ivgERXyXENzziqzsXC3+SP//5zzI7O6v9Uogllfh6HScY91ko4hve4OCgvPDCC+oRsnkQHGu+SohveOfOnZORkRH1ANk8CI74KiG+0dEOkM2D4IivEuIbHe0A2TwIjvgqIb7R0Q6QzYPgiK8S4hsd7QDZOtc+HPK8+BJaoxpf83vWHMeR7u7utizEUkF8o6MdIVvnwntbJZ1Oc5xvQOprvl1dXeI4zpL6FT/tQHzDM9cW1o6QrfPZu3+U1atXE9+A1OPb3d0tjuNIsVhsy0IsFcQ3vDfffFM2btyoHiFbh9OLw1GPbzKZlGQy2ZYFWEqIb3i7du2STCajHiFbh/iGoxrfUqkkjuNIT09PWxZgKSG+4XF6MfGNM9X45nI5cRxHcrmcFIvFyvZf13WXzDbgQqFQWa7qX0Hf3d0t6XQ68OMS3/CIr+5wYZ1wVOObTqfFcRwpFAqSSqWkWCxKqVSSRCKxJLYDZ7NZcV1Xkslk5XedmTeMsDsJiW94xFd3xk9sl23btnFhnYDUDzVLJBKSSqWkVCpVvt7T06N+BESxWBTXdSWRSMxbNpEvLwwU5s2B+IY3MDDAhXWUB8GpxtdErPY36Jo14jAf68MyR2F4vQE4jiOJRCLU4xPf8D799FM5e/aseoBsHgSnFt98Pt/w5Aqz5pvJZPwfNMDlH1OpVNPHLBaLlW3Pjb7X1dXlu2zNEN/oaAfI5kFwavE1a7e5XK7uhubMt3w+35YFq5XNZhsG1nyvlTeGZohvdLQDZPMgOLX4miMIarenmsPPvNY626XZZo+o3hiIb3S0A2TzIDi1+Lqu6xlYs2apub23UXzNppIgv7miFvGNjnaAbJ1rHw7JzMyM9l9/bKnEt1AoVI6ZrVYqlSpRrl0jbiev+JZKJUmlUpJMJn23GbeC+EZHO0K2zoX3tspzzz3HoWYBqcQ3k8lU1iDNx/d8Pi/JZFJc1607+qHdqt8cSqWSFItFSaVSdW8a6XQ68Bo68Q1vYmJCxsbG1CNk65w7uIUL64SgEt+enp7KGWLmhArXdaW7u1v9xAojk8mI67qVIzLMcplD0BKJBGe4KRsaGpLf/e536hGydTi9OBz1C+vYiviGNzg4yIV1iG9sEV8lxDc8Ti8mvnFGfJUQ3/CIr+5wYZ1wiK8S4hse8dWd8vFt0t/fz9EOARFfJcQ3vIGBAdmwYYN6hGweBEd8lRDf8EZGRuSDDz5QD5DNg+CIrxLiGx3tANk8CI74KiG+0dEOkM2D4IivEuIbHe0A2TwIjvgqIb7R0Q6QzcORDsERXyXENzraAbJ1Skdekw0bNhDggIivEuIb3pUrV2RiYkI9QrbOuYNb5KGHHuIki4CIrxLiG97u3btl8+bN6hGydTi9OBziq4T4hseFdYhvnBFfJcQ3PE4vJr5xRnyVEN/wiK/usM03HOKrhPiGR3x1Z+zYG/Lyyy9ztENAxFcJ8Q1v586d0tfXpx4hmwfBEV8lxDe8s2fPyvHjx9UDZPMgOOKrhPhGRztANg+CI75KiG90tANk8yA44quE+EZHO0A2D4IjvkqIb3S0A2TzIDjiq4T4Rkc7QLbO2LE3ZNOmTRxqFhDxVUJ8w5uenpbJyUn1CNk6nGQRDvFVQnzD27dvn7z66qvqEbJ1OL04HOKrhPiGx4V1iG+cEV8lxDc8Ti8mvnFGfJUQ3/CIr+6wzTcc4quE+IZHfHWHXyMUDvFVQnzD48I6+oPgiK8S4hveqVOn5PDhw+oBsnkQHPFVQnyjox0gmwfBEV8lxDc62gGyeRAc8VVCfKOjHSCbB8ERXyXENzraAbJ5EBzxVUJ8o6MdIFtn7NgbsmXLFg41C4j4KiG+4c3MzMjVq1fVI2TrcJJFOMRXCfEN78CBA7J161b1CNk6nF4cDvFVQnzDGxwclBdeeEE9QrYO8Q2H+CohvuFxejHxjTPiq4T4hkd8defcwS2yevVq4hsQ8VVCfMMjvrpz4b2t8vzzz3O0Q0DEVwnxDY8L6+jOtQ+HZGZmRvtlEFvEVwnxDe8vf/mL5PN59QjZPAiO+CohvtHRDpDNg+CIrxLiGx3tANk8CI74KiG+0dEOkM2D4IivEuIbHe0A2TwIjvgqIb7R0Q6QrVM+vk3eeOMNDjULiPgqIb7hzc7OyuzsrHqEbJ1zB7fIqlWrOMkiIOKrhPiG9/bbb8vrr7+uHiFbh9OLwyG+SohveAMDA1xYh/jGFvFVQnzD4/Ri4htnxFcJ8Q2P+OoOF9YJh/gqIb7hEV/dufDeVkmn08Q3IOKrhPiGx4V1dOfah0MyPT2t/TKILeKrhPiGd+zYMdm/f796hGweBEd8lRDf6GgHyOZBcMRXCfGNjnaAbB4ER3yVEN/oaAfI5kFwxFcJ8Y2OdoBsHgRHfJUQ3+hoB8jWGT+xXQYHB7mwTkDEVwnxDW9ubk7m5ubUI2TrcGGdcIivEuIb3jvvvCM7d+5Uj5Ctw+nF4RBfJcQ3vIGBAdmwYYN6hGwd4hsO8VVCfMPj9GLiG2fEVwnxDY/46sf34YcfJr4BEV8lxDc84qs75w9nZc2aNcQ3IOKrhPiGxzZf3bn24ZBMTk5qvwxii/gqIb7hHT58WIaGhtQjZPMgOOKrhPhGRztANg+CI75KiG90tANk8yA44quE+EZHO0A2D4IjvkqIb3S0A2TzIDjiq4T4Rkc7QLbOxMkdsn//fpmbm9N+CcQS8VVCfKOjHSFbhwvrhEN8lRDf8A4dOiS5XE49QrYOpxeHQ3yVEN/wOMmC+MYZ8VVCfMPj9GLiG2fEVwnxDW9oaEheeukl9QjZOhfe2yqPPfYYv8kiIOKrhPiGc+HCBenr65O+vj71CNk4Eyd3yLFt/yMPPvig9kshtoivEuIbzNWrV2Xnzp2yb98+KRQKMjAwIO+8+pRc+5BrPLRrDm99VvZkHpGze16QPXv2yO9//3sZGxvTfmnEDvFVQnyD2b59u/z973+f97UP3lwnR17/b/Uo2TBnhvrk6Bvpyp9FRC5fviwbN27keN8Feu+994ivhvPnz8vevXu1FyNWpqamZHBwsO7rM2d3y94XH1UPkw1z4OXH5/3ZyOVy8umnn7bz5RB7R44cIb6Lbd26dfNm/fr10tvbK9/73vfk7rvvlnvuuYdpYe666y7JZDKez3FfX5/s379fhoeHYzVHdjwvR3Y8r74crczbb78ta9as8Xz+9+zZI9/97nfVXyNxms7OTjl69OhipqfC2vju27dv3rz11lvS19cnd999t6xatUp+9atfMS3M6tWr5de//nXd8zs7OyubNm2SDz74QN5///1YzSev/VI+ee2X6svRypw6dUq2bt0qly9frvs76Ovrk9WrV8vKlSvVXydxmccff1zGx8fbkSB74+vl2LFjkk6ntRcjdgqFgmQyGZmenhYRkYsXL8rrr78uo6OjyksWzNSBNTJ1wHttcim6ePGi7NixQ86fPy8iIjMzMzIwMCBvvfWW8pKhGeJb5dChQ9Lb26u9GLH08ccfS39/v/zpT3+S1157Tc6dO6e9SIHFLb4iIpcuXZJdu3bJli1bpL+/X06ePKm9SPBBfKsQX4jEM76IH+JbhfhChPiiPYhvlXfffVeeeuop7cWAsrjGN5VKieM44jiO3HPPPRzju8QR3/9XKBTkpz/9aeXFm0gk2PlmqbjGV0TkG9/4hjiOIz/60Y+0FwU+iK98EV7XdSWVSkmpVJJSqSTd3d3iOI50d3drLx7aLM7xNa/bYrGovSjwQXzly49rpVJp3tcTiYQ4jiOFQkFpyaAhzvFNJpOSTCa1FwMtsD6+hUJBHMeRVCpV972enh5xHEd6enoUlgxa4hrfUqnE6zVGrI9vOp0Wx3E8t+9ms9mGYUZzhUJBurq6KtvQk8mkZLNZ6e7uXvLb0uMa31wuJ47jSC6Xk2KxWHn+XdeVbDarvXixkk6nxXVdcRyn7rmLaqXM+viaF6hXEPL5fCUeaF02mxXXdSWZTFY22ZgweL2Yl5q4xtesSBQKBUmlUlIsFqVUKlU2n7EduDXZbFYymUzluXNdt/I9s03dvMmFYX1VzPZe4huNYrEorutKIpGo24ZunsulHoG4xjeVSkkikajsODbMmtpSf9NbisxzZ06hd103sn1A1leF+EbLrBl4/UM3h/AtdXGNr3mt1sah2aY1NGc+sZnNEFHufLe+KsQ3OsVisbKNsdH3urq6FJZsYeIYX/Na9To00qy9Nbr0Jxozr9vF+ORgfVVaia9XTFDP7KD0Cqz5XhwCEMf4mrVbr+2Q5jWez+cVliz+zA7jyB838keMmWZ7Lk18OdqhNc0+3sYpAHGMr9lxXLud3Rx+xgpEMN3d3ZWjHqJmfXzNGpnXO5uJSRzW1paCRvGN2+abOMbXdV3PwJrXN9t7Fy6TyUgymay8rqNecYjHv4ZFVCqVKu9stXvhzWEmS33v/FLhFd9SqSSpVEqSyWRsPkHELb7mRKHaFQjz2nZdt26NGM2ZwyULhUJl5SHqNzDr4ysyf+3XhLbZXnt4q45AqVSSYrEoqVSqLg7pdHpJr4nFLb6ZTKbyycKsneXzeUkmk5Hvob/Rmc2Qtf/2zeGTIl+0IewxviLEtyKXy0kymZx3RlYUT7BtzLGQZs977ZtZHK4WF7f49vT0VM4cNCdUuK477/lHa8wbVu1Kl3mDc103stcv8QVqxC2+iCfiC9QgvmgH4gvUIL5oB+IL1CC+aAfiC9QgvmgH4gvUIL5oB+IL1CC+aAfiC9QgvmgH4gvUIL5oB+IL1CC+aAfiC9QgvmgH4gvUIL5oB+IL1CC+aAfiC9QgvmgH4gvUIL5oB+IL1CC+aAfiC9QgvmgH4gvUIL5oB+IL1CC+aAfiC9QgvmgH4gvUIL5oB+IL1CC+aAfiC9QgvmgH4gvUIL5oB+IL1CC+aAfiC9QgvmgH4gvUIL5oB+ILX1MH1siVHf9lzVx64V+JLxYd8YWv8Sdukqsn/mDVzE2Naz/tuMERX/gaf+Im7UUAbjjEF76ILxA94gtfxBeIHvGFL+ILRI/4whfxBaJHfOGL+ALRI77wRXyB6BFf+CK+QPSIL3wRXyB6xBe+iC8QPeILX8QXiB7xhS/iC0SP+MIX8QWiR3zhi/gC0SO+8EV8gegRX/givkD0iC98EV8gesQXvogvED3iC1/EF4ge8YUv4gtEj/jCF/EFokd84Yv4AtEjvvBFfIHoEV/4Ir5A9IgvfBFfIHrEF76ILxA94gtfxBeIHvGFL+ILRI/4whfxBaJHfOGL+ALRI77wRXyB6BFf+CK+QPSIL3wRXyB6xBe+iC8QPeILX8QXiB7xhS/iC0SP+MIX8QWiR3zhi/gC0SO+8EV8gegRX/givkD0iC/qzE2Ny9UTf6jM+BM3zfvz3NS49iICsUd84Wli7bdk/Imb6mZi7beILxAB4gtP104Pesb36ok/aC8acEMgvmiodu2XtV4gOsQXDdWu/bLWC0SH+KIps/bLWi8QLeKLpszaL2u9QLSIr6Irgw/K+BM3ycVnb5Hrowe1F6ehy6+kWOsFIkZ8lcyOjcjFZ2+Ri8/eItdOD2ovTlOEF4ge8VVi1nqvHt+svSgAFBBfAFBAfBVdHz0o0wfXaS8GAAXEV9Fk/31y6aUfai+GuumD6yrbv4O+GU08l5DxJ26Syf77ZHZsZEH3vfTSD2X8iZv4u0BbEV8lZocb230bx/fq8c0tRXF6uPeLY5HXdy44vCLEFzqIrxKzw82sraFeq/GdeC4ROLyAFuKrxHxMNv9dysf5amk1vkAcEV8F5mPyZP99lTXgye0PeN7WfP/K4INy7fRgJdbVa3nXTg/K5c0/+fICOOs7m247ndr96Lz4Xxl8UESkcn8/jaJY+/XqP08fXCcT6zsrP3N6uHfefWt/ttcV1cxyinyx2WZy+wOVTTfm/9lr2aq/Njs2UtnMYJ6j6uc46ucKaIT4KjARunp887yTLbw+NlfHuRKB9Z2V7187PVgJULNYGZP993netvrrfhYa30bLV72teyHxnR0bqTyHjf4/GsW3+k3KPN+N4hvFcwU0QnzbzCtc5h/z1O5H625ffQpy7ferd9pdGXywEpOrxzd77swzP7v29tMH11XCvhjxrT4KoTqclzf/pHJfr5/d6OdUPydmDXp2bESmdj9a+f/2iu/FZ2/xPBrCK75RPVdAI8S3zWo/8op8cbyv+Vhby4TBa7vn1O5H6yJmmAviVH/PrPV5rRFXXz7Sz0LjO/FcYl7wvO6/kPg2O0rEPCeN4tvs00X18xLVcwU0QnzbqFlkzdpv7bbQZtsjJ7c/4PmxuHouPntL5fZmjbPRUQHmjcFPkG2+fvdvNb6zYyN1m15qNdvs4MXrOY7quQIaIb5t1GgbYvXURqVZfKsPV2s2hglGoyMr4hBfc1uvN7Dq74eNb1TPFdAI8W0Ts8bWylR/nPbbE++1ttzIYm92MEdxmE0dixXfoJsdFhJfNjtgsRHfNmkWUaM2Xn73qz5SYnq4t/IR+froQbky+GDl0Cqj2U6k6iMS/FTv6DM7Aa+PHqzsiDJvBosV32Y73MzjhI1vVM8V0AjxbRPzD9bvZIraky78oj19cF3T7b211wqO6vCpRps8qjebLFZ8wxxq1uz/hUPN0E7Etw3MGlkrpxHX3raVNea6kyyeS8hk/30NQx/ViQPTw72Vx/E6jGux4isS/CQLL5xkAQ3EFwAUEF8AUEB8AUAB8QUABcQXABQQXwBQQHwBQAHxBQAFxBcAFBBfAFBAfAFAAfEFAAXEFwAUEF8AUEB8AUDB/wH0WU1s90lJ1wAAAABJRU5ErkJggg==)\n",
        "\n",
        "Modelo de Distribuição Uniforme"
      ]
    },
    {
      "cell_type": "markdown",
      "metadata": {
        "id": "lXtvOiEyQype"
      },
      "source": [
        "\n",
        "A característica dessa distribuição é que qualquer intervalo de números de largura igual tem uma probabilidade igual de ser observado.\n",
        "\n",
        "A função\n",
        "\n",
        "```\n",
        "uniform.pdf(x,loc, scale)\n",
        "```\n",
        "gera o valor da função de distribuição $f(x)$. Veja que esse valor não é uma probabilidade. Dado que a variável é contínua uniforme entre o intervalo especificado por meio dos argumentos `loc` e `scale`, isto é, entre `loc` e `loc+scale`, então a probabilidade deve ser sempre dentro de um intervalo.\n",
        "Porém, a função cumulativa\n",
        "\n",
        "```\n",
        "uniform.cdf(x,loc, scale)\n",
        "```\n",
        "gera a probabilidade da variável assumir valores até `loc+scale`.\n",
        "\n"
      ]
    },
    {
      "cell_type": "code",
      "metadata": {
        "id": "-vJ8gjKGUfTw"
      },
      "source": [
        "# importe distribuição uniforme\n",
        "from scipy.stats import uniform"
      ],
      "execution_count": null,
      "outputs": []
    },
    {
      "cell_type": "code",
      "metadata": {
        "id": "r3x7h17abEet"
      },
      "source": [
        "a=4\n",
        "print('f(x=a) vale: ', uniform.pdf(a, loc = 2, scale = 5))\n",
        "print('P(x<a) vale: ',uniform.cdf(a, loc = 2, scale = 5))\n",
        "intervalo = np.linspace(2,7,1000)\n",
        "y=uniform.pdf(intervalo, loc = 2, scale = 5)\n",
        "fig, ax = plt.subplots(1, 1)\n",
        "#cuidado atualização seaborn: corrigir chamadas as funções\n",
        "sns.lineplot(x=intervalo, y=uniform.pdf(intervalo, loc = 2, scale = 5), lw=5, alpha=0.6, label='Dist. Uniforme')\n"
      ],
      "execution_count": null,
      "outputs": []
    },
    {
      "cell_type": "markdown",
      "metadata": {
        "id": "tlFxdEbYduif"
      },
      "source": [
        "### Exercício sobre distribuição uniforme\n",
        "\n",
        "Um jogo de azar é realizado da seguinte forma: um ponteiro é fixado no centro de um círculo. Girando o ponteiro, qual a probabilidade dele, quando parar, estar sinalizando um ângulo entre $30^o$ e $60^o$?\n"
      ]
    },
    {
      "cell_type": "code",
      "metadata": {
        "id": "0c9XJQ9xetMi"
      },
      "source": [
        "#Tente resolver aqui"
      ],
      "execution_count": null,
      "outputs": []
    },
    {
      "cell_type": "markdown",
      "source": [
        "####Solução\n",
        "Duplo-clique __aqui__ para a solução.\n",
        "\n",
        "<!-- Resposta abaixo:\n",
        "prob=uniform.cdf(60, loc = 0, scale = 360)-uniform.cdf(30, loc = 0, scale = 360)\n",
        "print('A probabilidade do ponteiro estar entre 30 e 60 graus é: ','{:.2%}'.format(prob))  \n",
        "\n",
        "A probabilidade do ponteiro estar entre 30 e 60 graus é:  8.33%\n",
        "-->"
      ],
      "metadata": {
        "id": "LswtQsU0gwfq"
      }
    },
    {
      "cell_type": "markdown",
      "metadata": {
        "id": "GUSoxHOBcAF0"
      },
      "source": [
        "\n",
        "A função uniforme `uniform.rvs(size, loc, scale)` gera valores pseudo aleatórios de uma distribuição uniforme. O argumento `size` descreve o número de variáveis aleatórias a serem geradas. Se você deseja manter a repetibilidade, inclua um argumento `random_state` atribuído a um número. Existe também a opção `np.random.uniform(low, high=None, size=None)`. Importante ressaltar que usando o default `high=None`, valores são são gerados entre `[0, low)`. Por exemplo,\n",
        "\n",
        "`np.random(2, size=10)`\n",
        "\n",
        "gera 10 valores aleatórios $0 \\leq x <2$."
      ]
    },
    {
      "cell_type": "code",
      "metadata": {
        "id": "VTeKL-cG5IQ_"
      },
      "source": [
        "print(np.random.uniform(2, size=10))"
      ],
      "execution_count": null,
      "outputs": []
    },
    {
      "cell_type": "code",
      "metadata": {
        "id": "1JxwIZnsU4oD"
      },
      "source": [
        "n = 10000\n",
        "start = 10\n",
        "width = 20\n",
        "data_uniform = uniform.rvs(size=n, loc = start, scale=width)\n",
        "data_uniform2 = np.random.uniform(start, start+width, n)\n",
        "print(data_uniform)\n",
        "print(data_uniform2)"
      ],
      "execution_count": null,
      "outputs": []
    },
    {
      "cell_type": "code",
      "source": [
        "# Create a histplot (histogram plot)\n",
        "sns.histplot(data_uniform,\n",
        "             bins=100,\n",
        "             kde=False,  #kernel density estimation (KDE) is a non-parametric way to estimate the probability density function (PDF) of a random variable\n",
        "             color='skyblue',\n",
        "             line_kws={\"linewidth\": 1, \"edgecolor\": 'darkblue', \"alpha\": 0.5})\n",
        "\n",
        "\n",
        "#ax.set(xlabel='Distribuição uniforme', ylabel='Frequencia')\n",
        "\n",
        "# Set axis labels\n",
        "plt.xlabel('Distribuição uniforme')\n",
        "plt.ylabel('Frequência')\n",
        "\n",
        "# Show the plot\n",
        "plt.show()"
      ],
      "metadata": {
        "id": "ftBwAHfsn7JT"
      },
      "execution_count": null,
      "outputs": []
    },
    {
      "cell_type": "markdown",
      "metadata": {
        "id": "73JSaIVqrb96"
      },
      "source": [
        "### Exercício usando o modelo randômico para geração de variáveis inteiras\n",
        "Com a função `np.random.randint(low, high=None, size=None)` você também gera valores, porém inteiros, entre o mínimo `low` e o máximo `high`(se definido). Se o default `high=None` é utilizado, valores são são gerados entre `[0, low)`. `np.random.randint(low, high=None, size=None)`eja que a distribuição é randômica e não uniforme. Por exemplo,\n",
        "\n",
        "`np.random.randint(2, size=10)`\n",
        "\n",
        "gera 10 valores aleatórios entre 0 e 1. Outro exemplo: a função\n",
        "\n",
        "`np.random.randint(5,10, size=(3,2))`\n",
        "\n",
        "gera e eventos, cada um com 2 tentativas, de variáveis entre 5 e 9.\n",
        "\n",
        "Utilize a função, `np.random.randint` para gerar um evento de lançamento de dois dados 1000 vezes. Plote a soma dos dados em cada evento."
      ]
    },
    {
      "cell_type": "code",
      "metadata": {
        "id": "sx-ZhVOwsT2B"
      },
      "source": [
        "#Veja inicialmente como funciona\n",
        "print(np.random.randint(2, size=10))\n",
        "print(np.random.randint(5,10, size=(3,2)))"
      ],
      "execution_count": null,
      "outputs": []
    },
    {
      "cell_type": "code",
      "metadata": {
        "id": "cAca2Ei4ETCr"
      },
      "source": [
        "#Tente resolver aqui\n"
      ],
      "execution_count": null,
      "outputs": []
    },
    {
      "cell_type": "markdown",
      "source": [
        "####Solução\n",
        "\n",
        "Duplo-clique __aqui__ para a solução.\n",
        "\n",
        "<!-- Resposta\n",
        "\n",
        "# Generação dos dados aleatórios\n",
        "evento_dados = np.sum(np.random.randint(1, 7, size=(10000, 2)), axis=1)\n",
        "\n",
        "# Crear o histograma\n",
        "sns.histplot(evento_dados, bins=np.linspace(1, 13, 13) - 0.5, kde=True,\n",
        "             color='skyblue', alpha=0.5, linewidth=1, edgecolor='darkblue')\n",
        "\n",
        "# Set axis labels\n",
        "plt.xlabel('Distribuição uniforme')\n",
        "plt.ylabel('Frequência')\n",
        "\n",
        "# Show the plot\n",
        "plt.show()\n",
        "\n",
        "#OU : ax.set(xlabel='Distribuição uniforme', ylabel='Frequencia')\n",
        "-->"
      ],
      "metadata": {
        "id": "93EYAuM1vEIU"
      }
    },
    {
      "cell_type": "markdown",
      "metadata": {
        "id": "ocswYJ1muD3B"
      },
      "source": [
        "<font color='green'>\n",
        "### Este é o seu exercício de Distribuição Uniforme</font>\n",
        "<p style=\"font-family: Arial; font-size:1.4em\">\n",
        "<font color='green'>Se você recebe, em média, 90 acessos por hora em seu site, responda:\n",
        "\n",
        "Use\n",
        "1.   Qual é a probabilidade de se passarem 4 minutos sem nenhum acesso?\n",
        "1.   Qual é a probabilidade de se esperar entre 1 e 2 minutos para o próximo acesso?\n",
        "1.   Qual é a probabilidade de não se esperar mais que 2,5 minutos para o próximo acesso?\n",
        "1.   Qual é a probabilidade de se esperar mais de 2 minutos por um acesso, dado que já passou 1 minuto sem acesso?\n",
        "2.   Qual é a probabilidade de haver exatamente 3 acessos ao site no período de um minuto?\n",
        "2.   Qual é a probabilidade de haver no máximo 3 acessos no site no período de um minuto?\n",
        "2.   Qual é a probabilidade de haver exatamente 1 acesso no site em um período de 1 minuto e, no máximo, 3 acessos no próximo minuto?\n",
        "\n",
        "\n",
        "</font> </p>"
      ]
    },
    {
      "cell_type": "markdown",
      "metadata": {
        "id": "Q7GafnxNtvv-"
      },
      "source": [
        "## Distribuição gaussiana ou normal\n",
        "\n",
        "A distribuição normal, também conhecida como distribuição gaussiana, é onipresente na ciência de dados. Gauss fornece uma abordagem bastante conveninente para solucionar problemas de aprendizado de máquina supervisionados e não supervisionados.\n",
        "\n",
        "Uma distribuição normal tem uma curva densidade de probabilidade em forma de sino, descrita por sua média $\\mu$ e desvio padrão $\\sigma$. A curva é simétrica, centrada em torno de sua média, variando de $ - \\infty$ até $ + \\infty$. Dados  próximos à média são mais frequentes na ocorrência do que os dados distantes da média e o nível dessa dispersão é definido pelo desvio padrão. Quase 68% dos dados estão a uma distância de $\\pm \\sigma$ e 95% em $\\pm 2\\sigma$, 99.7% em $\\pm 3\\sigma$, e assim por diante...\n",
        "\n",
        "A função de distribuição de probabilidade de uma curva normal com média $\\mu$ e desvio padrão $\\sigma$ em um determinado ponto $x$ é dada por:\n",
        "\n",
        "\\begin{equation}\n",
        "p(x)=\\frac{1}{\\sigma\\sqrt(2\\pi)}e^{-\\frac{1}{2}\\left(\\frac{x-\\mu}{\\sigma}\\right)^2}\n",
        "\\end{equation}\n",
        "\n",
        "Também vale mencionar que uma distribuição com média $0$ e desvio padrão $1$ é chamada distribuição normal padrão. O valor de $x$ normalizado é dado por:\n",
        "\\begin{equation}\n",
        "z=\\frac{x-\\mu}{\\sigma}\n",
        "\\end{equation}\n",
        "\n",
        "Uma das maneiras de definir a função densidade d eprobabilidade em Python é\n",
        "```\n",
        "norm.pdf(x, loc=0, scale=1))\n",
        "```\n",
        "onde agora, `loc` especifica a média e `scale` especifica o desvio padrão. Novamente, essa função não define o valor da probabilidade. O valor é definido em intervalos. Uma maneira simples de encontrar a probabilidade de um intervalo é com a função que calcula a acumulada,\n",
        "\n",
        "\n",
        "```\n",
        "norm.cdf(x, loc=0, scale=1)\n",
        "```\n",
        "\n"
      ]
    },
    {
      "cell_type": "code",
      "metadata": {
        "id": "NokzW7AWrNNa"
      },
      "source": [
        "from scipy.stats import norm"
      ],
      "execution_count": 33,
      "outputs": []
    },
    {
      "cell_type": "code",
      "metadata": {
        "id": "35FU8E5f8Q-d"
      },
      "source": [
        "# Plot entre -5 e 5 com steps de .001\n",
        "intervalo = np.arange(-5,5,0.001)\n",
        "fig, ax = plt.subplots(1, 1)\n",
        "sns.lineplot(x=intervalo, y=norm.pdf(intervalo),lw=5, alpha=0.6, label='Curva normal 01')\n",
        "#mudando o desvio padrão de 1 para 2\n",
        "sns.lineplot(x=intervalo, y=norm.pdf(intervalo, scale=2), lw=5, alpha=0.6, label='Curva normal 02')\n",
        "#sns.lineplot(x=intervalo, y=ynorm, lw=5, alpha=0.6, label='Curva normal 02')"
      ],
      "execution_count": null,
      "outputs": []
    },
    {
      "cell_type": "markdown",
      "metadata": {
        "id": "tVUy8YkvxWO6"
      },
      "source": [
        "### Exercício com a variável padronizada $z$\n",
        "\n",
        "Considerando a distribuição normal padronizada, calcule as seguintes probabilidades:\n",
        "\n",
        "1.   $P\\left( z \\leq 2.62\\right)=$\n",
        "1.   $P\\left( z \\leq -1.45\\right)=$\n",
        "1.   $P\\left( z > 1.45 \\right)=$\n",
        "2.   $P\\left( -1.5 \\leq z \\leq 2.5\\right)=$\n",
        "\n",
        "Por último, calcule $s$ dado que,\n",
        "5.   $P\\left( z > s \\right)= 0.0771$\n",
        "\n",
        "Para o último item lembrem-se que `x=norm.ppf(0.99)` dá o valor de  `x`  para o qual a probabilidade acumulada é 99% de uma distribuição normal padronizada, ié, , `loc =0, scale = 1`."
      ]
    },
    {
      "cell_type": "code",
      "metadata": {
        "id": "N821J79ALRFE"
      },
      "source": [
        "# Tente resolver aqui"
      ],
      "execution_count": null,
      "outputs": []
    },
    {
      "cell_type": "markdown",
      "source": [
        "####Solução\n",
        "Duplo-clique __aqui__ para a solução e execute o código abaixo para visualizar as áreas.\n",
        "\n",
        "<!-- Resposta\n",
        "#Código:\n",
        "#Item 1\n",
        "prob = norm.cdf(2.62)\n",
        "print('1. P(z<2.62)= ','{:.2%}'.format(prob))\n",
        "#Item 2\n",
        "prob = norm.cdf(-1.45)\n",
        "print('2. P(z<-1.45)= ','{:.2%}'.format(prob))\n",
        "#Item 3\n",
        "#não precisaria fazer contas, como a curva é simétrica, P(z>1.45)=P(z<-1.45)\n",
        "prob = 1.0 - norm.cdf(1.45)\n",
        "print('3. P(z>1.45)= ','{:.2%}'.format(prob))\n",
        "#Item 4\n",
        "prob = norm.cdf(2.5)-norm.cdf(-1.5)\n",
        "print('4. P(-1.5<z<2.5)= ','{:.2%}'.format(prob))\n",
        "#Item 5\n",
        "valor = norm.ppf(1.-0.0771)\n",
        "print('5. s = ','{:03.2f}'.format(valor))\n",
        "\n",
        "Que deve resultar:\n",
        "\n",
        "1. P(z<2.62)=  99.56%\n",
        "2. P(z<-1.45)=  7.35%\n",
        "3. P(z>1.45)=  7.35%\n",
        "4. P(-1.5<z<2.5)=  92.70%\n",
        "5. s =  1.42\n",
        "-->\n",
        "\n",
        "\n",
        "\n"
      ],
      "metadata": {
        "id": "cfgCtja1FyfP"
      }
    },
    {
      "cell_type": "code",
      "metadata": {
        "id": "5loQ44L96aDS"
      },
      "source": [
        "#Plot das curvas, para você visualizar as áreas\n",
        "intervalo = np.arange(-4, 4, 0.001)\n",
        "intervalo1 = np.arange(-4, 2.62, 0.001)\n",
        "intervalo2 = np.arange(-4, -1.45, 0.001)\n",
        "intervalo3 = np.arange(1.45, 4, 0.001)\n",
        "intervalo4 = np.arange(-1.5, 2.5, 0.001)\n",
        "\n",
        "#fig, ax = plt.subplots()\n",
        "fig, (ax1, ax2, ax3, ax4) = plt.subplots(1,4,figsize=(20,5))\n",
        "\n",
        "plt.style.use('fivethirtyeight')\n",
        "\n",
        "#Item 01\n",
        "sns.lineplot(x=intervalo, y=norm.pdf(intervalo), lw=5, alpha=0.6, label='Item 01', ax=ax1)\n",
        "ax1.fill_between(intervalo1, norm.pdf(intervalo1), 0, alpha=0.3, color='b')\n",
        "\n",
        "#Item 02\n",
        "sns.lineplot(x=intervalo, y=norm.pdf(intervalo), lw=5, alpha=0.6, label='Item 02', ax=ax2)\n",
        "ax2.fill_between(intervalo2, norm.pdf(intervalo2), 0, alpha=0.3, color='b')\n",
        "\n",
        "#Item 03\n",
        "sns.lineplot(x=intervalo, y=norm.pdf(intervalo), lw=5, alpha=0.6, label='Item 03', ax=ax3)\n",
        "ax3.fill_between(intervalo3, norm.pdf(intervalo3), 0, alpha=0.3, color='b')\n",
        "\n",
        "#Item 04\n",
        "sns.lineplot(x=intervalo, y=norm.pdf(intervalo), lw=5, alpha=0.6, label='Item 04', ax=ax4)\n",
        "ax4.fill_between(intervalo4, norm.pdf(intervalo4), 0, alpha=0.3, color='b')\n"
      ],
      "execution_count": null,
      "outputs": []
    },
    {
      "cell_type": "markdown",
      "metadata": {
        "id": "AI3urhg-FXvV"
      },
      "source": [
        "### Exercício sobre distribuição de Gauss\n",
        "\n",
        "Seleciona-se, aleatoriamente, de uma certa universidade, um estudante do sexo masculino e mede-se o valor de sua altura $x$, em $cm$. Admitindo-se que nesta universidade os estudantes têm altura média de $170 cm$ com desvio padrão de $10 cm$,\n",
        "\n",
        "1.   plote a curva da função densidade de probabilidade normal para este problema.\n",
        "1.   qual a probabilidade do estudante sorteado ter altura superior a $175 cm$?\n",
        "2.   qual a probabilidade do estudante sorteado ter menos de $180 cm$?\n",
        "1.   qual a probabilidade do estudante sorteado ter entre $155$ e $170 cm$?\n",
        "2.   qual a altura mínima dos $5\\%$ mais altos da universidade?\n",
        "\n",
        "Dica: trabalhe com a soma e subtração das acumuladas. Para o último item lembrem-se que `x=norm.ppf(0.95, loc =0, scale = 1)` dá o valor de $x$ para o qual a probabilidade acumulada é 95%."
      ]
    },
    {
      "cell_type": "code",
      "metadata": {
        "id": "PMQdbQB-IBqo"
      },
      "source": [
        "# Tente resolver aqui"
      ],
      "execution_count": null,
      "outputs": []
    },
    {
      "cell_type": "markdown",
      "source": [
        "####Solução\n",
        "Duplo-clique __aqui__ para a solução e execute o código abaixo para visualizar as áreas.\n",
        "\n",
        "<!-- Resposta\n",
        "#Código:\n",
        "# Resposta\n",
        "mu_altura = 160.0\n",
        "sigma_altura = 10.0\n",
        "lim_inf = mu_altura - 4.0*sigma_altura; lim_sup = mu_altura + 4.0*sigma_altura\n",
        "intervalo = np.arange(lim_inf, lim_sup, 0.001)\n",
        "fig, ax = plt.subplots(1, 1)\n",
        "#Item 01\n",
        "sns.lineplot(x=intervalo, y=norm.pdf(intervalo, loc=mu_altura, scale = sigma_altura),lw=5, alpha=0.6, label='Curva normal 01')\n",
        "#Item 02\n",
        "prob = 1.0 - norm.cdf(175, loc=mu_altura, scale = sigma_altura) #norm.sf(180, loc=mu_altura, scale = sigma_altura) dá o mesmo valor,ié, sf = 1-cdf\n",
        "print('A probabilidade do estudante ter mais de 175cm é: ','{:.2%}'.format(prob))\n",
        "#Item 03\n",
        "prob=norm.cdf(180, loc=mu_altura, scale = sigma_altura)\n",
        "\n",
        "print('A probabilidade estudante ter menos de 180 cm é: ','{:.2%}'.format(prob))\n",
        "#Item 04\n",
        "prob=norm.cdf(170, loc=mu_altura, scale = sigma_altura)-norm.cdf(155, loc=mu_altura, scale = sigma_altura)\n",
        "print('A probabilidade estudante ter altura entre 170 e 155 cm é: ','{:.2%}'.format(prob))\n",
        "#Item 04\n",
        "altura=norm.ppf(0.95, loc=mu_altura, scale = sigma_altura)\n",
        "print('A probabilidade estudante ter altura entre 170 e 155 cm é: ','{:03.2f}'.format(altura))\n",
        "\n",
        "Que deve resultar:\n",
        "\n",
        "A probabilidade do estudante ter mais de 175cm é:  6.68%\n",
        "A probabilidade estudante ter menos de 180 cm é:  97.72%\n",
        "A probabilidade estudante ter altura entre 170 e 155 cm é:  53.28%\n",
        "A probabilidade estudante ter altura entre 170 e 155 cm é:  176.45\n",
        "-->\n",
        "\n",
        "\n",
        "\n"
      ],
      "metadata": {
        "id": "F-kko7jDACpb"
      }
    },
    {
      "cell_type": "markdown",
      "metadata": {
        "id": "lA5vmBk5SUdN"
      },
      "source": [
        "###Exercício\n",
        "Um dado nao viciado é lançado 1200 vezes. Seja $p$ a probabilidade de\n",
        "a face 4 ocorrer entre 195 e 210 vezes inclusive. Então calcule:\n",
        "1.  0 ≤ p < 0,20\n",
        "2. 0,20 ≤ p < 0,40\n",
        "3. 0,40 ≤ p < 0,60\n",
        "4. 0,60 ≤ p < 0,80\n",
        "5. 0,80 ≤ p ≤ 1\n",
        "6. não sei"
      ]
    },
    {
      "cell_type": "code",
      "metadata": {
        "id": "ffUkSiAgTDZo"
      },
      "source": [
        "n=1200\n",
        "p=1./6.\n",
        "mu_dado = n*p\n",
        "sigma_dado = np.sqrt(n*p*(1.-p))\n",
        "print(n,p,1-p,n*p*(1.-p), mu_dado,sigma_dado)\n",
        "prob=norm.cdf(210, loc=mu_dado, scale = sigma_dado)-norm.cdf(195, loc=mu_dado, scale = sigma_dado)\n",
        "print(prob)"
      ],
      "execution_count": null,
      "outputs": []
    },
    {
      "cell_type": "code",
      "metadata": {
        "id": "PHvMOZtHVOLX"
      },
      "source": [
        "200*5/6\n",
        "np.sqrt(200*1/6*5/6)\n",
        "(195-200)/12.91\n",
        "0.15173+0.27935"
      ],
      "execution_count": null,
      "outputs": []
    },
    {
      "cell_type": "code",
      "metadata": {
        "id": "U_kKadc5Yeb0"
      },
      "source": [
        "0.20884+0.36433\n",
        "600*5/36\n",
        "np.sqrt(600*5/36)\n",
        "5/6"
      ],
      "execution_count": null,
      "outputs": []
    },
    {
      "cell_type": "markdown",
      "metadata": {
        "id": "5FZ16NuvOJ1k"
      },
      "source": [
        "<font color='green'>\n",
        "###Este é o seu primeiro exercício de Distribuição Gaussiana</font>\n",
        "<p style=\"font-family: Arial; font-size:1.4em\">\n",
        "<font color='green'>\n",
        "\n",
        "Uma empresa produz televisores de 2 tipos, tipo A (comum) e tipo B (luxo), e garante a restituição da quantia paga se qualquer televisor apresentar defeito grave no prazo de seis meses.\n",
        "O tempo para ocorrência de algum defeito grave nos televisores tem distribuição normal sendo que, no tipo A, com média de 10 meses e desvio padrão de 2 meses e no tipo B, com média de 11 meses e desvio padrão de 3 meses. Os televisores de tipo A e B são produzidos com lucro  de 1200 u.m. e 2100 u.m., respectivamente. Mas caso haja restituição, são produzidos com prejuízo de 2500 u.m. e 7000 u.m., respectivamente.\n",
        "1. Calcule as probabilidades de haver restituição nos televisores do tipo A e do tipo B.\n",
        "2. Calcule o lucro médio para os televisores do tipo A e para os televisores do tipo B.\n",
        "\n",
        "Baseando-se nos lucros médios, a empresa deveria incentivar as vendas dos aparelhos do tipo A ou do tipo B?\n",
        "\n",
        "</font> </p>"
      ]
    },
    {
      "cell_type": "markdown",
      "metadata": {
        "id": "Gfh5Nn2KuxFt"
      },
      "source": [
        "##Comentário\n",
        "\n",
        "\n",
        "No código abaixo,\n",
        "```\n",
        "np.random.normal()\n",
        "```\n",
        "gera um número aleatório que é normalmente distribuído com uma média de $0$ e um desvio padrão de $1$.\n",
        "Em seguida, multiplicamos por pelo desvio padrão para obter a volatilidade desejada e adicionamos a média para mudar a localização central.\n",
        "\n",
        "Isto é,\n",
        "*   Você pode mudar a média adicionando uma constante à sua variável aleatória distribuída normalmente (onde a constante é a média desejada). Ele altera a localização central da variável aleatória de 0 para qualquer número que você adicionou a ela.\n",
        "*   Você pode modificar o desvio padrão da sua variável aleatória distribuída normalmente, multiplicando uma constante pela sua variável aleatória (onde a constante é o desvio padrão desejado)."
      ]
    },
    {
      "cell_type": "code",
      "metadata": {
        "id": "KHY3y5kRtjRd"
      },
      "source": [
        "z = np.random.normal()\n",
        "print('A variável padronizada z vale:', z)\n",
        "mu_altura = 160.0\n",
        "sigma_altura = 10.0\n",
        "print('A variável aleatória x vale:', mu_altura + z *sigma_altura)"
      ],
      "execution_count": null,
      "outputs": []
    },
    {
      "cell_type": "markdown",
      "metadata": {
        "id": "IgFzUy92-YLN"
      },
      "source": [
        "\n",
        "Você pode atribuir à função variável aleatória uma média e um desvio padrão,\n",
        "\n",
        "```\n",
        "numpy.random.normal(loc=media, scale=dsv padrao, size=None)\n",
        "```\n",
        "\n",
        "mas colocamos manualmente a média e o desvio padrão da sua variável aleatória no item anterior somente para dar a você a intuição da variável padronizada $z$, conforme estudamos na teoria.\n"
      ]
    },
    {
      "cell_type": "code",
      "metadata": {
        "id": "u7ziqjfO109h",
        "colab": {
          "base_uri": "https://localhost:8080/",
          "height": 34
        },
        "outputId": "4bf1b1c3-d396-455e-f96b-a49ebb388d9a"
      },
      "source": [
        "mu_altura = 160.0\n",
        "sigma_altura = 10.0\n",
        "z = np.random.normal(loc = mu_altura, scale = sigma_altura)\n",
        "print('A variável padronizada z vale:', z)"
      ],
      "execution_count": null,
      "outputs": [
        {
          "output_type": "stream",
          "text": [
            "A variável padronizada z vale: 153.35215579336483\n"
          ],
          "name": "stdout"
        }
      ]
    },
    {
      "cell_type": "code",
      "metadata": {
        "id": "WLn7GIOuCItw"
      },
      "source": [
        "mu_altura = 160.0\n",
        "sigma_altura = 10.0\n",
        "target = mu_altura\n",
        "dados_altura = np.random.normal(loc = mu_altura, scale = sigma_altura, size = 1000)\n",
        "print('Altura média:', round(np.mean(dados_altura),1), 'cm')\n",
        "print('Desvio Padrão da altura:', round(np.var(dados_altura)**0.5,1), 'cm')\n",
        "\n",
        "# Histograma mostrando a distribuição dos dados\n",
        "fig, ax = plt.subplots(figsize=(12,8))\n",
        "sns.distplot(dados_altura, kde=False, label='Altura')\n",
        "ax.set_xlabel(\"Alturas em cm\",fontsize=16)\n",
        "ax.set_ylabel(\"Frequencia\",fontsize=16)\n",
        "plt.axvline(target, color='red')\n",
        "plt.axvline(round(np.mean(dados_altura),1), color='green')\n",
        "plt.tight_layout()"
      ],
      "execution_count": null,
      "outputs": []
    },
    {
      "cell_type": "markdown",
      "metadata": {
        "id": "yqVWLzuBtp85"
      },
      "source": [
        "### Exercício com valores randômicos de variáveis normais\n",
        "\n",
        "Vamos, agora, *fabricar* alguns dados de altura. Para isso, suponha que serão feitas *10000 pesquisas* com 10 medições em pessoas diferentes em cada pesquisa.\n",
        "1.   Crie a sua pesquisa, com média 160cm e desvio padrão 10cm;\n",
        "1.   Calcule a média e o desvio padrão da pesquisa (deve ser muito similar ao valor definido no item anterior);\n",
        "2.   Plote, em um gráfico, a distribuição das médias das pesquisas e em outro gráfico os 100000 valores obtidos;\n",
        "1.   Comente os resultados."
      ]
    },
    {
      "cell_type": "code",
      "metadata": {
        "id": "EUxk4xxYR7RJ"
      },
      "source": [
        "mu_altura = 160.0\n",
        "sigma_altura = 10.0\n",
        "dados_altura = np.random.normal(loc = mu_altura, scale = sigma_altura, size=(1000,10))\n",
        "print('Altura média:', round(np.mean(dados_altura),1), 'cm')\n",
        "print('Desvio Padrão da altura:', round(np.var(dados_altura)**0.5,1), 'cm')\n",
        "#caso você ainda tenha dúvidas sobre a saída dados_altura, substitua o valor 10000\n",
        "# por 20 e veja explicitamente a matriz de saída tirando o comentáriod a linha abaixo\n",
        "#print(dados_altura)\n",
        "\n",
        "# Histograma que mostra a distribuição para a média de todas as pesquisas\n",
        "fig, ax = plt.subplots(figsize=(12,8))\n",
        "sns.distplot(np.mean(dados_altura,axis=1), kde=False, label='Altura')\n",
        "ax.set_xlabel(\"Alturas em cm\",fontsize=16)\n",
        "ax.set_ylabel(\"Frequencia\",fontsize=16)\n",
        "plt.axvline(target, color='red')\n",
        "plt.axvline(round(np.mean(dados_altura),1), color='green')\n",
        "plt.legend()\n",
        "plt.tight_layout()"
      ],
      "execution_count": null,
      "outputs": []
    },
    {
      "cell_type": "markdown",
      "metadata": {
        "id": "c2l8-n0-2DaA"
      },
      "source": [
        "<font color='green'>\n",
        "### Este é o seu exercício de Distribuição Normal</font>\n",
        "<p style=\"font-family: Arial; font-size:1.4em\">\n",
        "<font color='green'>\n",
        "\n",
        "\n",
        "Supondo que temos dois jogadores, Mário e Ana, e a habilidade habilidade de jogo de cada um deles é definida, respectivamente, por `MarSkill = 12.5` e `AnaSkill = 15`. Esses números parecem ser completamente arbitrários, e a escala na qual medimos a habilidade é de fato arbitrária. O que importa, no entanto, é como os valores das habilidades se comparam entre os jogadores. Atribuímos a Ana um maior valor de habilidade para indicar que ela é a jogadora mais forte. Mas agora nos deparamos com o primeiro de nossos desafios: o jogador mais forte em um jogo de videogame nem sempre é o vencedor. Se Ana e Fred jogassem muitos jogos um contra o outro, esperaríamos que Ana vencesse mais da metade deles, mas não necessariamente vencesse todos eles. Podemos capturar a variabilidade no resultado de um jogo, introduzindo a noção de desempenho para cada jogador, que expressa o quão bem eles jogaram em um jogo específico. O jogador com maior desempenho para um jogo específico será o vencedor desse jogo. Um jogador com um alto nível de habilidade tenderá a ter um alto desempenho, mas seu desempenho real variará de um jogo para outro.\n",
        "Considere o desempenho de Ana como `AnaPerf` e o desempenho de Mario por `MarPerf`, com variância constante e igual para os dois jogadores, $\\sigma^2=5^2$\n",
        "\\begin{equation}\n",
        "p(AnaPerf;15,5^2)=\\frac{1}{5\\sqrt(2\\pi)}e^{-\\frac{1}{2}\\left(\\frac{x-15}{5}\\right)^2} \\\\\n",
        "p(MarPerf;12.5,5^2)=\\frac{1}{5\\sqrt(2\\pi)}e^{-\\frac{1}{2}\\left(\\frac{x-12.5}{5}\\right)^2}\n",
        "\\end{equation}\n",
        "Agora temos que definir o vencedor do jogo. Para isso, usareos uma variável binária `AnaVence`, que vale `True` se Ana for a vencedora e `False` se Mário for o vencedor. O valor dessa variável é determinado por qual das duas variáveis `AnaPerf` e `MarPerf` é maior - será `True` se `AnaPerf` for maior ou `False` caso contrário.\n",
        "\n",
        "Dada a história acima, construa os seguintes gráficos:\n",
        "1.   Construa as curvas de distribuição do desempenho de Ana e de Mário;\n",
        "2.   Faça um gráfico desempenho de Ana versus desempenho de Mário e plote os valores obtidos em 1000 jogos. Coloque também uma linha dividindo a área em que a Ana da Área que o Mário vence\n",
        "1.   Se repetirmos o processo de amostragem muitas vezes, como fizemos no item anterior (1000 vezes), a fração de vezes que `AnaVence` for `True` fornece, aproximadamente, a probabilidade de Ana ganhar um jogo. Calcule essa probabilidade aproximada.\n",
        "2.   O que acontece com a probabilidade do item anterior se o desempenho da Ana ou do Mário ficarem instáveis? Obs. mude a variância e analise a resposta.\n",
        "\n",
        "</font> </p>\n",
        "<font color='green'>\n",
        "Essa atividade é uma simplificação do texto que você encontra [aqui](http://mbmlbook.com/TrueSkill_Modelling_the_outcome_of_games.html).\n",
        "\n",
        "O texto possui informações fora do escopo da nossa disciplina. Caso você queira ler o texto original, seja seletivo e não se preocupe em entender todos os detalhes.\n",
        "</font> </p>\n",
        "\n"
      ]
    },
    {
      "cell_type": "markdown",
      "metadata": {
        "id": "bhoEmGnBrPgC"
      },
      "source": [
        "## Distribuição gaussiana multivariada\n",
        "\n",
        "No centro de toda teoria está a distribuição gaussiana multivariada. É uma generalização multidimensional da distribuição normal unidimensional que acabamos de ver.\n",
        "\n",
        "O método usa o fato de que quaisquer $n$-observações, $(x_1,…, x_n)$, em um conjunto de dados, são pontos amostrados de uma distribuição Gaussiana de $n$-variáveis.\n",
        "\n",
        "Representa a distribuição de uma variável aleatória multivariada composta de várias variáveis aleatórias que podem ser correlacionadas entre si. A distribuição normal multivariável é dada por\n",
        "\n",
        "\\begin{equation}\n",
        "p\\left(\\mathbf{x}; \\mathbf{\\mu}, \\mathbf{\\Sigma} \\right)=\\frac{1}{\\left(2\\pi \\right)^{n/2} \\left|\\mathbf{\\Sigma}\\right|^{1/2}}  e^{-\\frac{1}{2} \\left(\\mathbf{x} - \\mathbf{\\mu}\\right)\\mathbf{\\Sigma}^{-1} \\left(\\mathbf{x} - \\mathbf{\\mu}\\right)^T}\n",
        "\\end{equation}\n",
        "\n",
        "$\\mathbf{x}$ é um vetor de dimensão $n$\n",
        "$\\mathbf{\\mu}$ vetor com as médias, $nx1$\n",
        "$\\mathbf{\\Sigma}$ é a matriz de covariância, $n x n$ e $\\left|\\mathbf{\\Sigma}\\right|$ é o determinante de $\\mathbf{\\Sigma}$\n",
        "\n",
        "Dessa forma, tem-se que $N \\approx \\left( \\mathbf{\\mu}, \\mathbf{\\Sigma}\\right)$."
      ]
    },
    {
      "cell_type": "code",
      "metadata": {
        "id": "D65wOv_w-5l9"
      },
      "source": [
        "from __future__ import division\n",
        "import matplotlib.pyplot as plt\n",
        "from mpl_toolkits.mplot3d.axes3d import Axes3D\n",
        "from matplotlib import cm"
      ],
      "execution_count": 15,
      "outputs": []
    },
    {
      "cell_type": "markdown",
      "metadata": {
        "id": "wYuq3vkumAwd"
      },
      "source": [
        "A função\n",
        "\n",
        "```\n",
        "multivariate_normal.pdf(x, mean, cov)\n",
        "```\n",
        "\n",
        "retorna a função $p\\left( \\mathbf{x};\\mathbf{\\mu},\\mathbf{\\sum}\\right)$. As entradas são: vetor de médias `mean` $\\mathbf{\\mu}$ e matriz de covariância `cov` $\\mathbf{\\sum}$.\n",
        "\n",
        "Pode-se também *congelar* a função, com média e variância fixa com a função\n",
        "\n",
        "```\n",
        "rv = multivariate_normal(mean, cov)\n",
        "```\n",
        "e o objeto pode ser chamado como função com os mesmos métodos, por exemplo,\n",
        "\n",
        "```\n",
        "rv.pdf(x)\n",
        "```\n",
        "\n",
        "A seguir, um exemplo. As informações foram resumidas do link [Scipy Multivariate Normal](https://docs.scipy.org/doc/scipy-0.14.0/reference/generated/scipy.stats.multivariate_normal.html)\n",
        "\n",
        "\n"
      ]
    },
    {
      "cell_type": "code",
      "metadata": {
        "id": "ke7Kmj5CVMCr"
      },
      "source": [
        "from scipy.stats import multivariate_normal\n",
        "from matplotlib import cm\n",
        "from mpl_toolkits.mplot3d import Axes3D"
      ],
      "execution_count": 3,
      "outputs": []
    },
    {
      "cell_type": "code",
      "source": [
        "import numpy as np\n",
        "import matplotlib.pyplot as plt\n",
        "from scipy.stats import multivariate_normal\n",
        "from matplotlib import cm\n",
        "\n",
        "mu = np.array([0., 0.])\n",
        "Sigma = np.array([[3., 2.], [1., 2.]])\n",
        "\n",
        "N = 120\n",
        "x1 = np.linspace(-3, 3, N)\n",
        "x2 = np.linspace(-3, 3, N)\n",
        "x1, x2 = np.meshgrid(x1, x2)\n",
        "\n",
        "\n",
        "# Tire os comentários das linhas abaixo e veja os valores de x1 e x2 para entender\n",
        "# o que cada combinação pos[a;b;0] e pos[a,b,1] significam\n",
        "# Atenção: para visualizar melhor, caso não esteja conseguindo entender,\n",
        "# diminua o número N=64 para 5\n",
        "# print(x1)\n",
        "# print(x2)\n",
        "\n",
        "pos = np.empty(x1.shape + (2,))\n",
        "pos[:, :, 0] = x1\n",
        "pos[:, :, 1] = x2\n",
        "\n",
        "z = multivariate_normal(mu, Sigma)\n",
        "z1, z2 = np.random.multivariate_normal(mu, Sigma, 3000).T\n",
        "\n",
        "fig1, ax = plt.subplots(1, 1, figsize=(5, 5))\n",
        "cp = ax.contourf(x1, x2, z.pdf(pos), cmap=cm.viridis)\n",
        "fig1.colorbar(cp)\n",
        "ax.set_xlabel('x1')\n",
        "ax.set_ylabel('x2')\n",
        "ax.axis('equal')\n",
        "plt.show()\n",
        "\n",
        "fig2 = plt.figure()\n",
        "ax = fig2.add_subplot(111, projection='3d')\n",
        "ax.plot_surface(x1, x2, z.pdf(pos), cmap=cm.viridis, antialiased=True)\n",
        "\n",
        "ax.set_xlabel('x1')\n",
        "ax.set_ylabel('x2')\n",
        "ax.set_zlabel('PDF Value')\n",
        "\n",
        "plt.show()"
      ],
      "metadata": {
        "id": "IseAdy4SX7mm"
      },
      "execution_count": null,
      "outputs": []
    },
    {
      "cell_type": "markdown",
      "metadata": {
        "id": "4junFt-Uj-Qh"
      },
      "source": [
        "## Distribuição Exponencial\n",
        "\n",
        "A distribuição exponencial descreve o tempo entre os eventos em um processo de ponto de Poisson, isto é, um processo no qual os eventos ocorrem de forma contínua e independente a uma taxa média constante. Possui um parâmetro $\\lambda$ chamado parâmetro de taxa e sua equação é descrita como:\n",
        "\\begin{equation}\n",
        "p \\left( x;\\lambda \\right)=\\begin{cases}  \n",
        "\\begin{split}\n",
        "&\\lambda e^{-\\lambda x} \\qquad & \\text{se } x \\geq 0 \\\\\n",
        "&0   \\qquad                    & \\text{se } x<0\n",
        "\\end{split}\n",
        "\\end{cases}\n",
        "\\end{equation}\n",
        "\n",
        "A distribuição pode ser gerada através da função\n",
        "```\n",
        "expon.pdf(x,scale=beta,loc=0)\n",
        "```\n",
        "do módulo `scipy.stats`, que usa o parâmetro $\\beta$ `scale`, que é $1/\\lambda$ (ou a média) como argumento. Para deslocar a distribuição, use o argumento `loc`, `size` define o número de variáveis aleatórias na distribuição.\n",
        "\n",
        "Lembre-se que as distribuições contínuas,\n",
        "*   PDF: Probability Density Function, retorna a função de probabilidade de um determinado resultado contínuo.\n",
        "*   CDF: Cumulative Distribution Function, retorna a probabilidade de um valor menor ou igual a um determinado resultado.\n",
        "*   PPF: Percent-Point Function, retorna um valor que é menor ou igual à probabilidade fornecida."
      ]
    },
    {
      "cell_type": "code",
      "metadata": {
        "id": "UAV6OEDUoBPa"
      },
      "source": [
        "from scipy.stats import expon\n",
        "from scipy.stats import poisson"
      ],
      "execution_count": 11,
      "outputs": []
    },
    {
      "cell_type": "markdown",
      "metadata": {
        "id": "m-OSqOWD0mrl"
      },
      "source": [
        "Veja, abaixo, a função densidade de probabilidade foi calculada de duas maneiras: usando explicitamente a sua definição,\n",
        "```\n",
        "data1 = lambd*np.exp(-lambd*x)\n",
        "```\n",
        "e usando a função expon.pdf,\n",
        "```\n",
        "data2 = expon.pdf(x,scale=beta)\n",
        "```\n",
        "Veja que na definiçaõ original usamos a taxa $\\lambda$, enquanto que, para a função, o valor dado para scale foi $\\beta = \\frac{1}{\\lambda}$.\n",
        "Atenção, errar na definição correta do parâmetro da distribuição exponencial é bastante comum, e muitos exemplos na internet estão errados, por causa desta confusão."
      ]
    },
    {
      "cell_type": "code",
      "metadata": {
        "id": "kOdbAUkdqZ7N"
      },
      "source": [
        "lambd = 0.5\n",
        "beta = 1/lambd\n",
        "x = np.arange(0,15,0.1)\n",
        "data1 = lambd*np.exp(-lambd*x)\n",
        "data2 = expon.pdf(x,scale=beta)\n",
        "plt.plot(x,data1,'o', label = 'definição')\n",
        "plt.plot(x,data2, label = 'função expon')\n",
        "plt.legend()\n",
        "plt.show()"
      ],
      "execution_count": null,
      "outputs": []
    },
    {
      "cell_type": "markdown",
      "metadata": {
        "id": "bQygrdxYo9rZ"
      },
      "source": [
        "### Exercício sobre exponencial\n",
        "Em média, uma determinada peça do computador dura dez anos. O período de duração da peça do computador é distribuído exponencialmente.\n",
        "\n",
        "1.   Desenhe a curva exponencial que modela o problema;\n",
        "1.   Qual é a probabilidade de uma peça de computador durar mais de 7 anos?\n",
        "2.   Quanto durará 80% das partes do computador?\n",
        "1.   Qual é a probabilidade de uma peça de computador durar entre 9 e 11 anos?"
      ]
    },
    {
      "cell_type": "code",
      "metadata": {
        "id": "KBXdzn2Noncr"
      },
      "source": [
        "#Resposta\n",
        "intervalo=np.linspace(0,50,100)\n",
        "mu = 10\n",
        "beta = mu\n",
        "fig, ax = plt.subplots(1, 1)\n",
        "#Item 01\n",
        "sns.lineplot(x=intervalo, y=expon.pdf(intervalo,scale=beta,loc=0),lw=5, alpha=0.6, label='Curva exponencial, lambda = 50')\n",
        "# Item 02 P(x>7)\n",
        "prob = 1. - expon.cdf(7,scale=beta,loc=0)\n",
        "print('A probabilidade de durar mais de 7 anos é: ','{:.2%}'.format(prob))\n",
        "# Item 03 P(x<n)=80%\n",
        "tempo = expon.ppf(0.80,scale=beta,loc=0)\n",
        "print('80% dos componentes durarão (em anos): ','{:03.2f}'.format(tempo))\n",
        "# Item 04 P(9<x<11)\n",
        "prob = expon.cdf(11,scale=beta,loc=0)-expon.cdf(9,scale=beta,loc=0)\n",
        "print('A probabilidade de durar entre 9 e 11 anos é: ','{:.2%}'.format(prob))"
      ],
      "execution_count": null,
      "outputs": []
    },
    {
      "cell_type": "markdown",
      "metadata": {
        "id": "JDJRJYIPy6cb"
      },
      "source": [
        "### Exercício para você resolver\n",
        "\n",
        "Em um call center, as chamadas chegam a uma taxa média de quatro chamadas por minuto. Suponha que o tempo decorrido de uma chamada para a próxima tenha a distribuição exponencial.\n",
        "\n",
        "1.   Encontre o tempo médio entre duas chamadas sucessivas.\n",
        "2.   Encontre a probabilidade de que, após uma chamada ser recebida, a próxima chamada ocorra em menos de dez segundos.\n",
        "1.  Encontre a probabilidade de que exatamente cinco chamadas ocorram em um minuto.\n",
        "2.   Encontre a probabilidade de ocorrer menos de cinco chamadas em um minuto.\n",
        "2.   Encontre a probabilidade de ocorrer mais de 40 chamadas em um período de oito minutos.\n",
        "\n",
        "\n",
        "OBS.: Estamos preocupados apenas com a taxa em que as chamadas são recebidas e estamos ignorando o tempo gasto no telefone.\n",
        "\n",
        "Também devemos assumir que o tempo gasto entre as chamadas é independente. Isso significa que um atraso particularmente longo entre duas chamadas não significa que haverá um período de espera mais curto para a próxima chamada. Podemos então deduzir que o número total de chamadas recebidas durante um período de tempo tenha a distribuição Poisson."
      ]
    },
    {
      "cell_type": "markdown",
      "source": [
        "####Solução\n",
        "Duplo-clique __aqui__ para a solução e execute o código abaixo para visualizar as áreas.\n",
        "\n",
        "<!--\n",
        "#Resposta\n",
        "intervalo=np.linspace(0,50,100)\n",
        "mu = 4. #chamadas por minuto\n",
        "beta = 1./mu\n",
        "#Item 01\n",
        "print('O tempo médio entre duas chamadas sucessivas (em minutos): ','{:03.2f}'.format(beta))\n",
        "# Item 02 P(x<10)\n",
        "prob = expon.cdf(10/60,scale=beta,loc=0)\n",
        "print('A probabilidade da próxima chamada ocorrer em menos de 10s é: ','{:.2%}'.format(prob))\n",
        "# Item 03 P(x=5) - lembre-se que, para usar a distribuição de Poisson, você deve multiplicar lambda pelo número de períodos da análise\n",
        "prob = poisson.pmf(5,mu*1.0)\n",
        "print('A probabilidade de exatamente cinco chamadas ocorram em um minuto é: ','{:.2%}'.format(prob))\n",
        "# Item 04 P(x<5)\n",
        "prob = poisson.cdf(4,mu*1.0)\n",
        "print('A probabilidade de que menos de cinco chamadas ocorram em um minuto é: ','{:.2%}'.format(prob))\n",
        "# Item 05 P(x<5)\n",
        "prob = 1. - poisson.cdf(40,mu*8.0)\n",
        "print('A probabilidade de que mais de 40 chamadas ocorram em um minuto é: ','{:.2%}'.format(prob))\n",
        "\n",
        "\n",
        "O tempo médio entre duas chamadas sucessivas (em minutos):  0.25\n",
        "A probabilidade da próxima chamada ocorrer em menos de 10s é:  48.66%\n",
        "A probabilidade de exatamente cinco chamadas ocorram em um minuto é:  15.63%\n",
        "A probabilidade de que menos de cinco chamadas ocorram em um minuto é:  62.88%\n",
        "A probabilidade de que mais de 40 chamadas ocorram em um minuto é:  7.07%\n",
        "-->"
      ],
      "metadata": {
        "id": "yBoTnEULwBNU"
      }
    },
    {
      "cell_type": "markdown",
      "metadata": {
        "id": "pA4NthGZ9m0a"
      },
      "source": [
        "### <font color='green'>\n",
        "### Este é o seu exercício de Distribuição de Exponencial</font>\n",
        "<p style=\"font-family: Arial; font-size:1.4em\">\n",
        "<font color='green'>Se você recebe, em média, 90 acessos por hora em seu site, responda:\n",
        "\n",
        "1.   Qual é a probabilidade de se passarem 4 minutos sem nenhum acesso?\n",
        "1.   Qual é a probabilidade de se esperar entre 1 e 2 minutos para o próximo acesso?\n",
        "1.   Qual é a probabilidade de não se esperar mais que 2,5 minutos para o próximo acesso?\n",
        "1.   Qual é a probabilidade de se esperar mais de 2 minutos por um acesso, dado que já passou 1 minuto sem acesso?\n",
        "2.   Qual é a probabilidade de haver exatamente 3 acessos ao site no período de um minuto?\n",
        "2.   Qual é a probabilidade de haver no máximo 3 acessos no site no período de um minuto?\n",
        "2.   Qual é a probabilidade de haver exatamente 1 acesso no site em um período de 1 minuto e, no máximo, 3 acessos no próximo minuto?\n",
        "\n",
        "\n",
        "</font> </p>\n",
        "\n",
        "\n"
      ]
    },
    {
      "cell_type": "markdown",
      "metadata": {
        "id": "Rr77Y57EyN6P"
      },
      "source": [
        "\n",
        "\n",
        "Você pode gerar uma variável aleatória distribuída exponencialmente usando o método\n",
        "```\n",
        "expon.rvs()\n",
        "```\n",
        "do módulo `scipy.stats`, que usa o parâmetro $\\beta$ `scale`, que é $1/\\lambda$ (ou a média) como argumento. Para deslocar a distribuição, use o argumento `loc`, `size` define o número de variáveis aleatórias na distribuição.\n"
      ]
    },
    {
      "cell_type": "code",
      "metadata": {
        "id": "3uQc90OToELH"
      },
      "source": [
        "data_expon = expon.rvs(scale=1,loc=0,size=1000)\n",
        "ax = sns.distplot(data_expon, kde=False, bins=100, color='skyblue', hist_kws={\"linewidth\": .5,'alpha':0.8})\n",
        "ax.set(xlabel='Distribuição exponencial', ylabel='Frequencia')"
      ],
      "execution_count": null,
      "outputs": []
    },
    {
      "cell_type": "markdown",
      "metadata": {
        "id": "6D4xFrBF38La"
      },
      "source": [
        "## Distribuição Gama\n",
        "A distribuição exponencial prevê o tempo de espera até que o *primeiro* evento ocorra. A distribuição gama, por outro lado, prevê o tempo de espera até que o $k-$ésimo evento ocorra.\n",
        "\n",
        "\\begin{equation}\n",
        "p(x)=\\frac{\\beta^{-\\alpha} x^{\\alpha-1} e^{-x/\\beta}}{\\Gamma(\\alpha)}\n",
        "\\end{equation}\n",
        "\n",
        "onde $\\Gamma(\\alpha)=(\\alpha -1)!$\n",
        "\n",
        "Para parametrização $\\alpha,\\beta$: Usando nossa notação $k$ como o número de eventos e $\\lambda$ a taxa de eventos, basta substituir $\\alpha$ por $k$, $\\beta$ por $\\lambda$."
      ]
    },
    {
      "cell_type": "code",
      "metadata": {
        "id": "n7PtRT2p37rb"
      },
      "source": [
        "from scipy.stats import gamma"
      ],
      "execution_count": null,
      "outputs": []
    },
    {
      "cell_type": "code",
      "metadata": {
        "id": "cfITYd-Z9JDm",
        "colab": {
          "base_uri": "https://localhost:8080/",
          "height": 484
        },
        "outputId": "4ca15971-0491-4c35-cf81-8cff9478071b"
      },
      "source": [
        "x = np.linspace (0, 20, 200)\n",
        "y1 = gamma.pdf(x, a=1, loc=0, scale =1 ) #a é alpha, scale é o valor de beta\n",
        "plt.plot(x, y1, \"y-\", color = 'darkolivegreen', label=(r'$\\alpha=1, \\beta=1$'))\n",
        "y1 = gamma.pdf(x, a=2, loc=0, scale =1)\n",
        "plt.plot(x, y1, \"y-\", color = 'olivedrab',  label=(r'$\\alpha=2, \\beta=1$'))\n",
        "y1 = gamma.pdf(x, a=3, loc=0, scale =1)\n",
        "plt.plot(x, y1, \"y-\", color = 'yellowgreen',  label=(r'$\\alpha=3, \\beta=1$'))\n",
        "\n",
        "y1 = gamma.pdf(x, a=3, loc=0, scale =2) #a é alpha, loc é o valor de beta\n",
        "plt.plot(x, y1, \"y-\", color = 'darkred', label=(r'$\\alpha=3, \\beta=2$'))\n",
        "y1 = gamma.pdf(x, a=3, loc=0, scale =3)\n",
        "plt.plot(x, y1, \"y-\", color = 'red',  label=(r'$\\alpha=3, \\beta=3$'))\n",
        "y1 = gamma.pdf(x, a=3, loc=0, scale =4)\n",
        "plt.plot(x, y1, \"y-\", color = 'salmon',  label=(r'$\\alpha=3, \\beta=4$'))\n",
        "\n",
        "plt.legend()\n",
        "#plt.ylim([0,0.08])\n",
        "#plt.xlim([0,150])\n",
        "plt.show()"
      ],
      "execution_count": null,
      "outputs": [
        {
          "output_type": "display_data",
          "data": {
            "image/png": "[encoded data removed]",
            "text/plain": [
              "<Figure size 576x576 with 1 Axes>"
            ]
          },
          "metadata": {
            "tags": []
          }
        }
      ]
    },
    {
      "cell_type": "markdown",
      "metadata": {
        "id": "2nQpMbZMJtzp"
      },
      "source": [
        "### Exercício sobre distribuição Gama\n",
        "\n",
        "Suponha que o tempo em minutos que um estudante usa um terminal de computador no campus segue uma distribuição gama, com média $20 \\text{ min}$ e variância $80 \\text{ min}^2$. Pede-se,\n",
        "\n",
        "1.   Quais os valores de $\\alpha$ e $\\beta$?\n",
        "1.   Qual a probabilidade de um aluno usar por menos de 10min o computador?\n",
        "\n",
        "\n"
      ]
    },
    {
      "cell_type": "code",
      "metadata": {
        "id": "hwSXZ_JDjM_d"
      },
      "source": [
        "#Sua resposta\n"
      ],
      "execution_count": null,
      "outputs": []
    },
    {
      "cell_type": "code",
      "metadata": {
        "id": "Ng8SxUNNKonS"
      },
      "source": [
        "#Gabarito:\n",
        "#Item 1\n",
        "#alpha*beta=20; alpha*beta^2=80\n",
        "beta = 80/20\n",
        "alpha = 20/beta\n",
        "print('1. Os valores de alpha e beta são, espectivamente: ','{:03.2f}'.format(alpha), 'e','{:03.2f}'.format(beta))\n",
        "#Item 2\n",
        "prob = gamma.cdf(10, a=alpha, loc=0, scale=beta)\n",
        "print('2. A probabilidade de um aluno usar por menos de 10min o computador é: ','{:.3%}'.format(prob))"
      ],
      "execution_count": null,
      "outputs": []
    },
    {
      "cell_type": "code",
      "metadata": {
        "id": "c2XReK6F4JuT"
      },
      "source": [
        "Pode-se gerar valores aleatórios que seguem uma distribuição gama, como fizemos com todos os outros modelos."
      ],
      "execution_count": null,
      "outputs": []
    },
    {
      "cell_type": "code",
      "metadata": {
        "id": "nug4vHTj_Wtk"
      },
      "source": [
        "data_gamma = gamma.rvs(a=5, size=10000)\n",
        "ax = sns.distplot(data_gamma,\n",
        "                  kde=True,\n",
        "                  bins=100,\n",
        "                  color='skyblue',\n",
        "                  hist_kws={\"linewidth\": 0.5,'alpha':1})\n",
        "ax.set(xlabel='Gamma Distribution', ylabel='Frequency')"
      ],
      "execution_count": null,
      "outputs": []
    },
    {
      "cell_type": "markdown",
      "metadata": {
        "id": "mj4gXXR1tS-4"
      },
      "source": [
        "## Poisson vs Exponencial vs Gama\n",
        "O tempo de chegada de carros na ponte Rio Niterói pode ser modelado pelo processo de Poisson com uma taxa de 30 carros por hora.\n",
        "\n",
        "1.   Encontre a probabilidade de esperar mais de 10 minutos por 8 carros;\n",
        "2.   Encontre a probabilidade de esperar até 10 minutos pelo primeiro carro;\n",
        "1.   Encontre a probabilidade de chegarem 8 ou mais carros nos próximos 10 minutos."
      ]
    },
    {
      "cell_type": "code",
      "metadata": {
        "id": "E2lBLyiHQB6A"
      },
      "source": [
        "lambd= 30/60\n",
        "beta = 1/lambd\n",
        "#Item 1\n",
        "alpha = 8\n",
        "prob = 1. - gamma.cdf(10, a=alpha, loc=0, scale=beta)\n",
        "print('1. A probabilidade de esperar mais de 10 minutos por 8 carros é: ','{:.2%}'.format(prob))\n",
        "x = np.linspace (0, 30, 200)\n",
        "x1 = np.linspace (10, 30, 200)\n",
        "y1 = gamma.pdf(x, a=alpha, loc=0, scale=beta)\n",
        "plt.plot(x, y1, \"y-\", color = 'darkolivegreen')\n",
        "plt.fill_between(x1, gamma.pdf(x1, a=alpha, loc=0, scale=beta), 0, alpha=0.3, color='yellowgreen')\n",
        "plt.title('Função densidade de probabilidade Gama')\n",
        "plt.xlabel('tempo [min]')\n",
        "plt.ylabel('p(x) ')\n",
        "plt.show()"
      ],
      "execution_count": null,
      "outputs": []
    },
    {
      "cell_type": "code",
      "metadata": {
        "id": "09I4jBMXTwEb"
      },
      "source": [
        "lambd= 30/60\n",
        "beta = 1/lambd\n",
        "#Item 2\n",
        "#Opção 01: calculando como Exponencial:\n",
        "prob = expon.cdf(10, loc=0, scale=beta)\n",
        "print('2. A probabilidade de esperar probabilidade de esperar até 10 minutos pelo primeiro carro é: ','{:.2%}'.format(prob))\n",
        "\n",
        "#Opção 2: Gama com alpha = 1\n",
        "alpha = 1\n",
        "prob = gamma.cdf(10, a=alpha, loc=0, scale=beta)\n",
        "print('2. A probabilidade de esperar probabilidade de esperar até 10 minutos pelo primeiro carro é: ','{:.2%}'.format(prob))\n",
        "\n",
        "#Plot\n",
        "x = np.linspace (0, 30, 200)\n",
        "x1 = np.linspace (0, 10, 200)\n",
        "y1 = gamma.pdf(x, a=alpha, loc=0, scale=beta)\n",
        "plt.plot(x, y1, \"y-\", color = 'darkolivegreen')\n",
        "plt.fill_between(x1, expon.pdf(x1,scale=beta), 0, alpha=0.3, color='yellowgreen')\n",
        "plt.title('Função densidade de probabilidade Exponencial')\n",
        "plt.xlabel('tempo [min]')\n",
        "plt.ylabel('p(x) ')\n",
        "plt.show()"
      ],
      "execution_count": null,
      "outputs": []
    },
    {
      "cell_type": "code",
      "metadata": {
        "id": "w7zmREYtXlrp"
      },
      "source": [
        "lambd= 30/60\n",
        "beta = 1/lambd\n",
        "#Item 3\n",
        "#Poisson:\n",
        "prob = 1. - poisson.cdf(8, lambd*10)\n",
        "print('3. A probabilidade de chegarem 8 ou mais carros nos próximos 10 minutos é: ','{:.2%}'.format(prob))\n",
        "\n",
        "#Plot\n",
        "x = np.linspace (8, 30, 22, endpoint=False)\n",
        "x1 = np.linspace (0, 8, 8, endpoint=False)\n",
        "y1 = poisson.pmf(x, lambd*10)\n",
        "plt.plot(x, y1, 'o', color = 'darkolivegreen')\n",
        "plt.plot(x1, poisson.pmf(x1,lambd*10), 'o', color='yellowgreen')\n",
        "plt.title('Função massa de probabilidade Poisson')\n",
        "plt.xlabel('número de carros')\n",
        "plt.ylabel('P(x) ')\n",
        "plt.show()"
      ],
      "execution_count": null,
      "outputs": []
    }
  ]
}