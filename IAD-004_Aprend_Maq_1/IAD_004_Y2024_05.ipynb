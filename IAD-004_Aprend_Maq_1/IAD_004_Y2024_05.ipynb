{
  "nbformat": 4,
  "nbformat_minor": 0,
  "metadata": {
    "kernelspec": {
      "display_name": "Python 3",
      "language": "python",
      "name": "python3"
    },
    "language_info": {
      "codemirror_mode": {
        "name": "ipython",
        "version": 3
      },
      "file_extension": ".py",
      "mimetype": "text/x-python",
      "name": "python",
      "nbconvert_exporter": "python",
      "pygments_lexer": "ipython3",
      "version": "3.7.1"
    },
    "colab": {
      "provenance": [],
      "toc_visible": true
    }
  },
  "cells": [
    {
      "cell_type": "markdown",
      "metadata": {
        "id": "zQMcips1rd4b"
      },
      "source": [
        "# <font face=\"Verdana\" size=6 color='#6495ED'> IAD-004 APRENDIZAGEM DE MÁQUINA 1\n",
        "<font face=\"Verdana\" size=3 color='#40E0D0'> Professores Larissa Driemeier e Thiago Martins\n",
        "\n",
        "<center><img src='https://drive.google.com/uc?export=view&id=1J3dF7v9apzpj27oOsrT8aEagtNIYwq7J' width=\"600\"></center>\n",
        "\n",
        "Este notebook introdutório é sobre __Máquinas de Vetores de suporte__, baseado na aula [IAD-004](https://alunoweb.net/moodle/pluginfile.php/143143/mod_resource/content/1/ML1_C05_SVM_Y2024.pdf), ano 2024.\n",
        "\n",
        "O Notebook apresentado é uma compilação de ideias apresentadas nas seguintes fontes:\n",
        "\n",
        "1. Livro [Python Data Science Handbook](http://shop.oreilly.com/product/0636920034919.do) de Jake VanderPlas, cuja programação em Python está disponível no [GitHub](https://github.com/jakevdp/PythonDataScienceHandbook).\n",
        "2. Texto [SVM Example](http://axon.cs.byu.edu/Dan/678/miscellaneous/SVM.example.pdf), elaborado por Dan Ventura.\n",
        "3. Notas de aula [CS229 Lecture Notes](http://cs229.stanford.edu/notes/cs229-notes3.pdf), elaboradas por Angrew Ng.\n",
        "4. Exemplo [k-fold](https://machinelearningmastery.com/k-fold-cross-validation/), por Jason Brownlee.\n",
        "5. Artigo clássico [Data classification using Support vector Machine (SVM), a simplified approach ](http://citeseerx.ist.psu.edu/viewdoc/download?doi=10.1.1.683.210&rep=rep1&type=pdf), de S. Amarappa e S. V. Sathyanarayana."
      ]
    },
    {
      "cell_type": "markdown",
      "source": [
        "## O que é SVM?\n",
        "\n",
        "Máquina de Vetores de Suporte, ou SVMs (do inglês, Support Vector Machine) é um método de aprendizado relativamente novo usado para classificação binária. A idéia básica é encontrar um hiperplano que separe perfeitamente os dados $d$-dimensionais em suas duas classes. No entanto, como os dados de exemplo geralmente não são separáveis linearmente, os SVMs introduzem a noção de um *espaço de recursos induzido pelo kernel* que lança os dados em um espaço dimensional mais alto, geralmente desconhecido, onde os dados são separáveis.\n",
        "\n",
        "O SVM foi proposto por Vladimir Vapnik, em sua tese de doutorado na década de 60. As Máquinas de Vetores de Suporte foram introduzidas pela primeira vez para resolver os problemas de classificação de padrões de escrita em 1992, quando Vapnik migrou para os EUA para trabalhar na Bell Labs. Em 1992, Vapnik e colegas tiveram a ideia de aplicar o que é chamado de *Kernel Trick*, que permite usar o SVM para classificar dados linearmente não separáveis.\n",
        "\n",
        "Os SVMs são poderosos, pois desfrutam de uma base teórica sólida e de sucesso em aplicações do mundo real. Possui uma estrutura simples e requer menos número de recursos.\n",
        "\n",
        "Não iremos usar as ferramentas do Python, que tornam extremamente simples a aplicação do modelo. Para ilustrar as idéias básicas, iremos resolver passo a passo um problema teórico. Começaremos com um SVM linear (ou seja, um modelo que assume que os dados são linearmente separáveis) e depois expandiremos o exemplo para o caso não linear para demonstrar o papel da função de mapeamento. Finalmente, explicaremos a idéia de um kernel e como ele permite que os SVMs utilizem espaços de *features* de alta dimensão."
      ],
      "metadata": {
        "id": "ydyBAVVvjP3v"
      }
    },
    {
      "cell_type": "markdown",
      "metadata": {
        "id": "T8FU7bbjrd4c"
      },
      "source": [
        "Importando os pacotes necessários"
      ]
    },
    {
      "cell_type": "code",
      "metadata": {
        "id": "kMlIihjUrd4d"
      },
      "source": [
        "import pandas as pd\n",
        "import pylab as pl\n",
        "import numpy as np\n",
        "import scipy.optimize as opt\n",
        "from sklearn import preprocessing\n",
        "from mpl_toolkits.mplot3d import Axes3D\n",
        "\n",
        "from sklearn.model_selection import train_test_split\n",
        "from sklearn.model_selection import KFold\n",
        "from sklearn.svm import SVC # \"Support vector classifier\"\n",
        "\n",
        "import matplotlib.pyplot as plt\n",
        "import matplotlib as mpl\n",
        "from mpl_toolkits import mplot3d\n",
        "\n",
        "# use seaborn plotting defaults\n",
        "import seaborn as sns; sns.set()"
      ],
      "execution_count": 44,
      "outputs": []
    },
    {
      "cell_type": "code",
      "source": [
        "import cvxopt.solvers"
      ],
      "metadata": {
        "id": "gfDS4TxmAiGJ"
      },
      "execution_count": 45,
      "outputs": []
    },
    {
      "cell_type": "markdown",
      "metadata": {
        "id": "h8L7ozboTMy6"
      },
      "source": [
        "## Margem hard linear\n",
        "Suponha o conjunto de dados positivos e negativos, respectivamente:\n",
        "$$\n",
        "x_+ = \\left\\{ \\left(\n",
        "\\begin{array}{c}\n",
        "3\\\\ 1\n",
        "\\end{array} \\right), \\left(\n",
        "\\begin{array}{c}\n",
        "3\\\\ -1\n",
        "\\end{array} \\right), \\left(\n",
        "\\begin{array}{c}\n",
        "6\\\\ 1\n",
        "\\end{array} \\right),\\left(\n",
        "\\begin{array}{c}\n",
        "6\\\\ -1\n",
        "\\end{array} \\right)\n",
        "\\right\\}\n",
        "$$\n",
        "e\n",
        "$$\n",
        "x_- = \\left\\{ \\left(\n",
        "\\begin{array}{c}\n",
        "1\\\\ 0\n",
        "\\end{array} \\right), \\left(\n",
        "\\begin{array}{c}\n",
        "0\\\\ 1\n",
        "\\end{array} \\right), \\left(\n",
        "\\begin{array}{c}\n",
        "0\\\\ -1\n",
        "\\end{array} \\right),\\left(\n",
        "\\begin{array}{c}\n",
        "-1\\\\ 0\n",
        "\\end{array} \\right)\n",
        "\\right\\}\n",
        "$$\n",
        "\n",
        "Queremos usar a técnica mais simples de SVM para discriminar com precisão as duas classes. Como os dados são linearmente separáveis, podemos usar um SVM linear."
      ]
    },
    {
      "cell_type": "markdown",
      "metadata": {
        "id": "NOwmtbZJeCXs"
      },
      "source": [
        "Primeiros passos:\n",
        "* Plotar os dados;\n",
        "* Encontrar os vetores de suporte\n"
      ]
    },
    {
      "cell_type": "code",
      "source": [
        "norm = mpl.colors.Normalize(-1,1)\n",
        "colors = [[norm(-1.0), \"teal\"],\n",
        "          [norm(-0.6), \"darkseagreen\"],\n",
        "          [norm( 0.6), \"steelblue\"],\n",
        "          [norm( 1.0), \"navy\"]]\n",
        "\n",
        "mycmap = mpl.colors.LinearSegmentedColormap.from_list(\"\", colors)"
      ],
      "metadata": {
        "id": "rGF3KwOBfkzw"
      },
      "execution_count": 46,
      "outputs": []
    },
    {
      "cell_type": "code",
      "metadata": {
        "id": "souVe4NGWglc"
      },
      "source": [
        "# dados positivos\n",
        "xp = np.array([3, 3, 6., 6.])\n",
        "yp = np.array([1., -1., 1., -1.])\n",
        "\n",
        "#dados negativos\n",
        "xn = np.array([1., 0., 0., -1.])\n",
        "yn = np.array([0., 1., -1., 0.])\n",
        "\n",
        "#\n",
        "a= np.array([xp ,yp])\n",
        "b= np.array([xn,yn])\n",
        "X = np.concatenate((a, b), axis=1)\n",
        "y = [1, 1, 1, 1, -1, -1, -1, -1]\n",
        "plt.scatter(X[0,:], X[1,:], c=y, s=100, cmap=mycmap)\n",
        "plt.xlim(-2, 7)\n",
        "plt.ylim(-2, 2)\n",
        "plt.show()"
      ],
      "execution_count": null,
      "outputs": []
    },
    {
      "cell_type": "markdown",
      "metadata": {
        "id": "ExEl9-sjhO2v"
      },
      "source": [
        "Um classificador discriminativo linear tentaria desenhar uma linha reta que separasse os dois conjuntos de dados e, assim, criar um modelo para classificação. Para dados bidimensionais como os nossos, essa é uma tarefa que podemos realizar manualmente. Mas imediatamente vemos um problema: há mais de uma linha divisória possível que pode discriminar perfeitamente entre as duas classes! Veja o gráfico plotado a seguir.\n"
      ]
    },
    {
      "cell_type": "code",
      "metadata": {
        "id": "-F0eZ_e7j2is"
      },
      "source": [
        "xfit = np.linspace(-1, 6)\n",
        "plt.scatter(X[0,:], X[1,:], c=y, s=100, cmap=mycmap)\n",
        "plt.plot([1.5], [-0.5], 'x', color='crimson', markeredgewidth=2, markersize=10)\n",
        "\n",
        "for m, b in [(2, -3), (1, -1.5), (-6, 12), (-80, 100)]:\n",
        "    plt.plot(xfit, m * xfit + b, '-k')\n",
        "plt.xlim(-2, 7)\n",
        "plt.ylim(-2, 2);"
      ],
      "execution_count": null,
      "outputs": []
    },
    {
      "cell_type": "markdown",
      "source": [
        "\n",
        "Os hiperplanos separadores apresentados são muito diferentes, porém, discriminam perfeitamente essas amostras. Dependendo da sua escolha, um novo ponto de dados (por exemplo, o marcado pelo \"X\" vermelho no gráfico) receberá um rótulo diferente! Evidentemente, nossa simples intuição de \"traçar uma linha entre as classes\" não é suficiente, e precisamos pensar um pouco mais.\n",
        "\n",
        "E a ilustração de um novo dado em vermelho mostra que a resposta de nosso classificador dependerá do hiperplano que escolhermos."
      ],
      "metadata": {
        "id": "oeLuUj66ddHl"
      }
    },
    {
      "cell_type": "markdown",
      "metadata": {
        "id": "iFWZ91vzvOsc"
      },
      "source": [
        "### Máquinas de vetores de suporte: maximizando a *margem*\n",
        "\n",
        "As máquinas de vetores de suporte oferecem uma maneira de melhorar isso.\n",
        "A intuição é a seguinte: em vez de simplesmente desenhar uma linha de largura zero entre as classes, podemos desenhar em torno de cada linha uma *margem* de alguma largura, até o ponto mais próximo...\n",
        "\n",
        "<center><img src='https://drive.google.com/uc?export=view&id=1pB4IqFcJxynCgof82ExhP7GkkpIVXYAR' width=\"500\"></center>\n",
        "\n",
        "Em SVM, a linha que maximiza essa margem é a que escolheremos como o modelo ideal."
      ]
    },
    {
      "cell_type": "code",
      "metadata": {
        "id": "kuVgBzH1hcAo"
      },
      "source": [
        "xfit = np.linspace(-1, 6)\n",
        "plt.scatter(X[0,:], X[1,:], c=y, s=100, cmap=mycmap)\n",
        "plt.plot([1.5], [-0.5], 'x', color='crimson', markeredgewidth=2, markersize=10)\n",
        "\n",
        "for m, b, d in [(2, -3.5, 1.2), (1, -1.5, 0.35), (-6, 11.5, 4.6)]:\n",
        "    yfit = m * xfit + b\n",
        "    plt.plot(xfit, yfit, '-k')\n",
        "    plt.fill_between(xfit, yfit - d, yfit + d, edgecolor='none',\n",
        "                     color='#AAAAAA', alpha=0.4)\n",
        "plt.xlim(-2, 7)\n",
        "plt.ylim(-2, 2);"
      ],
      "execution_count": null,
      "outputs": []
    },
    {
      "cell_type": "markdown",
      "source": [
        "A seguir, usamos uma biblioteca Python somente para termos um *gabarito* para nosso exercício."
      ],
      "metadata": {
        "id": "GG7PsKJAyCwI"
      }
    },
    {
      "cell_type": "code",
      "metadata": {
        "id": "Ya0Gnt9YJQWU"
      },
      "source": [
        "model = SVC(kernel='linear', C=1E10)\n",
        "model.fit(X.T, y)"
      ],
      "execution_count": null,
      "outputs": []
    },
    {
      "cell_type": "markdown",
      "source": [
        "A função `plot_SVC` definida abaixo e plota o resultado obtido pela biblioteca Pyhton sobre o gráfico com todos os vetores.\n",
        "\n",
        "\n"
      ],
      "metadata": {
        "id": "aVU0sPPjyM5q"
      }
    },
    {
      "cell_type": "code",
      "metadata": {
        "id": "T6_sowNnJZj5"
      },
      "source": [
        "def plot_SVC(model, ax=None, plot_support=True):\n",
        "    \"\"\"Plotagem da margem máxima\"\"\"\n",
        "    if ax is None:\n",
        "        ax = plt.gca()\n",
        "    xlim = ax.get_xlim()\n",
        "    ylim = ax.get_ylim()\n",
        "\n",
        "    # grid para avaliar o modelo\n",
        "    x = np.linspace(xlim[0], xlim[1], 30)\n",
        "    y = np.linspace(ylim[0], ylim[1], 30)\n",
        "    Y, X = np.meshgrid(y, x)\n",
        "    xy = np.vstack([X.ravel(), Y.ravel()]).T\n",
        "\n",
        "    # Aplica o modelo treinado no grid\n",
        "    P = model.decision_function(xy).reshape(X.shape)\n",
        "\n",
        "    print('Coeficientes do modelo w1, w2 ='+ str(model.coef_))\n",
        "    print('b = '+str(model.intercept_))\n",
        "    # Plota as linhas de limite de classificação e margens de decisão (níveis -1,0,1)\n",
        "    ax.contour(X, Y, P, colors='k',\n",
        "               levels=[-1, 0, 1], alpha=0.5,\n",
        "               linestyles=['--', '-', '--'])\n",
        "\n",
        "    # Plota os vetores de suporte\n",
        "    if plot_support:\n",
        "        ax.scatter(model.support_vectors_[:, 0],\n",
        "                   model.support_vectors_[:, 1],\n",
        "                   marker='o', s=500, edgecolor='black', facecolors='crimson',\n",
        "                   linewidth=1, alpha = 0.95);\n",
        "    ax.set_xlim(xlim)\n",
        "    ax.set_ylim(ylim)"
      ],
      "execution_count": 51,
      "outputs": []
    },
    {
      "cell_type": "code",
      "metadata": {
        "id": "wkl3wAxjJkKm"
      },
      "source": [
        "plt.scatter(X[0,:], X[1,:], c=y, s=100, cmap=mycmap)\n",
        "plot_SVC(model)"
      ],
      "execution_count": null,
      "outputs": []
    },
    {
      "cell_type": "markdown",
      "source": [
        "##SVM e o problema de Lagrange\n",
        "\n",
        "Quando falamos em  *maximizar* a margem, estamos falando de um problema de otimização, com restrições. Particularmente, nosso caso é um exemplo de programação quadrática e, devemos, portanto, minimizar uma função quadrática sujeita a restrições lineares,\n",
        "\n",
        "\\begin{aligned}&{\\underset {\\boldsymbol{\\omega},b}{\\operatorname {minimizar} }}&&L(\\boldsymbol{\\omega},b)=\\frac{1}{2}||\\boldsymbol{\\omega}||^2\\\\&\\operatorname {sujeito\\;a} &&y^{(i)}\\left(\\boldsymbol{\\omega}^Tx^{(i)}+b\\right)\\ge 1\\end{aligned}\n",
        "\n",
        "Essa otimização é chamada de problema primal e é garantido que tenha um mínimo global. Podemos resolver  introduzindo multiplicadores de Lagrange ($\\alpha_i$) e convertendo-a para o problema dual:\n",
        "\\begin{equation}\n",
        "{\\underset {\\boldsymbol{\\alpha}}{\\operatorname {max} }}\n",
        "\\text{  } {\\underset {\\boldsymbol{\\omega},b}{\\operatorname {min} }}\n",
        "\\text{  }L(\\boldsymbol{\\omega},b,\\boldsymbol{\\alpha})\n",
        "\\end{equation}\n",
        "onde,\n",
        "\\begin{equation}\n",
        "L(\\boldsymbol{\\omega},b,\\boldsymbol{\\alpha})=\\frac{1}{2}||\\boldsymbol{\\omega}||^2-\\sum_{i=1}^m{\\alpha_i \\left[y^{(i)}\\left(\\boldsymbol{\\omega}^T\\boldsymbol{x}^{(i)}+b\\right)- 1\\right]}\n",
        "\\end{equation}\n",
        "\n",
        "Essa é a função Lagrangiana do SVM, que é diferenciável em relação a $\\boldsymbol{\\omega}$ e $b$,\n",
        "\n",
        "\\begin{cases} \\frac{\\partial{L}}{\\partial \\boldsymbol{\\omega}} = 0 \\Longrightarrow \\boldsymbol{\\omega}=\\sum_{i=1}^m{\\alpha_iy^{(i)}\\boldsymbol{x}^{(i)}} \\\\ \\frac{\\partial{L}}{\\partial b} = 0 \\Longrightarrow \\boldsymbol{\\omega}=\\sum_{i=1}^m{\\alpha_iy^{(i)}=0}\\end{cases}\n",
        "\n",
        "Ao substituir os resultados acima na função Lagrangiana, obteremos o problema dual do SVM:\n",
        "\n",
        "\\begin{aligned}&{\\underset {\\boldsymbol{\\alpha}}{\\operatorname {maximizar} }}\\quad L(\\boldsymbol{\\alpha})=\\sum_{i=1}^m \\alpha_i - \\frac{1}{2}\\sum_{i=1}^m{\\sum_{j=1}^m {\\alpha_i \\alpha_j y^{(i)}y^{(j)}\\boldsymbol{x}^{(i)T}\\boldsymbol{x}^{(j)}}}\\\\&\\operatorname {sujeito\\;a} \\quad\\alpha_i \\ge 0,\\qquad i=1,\\cdots,m\\end{aligned}\n",
        "com a seguinte restrição em $\\alpha$,\n",
        "\n",
        "\\begin{equation}\n",
        "\\sum_{i=1}^m \\alpha_i y^{(i)} = 0\n",
        "\\end{equation}\n",
        "\n",
        "O problema acima pode ser escrito na forma quadrática convexa de um problema clássico de otimização\n",
        "\\begin{array}{cl}{\\underset{x}{\\operatorname{minimize}}} & {\\frac{1}{2} \\boldsymbol{\\alpha}^{T} \\mathbf{P} \\boldsymbol{\\alpha}+\\mathbf{q}^{T} \\boldsymbol{\\alpha}} \\\\ {\\text { sujeito a }} & {\\mathbf{G} \\boldsymbol{\\alpha} \\leq \\mathbf{h}} \\\\ {} & {\\mathbf{A} \\boldsymbol{\\alpha}=\\mathbf{b}}\\end{array}\n",
        "\n",
        "Veja que podemos reescrever cpode ser reescrito como:\n",
        "\\begin{array}{cl}{\\underset{\\alpha}{\\operatorname{minimize}}} & {\\frac{1}{2} \\boldsymbol{\\alpha}^{T}\\left(\\mathbf{y y}^{T} \\mathbf{K}\\right) \\boldsymbol{\\alpha}-\\boldsymbol{1}^T \\boldsymbol{\\alpha}} \\\\ {\\text { sujeito a }} & {-\\boldsymbol{\\alpha} \\leq \\mathbf{0}} \\\\ {} & {\\mathbf{y} \\cdot \\boldsymbol{\\alpha}=0}\\end{array}\n",
        "onde:\n",
        "$$\n",
        "\\boldsymbol{\\alpha}=\\left(\\alpha_{1}, \\ldots, \\alpha_{m}\\right)^{T},\\mathbf{y}=\\left(y_{1}, \\cdots, y_{m}\\right)^{T}  \\text { e }  \\boldsymbol{1}=\\left(1, \\ldots,1 \\right)^{T}\n",
        "$$\n",
        "e\n",
        "$$\n",
        "K\\left(\\mathbf{x}_{1}, \\ldots, \\mathbf{x}_{m}\\right)=\\left(\\begin{array}{cccc}{\\mathbf{x}_{1} \\cdot \\mathbf{x}_{1}} & {\\mathbf{x}_{1} \\cdot \\mathbf{x}_{2}} & {\\dots} & {\\mathbf{x}_{1} \\cdot \\mathbf{x}_{m}} \\\\ {\\mathbf{x}_{2} \\cdot \\mathbf{x}_{1}} & {\\mathbf{x}_{2} \\cdot \\mathbf{x}_{2}} & {\\ldots} & {\\mathbf{x}_{2} \\cdot \\mathbf{x}_{m}} \\\\ {\\vdots} & {\\vdots} & {\\ddots} & {\\vdots} \\\\ {\\mathbf{x}_{m} \\cdot \\mathbf{x}_{1}} & {\\mathbf{x}_{m} \\cdot \\mathbf{x}_{2}} & {\\dots} & {\\mathbf{x}_{m} \\cdot \\mathbf{x}_{m}}\\end{array}\\right)\n",
        "$$\n",
        "\n",
        "O problema de Lagrange retorna os valores de $\\alpha_i$ diferentes de zero para os vetores de suporte, que são os vetores que atingem a menor distância da margem. São pontos de dados de treinamento que estão mais próximos do hiperplano e influenciam a posição e a orientação do hiperplano. Usando esses vetores de suporte, maximizamos a margem do classificador.\n",
        "\n",
        "Os vetores de suporte são os exemplos mais difíceis de classificar. São os elementos críticos do conjunto de treinamento.\n",
        "\n",
        "Somente um subconjunto muito pequeno de amostras de treinamento (vetores de suporte) pode especificar completamente a função de decisão. Os pontos interiores não contribuem em nada para solução!\n",
        "\n",
        "\n",
        "O modelo de classificação é obtido comm $\\boldsymbol{\\omega}$ e $b$. O vetor $\\boldsymbol{\\omega}$ é simples de obter, porque a fórmula para$\\boldsymbol{\\omega}$ é uma das restrições que usamos para montar nosso problema quadrático,\n",
        "\\begin{equation}\n",
        "\\boldsymbol{\\omega}=\\sum_{i=1}^{n_{sv}}{\\alpha_iy^{(i)}\\boldsymbol{x}^{(i)}}\n",
        "\\end{equation}\n",
        "onde $n_{sv}$ é o número de vetores de suporte.\n",
        "\n",
        "Para encontrar o valor de $b$ usamos a equação abaixo para qualquer vetor de suporte $\\boldsymbol{x}^{(i)}$:\n",
        "\\begin{equation}\n",
        "y^{(i)}\\left(\\boldsymbol{\\omega}^T\\boldsymbol{x}^{(i)}+b\\right)=1\n",
        "\\end{equation}\n",
        "\n",
        "A classificação de um novo vetor de características $\\mathbf{x}$ é dado por:\n",
        "$$\n",
        "h\\left(\\mathbf{x}^{(i)}\\right)=\\operatorname{sign}\\left(\\mathbf{w} \\cdot \\mathbf{x}^{(i)}+b\\right)\n",
        "$$\n",
        "\n",
        "Uma chave para o sucesso desse classificador é que, para o ajuste, apenas a posição dos vetores de suporte é importante; quaisquer pontos mais afastados da margem, desde que estejam do lado correto da classificação,  não modificam o ajuste! Tecnicamente, isso ocorre porque esses pontos não contribuem para a função de perda usada para ajustar o modelo, portanto, sua posição e número não importam, desde que não ultrapassem a margem.\n"
      ],
      "metadata": {
        "id": "ca_RX8wS987w"
      }
    },
    {
      "cell_type": "markdown",
      "source": [
        "### Um parênteses sobre o multiplicador de Lagrange\n",
        "\n",
        "Imagine que você deseja minimizar alguma função de duas variáveis, digamos $f(x, y) = x^2 + y^2$. Claramente, isso tem um mínimo em $(x, y) = (0,0)$.\n",
        "\n",
        "Mas e se exigirmos que $x + y = 1$? Onde está o mínimo que obedece a essa condição?\n",
        "\n",
        "A maneira força bruta é isolar $y = 1 - x$, então\n",
        "\n",
        "$$\n",
        "f(x, y) = f(x, y(x)) = x^2 + (1 - x)^2 = 2x^2 + 1 - 2x\n",
        "$$\n",
        "\n",
        "e, portanto, o mínimo, diferenciando:\n",
        "\n",
        "$$\n",
        "f'(x) = 4x - 2 = 0\n",
        "$$\n",
        "\n",
        "é em $x = \\frac{1}{2}$, ou seja, em $(x, y) = \\left(\\frac{1}{2}, \\frac{1}{2}\\right)$.\n",
        "\n",
        "Também podemos escrever a condição como\n",
        "\n",
        "$$\n",
        "x + y - 1 = 0 = \\lambda (x + y - 1)\n",
        "$$\n",
        "\n",
        "Multiplicamos por $\\lambda$, o que é permitido, pois igualamos a zero de qualquer maneira. Vamos adicionar zero, ou seja, esse tipo especial de zero, a $f(x, y)$:\n",
        "\n",
        "$$\n",
        "f(x, y) = x^2 + y^2 + \\lambda (x + y - 1)\n",
        "$$\n",
        "\n",
        "Agora vamos tentar minimizar novamente, mas agora considere $x$ e $y$ independentes:\n",
        "\n",
        "$$\n",
        "\\frac{\\partial f}{\\partial x} = 2x + \\lambda = 0\n",
        "$$\n",
        "\n",
        "$$\n",
        "\\frac{\\partial f}{\\partial y} = 2y + \\lambda = 0\n",
        "$$\n",
        "\n",
        "Eliminando $\\lambda$ obtemos $x = y$.\n",
        "\n",
        "Sabendo que $x = y$ nos dá imediatamente $(x, y) = \\left(\\frac{1}{2}, \\frac{1}{2}\\right)$ a partir de $x + y = 1$. Então, adicionar esse $\\lambda$ nos permitiu pular a etapa de substituição. Podemos também resolver para $\\lambda$ se quisermos: $\\lambda = -1$.\n",
        "\n",
        "$\\lambda$ é conhecido como um multiplicador de Lagrange. É simplesmente um truque inteligente. Também não é muito difícil provar que funciona, mas vou pular isso aqui. Em conclusão: um multiplicador de Lagrange é uma variável que introduzimos para encontrar um extremo.\n"
      ],
      "metadata": {
        "id": "azOaMOW-yZmD"
      }
    },
    {
      "cell_type": "code",
      "source": [
        "# Definindo a função f(x, y) = x^2 + y^2\n",
        "def f(x, y):\n",
        "    return x**2 + y**2\n",
        "\n",
        "# Criando uma grade de valores de x e y\n",
        "x = np.linspace(-5, 5, 400)\n",
        "y = np.linspace(-5, 5, 400)\n",
        "X, Y = np.meshgrid(x, y)\n",
        "Z = f(X, Y)\n",
        "\n",
        "# Desenhando as curvas de nível\n",
        "plt.scatter(0, 0,  s=20, marker='o', cmap='viridis')\n",
        "plt.contour(X, Y, Z, levels=np.linspace(-1, 25, 50), cmap='viridis')\n",
        "plt.colorbar(label='Nível de f(x, y)')\n",
        "\n",
        "# Adicionando títulos e rótulos\n",
        "plt.title('Curvas de Nível de $f(x, y) = x^2 + y^2$')\n",
        "plt.xlabel('x1')\n",
        "plt.ylabel('x2')\n",
        "\n",
        "# Mostrando o gráfico\n",
        "plt.grid(True)\n",
        "plt.show()"
      ],
      "metadata": {
        "id": "fRLVMLHf8EoY"
      },
      "execution_count": null,
      "outputs": []
    },
    {
      "cell_type": "code",
      "source": [
        "import numpy as np\n",
        "import matplotlib.pyplot as plt\n",
        "\n",
        "# Definindo a função f(x, y) = x^2 + y^2\n",
        "def f(x, y):\n",
        "    return x**2 + y**2\n",
        "\n",
        "# Criando uma grade de valores de x e y\n",
        "x = np.linspace(-5, 5, 400)\n",
        "y = np.linspace(-5, 5, 400)\n",
        "X, Y = np.meshgrid(x, y)\n",
        "Z = f(X, Y)\n",
        "\n",
        "# Desenhando as curvas de nível\n",
        "#plt.scatter(1/2, 1/2,  s=20, marker='o', cmap='viridis')\n",
        "plt.contour(X, Y, Z, levels=np.linspace(-1, 25, 51), cmap='viridis')\n",
        "plt.colorbar(label='Nível de f(x, y)')\n",
        "\n",
        "# Adicionando a linha x + y = 1\n",
        "x_line = np.linspace(-5, 5, 400)\n",
        "y_line = 1 - x_line\n",
        "plt.plot(x_line, y_line, 'r--', label='$x + y = 1$')\n",
        "\n",
        "# Adicionando títulos e rótulos\n",
        "plt.title('Curvas de Nível de $f(x, y) = x^2 + y^2$')\n",
        "plt.xlabel('x')\n",
        "plt.ylabel('y')\n",
        "\n",
        "# Adicionando uma legenda\n",
        "plt.legend()\n",
        "\n",
        "# Mostrando o gráfico\n",
        "plt.grid(True)\n",
        "plt.show()\n"
      ],
      "metadata": {
        "id": "mwRyVnME-14H"
      },
      "execution_count": null,
      "outputs": []
    },
    {
      "cell_type": "code",
      "source": [
        "max_x = 2\n",
        "min_x = -2\n",
        "n_x = 300\n",
        "max_y = 2\n",
        "min_y = -2\n",
        "n_y = 300\n",
        "xx, yy = np.meshgrid(np.linspace(min_x, max_x, n_x), np.linspace(min_y, max_y, n_y))\n",
        "f_xy = xx**2+yy**2\n",
        "g_xy = xx +yy - 1\n",
        "\n",
        "th = 0.05\n",
        "ax = plt.figure().add_subplot(projection='3d')\n",
        "cc = np.repeat(np.where(np.abs(g_xy)<th, 0.0,1.0)[:,:,np.newaxis],3,axis=2)\n",
        "ax.plot_surface(xx, yy, f_xy,cmap = 'viridis',  rcount = 400, ccount=200, alpha = 0.9, lw=0.);\n",
        "ax.scatter(0,0,0, color='black', s=50);"
      ],
      "metadata": {
        "id": "mFPJMjH0-BfF"
      },
      "execution_count": null,
      "outputs": []
    },
    {
      "cell_type": "code",
      "source": [
        "max_x = 2\n",
        "min_x = -2\n",
        "n_x = 300\n",
        "max_y = 2\n",
        "min_y = -2\n",
        "n_y = 300\n",
        "xx, yy = np.meshgrid(np.linspace(min_x, max_x, n_x), np.linspace(min_y, max_y, n_y))\n",
        "f_xy = xx**2+yy**2\n",
        "g_xy = xx +yy - 1\n",
        "\n",
        "th = 0.05\n",
        "ax = plt.figure().add_subplot(projection='3d')\n",
        "cc = np.repeat(np.where(np.abs(g_xy)<th, 0.0,1.0)[:,:,np.newaxis],3,axis=2)\n",
        "ax.plot_surface(xx, yy, f_xy,facecolors=cc,  rcount = 400, ccount=200, alpha = 0.9, lw=0.);\n",
        "ax.scatter(1/2, 1/2, 1/2, color='black', s=50);"
      ],
      "metadata": {
        "id": "37-yAy_40Ww1"
      },
      "execution_count": null,
      "outputs": []
    },
    {
      "cell_type": "markdown",
      "metadata": {
        "id": "_P6RTKz1KTPm"
      },
      "source": [
        "### Solução sem resolver o problema de otimização\n",
        "\n",
        "Teoricamente, tem-se a definição de,\n",
        "$$\n",
        "\\omega^T x^{(j)}+b = \\sum_{i=1}^{n_{sv}} \\alpha_i y^{(i)} \\langle x^{(i)},x^{(j)}\\rangle + b = y^{(i)}\n",
        "$$\n",
        "onde $\\langle x^{(i)},x^{(j)}\\rangle$ é o produto interno entre os vetores $x^{(i)}$ e $x^{(j)}$ e $n_{sv}$, conforme já mencionado, é o número de vetores de suporte.\n",
        "\n",
        "Para nosso exemplo, teremos,\n",
        "$$\n",
        "\\alpha_1 y^{(1)} x^{(1)}\\cdot x^{(1)} + \\alpha_2 y^{(2)} x^{(2)}\\cdot x^{(1)} + \\alpha_3 y^{(3)} x^{(3)}\\cdot x^{(1)} +b = y^{(1)} \\\\\n",
        "\\alpha_1 y^{(1)} x^{(1)}\\cdot x^{(2)} + \\alpha_2 y^{(2)} x^{(2)}\\cdot x^{(2)} + \\alpha_3 y^{(3)} x^{(3)}\\cdot x^{(2)} +b = y^{(2)} \\\\ \\tag{1}\n",
        "\\alpha_1 y^{(1)} x^{(1)}\\cdot x^{(3)} + \\alpha_2 y^{(2)} x^{(2)}\\cdot x^{(3)} + \\alpha_3 y^{(3)} x^{(3)}\\cdot x^{(3)} +b = y^{(3)}\n",
        "$$\n",
        "\n",
        "Por inspeção, verifica-se que os vetores de suporte são 3: $(1,0)$ para $y=-1$; $(3,1)$, para $y=+1$; e $(3,-1)$, para $y=+1$. Dessa forma, pode-se escrever os vetores de suporte $sv_i, i=1,...,3$ como,\n",
        "$$\n",
        "sv_1 = \\left(\n",
        "\\begin{array}{c}\n",
        " 1 \\\\0\n",
        "\\end{array} \\right)\n",
        " \\qquad\n",
        "sv_2 = \\left(\n",
        "\\begin{array}{c}\n",
        "3 \\\\ 1\n",
        "\\end{array} \\right)\n",
        " \\qquad\n",
        "sv_3 = \\left(\n",
        "\\begin{array}{c}\n",
        "3 \\\\ -1\n",
        "\\end{array} \\right)\n",
        "$$\n",
        "\n",
        "Substituindo-se os valores nas equações $(1)$, tem-se:\n",
        " $$\n",
        "-\\alpha_1 x^{(1)}\\cdot x^{(1)} + \\alpha_2 x^{(2)}\\cdot x^{(1)} + \\alpha_3  x^{(3)}\\cdot x^{(1)} + b = -1 \\\\\n",
        "-\\alpha_1 x^{(1)}\\cdot x^{(2)} + \\alpha_2 x^{(2)}\\cdot x^{(2)} + \\alpha_3  x^{(3)}\\cdot x^{(2)} + b = +1 \\\\ \\tag{2}\n",
        "-\\alpha_1 x^{(1)}\\cdot x^{(3)} + \\alpha_2 x^{(2)}\\cdot x^{(3)} + \\alpha_3  x^{(3)}\\cdot x^{(3)} + b = +1\n",
        "$$\n",
        "\n",
        "Precisamos de uma equação extra, pois temos 4 incógnitas e 3 equações. Porém, devemos lembrar que:\n",
        "$$\n",
        "\\sum_{i=1}^m \\alpha_i y^{(i)} = -\\alpha_1  + \\alpha_2 + \\alpha_3 = 0\n",
        "$$\n",
        "\n",
        "Dado que $\\langle x^{(1)},x^{(1)}\\rangle=1$, $\\langle x^{(2)},x^{(2)}\\rangle=10$, $\\langle x^{(3)},x^{(3)}\\rangle=10$, $\\langle x^{(1)},x^{(2)}\\rangle=3$, $\\langle x^{(2)},x^{(3)}\\rangle=8$ e $\\langle x^{(1)},x^{(3)}\\rangle=3$, o problema resume-se a:\n",
        " $$\n",
        "-1\\alpha_1 + 3\\alpha_2 + 3\\alpha_3 +b = -1 \\\\\n",
        "-3\\alpha_1 + 10\\alpha_2 + 8\\alpha_3 +b = +1 \\\\ \\tag{3}\n",
        "-3\\alpha_1  + 8\\alpha_2  + 10\\alpha_3 +b  = +1 \\\\\n",
        "-\\alpha_1  + \\alpha_2 + \\alpha_3 + 0b = 0\n",
        "$$\n",
        "\n",
        "Encontre os valores de $\\alpha$ e $b$."
      ]
    },
    {
      "cell_type": "markdown",
      "metadata": {
        "id": "kkT7hJWoj0hp"
      },
      "source": [
        "Veja que os valores de $\\alpha$ encontrados seguem as restrições da otimização dual de Lagrange,\n",
        "$$\n",
        "\\alpha_i \\geq 0, i=1,...,m\n",
        "$$\n",
        "e\n",
        "$$\n",
        "\\sum_{i=1}^m \\alpha_i y^{(i)}=0\n",
        "$$\n",
        "\n",
        "\n"
      ]
    },
    {
      "cell_type": "markdown",
      "metadata": {
        "id": "_ihVo0Pcqjf4"
      },
      "source": [
        "Encontre os valores de $\\omega$ e, juntamente $b$, e compare com o resultado da função SVM. Lembre-se que o resultado da função foi\n",
        "```\n",
        "Coeficientes do modelo w1, w2 =[[ 1.00048166e+00 -1.66533454e-16]]\n",
        "b = [-2.00112388]\n",
        "```\n",
        "\n",
        "\n",
        "Lembre-se que:\n",
        "$$\n",
        "\\omega = \\sum_{i=1}^{n_{sv}} \\alpha_i y^{(i)} x^{(i)}\n",
        "$$\n",
        "e, para um vetor de suporte qualquer $x^{(SV)}$ qualquer,\n",
        "$$\n",
        "b = y^{(SV)} \\left( 1- \\omega^Tx^{(SV)}\\right)\n",
        "$$\n",
        "que já foi encontrado juntamente com $\\alpha$."
      ]
    },
    {
      "cell_type": "code",
      "metadata": {
        "id": "xteplbNO2eyb"
      },
      "source": [
        "#sua resposta"
      ],
      "execution_count": null,
      "outputs": []
    },
    {
      "cell_type": "code",
      "source": [
        "#@title Gabarito\n",
        "sv = np.array([[ 1., 0.],[ 3., 1.],[ 3., -1.]])\n",
        "y = np.array([-1, 1, 1, 0])\n",
        "A = np.zeros([4, 4])\n",
        "for i in range(0,3):\n",
        "  for j in range(0,3):\n",
        "    A[i][j] = y[j]*np.dot(sv[i,:],sv[j,:])\n",
        "  A[i][3]=1\n",
        "A[3,:] = [-1, 1, 1, 0]\n",
        "print(A)\n",
        "alphas = np.linalg.solve(A,y)\n",
        "print('alpha 1 = {:4.2f}, alpha 2 = {:4.2f}, alpha 3 = {:4.2f}'.format(alphas[0], alphas[1], alphas[2]))\n",
        "print('b = {:4.2f}'.format(alphas[3]))"
      ],
      "metadata": {
        "cellView": "form",
        "id": "Bf8OvDhtiAc5"
      },
      "execution_count": null,
      "outputs": []
    },
    {
      "cell_type": "code",
      "metadata": {
        "id": "fo0jcLEFBEaX"
      },
      "source": [
        "w=np.zeros([1,2])\n",
        "for i in range (0,3):\n",
        "  w += alphas[i]*y[i]*sv[i,:]\n",
        "b = 1.0-y[1]*np.dot(w,sv[1,:])\n",
        "print('w 1 = {:4.2f}, w 2 = {:4.2f}'.format(w[0][0], w[0][1]))\n",
        "print('b = {:4.2f}'.format(b[0]))"
      ],
      "execution_count": null,
      "outputs": []
    },
    {
      "cell_type": "markdown",
      "source": [
        "### Solução via otimização\n",
        "\n",
        "Lembrando que problema dual do SVM:\n",
        "\n",
        "\\begin{aligned}&{\\underset {\\boldsymbol{\\alpha}}{\\operatorname {maximizar} }}\\quad L(\\boldsymbol{\\alpha})=\\sum_{i=1}^m \\alpha_i - \\frac{1}{2}\\sum_{i=1}^m{\\sum_{j=1}^m {\\alpha_i \\alpha_j y^{(i)}y^{(j)}\\boldsymbol{x}^{(i)T}\\boldsymbol{x}^{(j)}}}\\\\&\\operatorname {sujeito\\;a} \\quad\\alpha_i \\ge 0,\\qquad i=1,\\cdots,m\\end{aligned}\n",
        "com a seguinte restrição em $\\alpha$,\n",
        "\n",
        "\\begin{equation}\n",
        "\\sum_{i=1}^m \\alpha_i y^{(i)} = 0\n",
        "\\end{equation}\n",
        "\n",
        "O problema pode ser escrito na forma quadrática convexa de um problema clássico de otimização\n",
        "\\begin{array}{cl}{\\underset{x}{\\operatorname{minimize}}} & {\\frac{1}{2} \\boldsymbol{\\alpha}^{T} \\mathbf{P} \\boldsymbol{\\alpha}+\\mathbf{q}^{T} \\boldsymbol{\\alpha}} \\\\ {\\text { sujeito a }} & {\\mathbf{G} \\boldsymbol{\\alpha} \\leq \\mathbf{h}} \\\\ {} & {\\mathbf{A} \\boldsymbol{\\alpha}=\\mathbf{b}}\\end{array}\n",
        "\n",
        "Veja que podemos reescrever cpode ser reescrito como:\n",
        "\\begin{array}{cl}{\\underset{\\alpha}{\\operatorname{minimize}}} & {\\frac{1}{2} \\boldsymbol{\\alpha}^{T}\\left(\\mathbf{y y}^{T} \\mathbf{K}\\right) \\boldsymbol{\\alpha}-\\boldsymbol{1}^T \\boldsymbol{\\alpha}} \\\\ {\\text { sujeito a }} & {-\\boldsymbol{\\alpha} \\leq \\mathbf{0}} \\\\ {} & {\\mathbf{y} \\cdot \\boldsymbol{\\alpha}=0}\\end{array}\n",
        "onde:\n",
        "$$\n",
        "\\boldsymbol{\\alpha}=\\left(\\alpha_{1}, \\ldots, \\alpha_{m}\\right)^{T},\\mathbf{y}=\\left(y_{1}, \\cdots, y_{m}\\right)^{T}  \\text { e }  \\boldsymbol{1}=\\left(1, \\ldots,1 \\right)^{T}\n",
        "$$\n",
        "e\n",
        "$$\n",
        "K\\left(\\mathbf{x}_{1}, \\ldots, \\mathbf{x}_{m}\\right)=\\left(\\begin{array}{cccc}{\\mathbf{x}_{1} \\cdot \\mathbf{x}_{1}} & {\\mathbf{x}_{1} \\cdot \\mathbf{x}_{2}} & {\\dots} & {\\mathbf{x}_{1} \\cdot \\mathbf{x}_{m}} \\\\ {\\mathbf{x}_{2} \\cdot \\mathbf{x}_{1}} & {\\mathbf{x}_{2} \\cdot \\mathbf{x}_{2}} & {\\ldots} & {\\mathbf{x}_{2} \\cdot \\mathbf{x}_{m}} \\\\ {\\vdots} & {\\vdots} & {\\ddots} & {\\vdots} \\\\ {\\mathbf{x}_{m} \\cdot \\mathbf{x}_{1}} & {\\mathbf{x}_{m} \\cdot \\mathbf{x}_{2}} & {\\dots} & {\\mathbf{x}_{m} \\cdot \\mathbf{x}_{m}}\\end{array}\\right)\n",
        "$$"
      ],
      "metadata": {
        "id": "I7Ruje-ajA11"
      }
    },
    {
      "cell_type": "code",
      "source": [
        "# dados positivos\n",
        "xp = np.array([3, 3, 6., 6.])\n",
        "yp = np.array([1., -1., 1., -1.])\n",
        "\n",
        "#dados negativos\n",
        "xn = np.array([1., 0., 0., -1.])\n",
        "yn = np.array([0., 1., -1., 0.])\n",
        "\n",
        "#\n",
        "a= np.array([xp ,yp])\n",
        "b= np.array([xn,yn])\n",
        "X = np.concatenate((a, b), axis=1)\n",
        "y = [1, 1, 1, 1, -1, -1, -1, -1]"
      ],
      "metadata": {
        "id": "fC3oO7SFBqfh"
      },
      "execution_count": null,
      "outputs": []
    },
    {
      "cell_type": "code",
      "source": [
        "def get_training_examples():\n",
        "    X1 = np.array([[3.,1.], [3.,-1.], [6.,1.], [6.,-1.]])\n",
        "    y1 = np.ones(len(X1))\n",
        "    X2 = np.array([[1.,0], [0.,1.], [0,-1.], [-1.,0]])\n",
        "    y2 = np.ones(len(X2)) * -1\n",
        "    return X1, y1, X2, y2\n",
        "\n",
        "def get_dataset(get_examples):\n",
        "    X1, y1, X2, y2 = get_examples()\n",
        "    X, y = get_dataset_for(X1, y1, X2, y2)\n",
        "    return X, y\n",
        "\n",
        "def get_dataset_for(X1, y1, X2, y2):\n",
        "    X = np.vstack((X1, X2))\n",
        "    y = np.hstack((y1, y2))\n",
        "    return X, y"
      ],
      "metadata": {
        "id": "UHWd0wXRA39s"
      },
      "execution_count": null,
      "outputs": []
    },
    {
      "cell_type": "code",
      "source": [
        "X, y = get_dataset(get_training_examples)\n",
        "m = X.shape[0]\n",
        "\n",
        "# A matriz de todos os produtos internos possíveis de X.\n",
        "K = np.array([np.dot(X[i], X[j])\n",
        "              for i in range(m)\n",
        "              for j in range(m)]).reshape((m, m))\n",
        "P = cvxopt.matrix(np.outer(y, y) * K)\n",
        "q = cvxopt.matrix(-1 * np.ones(m))\n",
        "print('As matrizes e vetores do modelo de otimização quadrático \\n utilizado: K, P e q, respectivamente:\\n')\n",
        "print(K,'\\n\\n',P,'\\n',q)"
      ],
      "metadata": {
        "id": "5BaZ2uo7A74F"
      },
      "execution_count": null,
      "outputs": []
    },
    {
      "cell_type": "code",
      "source": [
        "# let alpha be 1 for all obervations\n",
        "# Equality constraints\n",
        "A = cvxopt.matrix(y, (1, m)) # create 1*m matrix of y\n",
        "b = cvxopt.matrix(0.0)\n",
        "print('As matrizes e vetores do modelo de otimização quadrático \\n utilizado: A e alpha, respectivamente:\\n')\n",
        "print(A,'\\n\\n',b)"
      ],
      "metadata": {
        "id": "D9CIs6GhA-_F"
      },
      "execution_count": null,
      "outputs": []
    },
    {
      "cell_type": "code",
      "source": [
        "# Inequality constraints\n",
        "G = cvxopt.matrix(np.diag(-1 * np.ones(m)))\n",
        "h = cvxopt.matrix(np.zeros(m))\n",
        "print('As matrizes e vetores do modelo de otimização quadrático \\n utilizado: G e h, respectivamente:\\n')\n",
        "print(G,'\\n\\n',h)"
      ],
      "metadata": {
        "id": "5uG6KMPeBAuW"
      },
      "execution_count": null,
      "outputs": []
    },
    {
      "cell_type": "code",
      "source": [
        "# Solve the problem\n",
        "solution = cvxopt.solvers.qp(P, q, G, h, A, b) # return # dictionary which contains iterators"
      ],
      "metadata": {
        "id": "bffUFJ87BDNa"
      },
      "execution_count": null,
      "outputs": []
    },
    {
      "cell_type": "markdown",
      "source": [
        "Veja os valores de alpha. O resto da solução você já conhece..."
      ],
      "metadata": {
        "id": "u08hlHA3n_PQ"
      }
    },
    {
      "cell_type": "code",
      "source": [
        "print(solution['x'])"
      ],
      "metadata": {
        "id": "_GkUs8DXn5Qv"
      },
      "execution_count": null,
      "outputs": []
    },
    {
      "cell_type": "markdown",
      "source": [
        "## Dados não separáveis linearmente\n",
        "\n",
        "\n",
        "Dados não separáveis podem ter duas origens, como ilustrado na figura abaixo.\n",
        "\n",
        "![Dados não separáveis](https://drive.google.com/uc?export=view&id=1zz8wZElg3D02I3bDsr4PGZeHYMPz1yt5)\n",
        "\n",
        "### Margem soft\n",
        "As margens *hard* resultarão na adaptação de um modelo que permita apenas erro zero, isto é, *nenhum* dado de treinamento deve violar a margem. Às vezes, pode ser útil permitir erros no conjunto de treinamento, pois pode produzir um modelo mais generalizável quando aplicado a novos conjuntos de dados. Forçar margens rígidas pode resultar em um modelo com desempenho perfeito no conjunto de treinamento, mas possivelmente com overfit/menos generalizável quando aplicado a um novo conjunto de dados.\n",
        "\n",
        "Dessa maneira, podemos introduzir a ideia de *margem soft*, que resulta na introdução de um hiperparâmero $C$. A permissão margem mais “soft” (isto é, uma configuração de baixo custo) permite que erros sejam cometidos ao ajustar o modelo aos ddos de treinamento.\n",
        "\n",
        "### Kernel\n",
        "\n",
        "Quando o conjunto de dados é não linearmente separável no plano $\\mathbf{x}$ existem duas etapas principais para a generalização não linear do SVM. A primeira etapa envolve a transformação dos dados originais de treinamento (entrada) em dados de dimensão superior usando um mapeamento não linear $\\phi(\\mathbf{x})=\\mathbf{z}$. Uma vez que os dados são transformados na nova dimensão superior, o segundo passo envolve encontrar um hiperplano de separação linear no novo espaço. O hiperplano marginal máximo encontrado no novo espaço corresponde a uma hipersuperfície de separação não linear no espaço original.\n",
        "\n",
        "Obviamente, para conjunto de dados reais, você tem os dois aspectos, uma combinação desses dois, e terá que combinar kernels com margem soft na maioria dos casos.\n"
      ],
      "metadata": {
        "id": "TBE3fYKakv98"
      }
    },
    {
      "cell_type": "markdown",
      "metadata": {
        "id": "FGLcvT1e9CsO"
      },
      "source": [
        "## Margem hard não linear\n",
        "\n",
        "O problema de margem não linear pode ser contornado com o mapeamento dos dados de entrada do espaço 𝒳 para um espaço 𝒵 de dimensão $\\tilde{n}$. Similar à regressão polinomial, deve-se lembrar que $\\boldsymbol{x}^{(i)}$ é um conjunto de dados de entrada e, portanto, uma constante. O que realmente afeta a derivação do gradiente são os pesos e, portanto, é a linearidade em $\\omega$ que permite a derivação.\n",
        "\n",
        "Como discutido em aula, isso abre uma fantástica possibilidade, porque pode-se manipular os dados de entrada e combinar da maneira que convir! E mais, com o *truque de Kernel*, essa dimensão $\\tilde{n}$ pode ser infinita.\n",
        "\n",
        "\n",
        "\n"
      ]
    },
    {
      "cell_type": "markdown",
      "metadata": {
        "id": "5yj63BthB4sP"
      },
      "source": [
        "### Exemplo\n",
        "Suponha um novo conjunto de dados positivos e negativos, respectivamente:\n",
        "$$\n",
        "x_+ = \\left\\{ \\left(\n",
        "\\begin{array}{c}\n",
        "2\\\\ 2\n",
        "\\end{array} \\right), \\left(\n",
        "\\begin{array}{c}\n",
        "2\\\\ -2\n",
        "\\end{array} \\right), \\left(\n",
        "\\begin{array}{c}\n",
        "-2\\\\ -2\n",
        "\\end{array} \\right),\\left(\n",
        "\\begin{array}{c}\n",
        "-2\\\\ 2\n",
        "\\end{array} \\right)\n",
        "\\right\\}\n",
        "$$\n",
        "e\n",
        "$$\n",
        "x_- = \\left\\{ \\left(\n",
        "\\begin{array}{c}\n",
        "1\\\\ 1\n",
        "\\end{array} \\right), \\left(\n",
        "\\begin{array}{c}\n",
        "1\\\\ -1\n",
        "\\end{array} \\right), \\left(\n",
        "\\begin{array}{c}\n",
        "-1\\\\ -1\n",
        "\\end{array} \\right),\\left(\n",
        "\\begin{array}{c}\n",
        "-1\\\\ 1\n",
        "\\end{array} \\right)\n",
        "\\right\\}\n",
        "$$\n"
      ]
    },
    {
      "cell_type": "code",
      "metadata": {
        "id": "KnVbCWrlCpRH"
      },
      "source": [
        "xp = np.array([2., 2., -2., -2.])\n",
        "yp = np.array([2., -2., -2., 2.])\n",
        "xn = np.array([1., 1., -1., -1.])\n",
        "yn = np.array([1., -1., -1., 1.])\n",
        "a= np.array([xp ,yp])\n",
        "b= np.array([xn,yn])\n",
        "X = np.concatenate((a, b), axis=1)\n",
        "y = [1, 1, 1, 1, -1, -1, -1, -1]\n",
        "plt.scatter(X[0,:], X[1,:], c=y, s=100, cmap=mycmap)\n",
        "plt.xlim(-3, 3)\n",
        "plt.ylim(-3, 3)\n",
        "plt.show()\n",
        "print(X)"
      ],
      "execution_count": null,
      "outputs": []
    },
    {
      "cell_type": "markdown",
      "metadata": {
        "id": "uY7YA1hyDxgk"
      },
      "source": [
        "Nosso objetivo de descobrir um hiperplano separador que discrimine com precisão as duas classes se tornou mais árduo. Obviamente, esse hiperplano não existe no espaço das variáveis de entrada 𝒳. Portanto, devemos usar um SVM não linear. Em outras palavras, usar uma função $\\phi$ que mapeia o espaço não linear de entrada para algum espaço 𝒵 de características combinadas.\n",
        "\n",
        "Supõe-se\n",
        "\n",
        "$$\n",
        "z=\\phi \\left( x_1,x_2 \\right)= \\left\\{\n",
        "\\begin{array}{c}\n",
        "\\left(4-x_2+|x_1-x_2|, 4-x_1+|x_1-x_2|\\right)  & \\text{se  }\\sqrt{x_1^2+x_2^2}>2\\\\\n",
        "\\left(x_1,x_2\\right) & c.c.\n",
        "\\end{array}\\right.\n",
        "$$\n",
        "\n",
        "Dessa forma, os vetores transformados $z_+$ e $z_-$ são dados por, respectivamente,\n",
        "$$\n",
        "z_+ = \\left\\{ \\left(\n",
        "\\begin{array}{c}\n",
        "2\\\\ 2\n",
        "\\end{array} \\right), \\left(\n",
        "\\begin{array}{c}\n",
        "10\\\\ 6\n",
        "\\end{array} \\right), \\left(\n",
        "\\begin{array}{c}\n",
        "6\\\\ 6\n",
        "\\end{array} \\right),\\left(\n",
        "\\begin{array}{c}\n",
        "6\\\\ 10\n",
        "\\end{array} \\right)\n",
        "\\right\\}\n",
        "$$\n",
        "e\n",
        "$$\n",
        "z_- = \\left\\{ \\left(\n",
        "\\begin{array}{c}\n",
        "1\\\\ 1\n",
        "\\end{array} \\right), \\left(\n",
        "\\begin{array}{c}\n",
        "1\\\\ -1\n",
        "\\end{array} \\right), \\left(\n",
        "\\begin{array}{c}\n",
        "-1\\\\ -1\n",
        "\\end{array} \\right),\\left(\n",
        "\\begin{array}{c}\n",
        "-1\\\\ 1\n",
        "\\end{array} \\right)\n",
        "\\right\\}\n",
        "$$"
      ]
    },
    {
      "cell_type": "code",
      "metadata": {
        "id": "uGRjiovChDr_"
      },
      "source": [
        "Z = np.zeros([2,8])\n",
        "y = [1, 1, 1, 1, -1, -1, -1, -1]\n",
        "for i in range(0,8):\n",
        "  if np.sqrt(X[0][i]**2+X[1][i]**2)>2.:\n",
        "    print(i,X[0][i],X[1][i],abs(X[0][i]-X[1][i]))\n",
        "    Z[0][i] = 4. - X[1][i] + abs(X[0][i]-X[1][i])\n",
        "    Z[1][i] = 4. - X[0][i] + abs(X[0][i]-X[1][i])\n",
        "  else:\n",
        "    Z[0][i] = X[0][i]\n",
        "    Z[1][i] = X[1][i]\n",
        "print(Z)"
      ],
      "execution_count": null,
      "outputs": []
    },
    {
      "cell_type": "code",
      "metadata": {
        "id": "K_xHYsDVoisa"
      },
      "source": [
        "model = SVC(kernel='linear', C=1E10)\n",
        "model.fit(Z.T, y)\n",
        "plt.scatter(Z[0,:], Z[1,:], c=y, s=100, cmap=mycmap)\n",
        "plot_SVC(model)"
      ],
      "execution_count": null,
      "outputs": []
    },
    {
      "cell_type": "markdown",
      "metadata": {
        "id": "TyDrKncrGBzz"
      },
      "source": [
        "Uma vez que os dados de entrada foram mapeados para a dimensão 𝒵, o problema é similar ao resolvido anteriormente,\n",
        "$$\n",
        "\\tilde\\omega^T z^{(j)}+\\tilde{b} = \\sum_{i=1}^{n_{sv}} \\alpha_i y^{(i)} \\langle z^{(i)},z^{(j)}\\rangle + \\tilde{b} = y^{(i)}\n",
        "$$\n",
        "onde $\\langle z^{(i)},z^{(j)}\\rangle$ é o produto interno entre os vetores $z^{(i)}$ e $z^{(j)}$ e $n_{sv}$ é o número de vetores de suporte. O símbolo $\\tilde{ }$ serve apenas para alertar que estamos no espaço 𝒵.\n",
        "\n",
        "Para nosso exemplo, teremos,\n",
        "$$\n",
        "\\alpha_1 y^{(1)} z^{(1)}\\cdot z^{(1)} + \\alpha_2 y^{(2)} z^{(2)}\\cdot z^{(1)} + \\alpha_3 y^{(3)} z^{(3)}\\cdot z^{(1)} + \\tilde{b} = y^{(1)} \\\\\n",
        "\\alpha_1 y^{(1)} z^{(1)}\\cdot z^{(2)} + \\alpha_2 y^{(2)} z^{(2)}\\cdot z^{(2)} + \\alpha_3 y^{(3)} z^{(3)}\\cdot z^{(2)} + \\tilde{b} = y^{(2)} \\\\ \\tag{1}\n",
        "\\alpha_1 y^{(1)} z^{(1)}\\cdot z^{(3)} + \\alpha_2 y^{(2)} z^{(2)}\\cdot z^{(3)} + \\alpha_3 y^{(3)} z^{(3)}\\cdot z^{(3)} + \\tilde{b} = y^{(3)}\n",
        "$$\n",
        "\n",
        "Por inspeção, verifica-se que os vetores de suporte são 2: $(1,1)$ para $y=-1$ e $(2,2)$, para $y=+1$. Dessa forma, pode-se escrever os vetores de suporte $sv_i, i=1,2$ como,\n",
        "$$\n",
        "sv_1 = \\left(\n",
        "\\begin{array}{c}\n",
        " 1 \\\\1\n",
        "\\end{array} \\right)\n",
        " \\qquad\n",
        "sv_2 = \\left(\n",
        "\\begin{array}{c}\n",
        "2\\\\ 2\n",
        "\\end{array} \\right)\n",
        "$$\n",
        "\n",
        "Substituindo-se os valores nas equações $(1)$, e adicionando a restrição de que $\\sum_iy^{(i)}\\alpha_i=0$ tem-se:\n",
        " $$ \\begin{array}{r c}\n",
        "  - \\alpha_1 z^{(1)}\\cdot z^{(1)} + \\alpha_2 z^{(2)}\\cdot z^{(1)} + \\tilde{b} &= -1 \\\\\n",
        "-\\alpha_1 z^{(1)}\\cdot z^{(2)} + \\alpha_2 z^{(2)}\\cdot z^{(2)} + \\tilde{b} &= +1 \\\\\n",
        " -\\alpha_1  + \\alpha_2  &= 0\n",
        " \\end{array}\n",
        "$$\n",
        "\n",
        "Dado que $\\langle z^{(1)},z^{(1)}\\rangle=2$, $\\langle z^{(2)},z^{(2)}\\rangle=8$ e $\\langle z^{(1)},z^{(2)}\\rangle=4$, o problema resume-se a:\n",
        " $$\n",
        "-2\\alpha_1 + 4\\alpha_2 + \\tilde{b} = -1 \\\\\n",
        "-4\\alpha_1 + 8\\alpha_2 + \\tilde{b} = +1 \\\\ \\tag{2}\n",
        "-\\alpha_1  + \\alpha_2  + 0\\tilde{b} = 0\n",
        "$$\n",
        "\n",
        "Encontre os valores de $\\alpha$ e depois de $\\tilde{b}$ e $\\tilde{\\omega}$. Lembre-se que:\n",
        "$$\n",
        "\\tilde\\omega = \\sum_{i=1}^{n_{sv}} \\alpha_i y^{(i)} z^{(i)}\n",
        "$$"
      ]
    },
    {
      "cell_type": "code",
      "source": [
        "# Sua resposta"
      ],
      "metadata": {
        "id": "BbZEkfeYQ_HH"
      },
      "execution_count": null,
      "outputs": []
    },
    {
      "cell_type": "code",
      "source": [
        "#@title Gabarito\n",
        "sv = np.array([[ 1., 1.],[ 2., 2.]])\n",
        "y_sv = np.array([-1, 1, 0])\n",
        "A = np.zeros([3,3])\n",
        "for i in range(0,2):\n",
        "  for j in range(0,2):\n",
        "    A[i][j] = y_sv[j]*np.dot(sv[i,:],sv[j,:])\n",
        "  A[i][2]=1\n",
        "A[2,:] = [-1, 1, 0]\n",
        "print(A)\n",
        "print(Z)\n",
        "alphas = np.linalg.solve(A,y_sv)\n",
        "print('alpha 1 = {:4.2f}, alpha 2 = {:4.2f}'.format(alphas[0], alphas[1]))\n",
        "print('b = {:4.2f}'.format(alphas[2]))\n",
        "w=np.zeros([1,2])\n",
        "for i in range (0,2):\n",
        "  w += alphas[i]*y_sv[i]*sv[i,:]\n",
        "w=np.array(w)\n",
        "print('w 1 = {:4.2f}, w 2 = {:4.2f}'.format(w[0][0], w[0][1]))"
      ],
      "metadata": {
        "colab": {
          "base_uri": "https://localhost:8080/"
        },
        "cellView": "form",
        "id": "k6U8x3ZWRApn",
        "outputId": "1d08414a-e7a6-4127-cfc9-0f59821e5222"
      },
      "execution_count": null,
      "outputs": [
        {
          "output_type": "stream",
          "name": "stdout",
          "text": [
            "[[-2.  4.  1.]\n",
            " [-4.  8.  1.]\n",
            " [-1.  1.  0.]]\n",
            "[[ 2. 10.  6.  6.  1.  1. -1. -1.]\n",
            " [ 2.  6.  6. 10.  1. -1. -1.  1.]]\n",
            "alpha 1 = 1.00, alpha 2 = 1.00\n",
            "b = -3.00\n",
            "w 1 = 1.00, w 2 = 1.00\n"
          ]
        }
      ]
    },
    {
      "cell_type": "code",
      "metadata": {
        "id": "C9sm7N4xL-ts"
      },
      "source": [
        "xlim = [-3., 5.]\n",
        "ylim = [-3., 5.]\n",
        "# Grid para avaliação do modelo\n",
        "h = np.linspace(xlim[0], xlim[1], 300)\n",
        "v = np.linspace(ylim[0], ylim[1], 300)\n",
        "V,H = np.meshgrid(v, h)\n",
        "xy = np.vstack([H.ravel(), V.ravel()])\n",
        "dim = xy.shape[1]\n",
        "P=np.zeros([dim])\n",
        "\n",
        "z_t=np.zeros([2])\n",
        "for i in range(xy.shape[1]):\n",
        "  if np.sqrt(xy[0][i]**2+xy[1][i]**2)>2.:\n",
        "    z_t[0] = 4. - xy[1][i] + abs(xy[0][i]-xy[1][i])\n",
        "    z_t[1] = 4. - xy[0][i] + abs(xy[0][i]-xy[1][i])\n",
        "  else:\n",
        "    z_t[0] = xy[0][i]\n",
        "    z_t[1] = xy[1][i]\n",
        "  P[i] = np.sign(w[0][0]*z_t[0]+w[0][1]*z_t[1]+alphas[2])\n",
        "plt.scatter(xy[0,:],xy[1,:],c=P,alpha=0.5,cmap = 'Pastel2')\n",
        "plt.scatter(X[0,:], X[1,:], c=y, s=100, cmap=mycmap)"
      ],
      "execution_count": null,
      "outputs": []
    },
    {
      "cell_type": "markdown",
      "metadata": {
        "id": "jDiK_3sV6z9-"
      },
      "source": [
        "Olhando para as respostas no espaço de entrada, podemos ficar tentados a pensar que essa não é uma classificação razoável; no entanto, é o que diz o nosso modelo, e nosso modelo é consistente com todos os dados de treinamento.\n",
        "\n",
        "Como sempre, não há garantias sobre a precisão da generalização e, se não estamos felizes com nossa generalização, o culpado mais provável é nossa escolha de mapeamento.\n"
      ]
    },
    {
      "cell_type": "markdown",
      "metadata": {
        "id": "usHLBnsPGv7m"
      },
      "source": [
        "### O truque do kernel\n",
        "\n",
        "Nossa definição de $\\phi$ do exemplo anterior preservou o número de dimensões. Em outras palavras, nossos espaços de entrada 𝒳 e de mapeamento 𝒵 são do mesmo tamanho.\n",
        "\n",
        "No entanto, geralmente é o caso de que, para separar efetivamente os dados, precisamos usar um espaço de com dimensão (às vezes muito) maior que o nosso espaço de entrada.\n",
        "\n",
        "O *truque* é que, dados dois vetores $x^{(i)}$ e $x^{(j)}$ no espaço 𝒳, pode-se provar que não há necessidade de descriminar cada vetor $z^{(i)}$ e $z^{(j)}$ da transformação $x^{(i)} \\rightarrow z^{(i)}$ e $x^{(j)} \\rightarrow z^{(j)}$. I.é, a dimensionalidade de 𝒵 não aparece explicitamente na expressão, mas temos que realizar o produto interno $z^{(i)} \\cdot z^{(j)}$ no espaço 𝒵. Em outras palavras, precisamos de um número, um valor. Com esse valor, o produto interno, elabora-se todo problema de vetores de suporte no espaço 𝒵, que nunca foi visitado ou conhecido e retorna-se com vetores de suporte que vivem em seu espaço 𝒵, calcula-se o desempenho baseado no número de vetores de suporte. Pode-se dizer que foi usado um espaço realmente muito sofisticado!!!!\n",
        "\n",
        "Se alguém perguntar que espaço é esse, diga que a existência dele é suficiente!\n",
        "\n",
        " ![](https://drive.google.com/uc?export=view&id=1DBXMAZDTDgel8KdFqWs7ZqDLh15Iriw9)\n",
        "\n",
        "Importante ressaltar que, nesse caso, os vetores de suporte estão no espaço 𝒵. Porque estamos trabalhando no espaço 𝒵, o hiperplano está lá, a margem está lá, e a margem irá tocar alguns pontos, os vetores de suporte. E você pode identificá-los, no espaço 𝒵.\n",
        "\n",
        "Outro ponto importante é que existem regras para existência de kernels, ié, você não pode inventar um valor de sua cabeça. Existe uma transformação $\\phi(x)=z$, 𝜙:𝒳→𝒵, que é aplicada aos vetores $x$ e $x'$ transformando-os, respectivamente, em $z$ e $z'$ e o kernel é exatamente o produto interno desses vetores $z$ e $z'$.\n",
        "\n",
        "Linear | &nbsp; &nbsp; &nbsp; &nbsp; &nbsp; &nbsp; &nbsp; &nbsp; &nbsp; Expressão: $K(x^{(i)},x^{(j)})$ &nbsp; &nbsp; &nbsp;&nbsp; &nbsp; &nbsp; | Parâmetros\n",
        "--- | :----------------: | :---:\n",
        "Linear | $x^{(i)}\\cdot x^{(j)}$ |\n",
        "Polinomial | $\\left(x^{(i)}\\cdot x^{(j)}+1\\right)^d$ | $d$\n",
        "RBF |$\\exp\\left(-\\gamma||x^{(i)}- x^{(j)}||^2\\right)$ | $\\gamma>0$\n",
        "Hiperbólico | $\\tanh\\left(k(^{(i)}\\cdot x^{(j)}+c\\right)$ | $k,c$\n",
        "\n",
        "RBF (do inglês, Radial Basis Funtion) é o kernel mais usado nas classificações SVM.\n",
        "\n",
        "\n",
        "\n"
      ]
    },
    {
      "cell_type": "markdown",
      "metadata": {
        "id": "VnHWCsQECbCB"
      },
      "source": [
        "### Exemplo Kernel\n",
        "\n",
        "Considere os mesmos dados do exemplo anterior.\n"
      ]
    },
    {
      "cell_type": "code",
      "metadata": {
        "id": "3aufLpFmMSJ-"
      },
      "source": [
        "xp = np.array([2., 2., -2., -2.])\n",
        "yp = np.array([2., -2., -2., 2.])\n",
        "xn = np.array([1., 1., -1., -1.])\n",
        "yn = np.array([1., -1., -1., 1.])\n",
        "a= np.array([xp ,yp])\n",
        "b= np.array([xn,yn])\n",
        "X = np.concatenate((a, b), axis=1)\n",
        "y = [1, 1, 1, 1, -1, -1, -1, -1]\n",
        "plt.scatter(X[0,:], X[1,:], c=y, s=100, cmap=mycmap)\n",
        "plt.xlim(-3, 3)\n",
        "plt.ylim(-3, 3)\n",
        "plt.show()\n",
        "print(X)"
      ],
      "execution_count": null,
      "outputs": []
    },
    {
      "cell_type": "markdown",
      "metadata": {
        "id": "jHPYvuOSMYBL"
      },
      "source": [
        "Vamos agora considerar uma função de mapeamento alternativa. Supõe-se\n",
        "\n",
        "$$\n",
        "z=\\phi_2 \\left( x_1,x_2 \\right)= \\left(\n",
        "\\begin{array}{c}\n",
        "x_1\\\\\n",
        "x_2 \\\\\n",
        "\\frac{\\left(x_1^2+x_2^2\\right)-5}{3}\n",
        "\\end{array}\\right)\n",
        "$$\n",
        "que transforma nossos dados do espaço de entrada bidimensional para um espaço tridimensional. Usando esse mapeamento alternativo, os novos vetores transformados $z_+$ e $z_-$ são dados por, respectivamente,\n",
        "$$\n",
        "z_+ = \\left\\{ \\left(\n",
        "\\begin{array}{c}\n",
        "2\\\\ 2 \\\\1\n",
        "\\end{array} \\right), \\left(\n",
        "\\begin{array}{c}\n",
        "2\\\\-2\\\\1\n",
        "\\end{array} \\right), \\left(\n",
        "\\begin{array}{c}\n",
        "-2\\\\-2\\\\1\n",
        "\\end{array} \\right),\\left(\n",
        "\\begin{array}{c}\n",
        "-2\\\\2\\\\1\n",
        "\\end{array} \\right)\n",
        "\\right\\}\n",
        "$$\n",
        "e\n",
        "$$\n",
        "z_- = \\left\\{ \\left(\n",
        "\\begin{array}{c}\n",
        "1\\\\ 1 \\\\-1\n",
        "\\end{array} \\right), \\left(\n",
        "\\begin{array}{c}\n",
        "1\\\\ -1 \\\\-1\n",
        "\\end{array} \\right), \\left(\n",
        "\\begin{array}{c}\n",
        "-1\\\\ -1 \\\\-1\n",
        "\\end{array} \\right),\\left(\n",
        "\\begin{array}{c}\n",
        "-1\\\\ 1 \\\\-1\n",
        "\\end{array} \\right)\n",
        "\\right\\}\n",
        "$$"
      ]
    },
    {
      "cell_type": "code",
      "metadata": {
        "id": "5IYBkkoRLsHv"
      },
      "source": [
        "Z = np.zeros([3,8])\n",
        "y = [1, 1, 1, 1, -1, -1, -1, -1]\n",
        "for i in range(0,8):\n",
        "  Z[0][i] = X[0][i]\n",
        "  Z[1][i] = X[1][i]\n",
        "  Z[2][i] = ((X[0][i]**2+X[1][i]**2)-5)/3\n",
        "print(Z)"
      ],
      "execution_count": null,
      "outputs": []
    },
    {
      "cell_type": "code",
      "metadata": {
        "id": "EBPuFMPpmgw2"
      },
      "source": [
        "model = SVC(kernel='linear', C=1E10)\n",
        "model.fit(Z.T, y)\n",
        "print('Coeficientes do modelo w1, w2, w3 ='+ str(model.coef_))\n",
        "print('b = '+str(model.intercept_))"
      ],
      "execution_count": null,
      "outputs": []
    },
    {
      "cell_type": "code",
      "metadata": {
        "id": "wyDwK7OfNBff"
      },
      "source": [
        "fig = plt.figure()\n",
        "ax = fig.add_subplot(111, projection='3d')\n",
        "ax.scatter(Z[0,:], Z[1,:],Z[2,:], c=y, cmap=mycmap)\n",
        "x3 = lambda x1,x2: (-model.intercept_[0]-model.coef_[0][0]*x1-model.coef_[0][1]*x2) / model.coef_[0][2]\n",
        "\n",
        "tmp = np.linspace(-2,2,51)\n",
        "x1,x2 = np.meshgrid(tmp,tmp)\n",
        "\n",
        "ax.plot_surface(x1, x2, x3(x1,x2))\n",
        "ax.view_init(10, -120)"
      ],
      "execution_count": null,
      "outputs": []
    },
    {
      "cell_type": "markdown",
      "metadata": {
        "id": "C-lxVJJGQ1uu"
      },
      "source": [
        "Nesse caso, os 8 nós são vetores de suporte em 𝒵. Para verificar isso, plote a figura 3D acima __com as margens__, modificando a linha:\n",
        "```\n",
        "x3 = lambda x1,x2: (-model.intercept_[0]-model.coef_[0][0]*x1-model.coef_[0][1]*x2) / model.coef_[0][2]\n",
        "\n",
        "```\n",
        "\n",
        "Perceba que a equação acima foi obtida de\n",
        "\\begin{equation}\n",
        "\\boldsymbol{\\omega}^T\\boldsymbol{z}+b = 0\n",
        "\\end{equation}\n",
        "que é verdadeira no hiperplano de separação. Nas margens,\n",
        "\\begin{equation}\n",
        "\\boldsymbol{\\omega}^T\\boldsymbol{z}+b = \\pm 1\n",
        "\\end{equation}\n"
      ]
    },
    {
      "cell_type": "markdown",
      "source": [
        "Calcule os valores de $\\alpha$ e $\\tilde{b}$."
      ],
      "metadata": {
        "id": "cT0F926OyQU5"
      }
    },
    {
      "cell_type": "code",
      "source": [
        "#Sua resposta\n"
      ],
      "metadata": {
        "id": "DZil-VfSexkD"
      },
      "execution_count": null,
      "outputs": []
    },
    {
      "cell_type": "code",
      "metadata": {
        "id": "fXa-BMAlQ1Js",
        "cellView": "form"
      },
      "source": [
        "#@title Gabarito\n",
        "sv = np.array(Z.T)\n",
        "y_sv = [1, 1, 1, 1, -1, -1, -1, -1, 0]\n",
        "A = np.zeros([9,9])\n",
        "for i in range(0,8):\n",
        "  for j in range(0,8):\n",
        "    A[i][j] = y_sv[j]*np.dot(sv[i,:],sv[j,:])\n",
        "  A[i][8]=1\n",
        "A[8,:] = [1, 1, 1, 1, -1, -1, -1, -1, 0]\n",
        "alphas = np.linalg.solve(A,y_sv)\n",
        "print('alpha 1 = {:4.2f}, alpha 2 = {:4.2f}, alpha 3 = {:4.2f}, alpha 4 = {:4.2f}'.format(alphas[0], alphas[1], alphas[2], alphas[3]))\n",
        "print('alpha 5 = {:4.2f}, alpha 6 = {:4.2f}, alpha 7 = {:4.2f}, alpha 8 = {:4.2f}'.format(alphas[4], alphas[5], alphas[6], alphas[7]))\n",
        "print('b = {:4.2f}'.format(alphas[8]))\n",
        "w=np.zeros([1,3])\n",
        "for i in range (0,7):\n",
        "  w += alphas[i]*y_sv[i]*sv[i,:]\n",
        "w=np.array(w)\n",
        "print('w 1 = {:4.2f}, w 2 = {:4.2f}, w 3 = {:4.2f}'.format(w[0][0], w[0][1], w[0][2]))\n",
        "print(w)"
      ],
      "execution_count": null,
      "outputs": []
    },
    {
      "cell_type": "code",
      "metadata": {
        "id": "McBlEOUMYfdP"
      },
      "source": [
        "xlim = [-3., 5.]\n",
        "ylim = [-3., 5.]\n",
        "# create grid to evaluate model\n",
        "h = np.linspace(xlim[0], xlim[1], 300)\n",
        "v = np.linspace(ylim[0], ylim[1], 300)\n",
        "V,H = np.meshgrid(v, h)\n",
        "xy = np.vstack([H.ravel(), V.ravel()])\n",
        "dim = xy.shape[1]\n",
        "P=np.zeros([dim])\n",
        "z_t=np.zeros([3])\n",
        "for i in range(xy.shape[1]):\n",
        "  z_t[0] = xy[0][i]\n",
        "  z_t[1] = xy[1][i]\n",
        "  z_t[2] = ((xy[0][i]**2+xy[1][i]**2)-5)/3\n",
        "  P[i] = np.sign(w[0][0]*z_t[0]+w[0][1]*z_t[1]+w[0][2]*z_t[2]+alphas[2])\n",
        "plt.scatter(xy[0,:],xy[1,:],c=P,alpha=0.5,cmap = 'Pastel2')\n",
        "plt.scatter(X[0,:], X[1,:], c=y, s=100, cmap=mycmap)"
      ],
      "execution_count": null,
      "outputs": []
    },
    {
      "cell_type": "markdown",
      "metadata": {
        "id": "qneFWFg6ogQC"
      },
      "source": [
        "Melhorou, não??"
      ]
    },
    {
      "cell_type": "markdown",
      "metadata": {
        "id": "MOhEKJuGrd4z"
      },
      "source": [
        "### Modelando (SVM com Scikit-learn)"
      ]
    },
    {
      "cell_type": "markdown",
      "metadata": {
        "id": "0Byz1Yzsrd4z"
      },
      "source": [
        "O algoritmo SVM oferece uma opção de funções do kernel para executar seu processamento. Basicamente, o mapeamento de dados em um espaço dimensional superior é chamado de kernelling. A função matemática usada para a transformação é conhecida como a função do kernel e pode ser de diferentes tipos, como:\n",
        "\n",
        "     1. Linear\n",
        "     2. Polinomial\n",
        "     3. Radial Basis Function (RBF)\n",
        "     4. Sigmoide\n",
        "Cada uma dessas funções tem suas características, seus prós e contras e sua equação, mas como não há maneira fácil de saber qual função tem melhor desempenho com qualquer dado, geralmente escolhemos diferentes funções e comparamos os resultados.\n",
        "\n",
        "O exemplo a seguir usa o padrão, RBF (Radial Basis Function), e serviu para ilustrar a aula.\n",
        "\n",
        "Todo conteúdo desta parte será assunto da próxima aula de exercícios, não se preocupe com ele no momento."
      ]
    },
    {
      "cell_type": "code",
      "metadata": {
        "id": "WL_qBRAS2oiR"
      },
      "source": [
        "def plot_SVC(model, ax=None, plot_support=True):\n",
        "    if ax is None:\n",
        "        ax = plt.gca()\n",
        "    xlim = ax.get_xlim()\n",
        "    ylim = ax.get_ylim()\n",
        "\n",
        "    x = np.linspace(xlim[0], xlim[1], 300)\n",
        "    y = np.linspace(ylim[0], ylim[1], 300)\n",
        "    Y, X = np.meshgrid(y, x)\n",
        "    xy = np.vstack([X.ravel(), Y.ravel()]).T\n",
        "    P = model.decision_function(xy).reshape(X.shape)\n",
        "\n",
        "    ax.contour(X, Y, P, colors='crimson',\n",
        "               levels=[0], alpha=0.5,\n",
        "               linestyles=['--'])\n",
        "\n",
        "    if plot_support:\n",
        "        ax.scatter(model.support_vectors_[:, 0],\n",
        "                   model.support_vectors_[:, 1],\n",
        "                   s=50, linewidth=1, facecolors='crimson');\n",
        "    ax.set_xlim(xlim)\n",
        "    ax.set_ylim(ylim)"
      ],
      "execution_count": null,
      "outputs": []
    },
    {
      "cell_type": "code",
      "metadata": {
        "id": "CTym4QcCNO4G",
        "colab": {
          "base_uri": "https://localhost:8080/",
          "height": 289
        },
        "outputId": "1a669559-5d19-4693-b42d-1fb47dd7c86f"
      },
      "source": [
        "np.random.seed(42)\n",
        "x = np.random.uniform(-2, 2, size=500)\n",
        "y = np.random.uniform(-10, 10, size=500)\n",
        "x_lim = np.arange(-1.3, 1.8, 0.01)\n",
        "y_lim = 3.*x_lim**3+1.*x_lim-1.*x_lim**2+0.4\n",
        "X=[]\n",
        "Y=[]\n",
        "for i,j in zip(x,y):\n",
        "  y_t = 3.*i**3+1.*i-1.*i**2+0.4\n",
        "  X.append([i,j])\n",
        "  if y_t>j:\n",
        "    Y.append(1)\n",
        "  else:\n",
        "    Y.append(-1)\n",
        "X=np.array(X)\n",
        "Y=np.array(Y)\n",
        "plt.plot(x_lim,y_lim, color = 'crimson')\n",
        "plt.ylim(-10, 10)\n",
        "plt.xlim(-2,2)\n",
        "plt.scatter(X[:,0],X[:,1],c=Y,alpha=0.7,cmap = mycmap)"
      ],
      "execution_count": null,
      "outputs": [
        {
          "output_type": "execute_result",
          "data": {
            "text/plain": [
              "<matplotlib.collections.PathCollection at 0x7feec9021790>"
            ]
          },
          "metadata": {},
          "execution_count": 126
        },
        {
          "output_type": "display_data",
          "data": {
            "text/plain": [
              "<Figure size 432x288 with 1 Axes>"
            ],
            "image/png": "[encoded data removed]"
          },
          "metadata": {
            "needs_background": "light"
          }
        }
      ]
    },
    {
      "cell_type": "code",
      "metadata": {
        "id": "pTtCgd9VYVXn",
        "colab": {
          "base_uri": "https://localhost:8080/"
        },
        "outputId": "46c7f376-0a82-4c66-9bad-f9dc99ecbd32"
      },
      "source": [
        "# Create a SVC classifier using an RBF kernel\n",
        "#clf = SVC(kernel='rbf', random_state=0, tol=0.001, gamma='auto', C=1000)\n",
        "clf = SVC(kernel='rbf', random_state=0, tol=0.001, gamma=0.1, C=1e5)\n",
        "# Train the classifier\n",
        "clf.fit(X, Y)"
      ],
      "execution_count": null,
      "outputs": [
        {
          "output_type": "execute_result",
          "data": {
            "text/plain": [
              "SVC(C=100000.0, gamma=0.1, random_state=0)"
            ]
          },
          "metadata": {},
          "execution_count": 127
        }
      ]
    },
    {
      "cell_type": "code",
      "metadata": {
        "id": "4HZ-wYg72CEw",
        "colab": {
          "base_uri": "https://localhost:8080/",
          "height": 324
        },
        "outputId": "a48ec853-4b8d-42e3-c019-2389d05114dc"
      },
      "source": [
        "# Plote os dados\n",
        "plt.scatter(X[:, 0], X[:, 1], c=Y, cmap = mycmap)\n",
        "# Plote o contorno de decisão e os vetores de suporte em vermelho\n",
        "plot_SVC(clf)\n",
        "\n",
        "plt.plot(x_lim,y_lim,alpha = 0.8, color = 'crimson')\n",
        "plt.ylim(-10, 10)\n",
        "plt.xlim(-2,2)\n",
        "print('Número de vetores de suporte: ', clf.support_.size)\n",
        "print('Graus de liberdade: ', len(X))\n",
        "print('Limite erro: ', clf.support_.size/len(X))"
      ],
      "execution_count": null,
      "outputs": [
        {
          "output_type": "stream",
          "name": "stdout",
          "text": [
            "Número de vetores de suporte:  16\n",
            "Graus de liberdade:  500\n",
            "Limite erro:  0.032\n"
          ]
        },
        {
          "output_type": "display_data",
          "data": {
            "text/plain": [
              "<Figure size 432x288 with 1 Axes>"
            ],
            "image/png": "[encoded data removed]"
          },
          "metadata": {
            "needs_background": "light"
          }
        }
      ]
    },
    {
      "cell_type": "markdown",
      "metadata": {
        "id": "x8pVZ4k-AqxB"
      },
      "source": [
        "#### Parâmetros de ajuste\n",
        "\n",
        "Escolher o kernel correto é crucial. O desempenho do modelo depende de uma *sábia* escolha da função de kernel. A dúvida sobre como decidir qual definição de kernel funcionará de forma eficiente para o seu conjunto de dados não é só sua.\n",
        "\n",
        "A escolha de um kernel depende totalmente do tipo de conjunto de dados em que você está trabalhando. Se for linearmente separável, você deve optar pela função linear do kernel, pois é muito fácil de usar e a complexidade é muito menor em comparação com outras. Portanto, comece com uma hipótese de que seus dados sejam linearmente separáveis ​​e escolha uma função de kernel linear.\n",
        "\n",
        "Você pode então trabalhar em direção às funções mais complexas do kernel. Normalmente, usamos SVM com RBF ou linear, porque outros kernels, como kernel polinomial, têm baixa eficiência e raramente são a melhor opção.\n",
        "\n",
        "Para ajudar na escolha, existe uma biblioteca do `sklearn`\n",
        "\n",
        "\n",
        "\n",
        "```\n",
        "from sklearn.model_selection import GridSearchCV\n",
        "\n",
        "# defining parameter range\n",
        "param_grid = [\n",
        "\t{\"kernel\":\n",
        "\t\t[\"linear\"],\n",
        "\t\t\"C\": [0.0001, 0.001, 0.1, 1, 10, 100, 1000]},\n",
        "\t{\"kernel\":\n",
        "\t\t[\"poly\"],\n",
        "\t\t\"degree\": [2, 3, 4],\n",
        "\t\t\"C\": [0.0001, 0.001, 0.1, 1, 10, 100, 1000]},\n",
        "\t{\"kernel\":\n",
        "\t\t[\"rbf\"],\n",
        "\t\t\"gamma\": [\"auto\", \"scale\"],\n",
        "\t\t\"C\": [0.0001, 0.001, 0.1, 1, 10, 100, 1000]}\n",
        "]\n",
        "\n",
        "grid = GridSearchCV(SVC(), param_grid, refit = True, verbose = 3)\n",
        "\n",
        "# fitting the model for grid search\n",
        "grid.fit(X_train, y_train)\n",
        "\n",
        "\n",
        "# print best parameter after tuning\n",
        "print(grid.best_params_)\n",
        "\n",
        "# print how our model looks after hyper-parameter tuning\n",
        "print(grid.best_estimator_)\n",
        "```\n",
        "\n",
        "Uma pesquisa usando  `GridSearchCV` testará exaustivamente todas as combinações possíveis desses hiperparâmetros, treinando um SVM para cada conjunto. A pesquisa em grade reportará então os melhores hiperparâmetros (ou seja, aqueles que maximizaram a precisão). Você pode inspecionar os melhores parâmetros encontrados pelo GridSearchCV no atributo `best_params_` e o melhor estimador no atributo `best_estimator_`\n",
        "\n",
        "Uma vez que tenha a melhor combinação de hiperparâmetros, o `fit` constrói um único novo modelo.\n",
        "\n",
        "\n",
        "Mas, isso é assunto da próxima aula..."
      ]
    }
  ]
}