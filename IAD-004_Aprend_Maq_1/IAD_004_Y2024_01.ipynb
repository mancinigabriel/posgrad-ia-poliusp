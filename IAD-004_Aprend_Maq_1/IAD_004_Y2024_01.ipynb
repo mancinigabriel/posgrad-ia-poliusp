{
  "nbformat": 4,
  "nbformat_minor": 0,
  "metadata": {
    "colab": {
      "provenance": [],
      "toc_visible": true
    },
    "kernelspec": {
      "name": "python3",
      "display_name": "Python 3"
    }
  },
  "cells": [
    {
      "cell_type": "markdown",
      "metadata": {
        "id": "fKM9mrWQHmep"
      },
      "source": [
        "# <font face=\"Verdana\" size=6 color='#6495ED'> IAD-004 AULA 01: REGRESSÃO\n",
        "<font face=\"Verdana\" size=3 color='#40E0D0'> Professores Larissa Driemeier e Thiago Martins\n",
        "\n",
        "<center><img src='https://drive.google.com/uc?export=view&id=1J3dF7v9apzpj27oOsrT8aEagtNIYwq7J' width=\"600\"></center>\n",
        "\n",
        "Este notebook introdutório é sobre problemas de Regressão, baseado na primeira aula [IAD-004](https://alunoweb.net/moodle/pluginfile.php/141625/mod_resource/content/2/ML1_A01_Y2024.pdf), ano 2024."
      ]
    },
    {
      "cell_type": "code",
      "metadata": {
        "id": "qt_qqh1_Aceu"
      },
      "source": [
        "import numpy as np\n",
        "import matplotlib.pyplot as plt\n",
        "import pandas as pd"
      ],
      "execution_count": 109,
      "outputs": []
    },
    {
      "cell_type": "markdown",
      "metadata": {
        "id": "FP8y854RBU0v"
      },
      "source": [
        "A regressão linear consiste em tentar explicar o comportamento de uma variável, dita *dependente*, a partir de uma ou mais variáveis, ditas *independentes*, com um modelo linear.\n",
        "\n",
        "Seja $\\mathbf y = \\left\\{y^{(1)}, y^{(2)}, \\ldots, y^{(m)}\\right\\}$ uma amostra do conjunto de variáveis dependentes e $\\mathbf X = \\left\\{\\mathbf x^{(1)}, \\mathbf x^{(2)}, \\ldots, \\mathbf x^{(m)}\\right\\}$ as correspondentes variáveis independentes da amostra.\n",
        "\n",
        "O modelo linear para o comportamento destas variáveis é dado pela equação:\n",
        "\\begin{equation}\n",
        " y^{(i)} =  w_0 +  w_1 x_1^{(i)} + w_2 x_2^{(i)}+\\cdots + w_n x_n^{(i)} + \\epsilon^{(i)}\n",
        "\\end{equation}\n",
        "onde $ w_0, \\cdots, w_n$ são *parâmetros* do modelo e $\\epsilon^{(i)$ é o erro.\n",
        "\n",
        "Na forma matricial tem-se,\n",
        "\\begin{equation}\n",
        "\\mathbf y = \\begin{bmatrix}y_1\\\\\n",
        "y_2\\\\\n",
        "\\vdots\\\\\n",
        "y_m\\end{bmatrix}\n",
        "\\end{equation}\n",
        "um vetor de dimensão $m$, onde $m$ é o número de amostras do conjunto de dados, e\n",
        "\\begin{equation}\n",
        "\\mathbf X = \\begin{bmatrix}x_{1,1} & x_{1,2} & \\ldots & x_{1,n} & 1\\\\\n",
        "x_{2,1} & x_{2,2} & \\ldots & x_{2,n} & 1\\\\\n",
        " \\vdots & \\vdots & \\ddots & \\vdots & \\vdots\\\\\n",
        "x_{m,1} & x_{m,2} & \\ldots & x_{m,n} & 1\\end{bmatrix}=\\begin{bmatrix}\\mathbf x^{(1)}\\\\\n",
        "\\mathbf x^{(2)}\\\\\n",
        " \\vdots \\\\\n",
        "\\mathbf x^{(m)}\\end{bmatrix}\n",
        "\\end{equation}\n",
        "uma matriz $m \\times (n+1)$ cujas primeiras $n$ colunas são compostas por uma amostra de cada uma das $n$ variáveis independetes e a sua *última* coluna é composta da constante 1.\n",
        "Define-se também,\n",
        "\\begin{equation}\n",
        "\\mathbf w = \\begin{bmatrix}w_0\\\\\n",
        "w_1\\\\\n",
        "w_2\\\\\n",
        "\\vdots\\\\\n",
        "w_n\n",
        "\\end{bmatrix}\n",
        "\\end{equation}\n",
        "é o vetor de $(n+1)$ componentes dos coeficientes de cada uma das variáveis independentes. Note que nesta notação o coeficiente $w_0$ é o *primeiro* coeficiente (há notações distintas nas quais ele é o último).\n",
        "\n",
        "O modelo linear para o comportamento destas variáveis é dado pela equação:\n",
        "\\begin{equation}\n",
        "\\mathbf y =  \\mathbf X \\mathbf w + \\mathbf e\n",
        "\\end{equation}\n",
        "onde o erro randômico $\\mathbf e$ do conjunto de dados é a diferença entre os valores observados e os valores verdadeiros, não observáveis.\n",
        "\n",
        " ![](https://drive.google.com/uc?export=view&id=1mRM2uGuHlB46FuiRz6iaeV9O71P9IbIv)\n",
        "\n",
        "Importante comentar que o erro randômico não é observável, pois sua definição depende do conhecimento de $ \\mathbf X \\mathbf w$. Como não conhecemos o erro, fazemos apenas suposições a seu respeito.\n",
        "\n",
        "No problema de regressão, estimamos os parâmetros reais $\\mathbf w$, de forma que :\n",
        "\\begin{equation}\n",
        "\\hat{\\mathbf y} =  \\mathbf X \\hat{\\mathbf w} +  \\newcommand{\\beps}{\\boldsymbol \\epsilon} \\beps\n",
        "\\end{equation}\n",
        "onde $\\hat{\\mathbf y}$ é uma aproximação das observações $\\mathbf y$. Define-se ainda o resíduo $\\epsilon^{(i)}$ como a diferença entre o valor observado $ y^{(i)}$ e estimado $\\hat y^{(i)}$,\n",
        "\\begin{equation}\n",
        "\\epsilon^{(i)} = y^{(i)}-\\hat y^{(i)} = y^{(i)}-\\left( \\hat w_0 + \\hat w_1 x_1^{(i)} + w_2 x_2^{(i)}+\\cdots +\\hat w_n x_n^{(i)} \\right)\n",
        "\\end{equation}\n",
        "de forma que $\\beps$ é o vetor de *resíduos* de dimensão $n+1$. Os resíduos podem ser considerados somente estimativas dos erros. No entanto, só temos acesso aos resíduos, então é com isso que trabalhamos.\n",
        "\n",
        "Daqui para frente, por brevidade, e cientes de que sempre estamos buscando um conjunto de parâmetros que  aproxime a função real, $\\hat w_i = w_i$.\n",
        "\n",
        "\n"
      ]
    },
    {
      "cell_type": "markdown",
      "metadata": {
        "id": "oht4Dlpb5zri"
      },
      "source": [
        "## As suposições de Gauss-Markov\n",
        "\n",
        "Ao usar estimadores não viesados para os modelos de regressão, ié, $𝐸\\left(\\epsilon^{(𝑖)}\\right)=0$, garantimos que pelo menos em média, estimamos o parâmetro verdadeiro.\n",
        "\n",
        "Ao comparar diferentes estimadores não viesados, é, ainda, interessante saber qual deles tem a maior precisão possível.\n",
        "\n",
        "O teorema de Gauss Markov nos diz que se um certo conjunto de suposições for atendido, a estimativa de mínimos quadrados ordinários para coeficientes de regressão fornece a mais baixa variância de amostragem dentro da classe dos estimadores lineares não enviesados (BLUE, do inglês Best Linear Unbiased Estimate) possível.\n",
        "\n",
        "1. **Linearidade:** $\\newcommand{\\my}{\\mathbf y}\\my=\\newcommand{mX}{\\mathbf{Xw}}\\mX \\newcommand{\\mw}{\\mathbf w} + \\beps$, os parâmetros que estimamos usando o método OLS devem ser lineares.\n",
        "2. **Aleatoriedade:** nossos dados devem ter sido amostrados aleatoriamente na população, por um mecanismo não relacionado a $\\beps$.\n",
        "5. **Exogeneidade:** como dito no item anterior, os regressores $x^{(i)}$ não são correlacionados com o termo de resíduo $cov\\left(x^{(i)},\\epsilon^{(i)}\\right)=0, i\\ne j$.\n",
        "3. **Resíduos com média nula:** Essa suposição afirma que a *média dos resíduos* é $0$ para qualquer valor de $\\mX$, ié, $𝐸(\\epsilon^{(i)}|\\mX)=0$. Colocado de outra forma, nenhuma observação das variáveis independentes fornece qualquer informação sobre o valor esperado do resíduo. A suposição implica que $E(\\my) = \\mX$. Isso é importante, pois essencialmente diz que acertamos a função média.\n",
        "4. **Resíduos com covariância nula:** Cada termo de resíduo é independentemente distribuído e não correlacionado $cov\\left(\\epsilon^{(𝑖)},\\epsilon^{(𝑗)}|\\mX\\right)=0, i\\ne j$. A suposição de nenhuma autocorrelação quer dizer que: saber algo sobre o resíduo para uma observação não nos diz nada sobre o resíduo para qualquer outra observação.\n",
        "6. **Homocedasticidade:** a variância de $\\epsilon^{(i)}$ é constante para qualquer $i$, ié, $var\\left(\\epsilon^{(𝑖)}|\\mX\\right)=\\sigma_{\\epsilon}^2,\\forall i$.\n",
        "\n",
        "Ainda, para garantirmos a máxima verossimilhança, assume-se que o resíduo tem distribuição normal com média nula e variância $\\sigma_{\\epsilon}^2$,\n",
        "$$\n",
        "\\beps \\approx N\\left[ 0,\\sigma_{\\epsilon}^2 \\mathbf I \\right]\n",
        "$$\n",
        "\n",
        "\n",
        "\n",
        "Mais matemática sobre o Teorema de Gauss Markov pode ser encontrada no [link](https://web.stanford.edu/~mrosenfe/soc_meth_proj3/matrix_OLS_NYU_notes.pdf)."
      ]
    },
    {
      "cell_type": "markdown",
      "metadata": {
        "id": "d4L5gvnax19s"
      },
      "source": [
        "\n",
        "\n",
        "## 1. Regressão Linear Simples\n",
        "\n",
        "A regressão linear simples trata de apenas uma variável independente.\n",
        "\n",
        "Seja $\\mathbf y = \\left\\{y^{(1)}, y^{(2)}, \\ldots, y^{(m)}\\right\\}$ uma amostra do conjunto de variáveis independentes e $\\mathbf x = \\left\\{x^{(1)}, x^{(2)}, \\ldots, x^{(m)}\\right\\}$\n",
        "\n",
        "O modelo linear simples para o comportamento destas variáveis é dado pela equação:\n",
        "\n",
        "\\begin{equation}\n",
        "\\hat y^{(i)} = w_0 + w_1 x^{(i)} + \\epsilon^{(i)}\n",
        "\\end{equation}\n",
        "\n",
        "A hipótese do modelo linear é a de que os resíduos são variáveis aleatórias *independentes* distribuídas de acordo com uma distribuição *Gaussiana* de valor esperado *nulo*,\n",
        "$$\n",
        "\\epsilon^{(i)} \\approx N\\left[ 0,\\sigma_{\\epsilon}^2 \\right]\n",
        "$$\n",
        "\n",
        "Isso significa essencialmente que nossos dados têm uma relação linear que é corrompida pelo ruído gaussiano aleatório que tem média zero e variação constante.\n",
        "\n",
        "Isso tem a implicação de que $y^{(i)}$  é uma variável aleatória gaussiana e podemos calcular sua expectativa e variação:\n",
        "$$\n",
        "E[y^{(i)}] = E[\\mathbf x^{(i)T} \\mathbf w + \\epsilon^{(i)}] = \\mathbf x^{(i)T} \\mathbf w\n",
        "$$\n",
        "\n",
        "$$\n",
        "Var[y^{(i)}] = Var[\\mathbf x^{(i)T} \\mathbf w + \\epsilon^{(i)}] = \\sigma^2\n",
        "$$\n",
        "onde $\\mathbf x^{(i)}=\\left[x^{(i)} \\quad 1\\right]^T$ e $\\mathbf w=\\left[w_1 \\quad w_0\\right]^T$.\n",
        "\n",
        "Isso equivale a supor que as variáveis independentes são resultado da reta $y = w_0 + w_1 x $ sobreposta a um ruído Gaussiano.\n",
        "\n",
        "Adicionando-se a hipótese de que os ruídos Gaussianos são todos com a mesma covariância, os parâmetros da reta de *máxima verissimilhança* são dados pela minimização da função custo dada pelo somatório quadrático dos resíduos, ié:\n",
        "\n",
        "\\begin{equation}\n",
        "\\underset{w_0, w_1}{\\mbox{arg min}} \\sum_i \\left[\\epsilon^{(i)}\\right]^2= \\sum_i \\left(y^{(i)} - w_0 - w_1 x^{(i)}\\right)^2\n",
        "\\end{equation}\n",
        "\n",
        "Então:\n",
        "\\begin{align}\n",
        "\\frac{\\partial EQT}{\\partial w_0} &= 2  \\sum_i \\left(y^{(i)} - w_0 - w_1 x^{(i)}\\right)(-1)=0\\\\\n",
        "\\frac{\\partial EQT}{\\partial w_1} &= 2  \\sum_i \\left(y^{(i)} - w_0 - w_1 x^{(i)}\\right)(-x^{(i)})=0\n",
        "\\end{align}\n",
        "\n",
        "Portanto, após longa, e trivial, manipulação algébrica,\n",
        "\\begin{align}\n",
        "w_1 &= \\frac{s_{xy}}{s_{xx}}\\\\\n",
        "w_0 &= \\bar{y} - w_1 \\bar{x}\n",
        "\\end{align}\n",
        "definindo-se,\n",
        "\\begin{align}\n",
        "\\bar{x} &= \\frac{1}{n}\\sum_i x^{(i)} \\\\\n",
        "\\bar{y} &= \\frac{1}{n}\\sum_i y^{(i)} \\\\\n",
        "s_{xx} &= \\sum_i (x^{(i)} - \\bar{x})^2 \\\\\n",
        "s_{yy} &= \\sum_i (y^{(i)} - \\bar{y})^2 \\\\\n",
        "s_{xy} &= \\sum_i (x^{(i)} - \\bar{x})(y^{(i)} - \\bar{y})\n",
        "\\end{align}\n",
        "\n",
        "E finalmente, a soma total dos quadrados dos resíduos é dada por:\n",
        "\n",
        "\\begin{equation}\n",
        "R^2 = \\sum_i \\left[\\epsilon^{(i)}\\right]^2=s_{yy}\\left(1-\\frac{s_{xy}^2}{s_{xx} s_{yy}}\\right)\n",
        "\\end{equation}\n",
        "\n",
        "O valor\n",
        "\n",
        "\\begin{equation}\n",
        "r = \\frac{s_{xy}}{\\sqrt{s_{xx} s_{yy}}}\n",
        "\\end{equation}\n",
        "\n",
        "é chamado de *coeficiente de correlação de Pearson*. Este é um valor que varia de $-1$ a $1$ e mede o quão bem a variável dependente pode ser explicada por um modelo linear da variável dependente.\n",
        "\n",
        "Valores mais próximos de zero significam um modelo linear menos explicativo.\n",
        "\n",
        "Valores mais próximos de $1$ ou $-1$ significam um modelo linear mais explicativo.\n",
        "\n"
      ]
    },
    {
      "cell_type": "markdown",
      "source": [
        "### Exemplo 01\n",
        "\n",
        "Dados de idade e pressão,\n",
        "```\n",
        "idade = x = [52,59,67,73,64,74,54,61,65,46,72]\n",
        "pressao = y = [132,143,153,162,154,168,137,149,159,128,166]\n",
        "```\n",
        "\n",
        "Determine:\n",
        "1. Os valores de $\\bar{x}$, $\\bar{y}$;\n",
        "2. Os valores de $s_{xx}, s_{yy}, s_{xy}$;\n",
        "3. Os valores de  $w_0$ e $w_1$ no modelo $\\hat y^{(i)} = w_0 + w_1 x^{(i)} + \\epsilon^{(i)}$ de máxima verissimilhança;\n",
        "4. Repita a plotagem *scatter* do enunciado sobreposta à reta $\\hat y=w_0 + w_1 x$;\n",
        "5. Calcule o resíduo quadrático total $\\sum_i \\left[\\epsilon^{(i)}\\right]^2$;\n",
        "6. Calcule o coeficiente de correlação de Pearson e compare o valor $s_{yy}(1-r^2)$ com o obtido no item anterior."
      ],
      "metadata": {
        "id": "_t6Ql3iLZ-Yu"
      }
    },
    {
      "cell_type": "code",
      "source": [
        "idade = [52,59,67,73,64,74,54,61,65,46,72]\n",
        "pressao = [132,143,153,162,154,168,137,149,159,128,166]"
      ],
      "metadata": {
        "id": "LIw03lm3YMBr"
      },
      "execution_count": null,
      "outputs": []
    },
    {
      "cell_type": "code",
      "source": [
        "x_bar = np.mean(idade)\n",
        "y_bar = np.mean(pressao)\n",
        "print('A média de x é: {:6.2f}'.format(x_bar))\n",
        "print('A média de y é: {:6.2f}'.format(y_bar))\n"
      ],
      "metadata": {
        "id": "HHpBJsC0aGOw"
      },
      "execution_count": null,
      "outputs": []
    },
    {
      "cell_type": "code",
      "source": [
        "dx = (idade - x_bar)\n",
        "dy = (pressao - y_bar)\n",
        "sxx = np.sum(dx**2)\n",
        "syy = np.sum(dy**2)\n",
        "sxy = np.sum(dx*dy)\n",
        "print('sxx: '+str(sxx))\n",
        "print('syy: '+str(syy))\n",
        "print('sxy: '+str(sxy))"
      ],
      "metadata": {
        "id": "2NN8Ge71aWBS"
      },
      "execution_count": null,
      "outputs": []
    },
    {
      "cell_type": "code",
      "source": [
        "w1_teo=sxy/sxx\n",
        "w0_teo= y_bar-x_bar*w1_teo\n",
        "print('w0: '+str(w0_teo),'w1: '+str(w1_teo))"
      ],
      "metadata": {
        "id": "241axWDzbSBZ"
      },
      "execution_count": null,
      "outputs": []
    },
    {
      "cell_type": "code",
      "source": [
        "plt.scatter(x=idade, y=pressao,alpha=0.75)\n",
        "plt.plot(idade,w0_teo+np.asarray(idade)*w1_teo,color='crimson')\n",
        "plt.show()"
      ],
      "metadata": {
        "id": "X7i2lRvMb9dF"
      },
      "execution_count": null,
      "outputs": []
    },
    {
      "cell_type": "code",
      "source": [
        "w=[]\n",
        "w0,w1= 0.0,0.5\n",
        "w.append([w0,w1])\n",
        "\n",
        "alpha = 0.0005\n",
        "eps = 1e-4\n",
        "max_iter = 500000\n",
        "\n",
        "m = len(idade)\n",
        "grad_w0 = 0.0\n",
        "grad_w1 = 0.0\n",
        "for i,j in zip(idade,pressao):\n",
        "    grad_w0 += (w0 + w1*i - j)/m\n",
        "    grad_w1 += (w0 + w1*i - j)*i/m\n",
        "grad = [grad_w0,grad_w1]\n",
        "\n",
        "count = 0\n",
        "while np.linalg.norm(grad)>eps and count<max_iter:\n",
        "  grad_w0 = 0.0\n",
        "  grad_w1 = 0.0\n",
        "  for i,j in zip(idade,pressao):\n",
        "    grad_w0 += (w0 + w1*i - j)/m\n",
        "    grad_w1 += (w0 + w1*i - j)*i/m\n",
        "  w0 = w0-alpha*grad_w0\n",
        "  w1 = w1-alpha*grad_w1\n",
        "  w.append([w0,w1])\n",
        "  grad = [grad_w0,grad_w1]\n",
        "  count += 1\n",
        "\n",
        "print('w0: '+str(w0))\n",
        "print('w1: '+str(w1))"
      ],
      "metadata": {
        "colab": {
          "base_uri": "https://localhost:8080/"
        },
        "id": "FCdydRLWllSZ",
        "outputId": "0d6b41cc-e1a8-4a7d-fe1c-4d1d1dd31e06"
      },
      "execution_count": null,
      "outputs": [
        {
          "output_type": "stream",
          "name": "stdout",
          "text": [
            "w0: 58.19648423796317\n",
            "w1: 1.4712261243031135\n"
          ]
        }
      ]
    },
    {
      "cell_type": "code",
      "source": [
        "plt.scatter(x=idade, y=pressao,alpha=0.75)\n",
        "\n",
        "plt.plot(idade,w0+np.asarray(idade)*w1,color='crimson', label = \"gradiente\")\n",
        "plt.plot(idade,w0_teo+np.asarray(idade)*w1_teo,color='mediumvioletred', label = \"teoria\")\n",
        "plt.legend()\n",
        "plt.show()"
      ],
      "metadata": {
        "id": "qXu4U9T7rCFA"
      },
      "execution_count": null,
      "outputs": []
    },
    {
      "cell_type": "code",
      "source": [
        "eps = syy*(1.0-sxy**2/(sxx*syy))\n",
        "print('eps: {:2.4f}'.format(eps))\n",
        "r= sxy/(np.sqrt(sxx*syy))\n",
        "print('r: {:2.4f}  syy(1-r2):  {:6.4f}  '.format(r,(syy*(1-r**2))))"
      ],
      "metadata": {
        "id": "08u8eyM3Eds9"
      },
      "execution_count": null,
      "outputs": []
    },
    {
      "cell_type": "markdown",
      "source": [
        "Definição de $R^2$\n",
        "\n",
        "$𝑅^2$  (R-quadrado) é uma medida estatística de quão próximos os dados estão da linha de regressão ajustada. Também é conhecido como coeficiente de determinação.\n",
        "\n",
        "Pode-se calcular a partir de sua definição:\n",
        "$$\n",
        "\\begin{align} R^2&=1-\\frac{\\text{SSR}}{\\text{SST}},\\\\ &=1-\\frac{\\sum({y_i}-\\hat{y_i})^2}{\\sum(y_i-\\bar{y})^2} = \\frac{s_{xy}^2}{s_{xx}s_{yy}} \\end{align}\n",
        "$$\n",
        " onde SSR (sum squared regression) é a soma do quadrado dos erros da regressão, enquanto SST (total sum of squares)  é a soma do quadrado dos erros, quando a regressão coincide com a linha média ${\\bar y}$"
      ],
      "metadata": {
        "id": "HQelXiw0RWx4"
      }
    },
    {
      "cell_type": "code",
      "source": [
        "from sklearn.metrics import r2_score\n",
        "\n",
        "coef = r2_score(np.array(pressao), w0+w1*np.array(idade))\n",
        "print(coef)"
      ],
      "metadata": {
        "id": "riC9bT9LQjSl"
      },
      "execution_count": null,
      "outputs": []
    },
    {
      "cell_type": "code",
      "source": [
        "SSE = (np.array(pressao)-w0-w1*np.array(idade))**2\n",
        "SSy = np.sum((np.array(pressao)-np.mean(pressao))**2)\n",
        "print(1-np.sum(SSE)/SSy)"
      ],
      "metadata": {
        "id": "p9bgF7XENDpQ"
      },
      "execution_count": null,
      "outputs": []
    },
    {
      "cell_type": "code",
      "source": [
        "(sxy*sxy/(sxx*syy))"
      ],
      "metadata": {
        "id": "5s6tRKorOhmT"
      },
      "execution_count": null,
      "outputs": []
    },
    {
      "cell_type": "markdown",
      "source": [
        "### Exercício 02\n",
        "\n",
        "Os dados abaixo referem-se aos anos de experiência e salário de funcionários de uma empresa.\n",
        "\n",
        "Determine a curva de regressão e analise a correlação entre a curva teórica e os dados disponibilizados."
      ],
      "metadata": {
        "id": "RIcYJKAxF6j-"
      }
    },
    {
      "cell_type": "code",
      "source": [
        "data = np.array([\n",
        "[1.1,39343.00],\n",
        "[1.3,46205.00],\n",
        "[1.5,37731.00],\n",
        "[2.0,43525.00],\n",
        "[2.2,39891.00],\n",
        "[2.9,56642.00],\n",
        "[3.0,60150.00],\n",
        "[3.2,54445.00],\n",
        "[3.2,64445.00],\n",
        "[3.7,57189.00],\n",
        "[3.9,63218.00],\n",
        "[4.0,55794.00],\n",
        "[4.0,56957.00],\n",
        "[4.1,57081.00],\n",
        "[4.5,61111.00],\n",
        "[4.9,67938.00],\n",
        "[5.1,66029.00],\n",
        "[5.3,83088.00],\n",
        "[5.9,81363.00],\n",
        "[6.0,93940.00],\n",
        "[6.8,91738.00],\n",
        "[7.1,98273.00],\n",
        "[7.9,101302.00],\n",
        "[8.2,113812.00],\n",
        "[8.7,109431.00],\n",
        "[9.0,105582.00],\n",
        "[9.5,116969.00],\n",
        "[9.6,112635.00],\n",
        "[10.3,122391.00],[10.5,121872.00]])"
      ],
      "metadata": {
        "id": "0irA25ww5Ys1"
      },
      "execution_count": null,
      "outputs": []
    },
    {
      "cell_type": "code",
      "source": [
        "w=[]\n",
        "w0,w1= 0.0,0.5\n",
        "w.append([w0,w1])\n",
        "\n",
        "alpha = 0.0005\n",
        "eps = 1e-4\n",
        "max_iter = 500000\n",
        "\n",
        "\n",
        "m = len(idade)\n",
        "grad_w0 = 0.0\n",
        "grad_w1 = 0.0\n",
        "for i,j in zip(idade,pressao):\n",
        "    grad_w0 += (w0 + w1*i - j)/m\n",
        "    grad_w1 += (w0 + w1*i - j)*i/m\n",
        "grad = [grad_w0,grad_w1]\n",
        "\n",
        "x=data[:,0]\n",
        "y=data[:,1]\n",
        "print(x,y)\n",
        "\n",
        "count = 0\n",
        "while np.linalg.norm(grad)>eps and count<max_iter:\n",
        "  grad_w0 = 0.0\n",
        "  grad_w1 = 0.0\n",
        "  for i,j in zip(x,y):\n",
        "    grad_w0 += (w0 + w1*i - j)/m\n",
        "    grad_w1 += (w0 + w1*i - j)*i/m\n",
        "  w0 = w0-alpha*grad_w0\n",
        "  w1 = w1-alpha*grad_w1\n",
        "  w.append([w0,w1])\n",
        "  grad = [grad_w0,grad_w1]\n",
        "  count += 1\n",
        "\n",
        "print('w0: '+str(w0))\n",
        "print('w1: '+str(w1))"
      ],
      "metadata": {
        "id": "U9rWIJMV7Oki"
      },
      "execution_count": null,
      "outputs": []
    },
    {
      "cell_type": "code",
      "source": [
        "plt.scatter(x=data[:,0], y=data[:,1],alpha=0.75, label = \"Dados\")\n",
        "media = [np.mean(data[:,1])]*len(data)\n",
        "plt.plot(data[:,0], media, color='crimson', label = \"Média\")\n",
        "plt.plot(data[:,0],w0+np.asarray(data[:,0])*w1,color='forestgreen', label = \"Regressão\")\n",
        "plt.legend()\n",
        "plt.show()"
      ],
      "metadata": {
        "id": "BKbViORs6Piw"
      },
      "execution_count": null,
      "outputs": []
    },
    {
      "cell_type": "code",
      "source": [
        "data_regr = w0+np.asarray(data[:,0])*w1\n",
        "\n",
        "x_bar = np.mean(data[:,0])\n",
        "y_bar = np.mean(data[:,1])\n",
        "\n",
        "dx = (data[:,0] - x_bar)\n",
        "dy = (data[:,1] - y_bar)\n",
        "dy_regr = (data[:,1] - data_regr)\n",
        "\n",
        "\n",
        "sxx = np.sum(dx**2)\n",
        "syy = np.sum(dy**2)\n",
        "sxy = np.sum(dx*dy)\n",
        "s_regr = np.sum(dy_regr**2)\n",
        "r2= (sxy/(np.sqrt(sxx*syy)))**2\n",
        "r2_regr = (syy - s_regr) / syy\n",
        "\n",
        "\n",
        "print('R2 é: {:6.2f}'.format(r2))\n",
        "print('R2 é: {:6.2f}'.format(r2_regr))"
      ],
      "metadata": {
        "id": "PUOr8a8rIPeu"
      },
      "execution_count": null,
      "outputs": []
    },
    {
      "cell_type": "markdown",
      "metadata": {
        "id": "-1Gv9pKVM9kT"
      },
      "source": [
        "## 2. Regressão multilinear\n",
        "\n",
        "A regressão multi-linear trata da relação de uma variável dependente com *múltiplas* variáveis independentes.\n",
        "\n",
        "\\begin{equation}\n",
        "y^{(i)} = w_1 x_1^{(i)} + w_2 x_2^{(i)} + \\dots + w_n x_n^{(i)} +w_0+\\epsilon^{(i)}\n",
        "\\end{equation}\n",
        "\n",
        "A função perda ou custo é definida pelo somatório da função erro de cada amostra,\n",
        "$$\n",
        "J(\\mathbf{X,w})=\\frac{1}{m} \\sum_{i=1}^n \\textbf{L}\\left(y^{(i)}, h_\\mathbf w(\\mathbf x^{(i)})\\right)\n",
        "$$\n",
        "\n",
        "Utilizando-se a função erro quadrática tem-se que,\n",
        "$$\n",
        "\\textbf{L}\\left(y^{(i)}, h_\\mathbf w(\\mathbf x^{(i)})\\right) = \\| \\mathbf{y} - \\mathbf{X w} \\|^2_2\n",
        "$$\n",
        "\n",
        "Seguindo a mesma hipótese de que os resíduos são variáveis aleatórias *independentes* distribuídas de acordo com uma distribuição *Gaussiana* de valor esperado *nulo*, o vetor $\\mathbf w$ de *máxima verossimilhança* é dado pela minimização da função custo, ié,:\n",
        "\\begin{equation}\n",
        "\\underset{\\mathbf w}{\\mbox{arg min}} \\parallel \\mathbf \\beps \\parallel^2= \\parallel \\mathbf{y} - \\mathbf{X w} \\parallel^2_2\n",
        "\\end{equation}"
      ]
    },
    {
      "cell_type": "markdown",
      "metadata": {
        "id": "_0G8LUzAQryt"
      },
      "source": [
        "Suponha que estamos interessados em minimizar, para $\\newcommand{\\bhat}{{\\mathbf w}}\\bhat \\in \\newcommand{\\reals}{\\mathbb{R}} \\reals^n$ qualquer,\n",
        "$$\n",
        "\\newcommand{\\err}{\\mathcal{E}}\n",
        "\\err = \\| \\beps \\|^2 = (\\newcommand{\\my}{\\mathbf y}\\my - \\newcommand{\\mX}{\\mathbf X}\\mX \\bhat)^T (\\my - \\mX \\bhat),\n",
        "$$\n",
        "onde $\\mw \\in \\reals^n$ são os coeficientes da regressão. Assume-se, por simplicidade, que $n \\leq m$ e $\\mathrm{rank}(\\mX) = n$.\n",
        "\\begin{align}\n",
        "\\err &= \\my^T\\my-\\bhat^T\\mX^T\\my-\\my^T\\mX\\bhat+\\bhat^T\\mX^T\\mX\\bhat\\\\\n",
        "&=\\my^T\\my-2\\bhat^T\\mX^T\\my+\\bhat^T\\mX^T\\mX\\bhat \\tag{1}\n",
        "\\end{align}\n",
        "onde este desenvolvimento usa o fato de que a transposição de um escalar é o escalar, ou seja $\\bhat^T\\mX^T\\my=\\my^T\\mX\\bhat$.\n",
        "\n",
        "Para encontrar o $\\bhat$ que minimiza a soma dos resíduos quadrados, precisamos tirar a derivada de (1) em relação a $\\bhat$. Isso nos dá a seguinte equação:\n",
        "\\begin{equation}\n",
        "\\frac{\\partial\\err}{\\partial \\bhat} = -2\\mX^T\\my+ 2 \\mX^T\\mX\\bhat = 0\n",
        "\\end{equation}\n",
        "\n",
        "Da equação acima obtemos o que chamamos de *equações normais*,\n",
        "\\begin{equation}\n",
        "\\mX^T\\mX\\bhat = \\mX^T\\my \\tag{2}\n",
        "\\end{equation}\n",
        "onde, obviamente, $\\mX^T\\mX$ é sempre quadrada simétrica.\n",
        "\n",
        "Lembre-se de que $\\mX^T\\mX$ e $\\mX^T\\my$ são conhecidos de nossos dados, mas $\\bhat$ é desconhecido. Se o inverso de $\\mX^T\\mX$ existe\n",
        "(ou seja, $\\left(\\mX^T\\mX\\right)^{-1}$, então a pré-multiplicação de ambos os lados por esse inverso nos dá a seguinte equação:\n",
        "\\begin{align}\n",
        "\\left(\\mX^T\\mX\\right)^{-1}\\left(\\mX^T\\mX\\right)\\bhat &= \\left(\\mX^T\\mX\\right)^{-1}\\mX^T\\my \\\\\n",
        "\\bhat &= \\left(\\mX^T\\mX\\right)^{-1}\\mX^T\\my\n",
        "\\end{align}\n",
        "\n",
        "Portanto, $\\err$ é minimizado quando $\\bhat = (\\mX^T \\mX)^{-1} \\mX^T \\my$ e a matriz $\\left(\\mX^T \\mX\\right)^{-1}\\mX^T$ é dita a *pseudo-inversa* de $\\mX$.\n",
        "\n",
        "**Nota**: Em geral não é eficiente calcular explicitamente esta matriz.\n",
        "\n",
        "Porém, lembre-se que definimos um resíduo, ié, um erro da previsão em relação à resposta exata $\\beps$,\n",
        "$$\n",
        "\\my=\\mX\\bhat+ \\beps\n",
        "$$\n",
        "\n",
        "Substituindo-se em (2),\n",
        "\\begin{align}\n",
        "\\left(\\mX^T\\mX\\right)\\bhat &= \\mX^T\\left(\\mX\\bhat+ \\beps\\right)\\\\\n",
        "\\left(\\mX^T\\mX\\right)\\bhat &= \\mX^T\\mX\\bhat+ \\mX^T\\beps \\\\\n",
        "\\therefore \\mX^T\\beps = 0\n",
        "\\end{align}"
      ]
    },
    {
      "cell_type": "markdown",
      "source": [
        "### Exemplo 03\n",
        "\n",
        "Dadas as características ($x_1$ e $x_2$) e variável dependente ($y$),\n",
        "```\n",
        "x1 = np.array([4,2,1,3,1,6])\n",
        "x2 = np.array([1,8,0,2,4,7])\n",
        "y = np.array([2,-14,1,-1,-7,-8])\n",
        "```\n",
        "utilize a resposta analítica,\n",
        "$$\n",
        "\\newcommand{\\mw}{\\mathbf w}\\mw = (\\newcommand{\\mX}{\\mathbf X} \\mX^T \\mX)^{-1} \\mX^T \\newcommand{\\my}{\\mathbf y} \\my\n",
        "$$\n",
        "para encontrar os pesos da regressão linear."
      ],
      "metadata": {
        "id": "031JhNnx21dP"
      }
    },
    {
      "cell_type": "code",
      "source": [
        "x1 = np.array([4,2,1,3,1,6])\n",
        "x2 = np.array([1,8,0,2,4,7])\n",
        "y = np.array([2,-14,1,-1,-7,-8])"
      ],
      "metadata": {
        "id": "mbbLOLP325F4"
      },
      "execution_count": null,
      "outputs": []
    },
    {
      "cell_type": "code",
      "source": [
        "MX = np.array([np.ones(len(x1)),x1,x2]).T\n",
        "W = np.linalg.solve(MX.T.dot(MX),MX.T.dot(y))\n",
        "print('w0 = '+str(W[0]) + '  w1 = '+str(W[1]) + '  w2 = '+str(W[2]))"
      ],
      "metadata": {
        "id": "QGavoTL-3VXc"
      },
      "execution_count": null,
      "outputs": []
    },
    {
      "cell_type": "markdown",
      "source": [
        "__Agora, monte um procedimento iterativo para encontrar os pesos da regressão.__"
      ],
      "metadata": {
        "id": "6O1XA-g6f_RX"
      }
    },
    {
      "cell_type": "code",
      "source": [
        "## Sua resposta##"
      ],
      "metadata": {
        "id": "HaCtbhDaYxfR"
      },
      "execution_count": null,
      "outputs": []
    },
    {
      "cell_type": "markdown",
      "source": [
        "Agora veja o exemplo abaixo...\n",
        "\n",
        "A relação entre semanas de trabalho e carros vendidos da *Locadora Jack*."
      ],
      "metadata": {
        "id": "26aKmaVeX1S0"
      }
    },
    {
      "cell_type": "code",
      "source": [
        "SemanasTrabalho = np.array([168.,428.,296.,392.,80.,56.,352.,444.,168.,200.,4.,52.,20.,228.,72.])\n",
        "CarrosVendidos =  np.array([272.,300.,311.,365.,167.,149.,366.,310.,192.,229.,88.,118.,62.,319.,193.])\n",
        "data = []\n",
        "for i,j in zip(SemanasTrabalho,CarrosVendidos):\n",
        "  data.append([i,j])\n",
        "data = np.array(data)"
      ],
      "metadata": {
        "id": "2gHnoE36WfJk"
      },
      "execution_count": null,
      "outputs": []
    },
    {
      "cell_type": "code",
      "source": [
        "w=[]\n",
        "w0,w1= 0.,100.\n",
        "w.append([w0,w1])\n",
        "\n",
        "alpha = 0.000025\n",
        "eps = 1e-4\n",
        "max_iter = 500000\n",
        "\n",
        "x=data[:,0]\n",
        "y=data[:,1]\n",
        "\n",
        "m = len(x)\n",
        "grad_w0 = 0.0\n",
        "grad_w1 = 0.0\n",
        "for i,j in zip(x,y):\n",
        "    grad_w0 += (w0 + w1*i - j)/m\n",
        "    grad_w1 += (w0 + w1*i - j)*i/m\n",
        "grad = [grad_w0,grad_w1]\n",
        "\n",
        "count = 0\n",
        "while np.linalg.norm(grad)>eps and count<max_iter:\n",
        "  grad_w0 = 0.0\n",
        "  grad_w1 = 0.0\n",
        "  for i,j in zip(x,y):\n",
        "    grad_w0 += (w0 + w1*i - j)/m\n",
        "    grad_w1 += (w0 + w1*i - j)*i/m\n",
        "  w0 = w0-alpha*grad_w0\n",
        "  w1 = w1-alpha*grad_w1\n",
        "  w.append([w0,w1])\n",
        "  grad = [grad_w0,grad_w1]\n",
        "  count += 1\n",
        "\n",
        "print('w0: '+str(w0))\n",
        "print('w1: '+str(w1))"
      ],
      "metadata": {
        "id": "MjIvMlzYX8Ie"
      },
      "execution_count": null,
      "outputs": []
    },
    {
      "cell_type": "code",
      "source": [
        "plt.scatter(x=SemanasTrabalho, y=CarrosVendidos,alpha=0.75, label = \"Dados\")\n",
        "media = [np.mean(data[:,1])]*len(data)\n",
        "#\n",
        "plt.plot(data[:,0],w0+np.asarray(data[:,0])*w1,color='forestgreen', label = \"Regressão\")\n",
        "plt.legend()\n",
        "plt.show()"
      ],
      "metadata": {
        "id": "h6zt6SQ-W_PY"
      },
      "execution_count": null,
      "outputs": []
    },
    {
      "cell_type": "code",
      "source": [
        "data_regr = w0+np.asarray(data[:,0])*w1\n",
        "\n",
        "x_bar = np.mean(data[:,0])\n",
        "y_bar = np.mean(data[:,1])\n",
        "\n",
        "dx = (data[:,0] - x_bar)\n",
        "dy = (data[:,1] - y_bar)\n",
        "dy_regr = (data[:,1] - data_regr)\n",
        "\n",
        "\n",
        "sxx = np.sum(dx**2)\n",
        "syy = np.sum(dy**2)\n",
        "sxy = np.sum(dx*dy)\n",
        "s_regr = np.sum(dy_regr**2)\n",
        "r2= (sxy/(np.sqrt(sxx*syy)))**2\n",
        "r2_regr = (syy - s_regr) / syy\n",
        "\n",
        "\n",
        "print('R2 é: {:6.2f}'.format(r2))\n",
        "print('R2 é: {:6.2f}'.format(r2_regr))"
      ],
      "metadata": {
        "id": "IiMrRcaMUvfK"
      },
      "execution_count": null,
      "outputs": []
    },
    {
      "cell_type": "code",
      "source": [
        "plt.scatter(x=SemanasTrabalho, y=dy_regr,alpha=0.75)\n",
        "media = [np.mean(data[:,1])]*len(data)\n",
        "plt.xlabel(\"Semanas de Trabalho\")\n",
        "plt.ylabel(\"Resíduo\")\n",
        "plt.show()"
      ],
      "metadata": {
        "id": "ym9lDTOaVHNk"
      },
      "execution_count": null,
      "outputs": []
    },
    {
      "cell_type": "code",
      "source": [
        "w0,w1,w2 = 63.851, 1.4095, -0.0019\n",
        "data_regr=w2*np.asarray(data[:,0])**2+w1*np.asarray(data[:,0])+w0\n",
        "regr = []\n",
        "for i,j in zip(SemanasTrabalho,data_regr):\n",
        "  regr.append([i,j])\n",
        "regr = np.array(regr)\n",
        "matrix = regr[np.argsort(regr[:,0])]"
      ],
      "metadata": {
        "id": "eSwv4yj9YbU8"
      },
      "execution_count": null,
      "outputs": []
    },
    {
      "cell_type": "code",
      "source": [
        "plt.scatter(x=SemanasTrabalho, y=y,alpha=0.75, label = \"Dados\")\n",
        "plt.plot(matrix[:,0],matrix[:,1], color='forestgreen', label = \"Regressão\")\n",
        "plt.xlabel(\"Semanas de Trabalho\")\n",
        "plt.ylabel(\"Resíduo\")\n",
        "plt.legend()\n",
        "plt.show()"
      ],
      "metadata": {
        "id": "FkrsWTtuYpLn"
      },
      "execution_count": null,
      "outputs": []
    },
    {
      "cell_type": "code",
      "source": [
        "x_bar = np.mean(data[:,0])\n",
        "y_bar = np.mean(data[:,1])\n",
        "\n",
        "dx = (data[:,0] - x_bar)\n",
        "dy = (data[:,1] - y_bar)\n",
        "dy_regr = (data[:,1] - data_regr)\n",
        "sxx = np.sum(dx**2)\n",
        "syy = np.sum(dy**2)\n",
        "s_regr = np.sum(dy_regr**2)\n",
        "\n",
        "r2 = (syy - s_regr) / syy\n",
        "print('R2 é: {:6.2f}'.format(r2_regr))"
      ],
      "metadata": {
        "id": "d4SeNoWcb77m"
      },
      "execution_count": null,
      "outputs": []
    },
    {
      "cell_type": "code",
      "source": [
        "plt.scatter(x=SemanasTrabalho, y=dy_regr,alpha=0.75)\n",
        "media = [np.mean(data[:,1])]*len(data)\n",
        "plt.xlabel(\"Semanas de Trabalho\")\n",
        "plt.ylabel(\"Resíduo\")\n",
        "plt.show()"
      ],
      "metadata": {
        "id": "yHQrtHPjf8zu"
      },
      "execution_count": null,
      "outputs": []
    },
    {
      "cell_type": "markdown",
      "metadata": {
        "id": "p-x3LPYWEq2t"
      },
      "source": [
        "## Regressão Polinomial\n",
        "\n",
        "Dado $m$ conjuntos de $n$ dados dispostos na matriz $\\mathbf{X} \\in {\\mathbb{R}}^{m\\times n+1}$ rotulados por $\\mathbf{y} \\in {\\mathbb{R}}^m$ já definimos anteriormente que o erro será minimizado quando\n",
        "$$\n",
        "\\newcommand{\\mw}{\\mathbf w}\\mw = (\\newcommand{\\mX}{\\mathbf X} \\mX^T \\mX)^{-1} \\mX^T \\newcommand{\\my}{\\mathbf y} \\my\n",
        "$$\n",
        "\n",
        "Derivar por um vetor pode parecer desconfortável, mas não há com o que se preocupar. Lembre-se de que aqui apenas usamos notação de matriz para representar convenientemente um sistema de fórmulas lineares. Portanto, derivamos por cada componente do vetor e depois combinamos as derivadas resultantes em um vetor novamente,\n",
        "$$\n",
        "\\frac{\\partial}{\\partial w_{k}}\\sum_{i=1}^{m}\\left(y^{(i)}-\\sum_{j=0}^{n}x_{ij}w_{j}\\right)^{2}=0\n",
        "$$\n",
        "\n",
        "$$\n",
        "\\sum_{i=1}^{m}2\\left(y^{(i)}-\\sum_{j=1}^{n}x_{ij}w_{j}\\right)\\left(\\frac{\\partial}{\\partial w_{k}}\\left[y^{(i)}-\\sum_{j=1}^{n}x_{ij}w_{j}\\right]\\right)=0\n",
        "$$\n",
        "\n",
        "$$\n",
        "-2\\sum_{i=1}^{m}x_{ik}\\left(y^{(i)}-\\sum_{j=1}^{n}x_{ij}w_{j}\\right)=0 \\tag{1}\n",
        "$$\n",
        "\n",
        "Pode-se reescrever as equações (1) na forma matricial. Por exemplo, para um polinômio de ordem $4$,\n",
        "\\begin{equation}\n",
        "              \\begin{pmatrix}\n",
        "              m \\, \\, \\, \\, \\, \\, \\, & \\sum{x^{(i)}}\\, \\, & \\sum{\\left(x^{(i)}\\right)^2} & \\sum{\\left(x^{(i)}\\right)^3} & \\sum{\\left(x^{(i)}\\right)^4}  \\\\\n",
        "              \\sum{x^{(i)}}\\, \\, & \\sum{\\left(x^{(i)}\\right)^2} & \\sum{\\left(x^{(i)}\\right)^3} & \\sum{\\left(x^{(i)}\\right)^4} & \\sum{\\left(x^{(i)}\\right)^5}  \\\\\n",
        "              \\sum{\\left(x^{(i)}\\right)^2} & \\sum{\\left(x^{(i)}\\right)^3} & \\sum{\\left(x^{(i)}\\right)^4} & \\sum{\\left(x^{(i)}\\right)^5} & \\sum{\\left(x^{(i)}\\right)^6}  \\\\\n",
        "              \\sum{\\left(x^{(i)}\\right)^3} & \\sum{\\left(x^{(i)}\\right)^4} & \\sum{\\left(x^{(i)}\\right)^5} & \\sum{\\left(x^{(i)}\\right)^6} & \\sum{\\left(x^{(i)}\\right)^7}  \\\\\n",
        "              \\sum{\\left(x^{(i)}\\right)^4} & \\sum{\\left(x^{(i)}\\right)^5} & \\sum{\\left(x^{(i)}\\right)^6} & \\sum{\\left(x^{(i)}\\right)^7} & \\sum{\\left(x^{(i)}\\right)^8}  \\\\\n",
        "              \\end{pmatrix}\n",
        "              \\begin{pmatrix}\n",
        "              w_0 \\\\\n",
        "              w_1 \\\\\n",
        "              w_2 \\\\\n",
        "              w_3 \\\\\n",
        "              w_4 \\\\\n",
        "              \\end{pmatrix}\n",
        "              =\\begin{pmatrix}\n",
        "              \\sum{ y^{(i)}} \\\\\n",
        "              \\sum{x^{(i)} y^{(i)}} \\\\\n",
        "              \\sum{\\left(x^{(i)}\\right)^2 y^{(i)}} \\\\\n",
        "              \\sum{\\left(x^{(i)}\\right)^3 y^{(i)}} \\\\\n",
        "              \\sum{\\left(x^{(i)}\\right)^4 y^{(i)}} \\\\\n",
        "              \\end{pmatrix} \\tag{2}\n",
        "\\end{equation}"
      ]
    },
    {
      "cell_type": "code",
      "source": [
        "w=[]\n",
        "w0,w1= 0.0,0.5\n",
        "w.append([w0,w1])\n",
        "\n",
        "alpha = 0.0005\n",
        "eps = 1e-4\n",
        "max_iter = 500000\n",
        "\n",
        "m = len(idade)\n",
        "grad_w0 = (w0 + w1*i - j)/m\n",
        "grad_w1 = (w0 + w1*i - j)*i/m\n",
        "grad = [grad_w0,grad_w1]\n",
        "\n",
        "x=data[:,0]\n",
        "y=data[:,1]\n",
        "\n",
        "count = 0\n",
        "while np.linalg.norm(grad)>eps and count<max_iter:\n",
        "  grad_w0 = 0.0\n",
        "  grad_w1 = 0.0\n",
        "  for i,j in zip(x,y):\n",
        "    grad_w0 += (w0 + w1*i - j)/m\n",
        "    grad_w1 += (w0 + w1*i - j)*i/m\n",
        "  w0 = w0-alpha*grad_w0\n",
        "  w1 = w1-alpha*grad_w1\n",
        "  w.append([w0,w1])\n",
        "  grad = [grad_w0,grad_w1]\n",
        "  count += 1\n",
        "\n",
        "print('w0: '+str(w0))\n",
        "print('w1: '+str(w1))"
      ],
      "metadata": {
        "id": "VcnX0E6GXTwu"
      },
      "execution_count": null,
      "outputs": []
    },
    {
      "cell_type": "code",
      "source": [
        "plt.scatter(x=idade, y=pressao,alpha=0.75)\n",
        "plt.plot(idade,w0_teo+np.asarray(idade)*w1_teo,color='crimson')\n",
        "plt.show()"
      ],
      "metadata": {
        "id": "pA4SqPz0Xmke"
      },
      "execution_count": null,
      "outputs": []
    },
    {
      "cell_type": "markdown",
      "source": [
        "### Exemplo 04\n",
        "\n",
        "Regressão polinomial é principalmente aplicável a estudos onde os ambientes são altamente controlados e as observações são feitas com um nível especificado de tolerância.\n",
        "\n",
        "Os dados abaixo são os consumos de eletricidade, em quilowatts-hora por mês, de dez casas e suas respectivas áreas, em metros quadrados,\n",
        "\n",
        "| Área | KW Hrs/Mes |\n",
        "| ---  | --- |\n",
        "| 120 | \t1182|\n",
        "| 135 | \t1172|\n",
        "| 147 | \t1264|\n",
        "| 160 | \t1493|\n",
        "| 171 | \t1571|\n",
        "| 184 | \t1711|\n",
        "| 198 | \t1804|\n",
        "| 223 | \t1840|\n",
        "| 240 | \t1956|\n",
        "| 293 | \t1954|\n",
        "\n",
        "Os dados podem ser modelados por meio de um polinômio de segundo grau, com a seguinte equação:\n",
        "\n",
        "\\begin{equation}\n",
        "consumo = w_0 + w_1 area + w_2 area^2\n",
        "\\end{equation}\n",
        "\n",
        "Estime os coeficientes desconhecidos do modelo, $w_0$, $w_1$ e $w_2$, minimizando os desvios entre os dados e o resultado do modelo (ajuste de mínimos quadrados).\n",
        "\n",
        "*Nota*: Use a função ```np.linalg.solve(a, b)``` para resolver o sistema $ax=b$ da equação (2)."
      ],
      "metadata": {
        "id": "wWuSKujzjdyI"
      }
    },
    {
      "cell_type": "code",
      "metadata": {
        "id": "rjUycOvmD_Nw"
      },
      "source": [
        "data = np.array([[1290 , 1182],\n",
        "[1350 , 1172],\n",
        "[1470 , 1264],\n",
        "[1600 , 1493],\n",
        "[1710 , 1571],\n",
        "[1840 , 1711],\n",
        "[1980 , 1804],\n",
        "[2230 , 1840],\n",
        "[2400 , 1956],\n",
        "[2930 , 1954]])\n",
        "\n",
        "area   = data[:,0]\n",
        "consumo = data[:,1]\n",
        "\n",
        "plt.figure()\n",
        "plt.plot(area, consumo, 'bo', color=\"black\")\n",
        "plt.xlabel(r'Área ($m^2$)')\n",
        "plt.ylabel(r'Consumo ($KW h/mes$)')\n",
        "plt.title('Área vs Consumo')\n",
        "plt.show()"
      ],
      "execution_count": null,
      "outputs": []
    },
    {
      "cell_type": "code",
      "metadata": {
        "id": "c26C1JGXQ9Re"
      },
      "source": [
        "aux = np.array([len(area), np.sum(area), np.sum(area**2), np.sum(area**3), np.sum(area**4)])\n",
        "\n",
        "b = np.array([[np.sum(consumo)],[np.sum(consumo*area)],[np.sum(consumo*area**2)]])\n",
        "n=2\n",
        "a=[]\n",
        "for i in range(n+1):\n",
        "  a.append([aux[i],aux[i+1],aux[i+2]])\n",
        "\n",
        "W = np.linalg.solve(a,b)\n",
        "print('w0 = '+str(W[0]) + '  w1 = '+str(W[1]) + '  w2 = '+str(W[2]))"
      ],
      "execution_count": null,
      "outputs": []
    },
    {
      "cell_type": "markdown",
      "metadata": {
        "id": "iPBkrNLjSlCh"
      },
      "source": [
        "Como gabarito vamos usar uma biblioteca a função `numpy.polyfit(x,y,n)` retorna os coeficientes para um polinômio de grau `n` que melhor se ajusta aos dados. Os coeficientes retornados pela função estão em forma descendente (parâmetro que acompanha a maior potência primeiro) e seu comprimento é $n+1$.\n",
        "\n",
        "Depois de criar o modelo, vamos verificar se ele realmente se encaixa em nossos dados. Para fazer isso, usaremos o modelo para avaliar o polinômio em tempos espaçados uniformemente. Para avaliar o modelo nos pontos especificados, podemos usar a função `poly1d()`. Essa função retorna o valor de um polinômio de grau $n$ avaliado nos pontos fornecidos. O argumento de entrada é um vetor de comprimento $n + 1$ cujos elementos são os coeficientes das potências descendentes do polinômio a ser avaliado."
      ]
    },
    {
      "cell_type": "code",
      "metadata": {
        "id": "0SjUe_K3S8YQ"
      },
      "source": [
        "omegas = np.polyfit(area, consumo,2)\n",
        "y_bar = np.poly1d(omegas)\n",
        "x_bar = np.linspace(1000,3000, 1000)\n",
        "print('w0: '+str(omegas[0]),'w1: '+str(omegas[1]),'w2: '+str(omegas[2]))\n",
        "plt.figure()\n",
        "plt.plot(area, consumo, 'bo', color=\"black\", label='data')\n",
        "plt.xlabel(r'Área ($m^2$)')\n",
        "plt.ylabel(r'Consumo ($KW h/mes$)')\n",
        "plt.title('Área vs Consumo')\n",
        "plt.plot(x_bar, y_bar(x_bar), '-', color='darkcyan', label='regressão')\n",
        "plt.show()"
      ],
      "execution_count": null,
      "outputs": []
    },
    {
      "cell_type": "markdown",
      "source": [
        "Mude o grau do polinômio para `5` e veja como se comporta sua resposta."
      ],
      "metadata": {
        "id": "joDipy5LnteH"
      }
    },
    {
      "cell_type": "code",
      "source": [
        "omegas = np.polyfit(area, consumo,5)\n",
        "y_bar = np.poly1d(omegas)\n",
        "x_bar = np.linspace(1000,3000, 1000)\n",
        "print('w0: '+str(omegas[0]),'w1: '+str(omegas[1]),'w2: '+str(omegas[2]))\n",
        "plt.figure()\n",
        "plt.plot(area, consumo, 'bo', color=\"black\", label='data')\n",
        "plt.xlabel(r'Área ($m^2$)')\n",
        "plt.ylabel(r'Consumo ($KW h/mes$)')\n",
        "plt.title('Área vs Consumo')\n",
        "plt.plot(x_bar, y_bar(x_bar), '-', color='darkcyan', label='regressão')\n",
        "plt.show()"
      ],
      "metadata": {
        "id": "6yb4kMe2nmY7"
      },
      "execution_count": null,
      "outputs": []
    },
    {
      "cell_type": "markdown",
      "source": [
        "## Uma breve introdução a overfitting e underfitting\n"
      ],
      "metadata": {
        "id": "uIWpoc4Y1IDe"
      }
    },
    {
      "cell_type": "markdown",
      "source": [
        "### Variância (Variance)\n",
        "\n",
        "A variância é um erro definido pela alta sensibilidade a pequenas flutuações no conjunto de treinamento. Erro devido à tendência do algoritmo de modelar o ruído aleatório nos dados de treinamento, em vez das saídas pretendidas. Esse fenômeno é conhecido como *overfitting*.\n",
        "\n",
        "A variância ser expressa matematicamente como:\n",
        "\n",
        "\\begin{equation}\n",
        "Var[\\mathbf y] = E[(\\mathbf y-E[\\mathbf y])^2] = E[\\mathbf y^2] - E[\\mathbf y]^2 \\tag{2}\n",
        "\\end{equation}\n",
        "\n",
        "A igualdade acima é essencial ao entendimento da relação entre viés e variância e erro quadrático médio, e é provada a seguir,\n",
        "\\begin{align}\n",
        "Var[\\mathbf y] =& E[(\\mathbf y- E[\\mathbf y])^2] \\\\\n",
        "=& E[\\mathbf y^2 - 2 \\mathbf y E[\\mathbf y] + E[\\mathbf y]^2] \\\\\n",
        "=& E[\\mathbf y^2] - 2E[\\mathbf y]^2 + E[\\mathbf y]^2 \\\\\n",
        "=& E[\\mathbf y^2] - E[\\mathbf y]^2\n",
        "\\end{align}"
      ],
      "metadata": {
        "id": "mFXpl_ty36xh"
      }
    },
    {
      "cell_type": "markdown",
      "source": [
        "### Viés (Bias)\n",
        "Viés é a tendência de um estimador escolher um modelo para os dados que não são estruturalmente corretos. Um estimador tendencioso é aquele que faz suposições incorretas no nível do modelo sobre o conjunto de dados.\n",
        "Para o caso de nossa regressão, erro devido à incapacidade da hipótese $h$ de se encaixar perfeitamente em $y$. Por exemplo, suponha que usamos um modelo de regressão linear em uma função $y$ quadrática ou cúbica.\n",
        "\n",
        "Matematicamente,\n",
        "\\begin{equation}\n",
        "\\text{Bias}[\\hat{y}^{(i)}(\\mathbf x^{(i)})] = E[\\hat{y}(\\mathbf x^{(i)}) - y(\\mathbf x^{(i)})] \\tag{1}\n",
        "\\end{equation}\n",
        "\n",
        "Viés também é conhecido como underfitting."
      ],
      "metadata": {
        "id": "Zku_fORC3Okq"
      }
    },
    {
      "cell_type": "markdown",
      "source": [
        "### MSE e sua decomposição em viés e variância\n",
        "Dessa forma, pode-se reescrever a fórmula de $MSE$ como\n",
        "\n",
        "\\begin{align}\n",
        "MSE =& E[(y- \\hat{y})^2] \\\\\n",
        "=& E[y^2 + \\hat{y}^2 - 2 y\\hat{y}] \\\\\n",
        "=& \\text{Var}(y) + E[y]^2 + \\text{Var}[\\hat{y}] + E[\\hat{y}]^2 - 2 y E[\\hat{y}] \\\\\n",
        "=& \\text{Var}(y) + \\text{Var}(\\hat{y}) + E[(y^2 - 2 y E[\\hat{y}] + E[\\hat{y}]^2)] \\\\\n",
        "=& \\text{Var}(y) + \\text{Var}(\\hat{y}) +E[(y - E[\\hat{y}])^2] \\\\\n",
        "=& e^2 + \\text{Var}[\\hat{y}] + \\text{Bias}[\\hat{y}]^2\n",
        "\\end{align}\n",
        "\n",
        "Este resultado mostra que o erro quadrático do estimador é a soma da variância do estimador (quão mal ele generaliza; seu nível de overfitting), o viés (quão pobre é seu ajuste; seu nível de underfitting) e um erro irredutível no conjunto de dados subjacente, $e$.\n"
      ],
      "metadata": {
        "id": "A_4amqE63TTM"
      }
    },
    {
      "cell_type": "markdown",
      "source": [
        "\n",
        "Um modelo com __ALTO VIÉS__ aprende relações erradas e gera previsões longe do esperado. O modelo não aprende corretamente com o conjunto de dados, assumindo informações sobre os dados que não são necessariamente corretas. Dessa forma, modelos com alto viés possuem um problema de underfitting.\n",
        "\n",
        "Modelos com alta __ALTA VARIÂNCIA__ focam excessivamente se ajustar aos dados e, inclusive, ao ruído. Assim, esses modelos têm um problema de overfitting, ou seja, se adaptam tão bem ao conjunto de dados que não conseguem generalizar para além dele.\n",
        "\n",
        "<center><img src='https://drive.google.com/uc?export=view&id=1QIKLgbTJofvRur0RH8V3r2aRLFWqeqaN' width=\"600\"></center>\n",
        "\n",
        "\n",
        "Dado um erro constante, isso significa que sempre haverá uma troca entre viés e variância. Ter muito viés ou muita variação não é bom para um modelo, mas por diferentes motivos. Um modelo de alto viés e baixa variação provavelmente acabará impreciso nos conjuntos de dados de treinamento e validação, e suas previsões provavelmente não se desviarão muito com base na amostra de dados em que ele é treinado. Por outro lado, um modelo de viés baixo e alta variância provavelmente fornecerá bons resultados em um conjunto de dados de treinamento, mas falhará ao tentar generalizar para um conjunto de dados de validação."
      ],
      "metadata": {
        "id": "Cn6ydJhN4Baa"
      }
    },
    {
      "cell_type": "markdown",
      "source": [],
      "metadata": {
        "id": "z8AQOib_4MWh"
      }
    },
    {
      "cell_type": "markdown",
      "source": [
        "### Exemplo 05\n",
        "\n",
        "Com os dados abaixo,\n",
        "```\n",
        "𝑥 = [0., 0.18, 0.25, 0.4, 0.45, 0.55, 0.63, 0.75, 0.85, 1.]\n",
        "𝑦 = [0.3, 0.8, 1., 0.95, 0.25, 0.3, -0.9, -0.7, -0.8, 0.35]\n",
        "```\n",
        "modifique a ordem de aproximação de 0 a 9 e responda:\n",
        "1. o que aconteceu com os valores dos parâmetros a medida que o grau do polinômio de interpolação aumentou?\n",
        "2. porque isso aconteceu?\n"
      ],
      "metadata": {
        "id": "cfYIkA3W1RSj"
      }
    },
    {
      "cell_type": "code",
      "source": [
        "x=np.array([0.,0.18,0.25,0.4,0.45,0.55,0.63,0.75,0.85,1.])\n",
        "y=np.array([0.3,0.8,1.,0.95,0.25,0.3,-0.9,-0.7,-0.8,0.35])"
      ],
      "metadata": {
        "id": "4mQk1oyC7rJD"
      },
      "execution_count": 110,
      "outputs": []
    },
    {
      "cell_type": "code",
      "source": [
        "import operator\n",
        "from sklearn.linear_model import LinearRegression\n",
        "from sklearn.preprocessing import PolynomialFeatures\n",
        "from sklearn.metrics import mean_squared_error, r2_score"
      ],
      "metadata": {
        "id": "tx9Q_TC98Hka"
      },
      "execution_count": 114,
      "outputs": []
    },
    {
      "cell_type": "code",
      "source": [
        "from sklearn.pipeline import make_pipeline\n",
        "colors = ['SkyBlue','DeepSkyBlue', 'CornflowerBlue', 'DodgerBlue', 'RoyalBlue', 'Blue', 'MediumBlue', 'DarkBlue', 'Navy']\n",
        "for i in range(0,10):\n",
        "  plt.scatter(x, y, color=\"black\", label = 'dataset')\n",
        "  #veja que construímos uma pipeline, para repetir a sequencia de gerar as features e calcular os parâmetros da regressão\n",
        "  model = make_pipeline(PolynomialFeatures(degree=i), LinearRegression())\n",
        "  model.fit(np.array(x).reshape(-1, 1), y)\n",
        "  x_reg = np.arange(0,1,0.01)\n",
        "  y_reg = model.predict(x_reg.reshape(-1, 1))\n",
        "  plt.plot(x_reg, y_reg, color=colors[i-1], label = 'degree '+str(i))\n",
        "  plt.legend()\n",
        "  plt.show()"
      ],
      "metadata": {
        "id": "oTU6vDUF7tvf"
      },
      "execution_count": null,
      "outputs": []
    },
    {
      "cell_type": "code",
      "source": [
        "colors = ['SkyBlue','DeepSkyBlue', 'CornflowerBlue', 'DodgerBlue', 'RoyalBlue', 'Blue', 'MediumBlue', 'DarkBlue', 'Navy']\n",
        "for i in range(0,10):\n",
        "  plt.scatter(x, y, color=\"black\")\n",
        "  polynomial_features= PolynomialFeatures(degree=i)\n",
        "  x_poly = polynomial_features.fit_transform(x.reshape(-1,1))\n",
        "  model = LinearRegression()\n",
        "  model.fit(x_poly, y)\n",
        "  y_poly_pred = model.predict(x_poly)\n",
        "\n",
        "  rmse = np.sqrt(mean_squared_error(y,y_poly_pred))\n",
        "  r2 = r2_score(y,y_poly_pred)\n",
        "  print(\"RMSE:\", rmse)\n",
        "  print(\"R2:\", r2)\n",
        "  print(\"Coeficientes:\", model.coef_)\n",
        "  print(\"Interceptação:\", model.intercept_)\n",
        "  # sort the values of x before line plot\n",
        "  sort_axis = operator.itemgetter(0)\n",
        "  sorted_zip = sorted(zip(x,y_poly_pred), key=sort_axis)\n",
        "  x_sort, y_poly_pred = zip(*sorted_zip)\n",
        "  plt.plot(x_sort, y_poly_pred, color=colors[i-1], label = 'degree '+str(i))\n",
        "  plt.show()"
      ],
      "metadata": {
        "id": "Q8q1fm_o7xGM"
      },
      "execution_count": null,
      "outputs": []
    }
  ]
}